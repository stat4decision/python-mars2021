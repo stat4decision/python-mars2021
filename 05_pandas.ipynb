{
 "cells": [
  {
   "cell_type": "markdown",
   "metadata": {
    "slideshow": {
     "slide_type": "slide"
    }
   },
   "source": [
    "![image](./images/pandas.png)\n",
    "\n",
    "Pandas est le package de prédilection pour traiter des données structurées.\n",
    "\n",
    "Pandas est basé sur 2 structures extrêmement liées les Series et le DataFrame.\n",
    "\n",
    "Ces deux structures permettent de traiter des données sous forme de tableaux indexés.\n",
    "\n",
    "Les classes de Pandas utilisent des classes de Numpy, il est donc possible d'utiliser les fonctions universelles de Numpy sur les objets Pandas."
   ]
  },
  {
   "cell_type": "code",
   "execution_count": 1,
   "metadata": {
    "slideshow": {
     "slide_type": "subslide"
    }
   },
   "outputs": [],
   "source": [
    "# on importe pandas avec :\n",
    "import pandas as pd\n",
    "import numpy as np\n",
    "%matplotlib inline"
   ]
  },
  {
   "cell_type": "markdown",
   "metadata": {
    "slideshow": {
     "slide_type": "slide"
    }
   },
   "source": [
    "# Les Series de Pandas\n",
    "\n",
    "- Les Series sont indexées, c'est leur avantage sur les arrays de NumPy\n",
    "- On peut utiliser les fonctions `.values` et `.index` pour voir les différentes parties de chaque Series\n",
    "- On définit une Series par `pd.Series([,], index=['','',])`\n",
    "- On peut appeler un élément avec `ma_serie['France']`\n",
    "- On peut aussi faire des conditions :\n",
    "```python\n",
    "ma_serie[ma_serie>5000000]\n",
    "```\n",
    "```\n",
    "'France' in ma_serie\n",
    "```\n",
    "- Les objets Series peuvent être transformés en dictionnaires en utilisant :\n",
    "`.to_dict()`"
   ]
  },
  {
   "cell_type": "code",
   "execution_count": 2,
   "metadata": {},
   "outputs": [],
   "source": [
    "ser_val = pd.Series([3,5,8], index=[\"a\",\"b\",\"c\"])"
   ]
  },
  {
   "cell_type": "markdown",
   "metadata": {
    "slideshow": {
     "slide_type": "subslide"
    }
   },
   "source": [
    "**Exercice :**\n",
    "    \n",
    "Définir un objet Series comprenant la population de 5 pays puis afficher les pays ayant une population > 50’000’000.\n"
   ]
  },
  {
   "cell_type": "code",
   "execution_count": 3,
   "metadata": {},
   "outputs": [],
   "source": [
    "ser_pop = pd.Series([65,300,8,1200], index=[\"France\", \"USA\", \"Suisse\",\"Chine\"])"
   ]
  },
  {
   "cell_type": "code",
   "execution_count": 4,
   "metadata": {},
   "outputs": [
    {
     "name": "stdout",
     "output_type": "stream",
     "text": [
      "Bien créée !\n"
     ]
    }
   ],
   "source": [
    "# pour vérifier que vous avez bien répondu à l'exercice, soumettre cette cellule\n",
    "# on utilise maj + Entrée\n",
    "assert type(ser_pop) == pd.Series\n",
    "print(\"Bien créée !\")"
   ]
  },
  {
   "cell_type": "code",
   "execution_count": 5,
   "metadata": {},
   "outputs": [
    {
     "data": {
      "text/plain": [
       "France      65\n",
       "USA        300\n",
       "Chine     1200\n",
       "dtype: int64"
      ]
     },
     "execution_count": 5,
     "metadata": {},
     "output_type": "execute_result"
    }
   ],
   "source": [
    "ser_pop[ser_pop > 50]"
   ]
  },
  {
   "cell_type": "code",
   "execution_count": 6,
   "metadata": {},
   "outputs": [],
   "source": [
    "# on construit une série avec les populations de plus de 50\n",
    "ser_pop_l50 = ser_pop[ser_pop > 50]"
   ]
  },
  {
   "cell_type": "code",
   "execution_count": 7,
   "metadata": {},
   "outputs": [
    {
     "name": "stdout",
     "output_type": "stream",
     "text": [
      "Bravo !\n"
     ]
    }
   ],
   "source": [
    "# pour vérifier que vous avez bien répondu à l'exercice, soumettre cette cellule\n",
    "# on utilise maj + Entrée\n",
    "assert ser_pop_l50.min() >= 50\n",
    "print(\"Bravo !\")"
   ]
  },
  {
   "cell_type": "code",
   "execution_count": 8,
   "metadata": {},
   "outputs": [
    {
     "data": {
      "text/plain": [
       "France    65\n",
       "dtype: int64"
      ]
     },
     "execution_count": 8,
     "metadata": {},
     "output_type": "execute_result"
    }
   ],
   "source": [
    "ser_pop_50_200 = ser_pop[(ser_pop > 50) & (ser_pop<200)]\n",
    "ser_pop_50_200"
   ]
  },
  {
   "cell_type": "markdown",
   "metadata": {
    "slideshow": {
     "slide_type": "subslide"
    }
   },
   "source": [
    "# D'autres opérations sur les objets series\n",
    "\n",
    "- Pour définir le nom de la Series, on utilise `.name`\n",
    "- Pour définir le titre de la colonne des observations, on utilise `.index.name`"
   ]
  },
  {
   "cell_type": "markdown",
   "metadata": {
    "slideshow": {
     "slide_type": "subslide"
    }
   },
   "source": [
    "**Exercice :**\n",
    "    \n",
    "Définir les noms de l’objet et de la colonne des pays pour la Series précédente\n"
   ]
  },
  {
   "cell_type": "code",
   "execution_count": 9,
   "metadata": {},
   "outputs": [
    {
     "data": {
      "text/plain": [
       "pays\n",
       "France      65\n",
       "USA        300\n",
       "Suisse       8\n",
       "Chine     1200\n",
       "Name: populations, dtype: int64"
      ]
     },
     "execution_count": 9,
     "metadata": {},
     "output_type": "execute_result"
    }
   ],
   "source": [
    "ser_pop.name = \"populations\"\n",
    "ser_pop.index.name = \"pays\"\n",
    "ser_pop"
   ]
  },
  {
   "cell_type": "markdown",
   "metadata": {
    "slideshow": {
     "slide_type": "subslide"
    }
   },
   "source": [
    "# Les données manquantes\n",
    "\n",
    "Dans pandas, les données manquantes sont identifiés avec les fonctions de Numpy (`np.nan`). On a d'autres fonctions telles que :"
   ]
  },
  {
   "cell_type": "code",
   "execution_count": 10,
   "metadata": {},
   "outputs": [],
   "source": [
    "ser_manquante = pd.Series([2,np.nan,4],index=['a','b','c'])"
   ]
  },
  {
   "cell_type": "code",
   "execution_count": 11,
   "metadata": {},
   "outputs": [
    {
     "data": {
      "text/plain": [
       "3.0"
      ]
     },
     "execution_count": 11,
     "metadata": {},
     "output_type": "execute_result"
    }
   ],
   "source": [
    "ser_manquante.mean()"
   ]
  },
  {
   "cell_type": "code",
   "execution_count": 12,
   "metadata": {
    "slideshow": {
     "slide_type": "fragment"
    }
   },
   "outputs": [
    {
     "data": {
      "text/plain": [
       "1"
      ]
     },
     "execution_count": 12,
     "metadata": {},
     "output_type": "execute_result"
    }
   ],
   "source": [
    "pd.isna(pd.Series([2,np.nan,4],index=['a','b','c'])).sum()"
   ]
  },
  {
   "cell_type": "code",
   "execution_count": 13,
   "metadata": {
    "slideshow": {
     "slide_type": "fragment"
    }
   },
   "outputs": [
    {
     "data": {
      "text/plain": [
       "2"
      ]
     },
     "execution_count": 13,
     "metadata": {},
     "output_type": "execute_result"
    }
   ],
   "source": [
    "pd.notna(pd.Series([2,np.nan,4],index=['a','b','c'])).sum()"
   ]
  },
  {
   "cell_type": "markdown",
   "metadata": {
    "slideshow": {
     "slide_type": "slide"
    }
   },
   "source": [
    "# Les dates avec pandas\n",
    "\n",
    "- Python possède un module datetime qui permet de gérer facilement des dates\n",
    "- Pandas permet d'appliquer les opérations sur les dates aux Series et aux DataFrame\n",
    "- Le format es dates Python est `YYYY-MM-DD HH:MM:SS`\n",
    "\n",
    "- On peut générer des dates avec la fonction `pd.date_range()` avec différente fréquences `freq=`\n",
    "- On peut utiliser ces dates comme index dans un DataFrame ou dans un objet Series\n",
    "- On peut changer la fréquence en utilisant `.asfreq()`\n",
    "- Pour transformer une chaine de caractère en date, on utilise `pd.to_datetime()` avec l’option `dayfirst=True` si on est dans le cas français\n",
    "-On pourra aussi spécifier un format pour accélérer le processus `%Y%m%d`"
   ]
  },
  {
   "cell_type": "code",
   "execution_count": 14,
   "metadata": {},
   "outputs": [],
   "source": [
    "import datetime"
   ]
  },
  {
   "cell_type": "code",
   "execution_count": 15,
   "metadata": {},
   "outputs": [
    {
     "data": {
      "text/plain": [
       "datetime.date(2021, 3, 12)"
      ]
     },
     "execution_count": 15,
     "metadata": {},
     "output_type": "execute_result"
    }
   ],
   "source": [
    "datetime.date.today()"
   ]
  },
  {
   "cell_type": "code",
   "execution_count": 16,
   "metadata": {},
   "outputs": [
    {
     "data": {
      "text/plain": [
       "datetime.datetime(2021, 3, 12, 10, 31, 1, 476138)"
      ]
     },
     "execution_count": 16,
     "metadata": {},
     "output_type": "execute_result"
    }
   ],
   "source": [
    "datetime.datetime.now()"
   ]
  },
  {
   "cell_type": "markdown",
   "metadata": {
    "slideshow": {
     "slide_type": "subslide"
    }
   },
   "source": [
    "**Exercice :**\n",
    "\n",
    "Créez un objet Series et ajoutez des dates partant du 3 octobre 2017 par jour jusqu’à aujourd’hui. Afficher le résultat dans un graphique (on utilisera la méthode `.plot()`\n",
    "\n",
    "*Indice :* Utilisez les informations ci-dessus\n",
    "\n",
    "On utilisera :\n",
    "```\n",
    "pd.date_range(___)\n",
    "np.random.randn(___)\n",
    "pd.Series(___)\n",
    "```"
   ]
  },
  {
   "cell_type": "code",
   "execution_count": 17,
   "metadata": {},
   "outputs": [],
   "source": [
    "dates = pd.date_range(start= \"2017-10-03\", end=datetime.date.today(), freq=\"D\")"
   ]
  },
  {
   "cell_type": "code",
   "execution_count": 18,
   "metadata": {},
   "outputs": [],
   "source": [
    "data = np.random.randn(len(dates))"
   ]
  },
  {
   "cell_type": "code",
   "execution_count": 19,
   "metadata": {},
   "outputs": [
    {
     "data": {
      "text/plain": [
       "<AxesSubplot:>"
      ]
     },
     "execution_count": 19,
     "metadata": {},
     "output_type": "execute_result"
    },
    {
     "data": {
      "image/png": "[encoded data removed]",
      "text/plain": [
       "<Figure size 432x288 with 1 Axes>"
      ]
     },
     "metadata": {
      "needs_background": "light"
     },
     "output_type": "display_data"
    }
   ],
   "source": [
    "serie_temp = pd.Series(data = data, index = dates)\n",
    "serie_temp.plot()"
   ]
  },
  {
   "cell_type": "code",
   "execution_count": 20,
   "metadata": {},
   "outputs": [
    {
     "name": "stdout",
     "output_type": "stream",
     "text": [
      "Bravo !\n"
     ]
    }
   ],
   "source": [
    "# pour vérifier que vous avez bien répondu à l'exercice, soumettre cette cellule\n",
    "# on utilise maj + Entrée\n",
    "assert len(serie_temp) == len(dates)\n",
    "print(\"Bravo !\")"
   ]
  },
  {
   "cell_type": "markdown",
   "metadata": {
    "slideshow": {
     "slide_type": "slide"
    }
   },
   "source": [
    "# Le DataFrame \n",
    "\n",
    "- Les DataFrame sont des objets très souples pouvant être construits de différentes façon\n",
    "- On peut les construire en récupérant des données copier / coller, où directement sur Internet, ou en entrant les valeurs manuellement\n",
    "\n",
    "\n",
    "- Les DataFrame se rapprochent des dictionnaires et on peut construire ces objets en utilisant `DataFrame(dico)`\n",
    "- De nombreux détails sur la création des DataFrame se trouve sur ce site :\n",
    "\n",
    "<http://pandas.pydata.org/pandas-docs/dev/generated/pandas.DataFrame.html>\n"
   ]
  },
  {
   "cell_type": "markdown",
   "metadata": {
    "slideshow": {
     "slide_type": "subslide"
    }
   },
   "source": [
    "# Construction de DataFrame\n",
    "\n",
    "On peut simplement construire un DataFrame avec le classe pd.DataFrame() à partir de différentes structures :"
   ]
  },
  {
   "cell_type": "code",
   "execution_count": 21,
   "metadata": {
    "slideshow": {
     "slide_type": "fragment"
    }
   },
   "outputs": [
    {
     "data": {
      "text/html": [
       "<div>\n",
       "<style scoped>\n",
       "    .dataframe tbody tr th:only-of-type {\n",
       "        vertical-align: middle;\n",
       "    }\n",
       "\n",
       "    .dataframe tbody tr th {\n",
       "        vertical-align: top;\n",
       "    }\n",
       "\n",
       "    .dataframe thead th {\n",
       "        text-align: right;\n",
       "    }\n",
       "</style>\n",
       "<table border=\"1\" class=\"dataframe\">\n",
       "  <thead>\n",
       "    <tr style=\"text-align: right;\">\n",
       "      <th></th>\n",
       "      <th>col_0</th>\n",
       "      <th>col_1</th>\n",
       "    </tr>\n",
       "  </thead>\n",
       "  <tbody>\n",
       "    <tr>\n",
       "      <th>obs_0</th>\n",
       "      <td>0.541044</td>\n",
       "      <td>0.647846</td>\n",
       "    </tr>\n",
       "    <tr>\n",
       "      <th>obs_1</th>\n",
       "      <td>0.705966</td>\n",
       "      <td>-0.453439</td>\n",
       "    </tr>\n",
       "    <tr>\n",
       "      <th>obs_2</th>\n",
       "      <td>-0.004613</td>\n",
       "      <td>-2.170331</td>\n",
       "    </tr>\n",
       "    <tr>\n",
       "      <th>obs_3</th>\n",
       "      <td>0.009845</td>\n",
       "      <td>0.887217</td>\n",
       "    </tr>\n",
       "    <tr>\n",
       "      <th>obs_4</th>\n",
       "      <td>-1.769676</td>\n",
       "      <td>-0.175992</td>\n",
       "    </tr>\n",
       "  </tbody>\n",
       "</table>\n",
       "</div>"
      ],
      "text/plain": [
       "          col_0     col_1\n",
       "obs_0  0.541044  0.647846\n",
       "obs_1  0.705966 -0.453439\n",
       "obs_2 -0.004613 -2.170331\n",
       "obs_3  0.009845  0.887217\n",
       "obs_4 -1.769676 -0.175992"
      ]
     },
     "execution_count": 21,
     "metadata": {},
     "output_type": "execute_result"
    }
   ],
   "source": [
    "frame1=pd.DataFrame(np.random.randn(10).reshape(5,2),\n",
    "             index=[\"obs_\"+str(i) for i in range(5)],\n",
    "             columns=[\"col_\"+str(i) for i in range(2)])\n",
    "frame1"
   ]
  },
  {
   "cell_type": "markdown",
   "metadata": {
    "slideshow": {
     "slide_type": "subslide"
    }
   },
   "source": [
    "# Opérations sur les DataFrame\n",
    "\n",
    "On peut afficher le nom des colonnes :"
   ]
  },
  {
   "cell_type": "code",
   "execution_count": 22,
   "metadata": {},
   "outputs": [
    {
     "data": {
      "text/plain": [
       "(5, 2)"
      ]
     },
     "execution_count": 22,
     "metadata": {},
     "output_type": "execute_result"
    }
   ],
   "source": [
    "frame1.shape"
   ]
  },
  {
   "cell_type": "code",
   "execution_count": 23,
   "metadata": {
    "slideshow": {
     "slide_type": "fragment"
    }
   },
   "outputs": [
    {
     "name": "stdout",
     "output_type": "stream",
     "text": [
      "Index(['col_0', 'col_1'], dtype='object')\n"
     ]
    }
   ],
   "source": [
    "print(frame1.columns)"
   ]
  },
  {
   "cell_type": "markdown",
   "metadata": {
    "slideshow": {
     "slide_type": "fragment"
    }
   },
   "source": [
    "On peut accéder à une colonne avec :\n",
    "- `frame1.col_0` : attention au cas de nom de colonnes avec des espaces...\n",
    "- `frame1['col_0']`\n",
    "\n",
    "On peut accéder à une cellule avec :\n",
    "- `frame1.loc['obs1','col_0']` : on utilise les index et le nom des colonnes\n",
    "- `frame1.iloc[1,0]` : on utilise les positions dans le DataFrame\n"
   ]
  },
  {
   "cell_type": "code",
   "execution_count": 24,
   "metadata": {},
   "outputs": [],
   "source": [
    "def affiche_moyenne(frame1):\n",
    "    for col in frame1.columns:\n",
    "        print(col, frame1[col].mean())"
   ]
  },
  {
   "cell_type": "code",
   "execution_count": 25,
   "metadata": {},
   "outputs": [
    {
     "name": "stdout",
     "output_type": "stream",
     "text": [
      "col_0 -0.10348667045755855\n",
      "col_1 -0.2529397211851539\n"
     ]
    }
   ],
   "source": [
    "affiche_moyenne(frame1)"
   ]
  },
  {
   "cell_type": "code",
   "execution_count": 26,
   "metadata": {},
   "outputs": [
    {
     "data": {
      "text/plain": [
       "obs_0    0.541044\n",
       "obs_1    0.705966\n",
       "obs_2   -0.004613\n",
       "obs_3    0.009845\n",
       "obs_4   -1.769676\n",
       "Name: col_0, dtype: float64"
      ]
     },
     "execution_count": 26,
     "metadata": {},
     "output_type": "execute_result"
    }
   ],
   "source": [
    "frame1[\"col_0\"]"
   ]
  },
  {
   "cell_type": "code",
   "execution_count": 27,
   "metadata": {},
   "outputs": [
    {
     "data": {
      "text/plain": [
       "obs_0    0.541044\n",
       "obs_1    0.705966\n",
       "obs_2   -0.004613\n",
       "obs_3    0.009845\n",
       "obs_4   -1.769676\n",
       "Name: col_0, dtype: float64"
      ]
     },
     "execution_count": 27,
     "metadata": {},
     "output_type": "execute_result"
    }
   ],
   "source": [
    "frame1.col_0"
   ]
  },
  {
   "cell_type": "code",
   "execution_count": 28,
   "metadata": {},
   "outputs": [
    {
     "data": {
      "text/plain": [
       "obs_2   -2.170331\n",
       "obs_4   -0.175992\n",
       "Name: col_1, dtype: float64"
      ]
     },
     "execution_count": 28,
     "metadata": {},
     "output_type": "execute_result"
    }
   ],
   "source": [
    "frame1.loc[[\"obs_2\",\"obs_4\"],\"col_1\"]"
   ]
  },
  {
   "cell_type": "code",
   "execution_count": 29,
   "metadata": {},
   "outputs": [
    {
     "data": {
      "text/plain": [
       "obs_2   -2.170331\n",
       "obs_3    0.887217\n",
       "obs_4   -0.175992\n",
       "Name: col_1, dtype: float64"
      ]
     },
     "execution_count": 29,
     "metadata": {},
     "output_type": "execute_result"
    }
   ],
   "source": [
    "frame1.iloc[2:5,1]"
   ]
  },
  {
   "cell_type": "markdown",
   "metadata": {
    "slideshow": {
     "slide_type": "subslide"
    }
   },
   "source": [
    "# Options de visualisation et de résumé\n",
    "\n",
    "Pour afficher les 3 premières lignes, on peut utiliser :\n"
   ]
  },
  {
   "cell_type": "code",
   "execution_count": 30,
   "metadata": {
    "slideshow": {
     "slide_type": "fragment"
    }
   },
   "outputs": [
    {
     "data": {
      "text/html": [
       "<div>\n",
       "<style scoped>\n",
       "    .dataframe tbody tr th:only-of-type {\n",
       "        vertical-align: middle;\n",
       "    }\n",
       "\n",
       "    .dataframe tbody tr th {\n",
       "        vertical-align: top;\n",
       "    }\n",
       "\n",
       "    .dataframe thead th {\n",
       "        text-align: right;\n",
       "    }\n",
       "</style>\n",
       "<table border=\"1\" class=\"dataframe\">\n",
       "  <thead>\n",
       "    <tr style=\"text-align: right;\">\n",
       "      <th></th>\n",
       "      <th>col_0</th>\n",
       "      <th>col_1</th>\n",
       "    </tr>\n",
       "  </thead>\n",
       "  <tbody>\n",
       "    <tr>\n",
       "      <th>obs_0</th>\n",
       "      <td>0.541044</td>\n",
       "      <td>0.647846</td>\n",
       "    </tr>\n",
       "    <tr>\n",
       "      <th>obs_1</th>\n",
       "      <td>0.705966</td>\n",
       "      <td>-0.453439</td>\n",
       "    </tr>\n",
       "    <tr>\n",
       "      <th>obs_2</th>\n",
       "      <td>-0.004613</td>\n",
       "      <td>-2.170331</td>\n",
       "    </tr>\n",
       "  </tbody>\n",
       "</table>\n",
       "</div>"
      ],
      "text/plain": [
       "          col_0     col_1\n",
       "obs_0  0.541044  0.647846\n",
       "obs_1  0.705966 -0.453439\n",
       "obs_2 -0.004613 -2.170331"
      ]
     },
     "execution_count": 30,
     "metadata": {},
     "output_type": "execute_result"
    }
   ],
   "source": [
    "frame1.head(3)"
   ]
  },
  {
   "cell_type": "markdown",
   "metadata": {
    "slideshow": {
     "slide_type": "subslide"
    }
   },
   "source": [
    "Pour afficher un résumé du DF :"
   ]
  },
  {
   "cell_type": "code",
   "execution_count": 31,
   "metadata": {
    "slideshow": {
     "slide_type": "fragment"
    }
   },
   "outputs": [
    {
     "name": "stdout",
     "output_type": "stream",
     "text": [
      "<class 'pandas.core.frame.DataFrame'>\n",
      "Index: 5 entries, obs_0 to obs_4\n",
      "Data columns (total 2 columns):\n",
      " #   Column  Non-Null Count  Dtype  \n",
      "---  ------  --------------  -----  \n",
      " 0   col_0   5 non-null      float64\n",
      " 1   col_1   5 non-null      float64\n",
      "dtypes: float64(2)\n",
      "memory usage: 292.0+ bytes\n"
     ]
    }
   ],
   "source": [
    "frame1.info()"
   ]
  },
  {
   "cell_type": "markdown",
   "metadata": {
    "slideshow": {
     "slide_type": "slide"
    }
   },
   "source": [
    "# Importer des données externes\n",
    "\n",
    "Pandas est l'outil le plus efficace pour importer des données externes, il prend en charge de nombreux formats dont csv, Excel, SQL, SAS...\n",
    "\n",
    "\n",
    "## Importation de données avec Pandas\n",
    "\n",
    "Quel que soit le type de fichier, Pandas possède une fonction :\n",
    "```python\n",
    "frame=pd.read_...('chemin_du_fichier/nom_du_fichier',...)\n",
    "```\n",
    "Pour écrire un DataFrame dans un fichier, on utilise :\n",
    "```python\n",
    "frame.to_...('chemin_du_fichier/nom_du_fichier',...)\n",
    "```"
   ]
  },
  {
   "cell_type": "markdown",
   "metadata": {
    "slideshow": {
     "slide_type": "subslide"
    }
   },
   "source": [
    "**Exercice :**\n",
    "    \n",
    "Importer un fichier `.csv` avec `pd.read_csv()`. On utilisera le fichier \"./data/airbnb.csv\""
   ]
  },
  {
   "cell_type": "code",
   "execution_count": 32,
   "metadata": {},
   "outputs": [
    {
     "name": "stderr",
     "output_type": "stream",
     "text": [
      "/opt/tljh/user/lib/python3.7/site-packages/IPython/core/interactiveshell.py:3156: DtypeWarning: Columns (43,61,62) have mixed types.Specify dtype option on import or set low_memory=False.\n",
      "  interactivity=interactivity, compiler=compiler, result=result)\n"
     ]
    }
   ],
   "source": [
    "airbnb = pd.read_csv(\"https://www.stat4decision.com/airbnb.csv\")"
   ]
  },
  {
   "cell_type": "code",
   "execution_count": 33,
   "metadata": {},
   "outputs": [
    {
     "name": "stdout",
     "output_type": "stream",
     "text": [
      "Bien importé !\n"
     ]
    }
   ],
   "source": [
    "# pour vérifier que vous avez bien répondu à l'exercice, soumettre cette cellule\n",
    "# on utilise maj + Entrée\n",
    "assert airbnb[\"price\"].dtype == object\n",
    "print(\"Bien importé !\")"
   ]
  },
  {
   "cell_type": "code",
   "execution_count": 34,
   "metadata": {},
   "outputs": [
    {
     "name": "stdout",
     "output_type": "stream",
     "text": [
      "<class 'pandas.core.frame.DataFrame'>\n",
      "RangeIndex: 59126 entries, 0 to 59125\n",
      "Columns: 106 entries, id to reviews_per_month\n",
      "dtypes: float64(23), int64(21), object(62)\n",
      "memory usage: 47.8+ MB\n"
     ]
    }
   ],
   "source": [
    "airbnb.info(verbose=0)"
   ]
  },
  {
   "cell_type": "code",
   "execution_count": 35,
   "metadata": {},
   "outputs": [],
   "source": [
    "pd.set_option('display.max_rows', 500)\n",
    "pd.options.display.max_columns = 150"
   ]
  },
  {
   "cell_type": "code",
   "execution_count": 36,
   "metadata": {},
   "outputs": [
    {
     "data": {
      "text/html": [
       "<div>\n",
       "<style scoped>\n",
       "    .dataframe tbody tr th:only-of-type {\n",
       "        vertical-align: middle;\n",
       "    }\n",
       "\n",
       "    .dataframe tbody tr th {\n",
       "        vertical-align: top;\n",
       "    }\n",
       "\n",
       "    .dataframe thead th {\n",
       "        text-align: right;\n",
       "    }\n",
       "</style>\n",
       "<table border=\"1\" class=\"dataframe\">\n",
       "  <thead>\n",
       "    <tr style=\"text-align: right;\">\n",
       "      <th></th>\n",
       "      <th>id</th>\n",
       "      <th>listing_url</th>\n",
       "      <th>scrape_id</th>\n",
       "      <th>last_scraped</th>\n",
       "      <th>name</th>\n",
       "      <th>summary</th>\n",
       "      <th>space</th>\n",
       "      <th>description</th>\n",
       "      <th>experiences_offered</th>\n",
       "      <th>neighborhood_overview</th>\n",
       "      <th>notes</th>\n",
       "      <th>transit</th>\n",
       "      <th>access</th>\n",
       "      <th>interaction</th>\n",
       "      <th>house_rules</th>\n",
       "      <th>thumbnail_url</th>\n",
       "      <th>medium_url</th>\n",
       "      <th>picture_url</th>\n",
       "      <th>xl_picture_url</th>\n",
       "      <th>host_id</th>\n",
       "      <th>host_url</th>\n",
       "      <th>host_name</th>\n",
       "      <th>host_since</th>\n",
       "      <th>host_location</th>\n",
       "      <th>host_about</th>\n",
       "      <th>host_response_time</th>\n",
       "      <th>host_response_rate</th>\n",
       "      <th>host_acceptance_rate</th>\n",
       "      <th>host_is_superhost</th>\n",
       "      <th>host_thumbnail_url</th>\n",
       "      <th>host_picture_url</th>\n",
       "      <th>host_neighbourhood</th>\n",
       "      <th>host_listings_count</th>\n",
       "      <th>host_total_listings_count</th>\n",
       "      <th>host_verifications</th>\n",
       "      <th>host_has_profile_pic</th>\n",
       "      <th>host_identity_verified</th>\n",
       "      <th>street</th>\n",
       "      <th>neighbourhood</th>\n",
       "      <th>neighbourhood_cleansed</th>\n",
       "      <th>neighbourhood_group_cleansed</th>\n",
       "      <th>city</th>\n",
       "      <th>state</th>\n",
       "      <th>zipcode</th>\n",
       "      <th>market</th>\n",
       "      <th>smart_location</th>\n",
       "      <th>country_code</th>\n",
       "      <th>country</th>\n",
       "      <th>latitude</th>\n",
       "      <th>longitude</th>\n",
       "      <th>is_location_exact</th>\n",
       "      <th>property_type</th>\n",
       "      <th>room_type</th>\n",
       "      <th>accommodates</th>\n",
       "      <th>bathrooms</th>\n",
       "      <th>bedrooms</th>\n",
       "      <th>beds</th>\n",
       "      <th>bed_type</th>\n",
       "      <th>amenities</th>\n",
       "      <th>square_feet</th>\n",
       "      <th>price</th>\n",
       "      <th>weekly_price</th>\n",
       "      <th>monthly_price</th>\n",
       "      <th>security_deposit</th>\n",
       "      <th>cleaning_fee</th>\n",
       "      <th>guests_included</th>\n",
       "      <th>extra_people</th>\n",
       "      <th>minimum_nights</th>\n",
       "      <th>maximum_nights</th>\n",
       "      <th>minimum_minimum_nights</th>\n",
       "      <th>maximum_minimum_nights</th>\n",
       "      <th>minimum_maximum_nights</th>\n",
       "      <th>maximum_maximum_nights</th>\n",
       "      <th>minimum_nights_avg_ntm</th>\n",
       "      <th>maximum_nights_avg_ntm</th>\n",
       "      <th>calendar_updated</th>\n",
       "      <th>has_availability</th>\n",
       "      <th>availability_30</th>\n",
       "      <th>availability_60</th>\n",
       "      <th>availability_90</th>\n",
       "      <th>availability_365</th>\n",
       "      <th>calendar_last_scraped</th>\n",
       "      <th>number_of_reviews</th>\n",
       "      <th>number_of_reviews_ltm</th>\n",
       "      <th>first_review</th>\n",
       "      <th>last_review</th>\n",
       "      <th>review_scores_rating</th>\n",
       "      <th>review_scores_accuracy</th>\n",
       "      <th>review_scores_cleanliness</th>\n",
       "      <th>review_scores_checkin</th>\n",
       "      <th>review_scores_communication</th>\n",
       "      <th>review_scores_location</th>\n",
       "      <th>review_scores_value</th>\n",
       "      <th>requires_license</th>\n",
       "      <th>license</th>\n",
       "      <th>jurisdiction_names</th>\n",
       "      <th>instant_bookable</th>\n",
       "      <th>is_business_travel_ready</th>\n",
       "      <th>cancellation_policy</th>\n",
       "      <th>require_guest_profile_picture</th>\n",
       "      <th>require_guest_phone_verification</th>\n",
       "      <th>calculated_host_listings_count</th>\n",
       "      <th>calculated_host_listings_count_entire_homes</th>\n",
       "      <th>calculated_host_listings_count_private_rooms</th>\n",
       "      <th>calculated_host_listings_count_shared_rooms</th>\n",
       "      <th>reviews_per_month</th>\n",
       "    </tr>\n",
       "  </thead>\n",
       "  <tbody>\n",
       "    <tr>\n",
       "      <th>0</th>\n",
       "      <td>3109</td>\n",
       "      <td>https://www.airbnb.com/rooms/3109</td>\n",
       "      <td>20190507030954</td>\n",
       "      <td>2019-05-07</td>\n",
       "      <td>zen and calm</td>\n",
       "      <td>Appartement très calme de 50M2 Utilisation de ...</td>\n",
       "      <td>I bedroom appartment in Paris 14</td>\n",
       "      <td>I bedroom appartment in Paris 14 Good restaura...</td>\n",
       "      <td>none</td>\n",
       "      <td>Good restaurants very close the Montparnasse S...</td>\n",
       "      <td>NaN</td>\n",
       "      <td>RER B Metro Ligne 13 Pernety Metro Ligne 13 Pl...</td>\n",
       "      <td>A la demande, vous pouvez avoir accès à la cha...</td>\n",
       "      <td>yes I can help you out</td>\n",
       "      <td>NaN</td>\n",
       "      <td>NaN</td>\n",
       "      <td>NaN</td>\n",
       "      <td>https://a0.muscache.com/im/pictures/baeae9e2-c...</td>\n",
       "      <td>NaN</td>\n",
       "      <td>3631</td>\n",
       "      <td>https://www.airbnb.com/users/show/3631</td>\n",
       "      <td>Anne</td>\n",
       "      <td>2008-10-14</td>\n",
       "      <td>Paris, Île-de-France, France</td>\n",
       "      <td>NaN</td>\n",
       "      <td>within a few hours</td>\n",
       "      <td>100%</td>\n",
       "      <td>NaN</td>\n",
       "      <td>f</td>\n",
       "      <td>https://a0.muscache.com/im/users/3631/profile_...</td>\n",
       "      <td>https://a0.muscache.com/im/users/3631/profile_...</td>\n",
       "      <td>Alésia</td>\n",
       "      <td>1.0</td>\n",
       "      <td>1.0</td>\n",
       "      <td>['email', 'phone', 'facebook', 'reviews']</td>\n",
       "      <td>t</td>\n",
       "      <td>f</td>\n",
       "      <td>Paris, Île-de-France, France</td>\n",
       "      <td>Alésia</td>\n",
       "      <td>Observatoire</td>\n",
       "      <td>NaN</td>\n",
       "      <td>Paris</td>\n",
       "      <td>Île-de-France</td>\n",
       "      <td>75014</td>\n",
       "      <td>Paris</td>\n",
       "      <td>Paris, France</td>\n",
       "      <td>FR</td>\n",
       "      <td>France</td>\n",
       "      <td>48.83349</td>\n",
       "      <td>2.31852</td>\n",
       "      <td>f</td>\n",
       "      <td>Apartment</td>\n",
       "      <td>Entire home/apt</td>\n",
       "      <td>2</td>\n",
       "      <td>1.0</td>\n",
       "      <td>0.0</td>\n",
       "      <td>0.0</td>\n",
       "      <td>Real Bed</td>\n",
       "      <td>{Internet,Wifi,Kitchen,\"Paid parking off premi...</td>\n",
       "      <td>NaN</td>\n",
       "      <td>$75.00</td>\n",
       "      <td>$490.00</td>\n",
       "      <td>NaN</td>\n",
       "      <td>$0.00</td>\n",
       "      <td>$50.00</td>\n",
       "      <td>1</td>\n",
       "      <td>$0.00</td>\n",
       "      <td>3</td>\n",
       "      <td>15</td>\n",
       "      <td>3</td>\n",
       "      <td>3</td>\n",
       "      <td>15</td>\n",
       "      <td>15</td>\n",
       "      <td>3.0</td>\n",
       "      <td>15.0</td>\n",
       "      <td>3 weeks ago</td>\n",
       "      <td>t</td>\n",
       "      <td>0</td>\n",
       "      <td>0</td>\n",
       "      <td>27</td>\n",
       "      <td>288</td>\n",
       "      <td>2019-05-07</td>\n",
       "      <td>8</td>\n",
       "      <td>3</td>\n",
       "      <td>2016-12-27</td>\n",
       "      <td>2018-12-19</td>\n",
       "      <td>100.0</td>\n",
       "      <td>10.0</td>\n",
       "      <td>10.0</td>\n",
       "      <td>10.0</td>\n",
       "      <td>10.0</td>\n",
       "      <td>10.0</td>\n",
       "      <td>10.0</td>\n",
       "      <td>t</td>\n",
       "      <td>NaN</td>\n",
       "      <td>{PARIS}</td>\n",
       "      <td>f</td>\n",
       "      <td>f</td>\n",
       "      <td>flexible</td>\n",
       "      <td>f</td>\n",
       "      <td>f</td>\n",
       "      <td>1</td>\n",
       "      <td>1</td>\n",
       "      <td>0</td>\n",
       "      <td>0</td>\n",
       "      <td>0.28</td>\n",
       "    </tr>\n",
       "    <tr>\n",
       "      <th>1</th>\n",
       "      <td>5396</td>\n",
       "      <td>https://www.airbnb.com/rooms/5396</td>\n",
       "      <td>20190507030954</td>\n",
       "      <td>2019-05-08</td>\n",
       "      <td>Explore the heart of old Paris</td>\n",
       "      <td>Cozy, well-appointed and graciously designed s...</td>\n",
       "      <td>Small, well appointed studio apartment at the ...</td>\n",
       "      <td>Cozy, well-appointed and graciously designed s...</td>\n",
       "      <td>none</td>\n",
       "      <td>You are within walking distance to the Louvre,...</td>\n",
       "      <td>The staircase leading up to the apartment is n...</td>\n",
       "      <td>The flat is close to two or three major metro ...</td>\n",
       "      <td>The flat includes its own modern bathroom, a w...</td>\n",
       "      <td>We expect guests to operate rather independent...</td>\n",
       "      <td>This is a small flat in a very old building th...</td>\n",
       "      <td>NaN</td>\n",
       "      <td>NaN</td>\n",
       "      <td>https://a0.muscache.com/im/pictures/52413/f9bf...</td>\n",
       "      <td>NaN</td>\n",
       "      <td>7903</td>\n",
       "      <td>https://www.airbnb.com/users/show/7903</td>\n",
       "      <td>Borzou</td>\n",
       "      <td>2009-02-14</td>\n",
       "      <td>Istanbul, İstanbul, Turkey</td>\n",
       "      <td>We are both journalists based in the Middle Ea...</td>\n",
       "      <td>within an hour</td>\n",
       "      <td>100%</td>\n",
       "      <td>NaN</td>\n",
       "      <td>f</td>\n",
       "      <td>https://a0.muscache.com/im/users/7903/profile_...</td>\n",
       "      <td>https://a0.muscache.com/im/users/7903/profile_...</td>\n",
       "      <td>Saint-Paul - Ile Saint-Louis</td>\n",
       "      <td>1.0</td>\n",
       "      <td>1.0</td>\n",
       "      <td>['email', 'phone', 'facebook', 'google', 'revi...</td>\n",
       "      <td>t</td>\n",
       "      <td>t</td>\n",
       "      <td>Paris, Ile-de-France, France</td>\n",
       "      <td>IV Arrondissement</td>\n",
       "      <td>Hôtel-de-Ville</td>\n",
       "      <td>NaN</td>\n",
       "      <td>Paris</td>\n",
       "      <td>Ile-de-France</td>\n",
       "      <td>75004</td>\n",
       "      <td>Paris</td>\n",
       "      <td>Paris, France</td>\n",
       "      <td>FR</td>\n",
       "      <td>France</td>\n",
       "      <td>48.85100</td>\n",
       "      <td>2.35869</td>\n",
       "      <td>t</td>\n",
       "      <td>Apartment</td>\n",
       "      <td>Entire home/apt</td>\n",
       "      <td>2</td>\n",
       "      <td>1.0</td>\n",
       "      <td>0.0</td>\n",
       "      <td>1.0</td>\n",
       "      <td>Pull-out Sofa</td>\n",
       "      <td>{TV,\"Cable TV\",Internet,Wifi,Kitchen,Heating,W...</td>\n",
       "      <td>NaN</td>\n",
       "      <td>$115.00</td>\n",
       "      <td>$600.00</td>\n",
       "      <td>$2,000.00</td>\n",
       "      <td>$0.00</td>\n",
       "      <td>$36.00</td>\n",
       "      <td>1</td>\n",
       "      <td>$0.00</td>\n",
       "      <td>1</td>\n",
       "      <td>90</td>\n",
       "      <td>1</td>\n",
       "      <td>1</td>\n",
       "      <td>90</td>\n",
       "      <td>90</td>\n",
       "      <td>1.0</td>\n",
       "      <td>90.0</td>\n",
       "      <td>2 days ago</td>\n",
       "      <td>t</td>\n",
       "      <td>0</td>\n",
       "      <td>0</td>\n",
       "      <td>0</td>\n",
       "      <td>0</td>\n",
       "      <td>2019-05-08</td>\n",
       "      <td>173</td>\n",
       "      <td>44</td>\n",
       "      <td>2009-06-30</td>\n",
       "      <td>2019-04-19</td>\n",
       "      <td>91.0</td>\n",
       "      <td>9.0</td>\n",
       "      <td>8.0</td>\n",
       "      <td>9.0</td>\n",
       "      <td>9.0</td>\n",
       "      <td>10.0</td>\n",
       "      <td>9.0</td>\n",
       "      <td>t</td>\n",
       "      <td>7510402838018</td>\n",
       "      <td>{PARIS}</td>\n",
       "      <td>t</td>\n",
       "      <td>f</td>\n",
       "      <td>strict_14_with_grace_period</td>\n",
       "      <td>f</td>\n",
       "      <td>f</td>\n",
       "      <td>1</td>\n",
       "      <td>1</td>\n",
       "      <td>0</td>\n",
       "      <td>0</td>\n",
       "      <td>1.44</td>\n",
       "    </tr>\n",
       "    <tr>\n",
       "      <th>2</th>\n",
       "      <td>7397</td>\n",
       "      <td>https://www.airbnb.com/rooms/7397</td>\n",
       "      <td>20190507030954</td>\n",
       "      <td>2019-05-07</td>\n",
       "      <td>MARAIS - 2ROOMS APT - 2/4 PEOPLE</td>\n",
       "      <td>VERY CONVENIENT, WITH THE BEST LOCATION !</td>\n",
       "      <td>PLEASE ASK ME BEFORE TO MAKE A REQUEST !!! No ...</td>\n",
       "      <td>VERY CONVENIENT, WITH THE BEST LOCATION ! PLEA...</td>\n",
       "      <td>none</td>\n",
       "      <td>NaN</td>\n",
       "      <td>Important: Be conscious that an apartment in a...</td>\n",
       "      <td>Metro station HÖTEL-DE-VILLE is 100 meters close.</td>\n",
       "      <td>NaN</td>\n",
       "      <td>NaN</td>\n",
       "      <td>ELECTRICITY INCLUDED FOR NORMAL USING. PLEASE ...</td>\n",
       "      <td>NaN</td>\n",
       "      <td>NaN</td>\n",
       "      <td>https://a0.muscache.com/im/pictures/67928287/3...</td>\n",
       "      <td>NaN</td>\n",
       "      <td>2626</td>\n",
       "      <td>https://www.airbnb.com/users/show/2626</td>\n",
       "      <td>Franck</td>\n",
       "      <td>2008-08-30</td>\n",
       "      <td>Paris, Île-de-France, France</td>\n",
       "      <td>I am a writer,51, author of novels, books of l...</td>\n",
       "      <td>within an hour</td>\n",
       "      <td>100%</td>\n",
       "      <td>NaN</td>\n",
       "      <td>f</td>\n",
       "      <td>https://a0.muscache.com/im/pictures/58f00c4d-f...</td>\n",
       "      <td>https://a0.muscache.com/im/pictures/58f00c4d-f...</td>\n",
       "      <td>Le Marais</td>\n",
       "      <td>2.0</td>\n",
       "      <td>2.0</td>\n",
       "      <td>['email', 'phone', 'reviews', 'jumio', 'offlin...</td>\n",
       "      <td>t</td>\n",
       "      <td>t</td>\n",
       "      <td>Paris, Île-de-France, France</td>\n",
       "      <td>IV Arrondissement</td>\n",
       "      <td>Hôtel-de-Ville</td>\n",
       "      <td>NaN</td>\n",
       "      <td>Paris</td>\n",
       "      <td>Île-de-France</td>\n",
       "      <td>75004</td>\n",
       "      <td>Paris</td>\n",
       "      <td>Paris, France</td>\n",
       "      <td>FR</td>\n",
       "      <td>France</td>\n",
       "      <td>48.85758</td>\n",
       "      <td>2.35275</td>\n",
       "      <td>t</td>\n",
       "      <td>Apartment</td>\n",
       "      <td>Entire home/apt</td>\n",
       "      <td>4</td>\n",
       "      <td>1.0</td>\n",
       "      <td>2.0</td>\n",
       "      <td>2.0</td>\n",
       "      <td>Real Bed</td>\n",
       "      <td>{TV,\"Cable TV\",Internet,Wifi,Kitchen,\"Paid par...</td>\n",
       "      <td>NaN</td>\n",
       "      <td>$115.00</td>\n",
       "      <td>NaN</td>\n",
       "      <td>$2,200.00</td>\n",
       "      <td>$200.00</td>\n",
       "      <td>$50.00</td>\n",
       "      <td>2</td>\n",
       "      <td>$10.00</td>\n",
       "      <td>10</td>\n",
       "      <td>23</td>\n",
       "      <td>2</td>\n",
       "      <td>10</td>\n",
       "      <td>23</td>\n",
       "      <td>23</td>\n",
       "      <td>9.8</td>\n",
       "      <td>23.0</td>\n",
       "      <td>2 days ago</td>\n",
       "      <td>t</td>\n",
       "      <td>2</td>\n",
       "      <td>2</td>\n",
       "      <td>12</td>\n",
       "      <td>200</td>\n",
       "      <td>2019-05-07</td>\n",
       "      <td>243</td>\n",
       "      <td>32</td>\n",
       "      <td>2011-04-08</td>\n",
       "      <td>2019-04-20</td>\n",
       "      <td>94.0</td>\n",
       "      <td>10.0</td>\n",
       "      <td>9.0</td>\n",
       "      <td>10.0</td>\n",
       "      <td>10.0</td>\n",
       "      <td>10.0</td>\n",
       "      <td>10.0</td>\n",
       "      <td>t</td>\n",
       "      <td>7510400829623</td>\n",
       "      <td>{PARIS}</td>\n",
       "      <td>f</td>\n",
       "      <td>f</td>\n",
       "      <td>moderate</td>\n",
       "      <td>f</td>\n",
       "      <td>f</td>\n",
       "      <td>1</td>\n",
       "      <td>1</td>\n",
       "      <td>0</td>\n",
       "      <td>0</td>\n",
       "      <td>2.47</td>\n",
       "    </tr>\n",
       "    <tr>\n",
       "      <th>3</th>\n",
       "      <td>8522</td>\n",
       "      <td>https://www.airbnb.com/rooms/8522</td>\n",
       "      <td>20190507030954</td>\n",
       "      <td>2019-05-08</td>\n",
       "      <td>GREAT FLAT w/ CITY VIEW</td>\n",
       "      <td>NaN</td>\n",
       "      <td>Really nice flat located in the 20th district ...</td>\n",
       "      <td>Really nice flat located in the 20th district ...</td>\n",
       "      <td>none</td>\n",
       "      <td>NaN</td>\n",
       "      <td>NaN</td>\n",
       "      <td>NaN</td>\n",
       "      <td>NaN</td>\n",
       "      <td>NaN</td>\n",
       "      <td>NaN</td>\n",
       "      <td>NaN</td>\n",
       "      <td>NaN</td>\n",
       "      <td>https://a0.muscache.com/im/pictures/30560/0876...</td>\n",
       "      <td>NaN</td>\n",
       "      <td>25435</td>\n",
       "      <td>https://www.airbnb.com/users/show/25435</td>\n",
       "      <td>Adrien</td>\n",
       "      <td>2009-07-13</td>\n",
       "      <td>Paris, Ile-de-France, France</td>\n",
       "      <td>De Paris, propre et organisé.</td>\n",
       "      <td>within a few hours</td>\n",
       "      <td>100%</td>\n",
       "      <td>NaN</td>\n",
       "      <td>f</td>\n",
       "      <td>https://a0.muscache.com/im/users/25435/profile...</td>\n",
       "      <td>https://a0.muscache.com/im/users/25435/profile...</td>\n",
       "      <td>Père Lachaise - Ménilmontant</td>\n",
       "      <td>1.0</td>\n",
       "      <td>1.0</td>\n",
       "      <td>['email', 'phone', 'reviews']</td>\n",
       "      <td>t</td>\n",
       "      <td>f</td>\n",
       "      <td>Paris, Ile-de-France, France</td>\n",
       "      <td>Père Lachaise - Ménilmontant</td>\n",
       "      <td>Ménilmontant</td>\n",
       "      <td>NaN</td>\n",
       "      <td>Paris</td>\n",
       "      <td>Ile-de-France</td>\n",
       "      <td>75020</td>\n",
       "      <td>Paris</td>\n",
       "      <td>Paris, France</td>\n",
       "      <td>FR</td>\n",
       "      <td>France</td>\n",
       "      <td>48.86528</td>\n",
       "      <td>2.39326</td>\n",
       "      <td>t</td>\n",
       "      <td>Apartment</td>\n",
       "      <td>Entire home/apt</td>\n",
       "      <td>3</td>\n",
       "      <td>1.0</td>\n",
       "      <td>1.0</td>\n",
       "      <td>1.0</td>\n",
       "      <td>Real Bed</td>\n",
       "      <td>{Internet,Wifi,Kitchen,\"Washer / Dryer\",Elevat...</td>\n",
       "      <td>NaN</td>\n",
       "      <td>$90.00</td>\n",
       "      <td>$600.00</td>\n",
       "      <td>NaN</td>\n",
       "      <td>NaN</td>\n",
       "      <td>NaN</td>\n",
       "      <td>1</td>\n",
       "      <td>$0.00</td>\n",
       "      <td>3</td>\n",
       "      <td>365</td>\n",
       "      <td>3</td>\n",
       "      <td>3</td>\n",
       "      <td>365</td>\n",
       "      <td>365</td>\n",
       "      <td>3.0</td>\n",
       "      <td>365.0</td>\n",
       "      <td>2 months ago</td>\n",
       "      <td>t</td>\n",
       "      <td>0</td>\n",
       "      <td>0</td>\n",
       "      <td>0</td>\n",
       "      <td>122</td>\n",
       "      <td>2019-05-08</td>\n",
       "      <td>1</td>\n",
       "      <td>0</td>\n",
       "      <td>2010-06-16</td>\n",
       "      <td>2010-06-16</td>\n",
       "      <td>100.0</td>\n",
       "      <td>NaN</td>\n",
       "      <td>NaN</td>\n",
       "      <td>NaN</td>\n",
       "      <td>NaN</td>\n",
       "      <td>NaN</td>\n",
       "      <td>NaN</td>\n",
       "      <td>t</td>\n",
       "      <td>NaN</td>\n",
       "      <td>{PARIS}</td>\n",
       "      <td>f</td>\n",
       "      <td>f</td>\n",
       "      <td>moderate</td>\n",
       "      <td>f</td>\n",
       "      <td>f</td>\n",
       "      <td>1</td>\n",
       "      <td>1</td>\n",
       "      <td>0</td>\n",
       "      <td>0</td>\n",
       "      <td>0.01</td>\n",
       "    </tr>\n",
       "    <tr>\n",
       "      <th>4</th>\n",
       "      <td>9359</td>\n",
       "      <td>https://www.airbnb.com/rooms/9359</td>\n",
       "      <td>20190507030954</td>\n",
       "      <td>2019-05-07</td>\n",
       "      <td>Cozy, Central Paris: WALK or VELIB EVERYWHERE !</td>\n",
       "      <td>Location! Location! Location! Just bring your ...</td>\n",
       "      <td>Since I live in the USA, it is difficult to ma...</td>\n",
       "      <td>Location! Location! Location! Just bring your ...</td>\n",
       "      <td>none</td>\n",
       "      <td>NaN</td>\n",
       "      <td>Velib station outside.</td>\n",
       "      <td>All the major metros and RERs are at Les Halle...</td>\n",
       "      <td>You are alone in the flat, the entire city is ...</td>\n",
       "      <td>I am available 18 hours a day by text, have lo...</td>\n",
       "      <td>This residence is limited to TWO people and is...</td>\n",
       "      <td>NaN</td>\n",
       "      <td>NaN</td>\n",
       "      <td>https://a0.muscache.com/im/pictures/c2965945-0...</td>\n",
       "      <td>NaN</td>\n",
       "      <td>28422</td>\n",
       "      <td>https://www.airbnb.com/users/show/28422</td>\n",
       "      <td>Bernadette</td>\n",
       "      <td>2009-07-29</td>\n",
       "      <td>New York, New York, United States</td>\n",
       "      <td>I am a Native New Yorker (yes, I was born and ...</td>\n",
       "      <td>within a day</td>\n",
       "      <td>67%</td>\n",
       "      <td>NaN</td>\n",
       "      <td>f</td>\n",
       "      <td>https://a0.muscache.com/im/users/28422/profile...</td>\n",
       "      <td>https://a0.muscache.com/im/users/28422/profile...</td>\n",
       "      <td>Châtelet - Les Halles - Beaubourg</td>\n",
       "      <td>3.0</td>\n",
       "      <td>3.0</td>\n",
       "      <td>['email', 'phone', 'reviews', 'jumio', 'offlin...</td>\n",
       "      <td>t</td>\n",
       "      <td>f</td>\n",
       "      <td>Paris, Île-de-France, France</td>\n",
       "      <td>I Arrondissement</td>\n",
       "      <td>Louvre</td>\n",
       "      <td>NaN</td>\n",
       "      <td>Paris</td>\n",
       "      <td>Île-de-France</td>\n",
       "      <td>75001</td>\n",
       "      <td>Paris</td>\n",
       "      <td>Paris, France</td>\n",
       "      <td>FR</td>\n",
       "      <td>France</td>\n",
       "      <td>48.85899</td>\n",
       "      <td>2.34735</td>\n",
       "      <td>t</td>\n",
       "      <td>Apartment</td>\n",
       "      <td>Entire home/apt</td>\n",
       "      <td>2</td>\n",
       "      <td>1.0</td>\n",
       "      <td>1.0</td>\n",
       "      <td>1.0</td>\n",
       "      <td>Real Bed</td>\n",
       "      <td>{Internet,Wifi,Kitchen,Elevator,Heating,Essent...</td>\n",
       "      <td>350.0</td>\n",
       "      <td>$75.00</td>\n",
       "      <td>NaN</td>\n",
       "      <td>$1,480.00</td>\n",
       "      <td>$1,500.00</td>\n",
       "      <td>$200.00</td>\n",
       "      <td>1</td>\n",
       "      <td>$30.00</td>\n",
       "      <td>180</td>\n",
       "      <td>365</td>\n",
       "      <td>180</td>\n",
       "      <td>180</td>\n",
       "      <td>365</td>\n",
       "      <td>365</td>\n",
       "      <td>180.0</td>\n",
       "      <td>365.0</td>\n",
       "      <td>6 weeks ago</td>\n",
       "      <td>t</td>\n",
       "      <td>0</td>\n",
       "      <td>0</td>\n",
       "      <td>0</td>\n",
       "      <td>35</td>\n",
       "      <td>2019-05-07</td>\n",
       "      <td>0</td>\n",
       "      <td>0</td>\n",
       "      <td>NaN</td>\n",
       "      <td>NaN</td>\n",
       "      <td>NaN</td>\n",
       "      <td>NaN</td>\n",
       "      <td>NaN</td>\n",
       "      <td>NaN</td>\n",
       "      <td>NaN</td>\n",
       "      <td>NaN</td>\n",
       "      <td>NaN</td>\n",
       "      <td>t</td>\n",
       "      <td>NaN</td>\n",
       "      <td>{PARIS}</td>\n",
       "      <td>f</td>\n",
       "      <td>f</td>\n",
       "      <td>strict_14_with_grace_period</td>\n",
       "      <td>t</td>\n",
       "      <td>t</td>\n",
       "      <td>1</td>\n",
       "      <td>1</td>\n",
       "      <td>0</td>\n",
       "      <td>0</td>\n",
       "      <td>NaN</td>\n",
       "    </tr>\n",
       "  </tbody>\n",
       "</table>\n",
       "</div>"
      ],
      "text/plain": [
       "     id                        listing_url       scrape_id last_scraped  \\\n",
       "0  3109  https://www.airbnb.com/rooms/3109  20190507030954   2019-05-07   \n",
       "1  5396  https://www.airbnb.com/rooms/5396  20190507030954   2019-05-08   \n",
       "2  7397  https://www.airbnb.com/rooms/7397  20190507030954   2019-05-07   \n",
       "3  8522  https://www.airbnb.com/rooms/8522  20190507030954   2019-05-08   \n",
       "4  9359  https://www.airbnb.com/rooms/9359  20190507030954   2019-05-07   \n",
       "\n",
       "                                              name  \\\n",
       "0                                     zen and calm   \n",
       "1                   Explore the heart of old Paris   \n",
       "2                 MARAIS - 2ROOMS APT - 2/4 PEOPLE   \n",
       "3                          GREAT FLAT w/ CITY VIEW   \n",
       "4  Cozy, Central Paris: WALK or VELIB EVERYWHERE !   \n",
       "\n",
       "                                             summary  \\\n",
       "0  Appartement très calme de 50M2 Utilisation de ...   \n",
       "1  Cozy, well-appointed and graciously designed s...   \n",
       "2          VERY CONVENIENT, WITH THE BEST LOCATION !   \n",
       "3                                                NaN   \n",
       "4  Location! Location! Location! Just bring your ...   \n",
       "\n",
       "                                               space  \\\n",
       "0                   I bedroom appartment in Paris 14   \n",
       "1  Small, well appointed studio apartment at the ...   \n",
       "2  PLEASE ASK ME BEFORE TO MAKE A REQUEST !!! No ...   \n",
       "3  Really nice flat located in the 20th district ...   \n",
       "4  Since I live in the USA, it is difficult to ma...   \n",
       "\n",
       "                                         description experiences_offered  \\\n",
       "0  I bedroom appartment in Paris 14 Good restaura...                none   \n",
       "1  Cozy, well-appointed and graciously designed s...                none   \n",
       "2  VERY CONVENIENT, WITH THE BEST LOCATION ! PLEA...                none   \n",
       "3  Really nice flat located in the 20th district ...                none   \n",
       "4  Location! Location! Location! Just bring your ...                none   \n",
       "\n",
       "                               neighborhood_overview  \\\n",
       "0  Good restaurants very close the Montparnasse S...   \n",
       "1  You are within walking distance to the Louvre,...   \n",
       "2                                                NaN   \n",
       "3                                                NaN   \n",
       "4                                                NaN   \n",
       "\n",
       "                                               notes  \\\n",
       "0                                                NaN   \n",
       "1  The staircase leading up to the apartment is n...   \n",
       "2  Important: Be conscious that an apartment in a...   \n",
       "3                                                NaN   \n",
       "4                             Velib station outside.   \n",
       "\n",
       "                                             transit  \\\n",
       "0  RER B Metro Ligne 13 Pernety Metro Ligne 13 Pl...   \n",
       "1  The flat is close to two or three major metro ...   \n",
       "2  Metro station HÖTEL-DE-VILLE is 100 meters close.   \n",
       "3                                                NaN   \n",
       "4  All the major metros and RERs are at Les Halle...   \n",
       "\n",
       "                                              access  \\\n",
       "0  A la demande, vous pouvez avoir accès à la cha...   \n",
       "1  The flat includes its own modern bathroom, a w...   \n",
       "2                                                NaN   \n",
       "3                                                NaN   \n",
       "4  You are alone in the flat, the entire city is ...   \n",
       "\n",
       "                                         interaction  \\\n",
       "0                             yes I can help you out   \n",
       "1  We expect guests to operate rather independent...   \n",
       "2                                                NaN   \n",
       "3                                                NaN   \n",
       "4  I am available 18 hours a day by text, have lo...   \n",
       "\n",
       "                                         house_rules  thumbnail_url  \\\n",
       "0                                                NaN            NaN   \n",
       "1  This is a small flat in a very old building th...            NaN   \n",
       "2  ELECTRICITY INCLUDED FOR NORMAL USING. PLEASE ...            NaN   \n",
       "3                                                NaN            NaN   \n",
       "4  This residence is limited to TWO people and is...            NaN   \n",
       "\n",
       "   medium_url                                        picture_url  \\\n",
       "0         NaN  https://a0.muscache.com/im/pictures/baeae9e2-c...   \n",
       "1         NaN  https://a0.muscache.com/im/pictures/52413/f9bf...   \n",
       "2         NaN  https://a0.muscache.com/im/pictures/67928287/3...   \n",
       "3         NaN  https://a0.muscache.com/im/pictures/30560/0876...   \n",
       "4         NaN  https://a0.muscache.com/im/pictures/c2965945-0...   \n",
       "\n",
       "   xl_picture_url  host_id                                 host_url  \\\n",
       "0             NaN     3631   https://www.airbnb.com/users/show/3631   \n",
       "1             NaN     7903   https://www.airbnb.com/users/show/7903   \n",
       "2             NaN     2626   https://www.airbnb.com/users/show/2626   \n",
       "3             NaN    25435  https://www.airbnb.com/users/show/25435   \n",
       "4             NaN    28422  https://www.airbnb.com/users/show/28422   \n",
       "\n",
       "    host_name  host_since                      host_location  \\\n",
       "0        Anne  2008-10-14       Paris, Île-de-France, France   \n",
       "1      Borzou  2009-02-14         Istanbul, İstanbul, Turkey   \n",
       "2      Franck  2008-08-30       Paris, Île-de-France, France   \n",
       "3      Adrien  2009-07-13       Paris, Ile-de-France, France   \n",
       "4  Bernadette  2009-07-29  New York, New York, United States   \n",
       "\n",
       "                                          host_about  host_response_time  \\\n",
       "0                                                NaN  within a few hours   \n",
       "1  We are both journalists based in the Middle Ea...      within an hour   \n",
       "2  I am a writer,51, author of novels, books of l...      within an hour   \n",
       "3                      De Paris, propre et organisé.  within a few hours   \n",
       "4  I am a Native New Yorker (yes, I was born and ...        within a day   \n",
       "\n",
       "  host_response_rate  host_acceptance_rate host_is_superhost  \\\n",
       "0               100%                   NaN                 f   \n",
       "1               100%                   NaN                 f   \n",
       "2               100%                   NaN                 f   \n",
       "3               100%                   NaN                 f   \n",
       "4                67%                   NaN                 f   \n",
       "\n",
       "                                  host_thumbnail_url  \\\n",
       "0  https://a0.muscache.com/im/users/3631/profile_...   \n",
       "1  https://a0.muscache.com/im/users/7903/profile_...   \n",
       "2  https://a0.muscache.com/im/pictures/58f00c4d-f...   \n",
       "3  https://a0.muscache.com/im/users/25435/profile...   \n",
       "4  https://a0.muscache.com/im/users/28422/profile...   \n",
       "\n",
       "                                    host_picture_url  \\\n",
       "0  https://a0.muscache.com/im/users/3631/profile_...   \n",
       "1  https://a0.muscache.com/im/users/7903/profile_...   \n",
       "2  https://a0.muscache.com/im/pictures/58f00c4d-f...   \n",
       "3  https://a0.muscache.com/im/users/25435/profile...   \n",
       "4  https://a0.muscache.com/im/users/28422/profile...   \n",
       "\n",
       "                  host_neighbourhood  host_listings_count  \\\n",
       "0                             Alésia                  1.0   \n",
       "1       Saint-Paul - Ile Saint-Louis                  1.0   \n",
       "2                          Le Marais                  2.0   \n",
       "3       Père Lachaise - Ménilmontant                  1.0   \n",
       "4  Châtelet - Les Halles - Beaubourg                  3.0   \n",
       "\n",
       "   host_total_listings_count  \\\n",
       "0                        1.0   \n",
       "1                        1.0   \n",
       "2                        2.0   \n",
       "3                        1.0   \n",
       "4                        3.0   \n",
       "\n",
       "                                  host_verifications host_has_profile_pic  \\\n",
       "0          ['email', 'phone', 'facebook', 'reviews']                    t   \n",
       "1  ['email', 'phone', 'facebook', 'google', 'revi...                    t   \n",
       "2  ['email', 'phone', 'reviews', 'jumio', 'offlin...                    t   \n",
       "3                      ['email', 'phone', 'reviews']                    t   \n",
       "4  ['email', 'phone', 'reviews', 'jumio', 'offlin...                    t   \n",
       "\n",
       "  host_identity_verified                        street  \\\n",
       "0                      f  Paris, Île-de-France, France   \n",
       "1                      t  Paris, Ile-de-France, France   \n",
       "2                      t  Paris, Île-de-France, France   \n",
       "3                      f  Paris, Ile-de-France, France   \n",
       "4                      f  Paris, Île-de-France, France   \n",
       "\n",
       "                  neighbourhood neighbourhood_cleansed  \\\n",
       "0                        Alésia           Observatoire   \n",
       "1             IV Arrondissement         Hôtel-de-Ville   \n",
       "2             IV Arrondissement         Hôtel-de-Ville   \n",
       "3  Père Lachaise - Ménilmontant           Ménilmontant   \n",
       "4              I Arrondissement                 Louvre   \n",
       "\n",
       "   neighbourhood_group_cleansed   city          state zipcode market  \\\n",
       "0                           NaN  Paris  Île-de-France   75014  Paris   \n",
       "1                           NaN  Paris  Ile-de-France   75004  Paris   \n",
       "2                           NaN  Paris  Île-de-France   75004  Paris   \n",
       "3                           NaN  Paris  Ile-de-France   75020  Paris   \n",
       "4                           NaN  Paris  Île-de-France   75001  Paris   \n",
       "\n",
       "  smart_location country_code country  latitude  longitude is_location_exact  \\\n",
       "0  Paris, France           FR  France  48.83349    2.31852                 f   \n",
       "1  Paris, France           FR  France  48.85100    2.35869                 t   \n",
       "2  Paris, France           FR  France  48.85758    2.35275                 t   \n",
       "3  Paris, France           FR  France  48.86528    2.39326                 t   \n",
       "4  Paris, France           FR  France  48.85899    2.34735                 t   \n",
       "\n",
       "  property_type        room_type  accommodates  bathrooms  bedrooms  beds  \\\n",
       "0     Apartment  Entire home/apt             2        1.0       0.0   0.0   \n",
       "1     Apartment  Entire home/apt             2        1.0       0.0   1.0   \n",
       "2     Apartment  Entire home/apt             4        1.0       2.0   2.0   \n",
       "3     Apartment  Entire home/apt             3        1.0       1.0   1.0   \n",
       "4     Apartment  Entire home/apt             2        1.0       1.0   1.0   \n",
       "\n",
       "        bed_type                                          amenities  \\\n",
       "0       Real Bed  {Internet,Wifi,Kitchen,\"Paid parking off premi...   \n",
       "1  Pull-out Sofa  {TV,\"Cable TV\",Internet,Wifi,Kitchen,Heating,W...   \n",
       "2       Real Bed  {TV,\"Cable TV\",Internet,Wifi,Kitchen,\"Paid par...   \n",
       "3       Real Bed  {Internet,Wifi,Kitchen,\"Washer / Dryer\",Elevat...   \n",
       "4       Real Bed  {Internet,Wifi,Kitchen,Elevator,Heating,Essent...   \n",
       "\n",
       "   square_feet    price weekly_price monthly_price security_deposit  \\\n",
       "0          NaN   $75.00      $490.00           NaN            $0.00   \n",
       "1          NaN  $115.00      $600.00     $2,000.00            $0.00   \n",
       "2          NaN  $115.00          NaN     $2,200.00          $200.00   \n",
       "3          NaN   $90.00      $600.00           NaN              NaN   \n",
       "4        350.0   $75.00          NaN     $1,480.00        $1,500.00   \n",
       "\n",
       "  cleaning_fee  guests_included extra_people  minimum_nights  maximum_nights  \\\n",
       "0       $50.00                1        $0.00               3              15   \n",
       "1       $36.00                1        $0.00               1              90   \n",
       "2       $50.00                2       $10.00              10              23   \n",
       "3          NaN                1        $0.00               3             365   \n",
       "4      $200.00                1       $30.00             180             365   \n",
       "\n",
       "   minimum_minimum_nights  maximum_minimum_nights  minimum_maximum_nights  \\\n",
       "0                       3                       3                      15   \n",
       "1                       1                       1                      90   \n",
       "2                       2                      10                      23   \n",
       "3                       3                       3                     365   \n",
       "4                     180                     180                     365   \n",
       "\n",
       "   maximum_maximum_nights  minimum_nights_avg_ntm  maximum_nights_avg_ntm  \\\n",
       "0                      15                     3.0                    15.0   \n",
       "1                      90                     1.0                    90.0   \n",
       "2                      23                     9.8                    23.0   \n",
       "3                     365                     3.0                   365.0   \n",
       "4                     365                   180.0                   365.0   \n",
       "\n",
       "  calendar_updated has_availability  availability_30  availability_60  \\\n",
       "0      3 weeks ago                t                0                0   \n",
       "1       2 days ago                t                0                0   \n",
       "2       2 days ago                t                2                2   \n",
       "3     2 months ago                t                0                0   \n",
       "4      6 weeks ago                t                0                0   \n",
       "\n",
       "   availability_90  availability_365 calendar_last_scraped  number_of_reviews  \\\n",
       "0               27               288            2019-05-07                  8   \n",
       "1                0                 0            2019-05-08                173   \n",
       "2               12               200            2019-05-07                243   \n",
       "3                0               122            2019-05-08                  1   \n",
       "4                0                35            2019-05-07                  0   \n",
       "\n",
       "   number_of_reviews_ltm first_review last_review  review_scores_rating  \\\n",
       "0                      3   2016-12-27  2018-12-19                 100.0   \n",
       "1                     44   2009-06-30  2019-04-19                  91.0   \n",
       "2                     32   2011-04-08  2019-04-20                  94.0   \n",
       "3                      0   2010-06-16  2010-06-16                 100.0   \n",
       "4                      0          NaN         NaN                   NaN   \n",
       "\n",
       "   review_scores_accuracy  review_scores_cleanliness  review_scores_checkin  \\\n",
       "0                    10.0                       10.0                   10.0   \n",
       "1                     9.0                        8.0                    9.0   \n",
       "2                    10.0                        9.0                   10.0   \n",
       "3                     NaN                        NaN                    NaN   \n",
       "4                     NaN                        NaN                    NaN   \n",
       "\n",
       "   review_scores_communication  review_scores_location  review_scores_value  \\\n",
       "0                         10.0                    10.0                 10.0   \n",
       "1                          9.0                    10.0                  9.0   \n",
       "2                         10.0                    10.0                 10.0   \n",
       "3                          NaN                     NaN                  NaN   \n",
       "4                          NaN                     NaN                  NaN   \n",
       "\n",
       "  requires_license        license jurisdiction_names instant_bookable  \\\n",
       "0                t            NaN            {PARIS}                f   \n",
       "1                t  7510402838018            {PARIS}                t   \n",
       "2                t  7510400829623            {PARIS}                f   \n",
       "3                t            NaN            {PARIS}                f   \n",
       "4                t            NaN            {PARIS}                f   \n",
       "\n",
       "  is_business_travel_ready          cancellation_policy  \\\n",
       "0                        f                     flexible   \n",
       "1                        f  strict_14_with_grace_period   \n",
       "2                        f                     moderate   \n",
       "3                        f                     moderate   \n",
       "4                        f  strict_14_with_grace_period   \n",
       "\n",
       "  require_guest_profile_picture require_guest_phone_verification  \\\n",
       "0                             f                                f   \n",
       "1                             f                                f   \n",
       "2                             f                                f   \n",
       "3                             f                                f   \n",
       "4                             t                                t   \n",
       "\n",
       "   calculated_host_listings_count  \\\n",
       "0                               1   \n",
       "1                               1   \n",
       "2                               1   \n",
       "3                               1   \n",
       "4                               1   \n",
       "\n",
       "   calculated_host_listings_count_entire_homes  \\\n",
       "0                                            1   \n",
       "1                                            1   \n",
       "2                                            1   \n",
       "3                                            1   \n",
       "4                                            1   \n",
       "\n",
       "   calculated_host_listings_count_private_rooms  \\\n",
       "0                                             0   \n",
       "1                                             0   \n",
       "2                                             0   \n",
       "3                                             0   \n",
       "4                                             0   \n",
       "\n",
       "   calculated_host_listings_count_shared_rooms  reviews_per_month  \n",
       "0                                            0               0.28  \n",
       "1                                            0               1.44  \n",
       "2                                            0               2.47  \n",
       "3                                            0               0.01  \n",
       "4                                            0                NaN  "
      ]
     },
     "execution_count": 36,
     "metadata": {},
     "output_type": "execute_result"
    }
   ],
   "source": [
    "airbnb.head()"
   ]
  },
  {
   "cell_type": "markdown",
   "metadata": {},
   "source": [
    "Importer un fichier `.csv` qui a comme séparateur `;`, le nom du fichier est `base-dpt.csv`"
   ]
  },
  {
   "cell_type": "code",
   "execution_count": 37,
   "metadata": {},
   "outputs": [],
   "source": [
    "base_dpt = pd.read_csv(\"./data/base-dpt.csv\", sep=\";\")"
   ]
  },
  {
   "cell_type": "code",
   "execution_count": 38,
   "metadata": {},
   "outputs": [
    {
     "name": "stdout",
     "output_type": "stream",
     "text": [
      "Bien importé !\n"
     ]
    }
   ],
   "source": [
    "# pour vérifier que vous avez bien répondu à l'exercice, soumettre cette cellule\n",
    "# on utilise maj + Entrée\n",
    "assert type(base_dpt) == pd.DataFrame\n",
    "print(\"Bien importé !\")"
   ]
  },
  {
   "cell_type": "code",
   "execution_count": 39,
   "metadata": {},
   "outputs": [
    {
     "data": {
      "text/html": [
       "<div>\n",
       "<style scoped>\n",
       "    .dataframe tbody tr th:only-of-type {\n",
       "        vertical-align: middle;\n",
       "    }\n",
       "\n",
       "    .dataframe tbody tr th {\n",
       "        vertical-align: top;\n",
       "    }\n",
       "\n",
       "    .dataframe thead th {\n",
       "        text-align: right;\n",
       "    }\n",
       "</style>\n",
       "<table border=\"1\" class=\"dataframe\">\n",
       "  <thead>\n",
       "    <tr style=\"text-align: right;\">\n",
       "      <th></th>\n",
       "      <th>CODGEO</th>\n",
       "      <th>LIBGEO</th>\n",
       "      <th>REG</th>\n",
       "      <th>DEP</th>\n",
       "      <th>P14_POP</th>\n",
       "      <th>P09_POP</th>\n",
       "      <th>SUPERF</th>\n",
       "      <th>NAIS0914</th>\n",
       "      <th>DECE0914</th>\n",
       "      <th>P14_MEN</th>\n",
       "      <th>NAISD16</th>\n",
       "      <th>DECESD16</th>\n",
       "      <th>P14_LOG</th>\n",
       "      <th>P14_RP</th>\n",
       "      <th>P14_RSECOCC</th>\n",
       "      <th>P14_LOGVAC</th>\n",
       "      <th>P14_RP_PROP</th>\n",
       "      <th>NBMENFISC14</th>\n",
       "      <th>PIMP14</th>\n",
       "      <th>MED14</th>\n",
       "      <th>TP6014</th>\n",
       "      <th>P14_EMPLT</th>\n",
       "      <th>P14_EMPLT_SAL</th>\n",
       "      <th>P09_EMPLT</th>\n",
       "      <th>P14_POP1564</th>\n",
       "      <th>P14_CHOM1564</th>\n",
       "      <th>P14_ACT1564</th>\n",
       "      <th>ETTOT15</th>\n",
       "      <th>ETAZ15</th>\n",
       "      <th>ETBE15</th>\n",
       "      <th>ETFZ15</th>\n",
       "      <th>ETGU15</th>\n",
       "      <th>ETGZ15</th>\n",
       "      <th>ETOQ15</th>\n",
       "      <th>ETTEF115</th>\n",
       "      <th>ETTEFP1015</th>\n",
       "      <th>Geo Shape</th>\n",
       "      <th>geo_point_2d</th>\n",
       "    </tr>\n",
       "  </thead>\n",
       "  <tbody>\n",
       "    <tr>\n",
       "      <th>0</th>\n",
       "      <td>95555</td>\n",
       "      <td>Saint-Gratien</td>\n",
       "      <td>11</td>\n",
       "      <td>95</td>\n",
       "      <td>20996.0</td>\n",
       "      <td>20258.0</td>\n",
       "      <td>2.42</td>\n",
       "      <td>1564.0</td>\n",
       "      <td>749.0</td>\n",
       "      <td>8909.817815</td>\n",
       "      <td>257.0</td>\n",
       "      <td>156.0</td>\n",
       "      <td>9337.392497</td>\n",
       "      <td>8909.817815</td>\n",
       "      <td>56.919890</td>\n",
       "      <td>370.654792</td>\n",
       "      <td>4479.402681</td>\n",
       "      <td>8217.0</td>\n",
       "      <td>67.761158</td>\n",
       "      <td>21552.857143</td>\n",
       "      <td>14.972881</td>\n",
       "      <td>3831.135105</td>\n",
       "      <td>3224.519672</td>\n",
       "      <td>3516.342843</td>\n",
       "      <td>13417.955458</td>\n",
       "      <td>1387.832340</td>\n",
       "      <td>10146.844242</td>\n",
       "      <td>1475.0</td>\n",
       "      <td>3.0</td>\n",
       "      <td>38.0</td>\n",
       "      <td>142.0</td>\n",
       "      <td>1078.0</td>\n",
       "      <td>225.0</td>\n",
       "      <td>214.0</td>\n",
       "      <td>335.0</td>\n",
       "      <td>67.0</td>\n",
       "      <td>{\"type\": \"Polygon\", \"coordinates\": [[[2.274621...</td>\n",
       "      <td>48.9695044801, 2.28470111182</td>\n",
       "    </tr>\n",
       "    <tr>\n",
       "      <th>1</th>\n",
       "      <td>95488</td>\n",
       "      <td>Pierrelaye</td>\n",
       "      <td>11</td>\n",
       "      <td>95</td>\n",
       "      <td>8155.0</td>\n",
       "      <td>7920.0</td>\n",
       "      <td>9.21</td>\n",
       "      <td>639.0</td>\n",
       "      <td>243.0</td>\n",
       "      <td>2891.000000</td>\n",
       "      <td>152.0</td>\n",
       "      <td>46.0</td>\n",
       "      <td>3086.000000</td>\n",
       "      <td>2891.000000</td>\n",
       "      <td>11.000000</td>\n",
       "      <td>184.000000</td>\n",
       "      <td>1591.000000</td>\n",
       "      <td>2903.0</td>\n",
       "      <td>66.586290</td>\n",
       "      <td>21415.277778</td>\n",
       "      <td>14.387392</td>\n",
       "      <td>3039.646367</td>\n",
       "      <td>2661.250427</td>\n",
       "      <td>2898.932365</td>\n",
       "      <td>5476.000000</td>\n",
       "      <td>509.000000</td>\n",
       "      <td>4044.000000</td>\n",
       "      <td>878.0</td>\n",
       "      <td>8.0</td>\n",
       "      <td>47.0</td>\n",
       "      <td>135.0</td>\n",
       "      <td>623.0</td>\n",
       "      <td>241.0</td>\n",
       "      <td>65.0</td>\n",
       "      <td>228.0</td>\n",
       "      <td>72.0</td>\n",
       "      <td>{\"type\": \"Polygon\", \"coordinates\": [[[2.193617...</td>\n",
       "      <td>49.0190794714, 2.1606870483</td>\n",
       "    </tr>\n",
       "    <tr>\n",
       "      <th>2</th>\n",
       "      <td>95543</td>\n",
       "      <td>Saint-Cyr-en-Arthies</td>\n",
       "      <td>11</td>\n",
       "      <td>95</td>\n",
       "      <td>242.0</td>\n",
       "      <td>229.0</td>\n",
       "      <td>3.89</td>\n",
       "      <td>9.0</td>\n",
       "      <td>4.0</td>\n",
       "      <td>93.154812</td>\n",
       "      <td>1.0</td>\n",
       "      <td>1.0</td>\n",
       "      <td>106.271929</td>\n",
       "      <td>93.154812</td>\n",
       "      <td>7.063063</td>\n",
       "      <td>6.054054</td>\n",
       "      <td>86.066946</td>\n",
       "      <td>96.0</td>\n",
       "      <td>NaN</td>\n",
       "      <td>25937.142857</td>\n",
       "      <td>NaN</td>\n",
       "      <td>25.112024</td>\n",
       "      <td>18.060819</td>\n",
       "      <td>16.867783</td>\n",
       "      <td>141.757322</td>\n",
       "      <td>9.112971</td>\n",
       "      <td>109.355649</td>\n",
       "      <td>13.0</td>\n",
       "      <td>2.0</td>\n",
       "      <td>0.0</td>\n",
       "      <td>2.0</td>\n",
       "      <td>5.0</td>\n",
       "      <td>2.0</td>\n",
       "      <td>4.0</td>\n",
       "      <td>4.0</td>\n",
       "      <td>0.0</td>\n",
       "      <td>{\"type\": \"Polygon\", \"coordinates\": [[[1.732068...</td>\n",
       "      <td>49.058878265, 1.74176317637</td>\n",
       "    </tr>\n",
       "    <tr>\n",
       "      <th>3</th>\n",
       "      <td>95523</td>\n",
       "      <td>La Roche-Guyon</td>\n",
       "      <td>11</td>\n",
       "      <td>95</td>\n",
       "      <td>446.0</td>\n",
       "      <td>447.0</td>\n",
       "      <td>4.61</td>\n",
       "      <td>18.0</td>\n",
       "      <td>21.0</td>\n",
       "      <td>186.507593</td>\n",
       "      <td>0.0</td>\n",
       "      <td>6.0</td>\n",
       "      <td>267.570530</td>\n",
       "      <td>186.507593</td>\n",
       "      <td>49.216783</td>\n",
       "      <td>31.846154</td>\n",
       "      <td>113.442763</td>\n",
       "      <td>185.0</td>\n",
       "      <td>NaN</td>\n",
       "      <td>21100.000000</td>\n",
       "      <td>NaN</td>\n",
       "      <td>372.590626</td>\n",
       "      <td>338.427249</td>\n",
       "      <td>505.753210</td>\n",
       "      <td>280.164177</td>\n",
       "      <td>24.995863</td>\n",
       "      <td>204.811694</td>\n",
       "      <td>74.0</td>\n",
       "      <td>0.0</td>\n",
       "      <td>6.0</td>\n",
       "      <td>6.0</td>\n",
       "      <td>48.0</td>\n",
       "      <td>17.0</td>\n",
       "      <td>14.0</td>\n",
       "      <td>13.0</td>\n",
       "      <td>4.0</td>\n",
       "      <td>{\"type\": \"Polygon\", \"coordinates\": [[[1.623323...</td>\n",
       "      <td>49.0883415268, 1.63442788467</td>\n",
       "    </tr>\n",
       "    <tr>\n",
       "      <th>4</th>\n",
       "      <td>95678</td>\n",
       "      <td>Villiers-Adam</td>\n",
       "      <td>11</td>\n",
       "      <td>95</td>\n",
       "      <td>838.0</td>\n",
       "      <td>828.0</td>\n",
       "      <td>9.82</td>\n",
       "      <td>45.0</td>\n",
       "      <td>29.0</td>\n",
       "      <td>340.831981</td>\n",
       "      <td>5.0</td>\n",
       "      <td>9.0</td>\n",
       "      <td>364.250976</td>\n",
       "      <td>340.831981</td>\n",
       "      <td>9.860629</td>\n",
       "      <td>13.558365</td>\n",
       "      <td>299.077636</td>\n",
       "      <td>327.0</td>\n",
       "      <td>NaN</td>\n",
       "      <td>28242.000000</td>\n",
       "      <td>NaN</td>\n",
       "      <td>102.752654</td>\n",
       "      <td>83.329975</td>\n",
       "      <td>78.177577</td>\n",
       "      <td>516.588644</td>\n",
       "      <td>33.986095</td>\n",
       "      <td>400.064890</td>\n",
       "      <td>75.0</td>\n",
       "      <td>6.0</td>\n",
       "      <td>3.0</td>\n",
       "      <td>8.0</td>\n",
       "      <td>53.0</td>\n",
       "      <td>12.0</td>\n",
       "      <td>5.0</td>\n",
       "      <td>14.0</td>\n",
       "      <td>2.0</td>\n",
       "      <td>{\"type\": \"Polygon\", \"coordinates\": [[[2.236020...</td>\n",
       "      <td>49.0697597649, 2.23847351378</td>\n",
       "    </tr>\n",
       "  </tbody>\n",
       "</table>\n",
       "</div>"
      ],
      "text/plain": [
       "   CODGEO                LIBGEO  REG  DEP  P14_POP  P09_POP  SUPERF  NAIS0914  \\\n",
       "0   95555         Saint-Gratien   11   95  20996.0  20258.0    2.42    1564.0   \n",
       "1   95488            Pierrelaye   11   95   8155.0   7920.0    9.21     639.0   \n",
       "2   95543  Saint-Cyr-en-Arthies   11   95    242.0    229.0    3.89       9.0   \n",
       "3   95523        La Roche-Guyon   11   95    446.0    447.0    4.61      18.0   \n",
       "4   95678         Villiers-Adam   11   95    838.0    828.0    9.82      45.0   \n",
       "\n",
       "   DECE0914      P14_MEN  NAISD16  DECESD16      P14_LOG       P14_RP  \\\n",
       "0     749.0  8909.817815    257.0     156.0  9337.392497  8909.817815   \n",
       "1     243.0  2891.000000    152.0      46.0  3086.000000  2891.000000   \n",
       "2       4.0    93.154812      1.0       1.0   106.271929    93.154812   \n",
       "3      21.0   186.507593      0.0       6.0   267.570530   186.507593   \n",
       "4      29.0   340.831981      5.0       9.0   364.250976   340.831981   \n",
       "\n",
       "   P14_RSECOCC  P14_LOGVAC  P14_RP_PROP  NBMENFISC14     PIMP14         MED14  \\\n",
       "0    56.919890  370.654792  4479.402681       8217.0  67.761158  21552.857143   \n",
       "1    11.000000  184.000000  1591.000000       2903.0  66.586290  21415.277778   \n",
       "2     7.063063    6.054054    86.066946         96.0        NaN  25937.142857   \n",
       "3    49.216783   31.846154   113.442763        185.0        NaN  21100.000000   \n",
       "4     9.860629   13.558365   299.077636        327.0        NaN  28242.000000   \n",
       "\n",
       "      TP6014    P14_EMPLT  P14_EMPLT_SAL    P09_EMPLT   P14_POP1564  \\\n",
       "0  14.972881  3831.135105    3224.519672  3516.342843  13417.955458   \n",
       "1  14.387392  3039.646367    2661.250427  2898.932365   5476.000000   \n",
       "2        NaN    25.112024      18.060819    16.867783    141.757322   \n",
       "3        NaN   372.590626     338.427249   505.753210    280.164177   \n",
       "4        NaN   102.752654      83.329975    78.177577    516.588644   \n",
       "\n",
       "   P14_CHOM1564   P14_ACT1564  ETTOT15  ETAZ15  ETBE15  ETFZ15  ETGU15  \\\n",
       "0   1387.832340  10146.844242   1475.0     3.0    38.0   142.0  1078.0   \n",
       "1    509.000000   4044.000000    878.0     8.0    47.0   135.0   623.0   \n",
       "2      9.112971    109.355649     13.0     2.0     0.0     2.0     5.0   \n",
       "3     24.995863    204.811694     74.0     0.0     6.0     6.0    48.0   \n",
       "4     33.986095    400.064890     75.0     6.0     3.0     8.0    53.0   \n",
       "\n",
       "   ETGZ15  ETOQ15  ETTEF115  ETTEFP1015  \\\n",
       "0   225.0   214.0     335.0        67.0   \n",
       "1   241.0    65.0     228.0        72.0   \n",
       "2     2.0     4.0       4.0         0.0   \n",
       "3    17.0    14.0      13.0         4.0   \n",
       "4    12.0     5.0      14.0         2.0   \n",
       "\n",
       "                                           Geo Shape  \\\n",
       "0  {\"type\": \"Polygon\", \"coordinates\": [[[2.274621...   \n",
       "1  {\"type\": \"Polygon\", \"coordinates\": [[[2.193617...   \n",
       "2  {\"type\": \"Polygon\", \"coordinates\": [[[1.732068...   \n",
       "3  {\"type\": \"Polygon\", \"coordinates\": [[[1.623323...   \n",
       "4  {\"type\": \"Polygon\", \"coordinates\": [[[2.236020...   \n",
       "\n",
       "                   geo_point_2d  \n",
       "0  48.9695044801, 2.28470111182  \n",
       "1   49.0190794714, 2.1606870483  \n",
       "2   49.058878265, 1.74176317637  \n",
       "3  49.0883415268, 1.63442788467  \n",
       "4  49.0697597649, 2.23847351378  "
      ]
     },
     "execution_count": 39,
     "metadata": {},
     "output_type": "execute_result"
    }
   ],
   "source": [
    "base_dpt.head()"
   ]
  },
  {
   "cell_type": "code",
   "execution_count": 40,
   "metadata": {},
   "outputs": [
    {
     "name": "stdout",
     "output_type": "stream",
     "text": [
      "<class 'pandas.core.frame.DataFrame'>\n",
      "RangeIndex: 1300 entries, 0 to 1299\n",
      "Data columns (total 38 columns):\n",
      " #   Column         Non-Null Count  Dtype  \n",
      "---  ------         --------------  -----  \n",
      " 0   CODGEO         1300 non-null   int64  \n",
      " 1   LIBGEO         1300 non-null   object \n",
      " 2   REG            1300 non-null   int64  \n",
      " 3   DEP            1300 non-null   int64  \n",
      " 4   P14_POP        1297 non-null   float64\n",
      " 5   P09_POP        1297 non-null   float64\n",
      " 6   SUPERF         1297 non-null   float64\n",
      " 7   NAIS0914       1297 non-null   float64\n",
      " 8   DECE0914       1297 non-null   float64\n",
      " 9   P14_MEN        1297 non-null   float64\n",
      " 10  NAISD16        1296 non-null   float64\n",
      " 11  DECESD16       1296 non-null   float64\n",
      " 12  P14_LOG        1297 non-null   float64\n",
      " 13  P14_RP         1297 non-null   float64\n",
      " 14  P14_RSECOCC    1297 non-null   float64\n",
      " 15  P14_LOGVAC     1297 non-null   float64\n",
      " 16  P14_RP_PROP    1297 non-null   float64\n",
      " 17  NBMENFISC14    1280 non-null   float64\n",
      " 18  PIMP14         561 non-null    float64\n",
      " 19  MED14          1280 non-null   float64\n",
      " 20  TP6014         462 non-null    float64\n",
      " 21  P14_EMPLT      1297 non-null   float64\n",
      " 22  P14_EMPLT_SAL  1297 non-null   float64\n",
      " 23  P09_EMPLT      1300 non-null   float64\n",
      " 24  P14_POP1564    1297 non-null   float64\n",
      " 25  P14_CHOM1564   1297 non-null   float64\n",
      " 26  P14_ACT1564    1297 non-null   float64\n",
      " 27  ETTOT15        1299 non-null   float64\n",
      " 28  ETAZ15         1299 non-null   float64\n",
      " 29  ETBE15         1299 non-null   float64\n",
      " 30  ETFZ15         1299 non-null   float64\n",
      " 31  ETGU15         1299 non-null   float64\n",
      " 32  ETGZ15         1299 non-null   float64\n",
      " 33  ETOQ15         1299 non-null   float64\n",
      " 34  ETTEF115       1299 non-null   float64\n",
      " 35  ETTEFP1015     1299 non-null   float64\n",
      " 36  Geo Shape      1297 non-null   object \n",
      " 37  geo_point_2d   1297 non-null   object \n",
      "dtypes: float64(32), int64(3), object(3)\n",
      "memory usage: 386.1+ KB\n"
     ]
    }
   ],
   "source": [
    "base_dpt.info()"
   ]
  },
  {
   "cell_type": "code",
   "execution_count": 41,
   "metadata": {},
   "outputs": [],
   "source": [
    "frame1.to_csv(\"frame1.csv\")"
   ]
  },
  {
   "cell_type": "markdown",
   "metadata": {
    "slideshow": {
     "slide_type": "subslide"
    }
   },
   "source": [
    "# D'autres types de données\n",
    "\n",
    "## JSON\n",
    "Les objets JSON ressemblent à des dictionnaires.\n",
    "\n",
    "On utilise le module `json` puis la fonction `json.loads()` pour transformer une entrée JSON en objet json\n",
    "\n",
    "## HTML\n",
    "On utilise `pd.read_html(url)`. Cet fonction est basée sur les packages `beautifulsoup` et `html5lib`\n",
    "\n",
    "Cette fonction renvoie une liste de DataFrame qui représentent tous les DataFrame de la page. On ira ensuite chercher l'élément qui nous intéresse avec `frame_list[0]`"
   ]
  },
  {
   "cell_type": "markdown",
   "metadata": {
    "slideshow": {
     "slide_type": "subslide"
    }
   },
   "source": [
    "**Exercice :**\n",
    "    \n",
    "Importez un tableau en html depuis la page <https://www.fdic.gov/resources/resolutions/bank-failures/failed-bank-list/> "
   ]
  },
  {
   "cell_type": "code",
   "execution_count": 42,
   "metadata": {},
   "outputs": [
    {
     "name": "stdout",
     "output_type": "stream",
     "text": [
      "<class 'list'> 1\n"
     ]
    }
   ],
   "source": [
    "web_bank = pd.read_html(\"https://www.fdic.gov/resources/resolutions/bank-failures/failed-bank-list/\")\n",
    "print(type(web_bank), len(web_bank))"
   ]
  },
  {
   "cell_type": "code",
   "execution_count": 43,
   "metadata": {},
   "outputs": [],
   "source": [
    "frame_bank = web_bank[0]"
   ]
  },
  {
   "cell_type": "code",
   "execution_count": 44,
   "metadata": {},
   "outputs": [
    {
     "name": "stdout",
     "output_type": "stream",
     "text": [
      "Bien importé !\n"
     ]
    }
   ],
   "source": [
    "# pour vérifier que vous avez bien répondu à l'exercice, soumettre cette cellule\n",
    "# on utilise maj + Entrée\n",
    "assert type(frame_bank) == pd.DataFrame\n",
    "print(\"Bien importé !\")"
   ]
  },
  {
   "cell_type": "code",
   "execution_count": 45,
   "metadata": {},
   "outputs": [
    {
     "data": {
      "text/html": [
       "<div>\n",
       "<style scoped>\n",
       "    .dataframe tbody tr th:only-of-type {\n",
       "        vertical-align: middle;\n",
       "    }\n",
       "\n",
       "    .dataframe tbody tr th {\n",
       "        vertical-align: top;\n",
       "    }\n",
       "\n",
       "    .dataframe thead th {\n",
       "        text-align: right;\n",
       "    }\n",
       "</style>\n",
       "<table border=\"1\" class=\"dataframe\">\n",
       "  <thead>\n",
       "    <tr style=\"text-align: right;\">\n",
       "      <th></th>\n",
       "      <th>Bank Name</th>\n",
       "      <th>City</th>\n",
       "      <th>State</th>\n",
       "      <th>Cert</th>\n",
       "      <th>Acquiring Institution</th>\n",
       "      <th>Closing Date</th>\n",
       "    </tr>\n",
       "  </thead>\n",
       "  <tbody>\n",
       "    <tr>\n",
       "      <th>0</th>\n",
       "      <td>Almena State Bank</td>\n",
       "      <td>Almena</td>\n",
       "      <td>KS</td>\n",
       "      <td>15426</td>\n",
       "      <td>Equity Bank</td>\n",
       "      <td>October 23, 2020</td>\n",
       "    </tr>\n",
       "    <tr>\n",
       "      <th>1</th>\n",
       "      <td>First City Bank of Florida</td>\n",
       "      <td>Fort Walton Beach</td>\n",
       "      <td>FL</td>\n",
       "      <td>16748</td>\n",
       "      <td>United Fidelity Bank, fsb</td>\n",
       "      <td>October 16, 2020</td>\n",
       "    </tr>\n",
       "    <tr>\n",
       "      <th>2</th>\n",
       "      <td>The First State Bank</td>\n",
       "      <td>Barboursville</td>\n",
       "      <td>WV</td>\n",
       "      <td>14361</td>\n",
       "      <td>MVB Bank, Inc.</td>\n",
       "      <td>April 3, 2020</td>\n",
       "    </tr>\n",
       "    <tr>\n",
       "      <th>3</th>\n",
       "      <td>Ericson State Bank</td>\n",
       "      <td>Ericson</td>\n",
       "      <td>NE</td>\n",
       "      <td>18265</td>\n",
       "      <td>Farmers and Merchants Bank</td>\n",
       "      <td>February 14, 2020</td>\n",
       "    </tr>\n",
       "    <tr>\n",
       "      <th>4</th>\n",
       "      <td>City National Bank of New Jersey</td>\n",
       "      <td>Newark</td>\n",
       "      <td>NJ</td>\n",
       "      <td>21111</td>\n",
       "      <td>Industrial Bank</td>\n",
       "      <td>November 1, 2019</td>\n",
       "    </tr>\n",
       "  </tbody>\n",
       "</table>\n",
       "</div>"
      ],
      "text/plain": [
       "                          Bank Name               City State   Cert  \\\n",
       "0                 Almena State Bank             Almena    KS  15426   \n",
       "1        First City Bank of Florida  Fort Walton Beach    FL  16748   \n",
       "2              The First State Bank      Barboursville    WV  14361   \n",
       "3                Ericson State Bank            Ericson    NE  18265   \n",
       "4  City National Bank of New Jersey             Newark    NJ  21111   \n",
       "\n",
       "        Acquiring Institution       Closing Date  \n",
       "0                 Equity Bank   October 23, 2020  \n",
       "1   United Fidelity Bank, fsb   October 16, 2020  \n",
       "2              MVB Bank, Inc.      April 3, 2020  \n",
       "3  Farmers and Merchants Bank  February 14, 2020  \n",
       "4             Industrial Bank   November 1, 2019  "
      ]
     },
     "execution_count": 45,
     "metadata": {},
     "output_type": "execute_result"
    }
   ],
   "source": [
    "frame_bank.head()"
   ]
  },
  {
   "cell_type": "code",
   "execution_count": 46,
   "metadata": {},
   "outputs": [],
   "source": [
    "# un autre exemple\n",
    "web_us = pd.read_html(\"https://fr.wikipedia.org/wiki/Liste_des_r%C3%A9sultats_des_%C3%A9lections_pr%C3%A9sidentielles_am%C3%A9ricaines\")"
   ]
  },
  {
   "cell_type": "code",
   "execution_count": 47,
   "metadata": {},
   "outputs": [
    {
     "data": {
      "text/plain": [
       "23"
      ]
     },
     "execution_count": 47,
     "metadata": {},
     "output_type": "execute_result"
    }
   ],
   "source": [
    "len(web_us)"
   ]
  },
  {
   "cell_type": "code",
   "execution_count": 48,
   "metadata": {},
   "outputs": [
    {
     "data": {
      "text/html": [
       "<div>\n",
       "<style scoped>\n",
       "    .dataframe tbody tr th:only-of-type {\n",
       "        vertical-align: middle;\n",
       "    }\n",
       "\n",
       "    .dataframe tbody tr th {\n",
       "        vertical-align: top;\n",
       "    }\n",
       "\n",
       "    .dataframe thead th {\n",
       "        text-align: right;\n",
       "    }\n",
       "</style>\n",
       "<table border=\"1\" class=\"dataframe\">\n",
       "  <thead>\n",
       "    <tr style=\"text-align: right;\">\n",
       "      <th></th>\n",
       "      <th>Unnamed: 0</th>\n",
       "      <th>Nombre de présidents élus</th>\n",
       "      <th>1er Président</th>\n",
       "      <th>Dates</th>\n",
       "      <th>Dernier Président</th>\n",
       "      <th>Dates.1</th>\n",
       "    </tr>\n",
       "  </thead>\n",
       "  <tbody>\n",
       "    <tr>\n",
       "      <th>0</th>\n",
       "      <td>Parti républicain</td>\n",
       "      <td>24</td>\n",
       "      <td>Abraham Lincoln</td>\n",
       "      <td>1860-1868</td>\n",
       "      <td>Donald Trump</td>\n",
       "      <td>2016-2020</td>\n",
       "    </tr>\n",
       "    <tr>\n",
       "      <th>1</th>\n",
       "      <td>Parti démocrate</td>\n",
       "      <td>23</td>\n",
       "      <td>Andrew Jackson</td>\n",
       "      <td>1828-1836</td>\n",
       "      <td>Joe Biden</td>\n",
       "      <td>2020-en cours</td>\n",
       "    </tr>\n",
       "    <tr>\n",
       "      <th>2</th>\n",
       "      <td>Parti républicain-démocrate</td>\n",
       "      <td>7</td>\n",
       "      <td>Thomas Jefferson</td>\n",
       "      <td>1800-1808</td>\n",
       "      <td>John Quincy Adams</td>\n",
       "      <td>1824-1828</td>\n",
       "    </tr>\n",
       "    <tr>\n",
       "      <th>3</th>\n",
       "      <td>Parti Whig</td>\n",
       "      <td>2</td>\n",
       "      <td>William Henry Harrison</td>\n",
       "      <td>1840-1844</td>\n",
       "      <td>Zachary Taylor</td>\n",
       "      <td>1848-1852</td>\n",
       "    </tr>\n",
       "    <tr>\n",
       "      <th>4</th>\n",
       "      <td>Parti fédéraliste</td>\n",
       "      <td>1</td>\n",
       "      <td>John Adams</td>\n",
       "      <td>1796-1800</td>\n",
       "      <td>John Adams</td>\n",
       "      <td>1796-1800</td>\n",
       "    </tr>\n",
       "  </tbody>\n",
       "</table>\n",
       "</div>"
      ],
      "text/plain": [
       "                    Unnamed: 0  Nombre de présidents élus  \\\n",
       "0            Parti républicain                         24   \n",
       "1              Parti démocrate                         23   \n",
       "2  Parti républicain-démocrate                          7   \n",
       "3                   Parti Whig                          2   \n",
       "4            Parti fédéraliste                          1   \n",
       "\n",
       "            1er Président      Dates  Dernier Président        Dates.1  \n",
       "0         Abraham Lincoln  1860-1868       Donald Trump      2016-2020  \n",
       "1          Andrew Jackson  1828-1836          Joe Biden  2020-en cours  \n",
       "2        Thomas Jefferson  1800-1808  John Quincy Adams      1824-1828  \n",
       "3  William Henry Harrison  1840-1844     Zachary Taylor      1848-1852  \n",
       "4              John Adams  1796-1800         John Adams      1796-1800  "
      ]
     },
     "execution_count": 48,
     "metadata": {},
     "output_type": "execute_result"
    }
   ],
   "source": [
    "web_us[1]"
   ]
  },
  {
   "cell_type": "markdown",
   "metadata": {
    "slideshow": {
     "slide_type": "subslide"
    }
   },
   "source": [
    "# Importer depuis Excel\n",
    "\n",
    "On a deux approches pour Excel :\n",
    "- On peut utiliser `pd.read_excel()`\n",
    "- On peut utiliser la classe `pd.ExcelFile()`\n",
    "\n",
    "Dans ce cas, on utilise :\n",
    "```python\n",
    "xlsfile=pd.ExcelFile('fichier.xlsx')\n",
    "xlsfile.parse('Sheet1')\n",
    "```"
   ]
  },
  {
   "cell_type": "markdown",
   "metadata": {
    "slideshow": {
     "slide_type": "subslide"
    }
   },
   "source": [
    "**Exercice :** \n",
    "    \n",
    "Importez un fichier Excel avec les deux approches, on utilisera : `credit2.xlsx` et `ville.xls`"
   ]
  },
  {
   "cell_type": "markdown",
   "metadata": {},
   "source": [
    "1- avec `pd.read_excel()` pour le fichier `credit2.xlsx`"
   ]
  },
  {
   "cell_type": "code",
   "execution_count": 49,
   "metadata": {},
   "outputs": [
    {
     "name": "stderr",
     "output_type": "stream",
     "text": [
      "/opt/tljh/user/lib/python3.7/site-packages/ipykernel_launcher.py:1: FutureWarning: Your version of xlrd is 1.2.0. In xlrd >= 2.0, only the xls format is supported. As a result, the openpyxl engine will be used if it is installed and the engine argument is not specified. Install openpyxl instead.\n",
      "  \"\"\"Entry point for launching an IPython kernel.\n"
     ]
    }
   ],
   "source": [
    "credit2 = pd.read_excel(\"./data/credit2.xlsx\",sheet_name='Sheet1')"
   ]
  },
  {
   "cell_type": "code",
   "execution_count": 50,
   "metadata": {},
   "outputs": [
    {
     "data": {
      "text/plain": [
       "pandas.core.frame.DataFrame"
      ]
     },
     "execution_count": 50,
     "metadata": {},
     "output_type": "execute_result"
    }
   ],
   "source": [
    "type(credit2)"
   ]
  },
  {
   "cell_type": "code",
   "execution_count": 51,
   "metadata": {},
   "outputs": [
    {
     "name": "stdout",
     "output_type": "stream",
     "text": [
      "Bravo !\n"
     ]
    }
   ],
   "source": [
    "# pour vérifier que vous avez bien répondu à l'exercice, soumettre cette cellule\n",
    "# on utilise maj + Entrée\n",
    "assert credit2[\"Age\"].max() == 83\n",
    "print(\"Bravo !\")"
   ]
  },
  {
   "cell_type": "markdown",
   "metadata": {},
   "source": [
    "2- avec `pd.ExcelFile()` pour le fichier `ville.xls`"
   ]
  },
  {
   "cell_type": "code",
   "execution_count": 52,
   "metadata": {},
   "outputs": [],
   "source": [
    "ville_excel = pd.ExcelFile(\"./data/ville.xls\")\n"
   ]
  },
  {
   "cell_type": "code",
   "execution_count": 53,
   "metadata": {},
   "outputs": [
    {
     "data": {
      "text/plain": [
       "['ville', 'ville-ain']"
      ]
     },
     "execution_count": 53,
     "metadata": {},
     "output_type": "execute_result"
    }
   ],
   "source": [
    "ville_excel.sheet_names"
   ]
  },
  {
   "cell_type": "code",
   "execution_count": 54,
   "metadata": {},
   "outputs": [],
   "source": [
    "frame_ville = ville_excel.parse(\"ville\")"
   ]
  },
  {
   "cell_type": "code",
   "execution_count": 55,
   "metadata": {},
   "outputs": [
    {
     "name": "stdout",
     "output_type": "stream",
     "text": [
      "Bravo !\n"
     ]
    }
   ],
   "source": [
    "# pour vérifier que vous avez bien répondu à l'exercice, soumettre cette cellule\n",
    "# on utilise maj + Entrée\n",
    "assert type(frame_ville) == pd.DataFrame\n",
    "print(\"Bravo !\")"
   ]
  },
  {
   "cell_type": "markdown",
   "metadata": {
    "slideshow": {
     "slide_type": "subslide"
    }
   },
   "source": [
    "# Importer des données SQL\n",
    "\n",
    "Pandas possède une fonction `read_sql()` qui permet d’importer directement des bases de données ou des queries dans des DataFrame\n",
    "\n",
    "Il faut tout de même un connecteur pour accéder aux bases de données\n",
    "\n",
    "Pour mettre en place ce connecteur, on utlise le package SQLAlchemy.\n",
    "\n",
    "Suivant le type de base de données, on utilisera différents codes mais la structure du code est toujours la même"
   ]
  },
  {
   "cell_type": "code",
   "execution_count": 56,
   "metadata": {
    "slideshow": {
     "slide_type": "subslide"
    }
   },
   "outputs": [],
   "source": [
    "# on importe l'outil de connexion\n",
    "from sqlalchemy import create_engine"
   ]
  },
  {
   "cell_type": "markdown",
   "metadata": {
    "slideshow": {
     "slide_type": "fragment"
    }
   },
   "source": [
    "On crée une connexion\n",
    "```python\n",
    "connexion=create_engine(\"sqlite:///(...).sqlite\")\n",
    "```"
   ]
  },
  {
   "cell_type": "markdown",
   "metadata": {
    "slideshow": {
     "slide_type": "fragment"
    }
   },
   "source": [
    "On utlise une des fonctions de Pandas pour charger les données\n",
    "```python\n",
    "requete=\"\"\"select ... from ...\"\"\"\n",
    "frame_sql=pd.read_sql_query(requete,connexion)\n",
    "```"
   ]
  },
  {
   "cell_type": "markdown",
   "metadata": {
    "slideshow": {
     "slide_type": "subslide"
    }
   },
   "source": [
    "**Exercices :**\n",
    "    \n",
    "Importez la base de données SQLite salaries et récupérez la table Salaries dans un DataFrame \n",
    "\n",
    "*Indice :* On commence par créer la connexion et ensuite on fait la requête `select * from salaries`, la connexion se fait en utilisant l'adresse : \"sqlite:///./data/salaries.sqlite\""
   ]
  },
  {
   "cell_type": "code",
   "execution_count": 57,
   "metadata": {},
   "outputs": [],
   "source": [
    "connexion = create_engine(\"sqlite:///./data/salaries.sqlite\")"
   ]
  },
  {
   "cell_type": "code",
   "execution_count": 58,
   "metadata": {},
   "outputs": [
    {
     "data": {
      "text/plain": [
       "['Salaries']"
      ]
     },
     "execution_count": 58,
     "metadata": {},
     "output_type": "execute_result"
    }
   ],
   "source": [
    "connexion.table_names()"
   ]
  },
  {
   "cell_type": "code",
   "execution_count": 59,
   "metadata": {},
   "outputs": [],
   "source": [
    "salaries = pd.read_sql_query(\"select * from salaries\",connexion)"
   ]
  },
  {
   "cell_type": "code",
   "execution_count": 60,
   "metadata": {},
   "outputs": [
    {
     "name": "stdout",
     "output_type": "stream",
     "text": [
      "Bravo !\n"
     ]
    }
   ],
   "source": [
    "# pour vérifier que vous avez bien répondu à l'exercice, soumettre cette cellule\n",
    "# on utilise maj + Entrée\n",
    "assert type(salaries) == pd.DataFrame\n",
    "print(\"Bravo !\")"
   ]
  },
  {
   "cell_type": "code",
   "execution_count": 61,
   "metadata": {},
   "outputs": [
    {
     "data": {
      "text/plain": [
       "(148654, 13)"
      ]
     },
     "execution_count": 61,
     "metadata": {},
     "output_type": "execute_result"
    }
   ],
   "source": [
    "salaries.shape"
   ]
  },
  {
   "cell_type": "code",
   "execution_count": 62,
   "metadata": {},
   "outputs": [
    {
     "data": {
      "text/html": [
       "<div>\n",
       "<style scoped>\n",
       "    .dataframe tbody tr th:only-of-type {\n",
       "        vertical-align: middle;\n",
       "    }\n",
       "\n",
       "    .dataframe tbody tr th {\n",
       "        vertical-align: top;\n",
       "    }\n",
       "\n",
       "    .dataframe thead th {\n",
       "        text-align: right;\n",
       "    }\n",
       "</style>\n",
       "<table border=\"1\" class=\"dataframe\">\n",
       "  <thead>\n",
       "    <tr style=\"text-align: right;\">\n",
       "      <th></th>\n",
       "      <th>Id</th>\n",
       "      <th>EmployeeName</th>\n",
       "      <th>JobTitle</th>\n",
       "      <th>BasePay</th>\n",
       "      <th>OvertimePay</th>\n",
       "      <th>OtherPay</th>\n",
       "      <th>Benefits</th>\n",
       "      <th>TotalPay</th>\n",
       "      <th>TotalPayBenefits</th>\n",
       "      <th>Year</th>\n",
       "      <th>Notes</th>\n",
       "      <th>Agency</th>\n",
       "      <th>Status</th>\n",
       "    </tr>\n",
       "  </thead>\n",
       "  <tbody>\n",
       "    <tr>\n",
       "      <th>0</th>\n",
       "      <td>1</td>\n",
       "      <td>NATHANIEL FORD</td>\n",
       "      <td>GENERAL MANAGER-METROPOLITAN TRANSIT AUTHORITY</td>\n",
       "      <td>167411.18</td>\n",
       "      <td>0</td>\n",
       "      <td>400184.25</td>\n",
       "      <td></td>\n",
       "      <td>567595.43</td>\n",
       "      <td>567595.43</td>\n",
       "      <td>2011</td>\n",
       "      <td></td>\n",
       "      <td>San Francisco</td>\n",
       "      <td></td>\n",
       "    </tr>\n",
       "    <tr>\n",
       "      <th>1</th>\n",
       "      <td>2</td>\n",
       "      <td>GARY JIMENEZ</td>\n",
       "      <td>CAPTAIN III (POLICE DEPARTMENT)</td>\n",
       "      <td>155966.02</td>\n",
       "      <td>245131.88</td>\n",
       "      <td>137811.38</td>\n",
       "      <td></td>\n",
       "      <td>538909.28</td>\n",
       "      <td>538909.28</td>\n",
       "      <td>2011</td>\n",
       "      <td></td>\n",
       "      <td>San Francisco</td>\n",
       "      <td></td>\n",
       "    </tr>\n",
       "    <tr>\n",
       "      <th>2</th>\n",
       "      <td>3</td>\n",
       "      <td>ALBERT PARDINI</td>\n",
       "      <td>CAPTAIN III (POLICE DEPARTMENT)</td>\n",
       "      <td>212739.13</td>\n",
       "      <td>106088.18</td>\n",
       "      <td>16452.6</td>\n",
       "      <td></td>\n",
       "      <td>335279.91</td>\n",
       "      <td>335279.91</td>\n",
       "      <td>2011</td>\n",
       "      <td></td>\n",
       "      <td>San Francisco</td>\n",
       "      <td></td>\n",
       "    </tr>\n",
       "    <tr>\n",
       "      <th>3</th>\n",
       "      <td>4</td>\n",
       "      <td>CHRISTOPHER CHONG</td>\n",
       "      <td>WIRE ROPE CABLE MAINTENANCE MECHANIC</td>\n",
       "      <td>77916</td>\n",
       "      <td>56120.71</td>\n",
       "      <td>198306.9</td>\n",
       "      <td></td>\n",
       "      <td>332343.61</td>\n",
       "      <td>332343.61</td>\n",
       "      <td>2011</td>\n",
       "      <td></td>\n",
       "      <td>San Francisco</td>\n",
       "      <td></td>\n",
       "    </tr>\n",
       "    <tr>\n",
       "      <th>4</th>\n",
       "      <td>5</td>\n",
       "      <td>PATRICK GARDNER</td>\n",
       "      <td>DEPUTY CHIEF OF DEPARTMENT,(FIRE DEPARTMENT)</td>\n",
       "      <td>134401.6</td>\n",
       "      <td>9737</td>\n",
       "      <td>182234.59</td>\n",
       "      <td></td>\n",
       "      <td>326373.19</td>\n",
       "      <td>326373.19</td>\n",
       "      <td>2011</td>\n",
       "      <td></td>\n",
       "      <td>San Francisco</td>\n",
       "      <td></td>\n",
       "    </tr>\n",
       "  </tbody>\n",
       "</table>\n",
       "</div>"
      ],
      "text/plain": [
       "   Id       EmployeeName                                        JobTitle  \\\n",
       "0   1     NATHANIEL FORD  GENERAL MANAGER-METROPOLITAN TRANSIT AUTHORITY   \n",
       "1   2       GARY JIMENEZ                 CAPTAIN III (POLICE DEPARTMENT)   \n",
       "2   3     ALBERT PARDINI                 CAPTAIN III (POLICE DEPARTMENT)   \n",
       "3   4  CHRISTOPHER CHONG            WIRE ROPE CABLE MAINTENANCE MECHANIC   \n",
       "4   5    PATRICK GARDNER    DEPUTY CHIEF OF DEPARTMENT,(FIRE DEPARTMENT)   \n",
       "\n",
       "     BasePay OvertimePay   OtherPay Benefits   TotalPay  TotalPayBenefits  \\\n",
       "0  167411.18           0  400184.25           567595.43         567595.43   \n",
       "1  155966.02   245131.88  137811.38           538909.28         538909.28   \n",
       "2  212739.13   106088.18    16452.6           335279.91         335279.91   \n",
       "3      77916    56120.71   198306.9           332343.61         332343.61   \n",
       "4   134401.6        9737  182234.59           326373.19         326373.19   \n",
       "\n",
       "   Year Notes         Agency Status  \n",
       "0  2011        San Francisco         \n",
       "1  2011        San Francisco         \n",
       "2  2011        San Francisco         \n",
       "3  2011        San Francisco         \n",
       "4  2011        San Francisco         "
      ]
     },
     "execution_count": 62,
     "metadata": {},
     "output_type": "execute_result"
    }
   ],
   "source": [
    "salaries.head()"
   ]
  },
  {
   "cell_type": "markdown",
   "metadata": {},
   "source": [
    "## Importer des données SAS\n",
    "\n",
    "Les données SAS ont un format propriétaire qui est bien souvent difficile à gérer dans d'autres outils.\n",
    "\n",
    "Pandas peut gérer des fichiers SAS en utilisant la fonction `pd.read_sas(___)` \n",
    "\n",
    "**Exercice :**\n",
    "Importez le fichier `bce_uai.sas7bdat` en utilisant pandas\n",
    "\n",
    "*Indice :* L'encodage des chaînes de caractères est spécifique en SAS, on utilisera l'option `encoding='latin-1'`"
   ]
  },
  {
   "cell_type": "code",
   "execution_count": 63,
   "metadata": {},
   "outputs": [],
   "source": [
    "bce_uai = pd.read_sas(\"./data/bce_uai.sas7bdat\", encoding = \"latin-1\")"
   ]
  },
  {
   "cell_type": "code",
   "execution_count": 64,
   "metadata": {},
   "outputs": [
    {
     "name": "stdout",
     "output_type": "stream",
     "text": [
      "Bravo !\n"
     ]
    }
   ],
   "source": [
    "# pour vérifier que vous avez bien répondu à l'exercice, soumettre cette cellule\n",
    "# on utilise maj + Entrée\n",
    "assert type(bce_uai) == pd.DataFrame\n",
    "print(\"Bravo !\")"
   ]
  },
  {
   "cell_type": "code",
   "execution_count": 65,
   "metadata": {},
   "outputs": [
    {
     "data": {
      "text/plain": [
       "ECOLE ELEMENTAIRE PUBLIQUE      16211\n",
       "ECOLE MATERNELLE PUBLIQUE       14467\n",
       "ECOLE PRIMAIRE PUBLIQUE         13744\n",
       "COLLEGE                          5383\n",
       "ECOLE PRIMAIRE PRIVEE            3884\n",
       "                                ...  \n",
       "LYCÉE AGRICOLE PRIVÉ D'ALZON        1\n",
       "ÉCOLE ELEMENTAIRE PUBLIQUE          1\n",
       "LYC PROF HORTICOLE                  1\n",
       "LYCEE PROFESSESSIONNEL              1\n",
       "ROSE DES VENTS                      1\n",
       "Name: DENOMINATION_PRINCIPALE_UAI, Length: 645, dtype: int64"
      ]
     },
     "execution_count": 65,
     "metadata": {},
     "output_type": "execute_result"
    }
   ],
   "source": [
    "bce_uai[\"DENOMINATION_PRINCIPALE_UAI\"].value_counts()"
   ]
  },
  {
   "cell_type": "markdown",
   "metadata": {},
   "source": [
    "## Manipulation de données avec Pandas\n",
    "\n",
    "### Ajouter une colonne\n",
    "\n",
    "Ajouter une variable en pandas est simple :\n",
    "    \n",
    "`df[\"new_a\"] = df[\"a\"] * 2`\n",
    "\n",
    "Avec une condition :\n",
    "    \n",
    "`df.loc[df[\"a\"]>0, \"new_a\"] = 10`\n",
    "\n",
    "ou \n",
    "\n",
    "`df[\"b\"] = np.where(df[\"a\"]<0, 1,0)`\n"
   ]
  },
  {
   "cell_type": "markdown",
   "metadata": {},
   "source": [
    "**Exercice :** Construire une nouvelle colonne à partir de la colonne \"zipcode\" avec des 1 pour chaque valeur égales à 75015."
   ]
  },
  {
   "cell_type": "code",
   "execution_count": 66,
   "metadata": {},
   "outputs": [
    {
     "data": {
      "text/plain": [
       "array(['75014', '75004', '75020', '75001', '75011', '75018', '75008',\n",
       "       '75005', '75013', '75006', '75010', '75009', '75007', '75012',\n",
       "       '75002', '75017', '75015', '75019', '75003', '75016', '75116',\n",
       "       '94160', nan, '92300', '95170', '94300', '92240', '92100', '92130',\n",
       "       '75018e', '93170', '75011\\n75011', '93500', '94270', '92200',\n",
       "       '93310', '92170', 'Paris 75004', '78008', '92120', '75', '94220',\n",
       "       '700014', '92110', '93400', '94250', 75005.0, 75017.0, 75011.0,\n",
       "       75019.0, 92100.0, 75003.0, 75009.0, 75013.0, 75010.0, 75018.0,\n",
       "       75020.0, 75001.0, 75007.0, 75006.0, 75015.0, 75012.0, 75004.0,\n",
       "       75008.0, 75016.0, 75116.0, 75014.0, 75002.0, 92130.0, 75.0,\n",
       "       92120.0, 93170.0, 92200.0, 92300.0, 94160.0, 94130.0, 94300.0,\n",
       "       93300.0, 94250.0, 74400.0, 94200.0, 76016.0, 750109.0, 94220.0,\n",
       "       93400.0, 93100.0, 92110.0, 75000.0, 93310.0, 92240.0, 94410.0,\n",
       "       92170.0, '94200', '75003\\n75003', '94410', '93300', '94130', 'N',\n",
       "       93500.0, 93260.0, 92600.0, 750011.0, '92600', '75000', '750011',\n",
       "       'FR', '75o16', '93100', '93260', '74004', '57010', '94800',\n",
       "       '76016', '76017', '33780', '74013', 'FR75016', '7518', '75\\xa0011',\n",
       "       '54013', '92150', 94270.0, 94340.0, 7013.0, 92150.0, 17410.0,\n",
       "       44190.0, 24160.0], dtype=object)"
      ]
     },
     "execution_count": 66,
     "metadata": {},
     "output_type": "execute_result"
    }
   ],
   "source": [
    "airbnb[\"zipcode\"].unique()"
   ]
  },
  {
   "cell_type": "code",
   "execution_count": 67,
   "metadata": {},
   "outputs": [],
   "source": [
    "airbnb[\"zipcode\"]= airbnb[\"zipcode\"].astype(str)\n",
    "airbnb[\"is_75015\"] = np.where(airbnb[\"zipcode\"].str.find(\"75015\") > -1, 1,0)"
   ]
  },
  {
   "cell_type": "code",
   "execution_count": 68,
   "metadata": {},
   "outputs": [
    {
     "name": "stdout",
     "output_type": "stream",
     "text": [
      "Bravo !\n"
     ]
    }
   ],
   "source": [
    "# pour vérifier que vous avez bien répondu à l'exercice, soumettre cette cellule\n",
    "# on utilise maj + Entrée\n",
    "assert  airbnb[\"is_75015\"].max() == 1\n",
    "print(\"Bravo !\")"
   ]
  },
  {
   "cell_type": "code",
   "execution_count": 69,
   "metadata": {},
   "outputs": [
    {
     "data": {
      "text/plain": [
       "(4299, 107)"
      ]
     },
     "execution_count": 69,
     "metadata": {},
     "output_type": "execute_result"
    }
   ],
   "source": [
    "airbnb[airbnb[\"is_75015\"]==1].shape"
   ]
  },
  {
   "cell_type": "markdown",
   "metadata": {},
   "source": [
    "Modifier ce qui est dans une colonne est simple en pandas, si on utilise un type spécial, on utilisera :\n",
    "    \n",
    "- pour une donnée textuelle :\n",
    "    `df[\"col_test\"].str.___`, ___ peut être remplacé par n'importe quelle méthode liée aux chaînes de caractères\n",
    "\n",
    "- pour une donnée de date :\n",
    "    `df[\"col_test\"].dt.___`, ___ peut être remplacé par n'importe quelle méthode liée aux objets datetime de python\n",
    "\n",
    "    "
   ]
  },
  {
   "cell_type": "markdown",
   "metadata": {},
   "source": [
    "**Exercice :** Extraire deux colonnes avec le jour et le mois à partir de la colonne DATE_OUVERTURE du data frame bce_uai en utlisant `.dt.day` et `.dt.month`"
   ]
  },
  {
   "cell_type": "code",
   "execution_count": 70,
   "metadata": {},
   "outputs": [
    {
     "data": {
      "text/plain": [
       "0           Friday\n",
       "1           Friday\n",
       "2         Saturday\n",
       "3         Saturday\n",
       "4           Friday\n",
       "           ...    \n",
       "67436    Wednesday\n",
       "67437       Friday\n",
       "67438     Saturday\n",
       "67439      Tuesday\n",
       "67440     Saturday\n",
       "Name: DATE_OUVERTURE, Length: 67441, dtype: object"
      ]
     },
     "execution_count": 70,
     "metadata": {},
     "output_type": "execute_result"
    }
   ],
   "source": [
    "bce_uai[\"DATE_OUVERTURE\"].dt.day_name()"
   ]
  },
  {
   "cell_type": "code",
   "execution_count": 71,
   "metadata": {},
   "outputs": [],
   "source": [
    "bce_uai[\"jour_ouverture\"] = bce_uai[\"DATE_OUVERTURE\"].dt.day\n",
    "bce_uai[\"mois_ouverture\"] = bce_uai[\"DATE_OUVERTURE\"].dt.month\n",
    "bce_uai[\"jour_sem_ouverture\"] = bce_uai[\"DATE_OUVERTURE\"].dt.day_name()"
   ]
  },
  {
   "cell_type": "code",
   "execution_count": 72,
   "metadata": {},
   "outputs": [
    {
     "data": {
      "text/plain": [
       "<AxesSubplot:>"
      ]
     },
     "execution_count": 72,
     "metadata": {},
     "output_type": "execute_result"
    },
    {
     "data": {
      "image/png": "[encoded data removed]",
      "text/plain": [
       "<Figure size 432x288 with 1 Axes>"
      ]
     },
     "metadata": {
      "needs_background": "light"
     },
     "output_type": "display_data"
    }
   ],
   "source": [
    "bce_uai[\"jour_sem_ouverture\"].value_counts().plot.bar()"
   ]
  },
  {
   "cell_type": "code",
   "execution_count": 73,
   "metadata": {},
   "outputs": [
    {
     "data": {
      "text/plain": [
       "<AxesSubplot:>"
      ]
     },
     "execution_count": 73,
     "metadata": {},
     "output_type": "execute_result"
    },
    {
     "data": {
      "image/png": "[encoded data removed]",
      "text/plain": [
       "<Figure size 432x288 with 1 Axes>"
      ]
     },
     "metadata": {
      "needs_background": "light"
     },
     "output_type": "display_data"
    }
   ],
   "source": [
    "bce_uai[\"mois_ouverture\"].value_counts().sort_index().plot.bar()"
   ]
  },
  {
   "cell_type": "code",
   "execution_count": 74,
   "metadata": {},
   "outputs": [
    {
     "name": "stdout",
     "output_type": "stream",
     "text": [
      "Bravo !\n"
     ]
    }
   ],
   "source": [
    "# pour vérifier que vous avez bien répondu à l'exercice, soumettre cette cellule\n",
    "# on utilise maj + Entrée\n",
    "assert  bce_uai[\"jour_ouverture\"].min() == 1\n",
    "print(\"Bravo !\")"
   ]
  },
  {
   "cell_type": "markdown",
   "metadata": {
    "slideshow": {
     "slide_type": "slide"
    }
   },
   "source": [
    "# Les tris avec Pandas \n",
    "\n",
    "Pour effectuer des tris, on utilise :\n",
    "- `.sort_index()` pour le tri des index\n",
    "- `.sort_values()` pour le tri des données\n",
    "- `.rank()` affiche le rang des observations\n",
    "\n",
    "Il peut y avoir plusieurs tris dans la même opération. Dans ce cas, on utilise des listes de colonnes :\n",
    "```python\n",
    "frame.sort_values([\"col_1\",\"col_2\"])\n",
    "```"
   ]
  },
  {
   "cell_type": "code",
   "execution_count": 75,
   "metadata": {},
   "outputs": [
    {
     "data": {
      "text/html": [
       "<div>\n",
       "<style scoped>\n",
       "    .dataframe tbody tr th:only-of-type {\n",
       "        vertical-align: middle;\n",
       "    }\n",
       "\n",
       "    .dataframe tbody tr th {\n",
       "        vertical-align: top;\n",
       "    }\n",
       "\n",
       "    .dataframe thead th {\n",
       "        text-align: right;\n",
       "    }\n",
       "</style>\n",
       "<table border=\"1\" class=\"dataframe\">\n",
       "  <thead>\n",
       "    <tr style=\"text-align: right;\">\n",
       "      <th></th>\n",
       "      <th>BasePay</th>\n",
       "      <th>JobTitle</th>\n",
       "    </tr>\n",
       "  </thead>\n",
       "  <tbody>\n",
       "    <tr>\n",
       "      <th>0</th>\n",
       "      <td>167411.18</td>\n",
       "      <td>GENERAL MANAGER-METROPOLITAN TRANSIT AUTHORITY</td>\n",
       "    </tr>\n",
       "    <tr>\n",
       "      <th>1</th>\n",
       "      <td>155966.02</td>\n",
       "      <td>CAPTAIN III (POLICE DEPARTMENT)</td>\n",
       "    </tr>\n",
       "    <tr>\n",
       "      <th>2</th>\n",
       "      <td>212739.13</td>\n",
       "      <td>CAPTAIN III (POLICE DEPARTMENT)</td>\n",
       "    </tr>\n",
       "    <tr>\n",
       "      <th>3</th>\n",
       "      <td>77916</td>\n",
       "      <td>WIRE ROPE CABLE MAINTENANCE MECHANIC</td>\n",
       "    </tr>\n",
       "    <tr>\n",
       "      <th>4</th>\n",
       "      <td>134401.6</td>\n",
       "      <td>DEPUTY CHIEF OF DEPARTMENT,(FIRE DEPARTMENT)</td>\n",
       "    </tr>\n",
       "  </tbody>\n",
       "</table>\n",
       "</div>"
      ],
      "text/plain": [
       "     BasePay                                        JobTitle\n",
       "0  167411.18  GENERAL MANAGER-METROPOLITAN TRANSIT AUTHORITY\n",
       "1  155966.02                 CAPTAIN III (POLICE DEPARTMENT)\n",
       "2  212739.13                 CAPTAIN III (POLICE DEPARTMENT)\n",
       "3      77916            WIRE ROPE CABLE MAINTENANCE MECHANIC\n",
       "4   134401.6    DEPUTY CHIEF OF DEPARTMENT,(FIRE DEPARTMENT)"
      ]
     },
     "execution_count": 75,
     "metadata": {},
     "output_type": "execute_result"
    }
   ],
   "source": [
    "salaries[ [\"BasePay\", \"JobTitle\"] ].head()"
   ]
  },
  {
   "cell_type": "markdown",
   "metadata": {
    "slideshow": {
     "slide_type": "subslide"
    }
   },
   "source": [
    "**Exercice :** \n",
    "    \n",
    "Triez les données sur les salaires en se basant sur le BasePay et le JobTitle"
   ]
  },
  {
   "cell_type": "code",
   "execution_count": 76,
   "metadata": {},
   "outputs": [],
   "source": [
    "salaries_sorted = salaries.sort_values([\"JobTitle\", \"BasePay\"],ascending=[True, False])"
   ]
  },
  {
   "cell_type": "code",
   "execution_count": 77,
   "metadata": {},
   "outputs": [
    {
     "name": "stdout",
     "output_type": "stream",
     "text": [
      "Bravo !\n"
     ]
    }
   ],
   "source": [
    "# pour vérifier que vous avez bien répondu à l'exercice, soumettre cette cellule\n",
    "# on utilise maj + Entrée\n",
    "assert salaries_sorted[\"JobTitle\"].min() == salaries_sorted[\"JobTitle\"].iloc[0]\n",
    "print(\"Bravo !\")"
   ]
  },
  {
   "cell_type": "markdown",
   "metadata": {},
   "source": [
    "## Exportez des fichiers \n",
    "\n",
    "La plupart des outils d'importation existent en exportation, on utilise :\n",
    "```\n",
    "frame.to_csv(\"fichier.csv\")\n",
    "```\n"
   ]
  },
  {
   "cell_type": "markdown",
   "metadata": {},
   "source": [
    "**Exercice :**\n",
    "    \n",
    "Exportez les données salaries dans un fichier Excel"
   ]
  },
  {
   "cell_type": "code",
   "execution_count": 78,
   "metadata": {},
   "outputs": [],
   "source": [
    "salaries.to_excel(\"salaries.xlsx\")"
   ]
  },
  {
   "cell_type": "markdown",
   "metadata": {
    "slideshow": {
     "slide_type": "slide"
    }
   },
   "source": [
    "# Les statistiques simples\n",
    "\n",
    "Les Dataframe possèdent de nombreuses méthodes pour calculer des statistiques simples :\n",
    "- `.sum(axis=0)` permet de faire une somme par colonne\n",
    "- `.sum(axis=1)` permet de faire une somme par ligne\n",
    "- `.min()` et `.max()` donnent le minimum par colonne\n",
    "- `.idxmin()` et `.idxmax()` donnent l’index du minimum et du maximum\n",
    "- `.describe()` affiche un tableau de statistiques descriptives par colonne\n",
    "- `.corr()` pour calculer la corrélation entre les colonnes"
   ]
  },
  {
   "cell_type": "code",
   "execution_count": 79,
   "metadata": {},
   "outputs": [
    {
     "data": {
      "text/html": [
       "<div>\n",
       "<style scoped>\n",
       "    .dataframe tbody tr th:only-of-type {\n",
       "        vertical-align: middle;\n",
       "    }\n",
       "\n",
       "    .dataframe tbody tr th {\n",
       "        vertical-align: top;\n",
       "    }\n",
       "\n",
       "    .dataframe thead th {\n",
       "        text-align: right;\n",
       "    }\n",
       "</style>\n",
       "<table border=\"1\" class=\"dataframe\">\n",
       "  <thead>\n",
       "    <tr style=\"text-align: right;\">\n",
       "      <th></th>\n",
       "      <th>Id</th>\n",
       "      <th>EmployeeName</th>\n",
       "      <th>JobTitle</th>\n",
       "      <th>BasePay</th>\n",
       "      <th>OvertimePay</th>\n",
       "      <th>OtherPay</th>\n",
       "      <th>Benefits</th>\n",
       "      <th>TotalPay</th>\n",
       "      <th>TotalPayBenefits</th>\n",
       "      <th>Year</th>\n",
       "      <th>Notes</th>\n",
       "      <th>Agency</th>\n",
       "      <th>Status</th>\n",
       "    </tr>\n",
       "  </thead>\n",
       "  <tbody>\n",
       "    <tr>\n",
       "      <th>count</th>\n",
       "      <td>148654.000000</td>\n",
       "      <td>148654</td>\n",
       "      <td>148654</td>\n",
       "      <td>148654.0</td>\n",
       "      <td>148654.0</td>\n",
       "      <td>148654.0</td>\n",
       "      <td>148654</td>\n",
       "      <td>148654.000000</td>\n",
       "      <td>148654.000000</td>\n",
       "      <td>148654.000000</td>\n",
       "      <td>148654</td>\n",
       "      <td>148654</td>\n",
       "      <td>148654</td>\n",
       "    </tr>\n",
       "    <tr>\n",
       "      <th>unique</th>\n",
       "      <td>NaN</td>\n",
       "      <td>110811</td>\n",
       "      <td>2159</td>\n",
       "      <td>109491.0</td>\n",
       "      <td>65999.0</td>\n",
       "      <td>83226.0</td>\n",
       "      <td>98467</td>\n",
       "      <td>NaN</td>\n",
       "      <td>NaN</td>\n",
       "      <td>NaN</td>\n",
       "      <td>1</td>\n",
       "      <td>1</td>\n",
       "      <td>3</td>\n",
       "    </tr>\n",
       "    <tr>\n",
       "      <th>top</th>\n",
       "      <td>NaN</td>\n",
       "      <td>Kevin Lee</td>\n",
       "      <td>Transit Operator</td>\n",
       "      <td>0.0</td>\n",
       "      <td>0.0</td>\n",
       "      <td>0.0</td>\n",
       "      <td></td>\n",
       "      <td>NaN</td>\n",
       "      <td>NaN</td>\n",
       "      <td>NaN</td>\n",
       "      <td></td>\n",
       "      <td>San Francisco</td>\n",
       "      <td></td>\n",
       "    </tr>\n",
       "    <tr>\n",
       "      <th>freq</th>\n",
       "      <td>NaN</td>\n",
       "      <td>13</td>\n",
       "      <td>7036</td>\n",
       "      <td>1298.0</td>\n",
       "      <td>77321.0</td>\n",
       "      <td>41600.0</td>\n",
       "      <td>36159</td>\n",
       "      <td>NaN</td>\n",
       "      <td>NaN</td>\n",
       "      <td>NaN</td>\n",
       "      <td>148654</td>\n",
       "      <td>148654</td>\n",
       "      <td>110535</td>\n",
       "    </tr>\n",
       "    <tr>\n",
       "      <th>mean</th>\n",
       "      <td>74327.500000</td>\n",
       "      <td>NaN</td>\n",
       "      <td>NaN</td>\n",
       "      <td>NaN</td>\n",
       "      <td>NaN</td>\n",
       "      <td>NaN</td>\n",
       "      <td>NaN</td>\n",
       "      <td>74768.321972</td>\n",
       "      <td>93692.554811</td>\n",
       "      <td>2012.522643</td>\n",
       "      <td>NaN</td>\n",
       "      <td>NaN</td>\n",
       "      <td>NaN</td>\n",
       "    </tr>\n",
       "    <tr>\n",
       "      <th>std</th>\n",
       "      <td>42912.857795</td>\n",
       "      <td>NaN</td>\n",
       "      <td>NaN</td>\n",
       "      <td>NaN</td>\n",
       "      <td>NaN</td>\n",
       "      <td>NaN</td>\n",
       "      <td>NaN</td>\n",
       "      <td>50517.005274</td>\n",
       "      <td>62793.533483</td>\n",
       "      <td>1.117538</td>\n",
       "      <td>NaN</td>\n",
       "      <td>NaN</td>\n",
       "      <td>NaN</td>\n",
       "    </tr>\n",
       "    <tr>\n",
       "      <th>min</th>\n",
       "      <td>1.000000</td>\n",
       "      <td>NaN</td>\n",
       "      <td>NaN</td>\n",
       "      <td>NaN</td>\n",
       "      <td>NaN</td>\n",
       "      <td>NaN</td>\n",
       "      <td>NaN</td>\n",
       "      <td>-618.130000</td>\n",
       "      <td>-618.130000</td>\n",
       "      <td>2011.000000</td>\n",
       "      <td>NaN</td>\n",
       "      <td>NaN</td>\n",
       "      <td>NaN</td>\n",
       "    </tr>\n",
       "    <tr>\n",
       "      <th>25%</th>\n",
       "      <td>37164.250000</td>\n",
       "      <td>NaN</td>\n",
       "      <td>NaN</td>\n",
       "      <td>NaN</td>\n",
       "      <td>NaN</td>\n",
       "      <td>NaN</td>\n",
       "      <td>NaN</td>\n",
       "      <td>36168.995000</td>\n",
       "      <td>44065.650000</td>\n",
       "      <td>2012.000000</td>\n",
       "      <td>NaN</td>\n",
       "      <td>NaN</td>\n",
       "      <td>NaN</td>\n",
       "    </tr>\n",
       "    <tr>\n",
       "      <th>50%</th>\n",
       "      <td>74327.500000</td>\n",
       "      <td>NaN</td>\n",
       "      <td>NaN</td>\n",
       "      <td>NaN</td>\n",
       "      <td>NaN</td>\n",
       "      <td>NaN</td>\n",
       "      <td>NaN</td>\n",
       "      <td>71426.610000</td>\n",
       "      <td>92404.090000</td>\n",
       "      <td>2013.000000</td>\n",
       "      <td>NaN</td>\n",
       "      <td>NaN</td>\n",
       "      <td>NaN</td>\n",
       "    </tr>\n",
       "    <tr>\n",
       "      <th>75%</th>\n",
       "      <td>111490.750000</td>\n",
       "      <td>NaN</td>\n",
       "      <td>NaN</td>\n",
       "      <td>NaN</td>\n",
       "      <td>NaN</td>\n",
       "      <td>NaN</td>\n",
       "      <td>NaN</td>\n",
       "      <td>105839.135000</td>\n",
       "      <td>132876.450000</td>\n",
       "      <td>2014.000000</td>\n",
       "      <td>NaN</td>\n",
       "      <td>NaN</td>\n",
       "      <td>NaN</td>\n",
       "    </tr>\n",
       "    <tr>\n",
       "      <th>max</th>\n",
       "      <td>148654.000000</td>\n",
       "      <td>NaN</td>\n",
       "      <td>NaN</td>\n",
       "      <td>NaN</td>\n",
       "      <td>NaN</td>\n",
       "      <td>NaN</td>\n",
       "      <td>NaN</td>\n",
       "      <td>567595.430000</td>\n",
       "      <td>567595.430000</td>\n",
       "      <td>2014.000000</td>\n",
       "      <td>NaN</td>\n",
       "      <td>NaN</td>\n",
       "      <td>NaN</td>\n",
       "    </tr>\n",
       "  </tbody>\n",
       "</table>\n",
       "</div>"
      ],
      "text/plain": [
       "                   Id EmployeeName          JobTitle   BasePay  OvertimePay  \\\n",
       "count   148654.000000       148654            148654  148654.0     148654.0   \n",
       "unique            NaN       110811              2159  109491.0      65999.0   \n",
       "top               NaN    Kevin Lee  Transit Operator       0.0          0.0   \n",
       "freq              NaN           13              7036    1298.0      77321.0   \n",
       "mean     74327.500000          NaN               NaN       NaN          NaN   \n",
       "std      42912.857795          NaN               NaN       NaN          NaN   \n",
       "min          1.000000          NaN               NaN       NaN          NaN   \n",
       "25%      37164.250000          NaN               NaN       NaN          NaN   \n",
       "50%      74327.500000          NaN               NaN       NaN          NaN   \n",
       "75%     111490.750000          NaN               NaN       NaN          NaN   \n",
       "max     148654.000000          NaN               NaN       NaN          NaN   \n",
       "\n",
       "        OtherPay Benefits       TotalPay  TotalPayBenefits           Year  \\\n",
       "count   148654.0   148654  148654.000000     148654.000000  148654.000000   \n",
       "unique   83226.0    98467            NaN               NaN            NaN   \n",
       "top          0.0                     NaN               NaN            NaN   \n",
       "freq     41600.0    36159            NaN               NaN            NaN   \n",
       "mean         NaN      NaN   74768.321972      93692.554811    2012.522643   \n",
       "std          NaN      NaN   50517.005274      62793.533483       1.117538   \n",
       "min          NaN      NaN    -618.130000       -618.130000    2011.000000   \n",
       "25%          NaN      NaN   36168.995000      44065.650000    2012.000000   \n",
       "50%          NaN      NaN   71426.610000      92404.090000    2013.000000   \n",
       "75%          NaN      NaN  105839.135000     132876.450000    2014.000000   \n",
       "max          NaN      NaN  567595.430000     567595.430000    2014.000000   \n",
       "\n",
       "         Notes         Agency  Status  \n",
       "count   148654         148654  148654  \n",
       "unique       1              1       3  \n",
       "top             San Francisco          \n",
       "freq    148654         148654  110535  \n",
       "mean       NaN            NaN     NaN  \n",
       "std        NaN            NaN     NaN  \n",
       "min        NaN            NaN     NaN  \n",
       "25%        NaN            NaN     NaN  \n",
       "50%        NaN            NaN     NaN  \n",
       "75%        NaN            NaN     NaN  \n",
       "max        NaN            NaN     NaN  "
      ]
     },
     "execution_count": 79,
     "metadata": {},
     "output_type": "execute_result"
    }
   ],
   "source": [
    "salaries.describe(include=\"all\")"
   ]
  },
  {
   "cell_type": "code",
   "execution_count": 80,
   "metadata": {},
   "outputs": [],
   "source": [
    "# transfo en numérique\n",
    "salaries[\"BasePay\"] = pd.to_numeric(salaries[\"BasePay\"].replace(\"Not Provided\", np.nan))"
   ]
  },
  {
   "cell_type": "markdown",
   "metadata": {
    "slideshow": {
     "slide_type": "subslide"
    }
   },
   "source": [
    "**Exercice :**\n",
    "    \n",
    "Obtenir les moyennes et variances de la colonne `TotalPay` pour les données Salaries.\n"
   ]
  },
  {
   "cell_type": "code",
   "execution_count": 81,
   "metadata": {},
   "outputs": [],
   "source": [
    "def ma_stat(x):\n",
    "    return x.mean()/x.max()"
   ]
  },
  {
   "cell_type": "code",
   "execution_count": 82,
   "metadata": {},
   "outputs": [
    {
     "data": {
      "text/html": [
       "<div>\n",
       "<style scoped>\n",
       "    .dataframe tbody tr th:only-of-type {\n",
       "        vertical-align: middle;\n",
       "    }\n",
       "\n",
       "    .dataframe tbody tr th {\n",
       "        vertical-align: top;\n",
       "    }\n",
       "\n",
       "    .dataframe thead th {\n",
       "        text-align: right;\n",
       "    }\n",
       "</style>\n",
       "<table border=\"1\" class=\"dataframe\">\n",
       "  <thead>\n",
       "    <tr style=\"text-align: right;\">\n",
       "      <th></th>\n",
       "      <th>TotalPay</th>\n",
       "      <th>BasePay</th>\n",
       "    </tr>\n",
       "  </thead>\n",
       "  <tbody>\n",
       "    <tr>\n",
       "      <th>mean</th>\n",
       "      <td>7.476832e+04</td>\n",
       "      <td>6.632545e+04</td>\n",
       "    </tr>\n",
       "    <tr>\n",
       "      <th>var</th>\n",
       "      <td>2.551968e+09</td>\n",
       "      <td>1.828814e+09</td>\n",
       "    </tr>\n",
       "    <tr>\n",
       "      <th>ma_stat</th>\n",
       "      <td>1.317282e-01</td>\n",
       "      <td>2.077377e-01</td>\n",
       "    </tr>\n",
       "  </tbody>\n",
       "</table>\n",
       "</div>"
      ],
      "text/plain": [
       "             TotalPay       BasePay\n",
       "mean     7.476832e+04  6.632545e+04\n",
       "var      2.551968e+09  1.828814e+09\n",
       "ma_stat  1.317282e-01  2.077377e-01"
      ]
     },
     "execution_count": 82,
     "metadata": {},
     "output_type": "execute_result"
    }
   ],
   "source": [
    "salaries[[\"TotalPay\",\"BasePay\"]].agg([\"mean\", \"var\", ma_stat])"
   ]
  },
  {
   "cell_type": "markdown",
   "metadata": {},
   "source": [
    "**Exercice ++ :**\n",
    "\n",
    "Calculer la moyenne des prix des appartements airbnb\n",
    "\n",
    "*Attention :* la colonne `price`a des problèmes"
   ]
  },
  {
   "cell_type": "code",
   "execution_count": 83,
   "metadata": {},
   "outputs": [
    {
     "data": {
      "text/plain": [
       "0         $75.00\n",
       "1        $115.00\n",
       "2        $115.00\n",
       "3         $90.00\n",
       "4         $75.00\n",
       "          ...   \n",
       "59121     $50.00\n",
       "59122    $350.00\n",
       "59123     $80.00\n",
       "59124     $32.00\n",
       "59125     $60.00\n",
       "Name: price, Length: 59126, dtype: object"
      ]
     },
     "execution_count": 83,
     "metadata": {},
     "output_type": "execute_result"
    }
   ],
   "source": [
    "airbnb[\"price\"]"
   ]
  },
  {
   "cell_type": "markdown",
   "metadata": {},
   "source": [
    "Le type 'O' est apppelé objet et n'est donc pas nmérique (donc pas de moyenne !!)\n",
    "\n",
    "On commence par trasformer en numérique !\n",
    "\n",
    "Deux indices :\n",
    "- on peut utiliser la fonction `pd.to_numeric(___)`\n",
    "- une colonne de texte a de nombreuses méthode, si on veut remplacer dans une colonne de texte, on utiliser : `data[\"colonne\"].str.replace(___,___)`"
   ]
  },
  {
   "cell_type": "code",
   "execution_count": 84,
   "metadata": {},
   "outputs": [
    {
     "name": "stdout",
     "output_type": "stream",
     "text": [
      "116.32598180157629\n"
     ]
    },
    {
     "name": "stderr",
     "output_type": "stream",
     "text": [
      "/opt/tljh/user/lib/python3.7/site-packages/ipykernel_launcher.py:2: FutureWarning: The default value of regex will change from True to False in a future version. In addition, single character regular expressions will*not* be treated as literal strings when regex=True.\n",
      "  \n"
     ]
    }
   ],
   "source": [
    "# on ajoute une colonne à la fin du dataframe :\n",
    "airbnb[\"price_num\"] = pd.to_numeric(airbnb[\"price\"].str.replace(\"$\",\"\").str.replace(\",\",\"\"))\n",
    "\n",
    "print(airbnb[\"price_num\"].mean())"
   ]
  },
  {
   "cell_type": "code",
   "execution_count": 85,
   "metadata": {},
   "outputs": [
    {
     "name": "stdout",
     "output_type": "stream",
     "text": [
      "Bravo !\n"
     ]
    }
   ],
   "source": [
    "# pour vérifier que vous avez bien répondu à l'exercice, soumettre cette cellule\n",
    "# on utilise maj + Entrée\n",
    "assert airbnb[\"price_num\"].max() == 9379\n",
    "print(\"Bravo !\")"
   ]
  },
  {
   "cell_type": "markdown",
   "metadata": {
    "slideshow": {
     "slide_type": "slide"
    }
   },
   "source": [
    "# Le traitement des données manquantes\n",
    "\n",
    "- Les données manquantes sont identifiées par `NaN`\n",
    "\n",
    "\n",
    "- `.dropna()` permet de retirer les données manquantes dans un objet Series et l’ensemble d’une ligne dans le cas d’un DataFrame\n",
    "- Pour éliminer par colonne, on utilise `.dropna(axis=1)`\n",
    "- Remplacer toutes les données manquantes `.fillna(valeur)`\n"
   ]
  },
  {
   "cell_type": "code",
   "execution_count": 86,
   "metadata": {},
   "outputs": [
    {
     "name": "stdout",
     "output_type": "stream",
     "text": [
      "<class 'pandas.core.frame.DataFrame'>\n",
      "RangeIndex: 148654 entries, 0 to 148653\n",
      "Data columns (total 13 columns):\n",
      " #   Column            Non-Null Count   Dtype  \n",
      "---  ------            --------------   -----  \n",
      " 0   Id                148654 non-null  int64  \n",
      " 1   EmployeeName      148654 non-null  object \n",
      " 2   JobTitle          148654 non-null  object \n",
      " 3   BasePay           148045 non-null  float64\n",
      " 4   OvertimePay       148654 non-null  object \n",
      " 5   OtherPay          148654 non-null  object \n",
      " 6   Benefits          148654 non-null  object \n",
      " 7   TotalPay          148654 non-null  float64\n",
      " 8   TotalPayBenefits  148654 non-null  float64\n",
      " 9   Year              148654 non-null  int64  \n",
      " 10  Notes             148654 non-null  object \n",
      " 11  Agency            148654 non-null  object \n",
      " 12  Status            148654 non-null  object \n",
      "dtypes: float64(3), int64(2), object(8)\n",
      "memory usage: 14.7+ MB\n"
     ]
    }
   ],
   "source": [
    "salaries.info()"
   ]
  },
  {
   "cell_type": "code",
   "execution_count": 87,
   "metadata": {},
   "outputs": [],
   "source": [
    "salaries[\"BasePay\"] = salaries[\"BasePay\"].fillna(salaries[\"BasePay\"].median())"
   ]
  },
  {
   "cell_type": "code",
   "execution_count": 88,
   "metadata": {},
   "outputs": [
    {
     "name": "stdout",
     "output_type": "stream",
     "text": [
      "<class 'pandas.core.frame.DataFrame'>\n",
      "RangeIndex: 148654 entries, 0 to 148653\n",
      "Data columns (total 13 columns):\n",
      " #   Column            Non-Null Count   Dtype  \n",
      "---  ------            --------------   -----  \n",
      " 0   Id                148654 non-null  int64  \n",
      " 1   EmployeeName      148654 non-null  object \n",
      " 2   JobTitle          148654 non-null  object \n",
      " 3   BasePay           148654 non-null  float64\n",
      " 4   OvertimePay       148654 non-null  object \n",
      " 5   OtherPay          148654 non-null  object \n",
      " 6   Benefits          148654 non-null  object \n",
      " 7   TotalPay          148654 non-null  float64\n",
      " 8   TotalPayBenefits  148654 non-null  float64\n",
      " 9   Year              148654 non-null  int64  \n",
      " 10  Notes             148654 non-null  object \n",
      " 11  Agency            148654 non-null  object \n",
      " 12  Status            148654 non-null  object \n",
      "dtypes: float64(3), int64(2), object(8)\n",
      "memory usage: 14.7+ MB\n"
     ]
    }
   ],
   "source": [
    "salaries.info()"
   ]
  },
  {
   "cell_type": "markdown",
   "metadata": {
    "slideshow": {
     "slide_type": "slide"
    }
   },
   "source": [
    "# Les jointures avec Pandas\n",
    "\n",
    "On veut joindre des jeux de données en utilisant des clés (variables communes)\n",
    "\n",
    "- `pd.merge()` permet de joindre deux DataFrame, on utilise comme options `on='key'`\n",
    "\n",
    "- On peut utiliser comme option `how=`, on peut avoir :\n",
    "    - `left` dans ce cas, on garde le jeu de données à gauche et pour les données de droite des valeurs manquantes sont ajoutées.\n",
    "    - `outer`, on garde toutes les valeurs des deux jeux de données\n",
    "    - ...\n",
    "\n",
    "- On peut avoir plusieurs clés et faire une jointure sur les deux clés `on=['key1','key2']`\n",
    "\n",
    "Pour plus de détails : <http://pandas.pydata.org/pandas-docs/dev/generated/pandas.DataFrame.merge.html>\n"
   ]
  },
  {
   "cell_type": "markdown",
   "metadata": {
    "slideshow": {
     "slide_type": "subslide"
    }
   },
   "source": [
    "**Exercice :**\n",
    "    \n",
    "Joindre deux dataframes (credit1 et credit2). On commence par importer `credit1.txt`\n"
   ]
  },
  {
   "cell_type": "code",
   "execution_count": 89,
   "metadata": {},
   "outputs": [
    {
     "data": {
      "text/html": [
       "<div>\n",
       "<style scoped>\n",
       "    .dataframe tbody tr th:only-of-type {\n",
       "        vertical-align: middle;\n",
       "    }\n",
       "\n",
       "    .dataframe tbody tr th {\n",
       "        vertical-align: top;\n",
       "    }\n",
       "\n",
       "    .dataframe thead th {\n",
       "        text-align: right;\n",
       "    }\n",
       "</style>\n",
       "<table border=\"1\" class=\"dataframe\">\n",
       "  <thead>\n",
       "    <tr style=\"text-align: right;\">\n",
       "      <th></th>\n",
       "      <th>Age</th>\n",
       "      <th>Gender</th>\n",
       "      <th>Marital_Status</th>\n",
       "      <th>Age_Youngest_Child</th>\n",
       "      <th>Number_of_Workers_in_Household</th>\n",
       "      <th>Percentage_White_Collar_Workers</th>\n",
       "      <th>Household_Debt_to_Equity_Ratio</th>\n",
       "      <th>Income</th>\n",
       "      <th>Homeowner</th>\n",
       "      <th>Customer_ID</th>\n",
       "    </tr>\n",
       "  </thead>\n",
       "  <tbody>\n",
       "    <tr>\n",
       "      <th>0</th>\n",
       "      <td>40</td>\n",
       "      <td>F</td>\n",
       "      <td>S</td>\n",
       "      <td>11</td>\n",
       "      <td>6</td>\n",
       "      <td>37</td>\n",
       "      <td>56</td>\n",
       "      <td>37073</td>\n",
       "      <td>F</td>\n",
       "      <td>5409</td>\n",
       "    </tr>\n",
       "    <tr>\n",
       "      <th>1</th>\n",
       "      <td>47</td>\n",
       "      <td>M</td>\n",
       "      <td>M</td>\n",
       "      <td>13</td>\n",
       "      <td>13</td>\n",
       "      <td>30</td>\n",
       "      <td>56</td>\n",
       "      <td>50721</td>\n",
       "      <td>F</td>\n",
       "      <td>5477</td>\n",
       "    </tr>\n",
       "    <tr>\n",
       "      <th>2</th>\n",
       "      <td>35</td>\n",
       "      <td>F</td>\n",
       "      <td>U</td>\n",
       "      <td>1</td>\n",
       "      <td>9</td>\n",
       "      <td>33</td>\n",
       "      <td>57</td>\n",
       "      <td>43578</td>\n",
       "      <td>T</td>\n",
       "      <td>5507</td>\n",
       "    </tr>\n",
       "    <tr>\n",
       "      <th>3</th>\n",
       "      <td>45</td>\n",
       "      <td>M</td>\n",
       "      <td>U</td>\n",
       "      <td>15</td>\n",
       "      <td>7</td>\n",
       "      <td>30</td>\n",
       "      <td>62</td>\n",
       "      <td>69553</td>\n",
       "      <td>F</td>\n",
       "      <td>8</td>\n",
       "    </tr>\n",
       "    <tr>\n",
       "      <th>4</th>\n",
       "      <td>13</td>\n",
       "      <td>F</td>\n",
       "      <td>S</td>\n",
       "      <td>0</td>\n",
       "      <td>7</td>\n",
       "      <td>27</td>\n",
       "      <td>64</td>\n",
       "      <td>37502</td>\n",
       "      <td>T</td>\n",
       "      <td>158</td>\n",
       "    </tr>\n",
       "  </tbody>\n",
       "</table>\n",
       "</div>"
      ],
      "text/plain": [
       "   Age Gender Marital_Status  Age_Youngest_Child  \\\n",
       "0   40      F              S                  11   \n",
       "1   47      M              M                  13   \n",
       "2   35      F              U                   1   \n",
       "3   45      M              U                  15   \n",
       "4   13      F              S                   0   \n",
       "\n",
       "   Number_of_Workers_in_Household  Percentage_White_Collar_Workers  \\\n",
       "0                               6                               37   \n",
       "1                              13                               30   \n",
       "2                               9                               33   \n",
       "3                               7                               30   \n",
       "4                               7                               27   \n",
       "\n",
       "   Household_Debt_to_Equity_Ratio  Income Homeowner  Customer_ID  \n",
       "0                              56   37073         F         5409  \n",
       "1                              56   50721         F         5477  \n",
       "2                              57   43578         T         5507  \n",
       "3                              62   69553         F            8  \n",
       "4                              64   37502         T          158  "
      ]
     },
     "execution_count": 89,
     "metadata": {},
     "output_type": "execute_result"
    }
   ],
   "source": [
    "credit2.head()"
   ]
  },
  {
   "cell_type": "code",
   "execution_count": 90,
   "metadata": {},
   "outputs": [
    {
     "data": {
      "text/html": [
       "<div>\n",
       "<style scoped>\n",
       "    .dataframe tbody tr th:only-of-type {\n",
       "        vertical-align: middle;\n",
       "    }\n",
       "\n",
       "    .dataframe tbody tr th {\n",
       "        vertical-align: top;\n",
       "    }\n",
       "\n",
       "    .dataframe thead th {\n",
       "        text-align: right;\n",
       "    }\n",
       "</style>\n",
       "<table border=\"1\" class=\"dataframe\">\n",
       "  <thead>\n",
       "    <tr style=\"text-align: right;\">\n",
       "      <th></th>\n",
       "      <th>Months_as_a_Customer</th>\n",
       "      <th>Number_of_Products</th>\n",
       "      <th>RFM_Score</th>\n",
       "      <th>Average_Balance_Feed_Index</th>\n",
       "      <th>Number_of_Transactions</th>\n",
       "      <th>Personal_Debt_to_Equity_Ratio</th>\n",
       "      <th>Months_Current_Account</th>\n",
       "      <th>Number_of_Loan_Accounts</th>\n",
       "      <th>Has_Bad_Payment_Record</th>\n",
       "      <th>Members_Within_Household</th>\n",
       "      <th>Number_of_Call_Center_Contacts</th>\n",
       "      <th>Weeks_Since_Last_Offer</th>\n",
       "      <th>Accepted_Personal_Loan</th>\n",
       "      <th>Accepted_Retention</th>\n",
       "      <th>Accepted_Home_Equity_Loan</th>\n",
       "      <th>Accepted_Credit_Card</th>\n",
       "      <th>Annual_value</th>\n",
       "      <th>Interested_in_Personal_Loan</th>\n",
       "      <th>Interested_in_Retention</th>\n",
       "      <th>Interested_in_Home_Equity_Loan</th>\n",
       "      <th>Interested_in_Credit_Card</th>\n",
       "    </tr>\n",
       "    <tr>\n",
       "      <th>Customer_ID</th>\n",
       "      <th></th>\n",
       "      <th></th>\n",
       "      <th></th>\n",
       "      <th></th>\n",
       "      <th></th>\n",
       "      <th></th>\n",
       "      <th></th>\n",
       "      <th></th>\n",
       "      <th></th>\n",
       "      <th></th>\n",
       "      <th></th>\n",
       "      <th></th>\n",
       "      <th></th>\n",
       "      <th></th>\n",
       "      <th></th>\n",
       "      <th></th>\n",
       "      <th></th>\n",
       "      <th></th>\n",
       "      <th></th>\n",
       "      <th></th>\n",
       "      <th></th>\n",
       "    </tr>\n",
       "  </thead>\n",
       "  <tbody>\n",
       "    <tr>\n",
       "      <th>5409</th>\n",
       "      <td>24</td>\n",
       "      <td>3</td>\n",
       "      <td>10</td>\n",
       "      <td>229</td>\n",
       "      <td>2</td>\n",
       "      <td>40</td>\n",
       "      <td>13</td>\n",
       "      <td>0</td>\n",
       "      <td>0</td>\n",
       "      <td>5</td>\n",
       "      <td>9</td>\n",
       "      <td>17</td>\n",
       "      <td>F</td>\n",
       "      <td>F</td>\n",
       "      <td>F</td>\n",
       "      <td>F</td>\n",
       "      <td>90</td>\n",
       "      <td>F</td>\n",
       "      <td>F</td>\n",
       "      <td>F</td>\n",
       "      <td>F</td>\n",
       "    </tr>\n",
       "    <tr>\n",
       "      <th>5477</th>\n",
       "      <td>12</td>\n",
       "      <td>2</td>\n",
       "      <td>12</td>\n",
       "      <td>8</td>\n",
       "      <td>1</td>\n",
       "      <td>47</td>\n",
       "      <td>5</td>\n",
       "      <td>2</td>\n",
       "      <td>0</td>\n",
       "      <td>4</td>\n",
       "      <td>9</td>\n",
       "      <td>22</td>\n",
       "      <td>F</td>\n",
       "      <td>F</td>\n",
       "      <td>F</td>\n",
       "      <td>F</td>\n",
       "      <td>260</td>\n",
       "      <td>F</td>\n",
       "      <td>F</td>\n",
       "      <td>F</td>\n",
       "      <td>F</td>\n",
       "    </tr>\n",
       "    <tr>\n",
       "      <th>5507</th>\n",
       "      <td>36</td>\n",
       "      <td>0</td>\n",
       "      <td>0</td>\n",
       "      <td>0</td>\n",
       "      <td>0</td>\n",
       "      <td>35</td>\n",
       "      <td>31</td>\n",
       "      <td>0</td>\n",
       "      <td>0</td>\n",
       "      <td>4</td>\n",
       "      <td>0</td>\n",
       "      <td>27</td>\n",
       "      <td>F</td>\n",
       "      <td>F</td>\n",
       "      <td>T</td>\n",
       "      <td>T</td>\n",
       "      <td>0</td>\n",
       "      <td>F</td>\n",
       "      <td>F</td>\n",
       "      <td>T</td>\n",
       "      <td>F</td>\n",
       "    </tr>\n",
       "    <tr>\n",
       "      <th>8</th>\n",
       "      <td>0</td>\n",
       "      <td>0</td>\n",
       "      <td>0</td>\n",
       "      <td>0</td>\n",
       "      <td>0</td>\n",
       "      <td>45</td>\n",
       "      <td>-3</td>\n",
       "      <td>0</td>\n",
       "      <td>0</td>\n",
       "      <td>1</td>\n",
       "      <td>11</td>\n",
       "      <td>51</td>\n",
       "      <td>F</td>\n",
       "      <td>F</td>\n",
       "      <td>F</td>\n",
       "      <td>F</td>\n",
       "      <td>0</td>\n",
       "      <td>F</td>\n",
       "      <td>T</td>\n",
       "      <td>F</td>\n",
       "      <td>F</td>\n",
       "    </tr>\n",
       "    <tr>\n",
       "      <th>158</th>\n",
       "      <td>48</td>\n",
       "      <td>0</td>\n",
       "      <td>0</td>\n",
       "      <td>0</td>\n",
       "      <td>0</td>\n",
       "      <td>13</td>\n",
       "      <td>39</td>\n",
       "      <td>0</td>\n",
       "      <td>0</td>\n",
       "      <td>6</td>\n",
       "      <td>11</td>\n",
       "      <td>8</td>\n",
       "      <td>F</td>\n",
       "      <td>F</td>\n",
       "      <td>F</td>\n",
       "      <td>F</td>\n",
       "      <td>0</td>\n",
       "      <td>F</td>\n",
       "      <td>F</td>\n",
       "      <td>T</td>\n",
       "      <td>F</td>\n",
       "    </tr>\n",
       "  </tbody>\n",
       "</table>\n",
       "</div>"
      ],
      "text/plain": [
       "             Months_as_a_Customer  Number_of_Products  RFM_Score  \\\n",
       "Customer_ID                                                        \n",
       "5409                           24                   3         10   \n",
       "5477                           12                   2         12   \n",
       "5507                           36                   0          0   \n",
       "8                               0                   0          0   \n",
       "158                            48                   0          0   \n",
       "\n",
       "             Average_Balance_Feed_Index  Number_of_Transactions  \\\n",
       "Customer_ID                                                       \n",
       "5409                                229                       2   \n",
       "5477                                  8                       1   \n",
       "5507                                  0                       0   \n",
       "8                                     0                       0   \n",
       "158                                   0                       0   \n",
       "\n",
       "             Personal_Debt_to_Equity_Ratio  Months_Current_Account  \\\n",
       "Customer_ID                                                          \n",
       "5409                                    40                      13   \n",
       "5477                                    47                       5   \n",
       "5507                                    35                      31   \n",
       "8                                       45                      -3   \n",
       "158                                     13                      39   \n",
       "\n",
       "             Number_of_Loan_Accounts  Has_Bad_Payment_Record  \\\n",
       "Customer_ID                                                    \n",
       "5409                               0                       0   \n",
       "5477                               2                       0   \n",
       "5507                               0                       0   \n",
       "8                                  0                       0   \n",
       "158                                0                       0   \n",
       "\n",
       "             Members_Within_Household  Number_of_Call_Center_Contacts  \\\n",
       "Customer_ID                                                             \n",
       "5409                                5                               9   \n",
       "5477                                4                               9   \n",
       "5507                                4                               0   \n",
       "8                                   1                              11   \n",
       "158                                 6                              11   \n",
       "\n",
       "             Weeks_Since_Last_Offer Accepted_Personal_Loan Accepted_Retention  \\\n",
       "Customer_ID                                                                     \n",
       "5409                             17                      F                  F   \n",
       "5477                             22                      F                  F   \n",
       "5507                             27                      F                  F   \n",
       "8                                51                      F                  F   \n",
       "158                               8                      F                  F   \n",
       "\n",
       "            Accepted_Home_Equity_Loan Accepted_Credit_Card  Annual_value  \\\n",
       "Customer_ID                                                                \n",
       "5409                                F                    F            90   \n",
       "5477                                F                    F           260   \n",
       "5507                                T                    T             0   \n",
       "8                                   F                    F             0   \n",
       "158                                 F                    F             0   \n",
       "\n",
       "            Interested_in_Personal_Loan Interested_in_Retention  \\\n",
       "Customer_ID                                                       \n",
       "5409                                  F                       F   \n",
       "5477                                  F                       F   \n",
       "5507                                  F                       F   \n",
       "8                                     F                       T   \n",
       "158                                   F                       F   \n",
       "\n",
       "            Interested_in_Home_Equity_Loan Interested_in_Credit_Card  \n",
       "Customer_ID                                                           \n",
       "5409                                     F                         F  \n",
       "5477                                     F                         F  \n",
       "5507                                     T                         F  \n",
       "8                                        F                         F  \n",
       "158                                      T                         F  "
      ]
     },
     "execution_count": 90,
     "metadata": {},
     "output_type": "execute_result"
    }
   ],
   "source": [
    "credit1 = pd.read_table(\"./data/credit1.txt\", index_col = \"Customer_ID\")\n",
    "credit1.head()"
   ]
  },
  {
   "cell_type": "code",
   "execution_count": 91,
   "metadata": {},
   "outputs": [],
   "source": [
    "credit_merged = pd.merge(credit1,credit2, left_index=True, right_on=\"Customer_ID\", how = 'inner', suffixes=(\"_left\", \"_right\"))"
   ]
  },
  {
   "cell_type": "code",
   "execution_count": 92,
   "metadata": {},
   "outputs": [
    {
     "name": "stdout",
     "output_type": "stream",
     "text": [
      "Bravo !\n"
     ]
    }
   ],
   "source": [
    "# pour vérifier que vous avez bien répondu à l'exercice, soumettre cette cellule\n",
    "# on utilise maj + Entrée\n",
    "assert credit_merged.shape[1] == 31\n",
    "print(\"Bravo !\")"
   ]
  },
  {
   "cell_type": "code",
   "execution_count": 93,
   "metadata": {},
   "outputs": [
    {
     "data": {
      "text/html": [
       "<div>\n",
       "<style scoped>\n",
       "    .dataframe tbody tr th:only-of-type {\n",
       "        vertical-align: middle;\n",
       "    }\n",
       "\n",
       "    .dataframe tbody tr th {\n",
       "        vertical-align: top;\n",
       "    }\n",
       "\n",
       "    .dataframe thead th {\n",
       "        text-align: right;\n",
       "    }\n",
       "</style>\n",
       "<table border=\"1\" class=\"dataframe\">\n",
       "  <thead>\n",
       "    <tr style=\"text-align: right;\">\n",
       "      <th></th>\n",
       "      <th>Months_as_a_Customer</th>\n",
       "      <th>Number_of_Products</th>\n",
       "      <th>RFM_Score</th>\n",
       "      <th>Average_Balance_Feed_Index</th>\n",
       "      <th>Number_of_Transactions</th>\n",
       "      <th>Personal_Debt_to_Equity_Ratio</th>\n",
       "      <th>Months_Current_Account</th>\n",
       "      <th>Number_of_Loan_Accounts</th>\n",
       "      <th>Has_Bad_Payment_Record</th>\n",
       "      <th>Members_Within_Household</th>\n",
       "      <th>Number_of_Call_Center_Contacts</th>\n",
       "      <th>Weeks_Since_Last_Offer</th>\n",
       "      <th>Accepted_Personal_Loan</th>\n",
       "      <th>Accepted_Retention</th>\n",
       "      <th>Accepted_Home_Equity_Loan</th>\n",
       "      <th>Accepted_Credit_Card</th>\n",
       "      <th>Annual_value</th>\n",
       "      <th>Interested_in_Personal_Loan</th>\n",
       "      <th>Interested_in_Retention</th>\n",
       "      <th>Interested_in_Home_Equity_Loan</th>\n",
       "      <th>Interested_in_Credit_Card</th>\n",
       "      <th>Age</th>\n",
       "      <th>Gender</th>\n",
       "      <th>Marital_Status</th>\n",
       "      <th>Age_Youngest_Child</th>\n",
       "      <th>Number_of_Workers_in_Household</th>\n",
       "      <th>Percentage_White_Collar_Workers</th>\n",
       "      <th>Household_Debt_to_Equity_Ratio</th>\n",
       "      <th>Income</th>\n",
       "      <th>Homeowner</th>\n",
       "      <th>Customer_ID</th>\n",
       "    </tr>\n",
       "  </thead>\n",
       "  <tbody>\n",
       "    <tr>\n",
       "      <th>0</th>\n",
       "      <td>24</td>\n",
       "      <td>3</td>\n",
       "      <td>10</td>\n",
       "      <td>229</td>\n",
       "      <td>2</td>\n",
       "      <td>40</td>\n",
       "      <td>13</td>\n",
       "      <td>0</td>\n",
       "      <td>0</td>\n",
       "      <td>5</td>\n",
       "      <td>9</td>\n",
       "      <td>17</td>\n",
       "      <td>F</td>\n",
       "      <td>F</td>\n",
       "      <td>F</td>\n",
       "      <td>F</td>\n",
       "      <td>90</td>\n",
       "      <td>F</td>\n",
       "      <td>F</td>\n",
       "      <td>F</td>\n",
       "      <td>F</td>\n",
       "      <td>40</td>\n",
       "      <td>F</td>\n",
       "      <td>S</td>\n",
       "      <td>11</td>\n",
       "      <td>6</td>\n",
       "      <td>37</td>\n",
       "      <td>56</td>\n",
       "      <td>37073</td>\n",
       "      <td>F</td>\n",
       "      <td>5409</td>\n",
       "    </tr>\n",
       "    <tr>\n",
       "      <th>1</th>\n",
       "      <td>12</td>\n",
       "      <td>2</td>\n",
       "      <td>12</td>\n",
       "      <td>8</td>\n",
       "      <td>1</td>\n",
       "      <td>47</td>\n",
       "      <td>5</td>\n",
       "      <td>2</td>\n",
       "      <td>0</td>\n",
       "      <td>4</td>\n",
       "      <td>9</td>\n",
       "      <td>22</td>\n",
       "      <td>F</td>\n",
       "      <td>F</td>\n",
       "      <td>F</td>\n",
       "      <td>F</td>\n",
       "      <td>260</td>\n",
       "      <td>F</td>\n",
       "      <td>F</td>\n",
       "      <td>F</td>\n",
       "      <td>F</td>\n",
       "      <td>47</td>\n",
       "      <td>M</td>\n",
       "      <td>M</td>\n",
       "      <td>13</td>\n",
       "      <td>13</td>\n",
       "      <td>30</td>\n",
       "      <td>56</td>\n",
       "      <td>50721</td>\n",
       "      <td>F</td>\n",
       "      <td>5477</td>\n",
       "    </tr>\n",
       "    <tr>\n",
       "      <th>2</th>\n",
       "      <td>36</td>\n",
       "      <td>0</td>\n",
       "      <td>0</td>\n",
       "      <td>0</td>\n",
       "      <td>0</td>\n",
       "      <td>35</td>\n",
       "      <td>31</td>\n",
       "      <td>0</td>\n",
       "      <td>0</td>\n",
       "      <td>4</td>\n",
       "      <td>0</td>\n",
       "      <td>27</td>\n",
       "      <td>F</td>\n",
       "      <td>F</td>\n",
       "      <td>T</td>\n",
       "      <td>T</td>\n",
       "      <td>0</td>\n",
       "      <td>F</td>\n",
       "      <td>F</td>\n",
       "      <td>T</td>\n",
       "      <td>F</td>\n",
       "      <td>35</td>\n",
       "      <td>F</td>\n",
       "      <td>U</td>\n",
       "      <td>1</td>\n",
       "      <td>9</td>\n",
       "      <td>33</td>\n",
       "      <td>57</td>\n",
       "      <td>43578</td>\n",
       "      <td>T</td>\n",
       "      <td>5507</td>\n",
       "    </tr>\n",
       "    <tr>\n",
       "      <th>3</th>\n",
       "      <td>0</td>\n",
       "      <td>0</td>\n",
       "      <td>0</td>\n",
       "      <td>0</td>\n",
       "      <td>0</td>\n",
       "      <td>45</td>\n",
       "      <td>-3</td>\n",
       "      <td>0</td>\n",
       "      <td>0</td>\n",
       "      <td>1</td>\n",
       "      <td>11</td>\n",
       "      <td>51</td>\n",
       "      <td>F</td>\n",
       "      <td>F</td>\n",
       "      <td>F</td>\n",
       "      <td>F</td>\n",
       "      <td>0</td>\n",
       "      <td>F</td>\n",
       "      <td>T</td>\n",
       "      <td>F</td>\n",
       "      <td>F</td>\n",
       "      <td>45</td>\n",
       "      <td>M</td>\n",
       "      <td>U</td>\n",
       "      <td>15</td>\n",
       "      <td>7</td>\n",
       "      <td>30</td>\n",
       "      <td>62</td>\n",
       "      <td>69553</td>\n",
       "      <td>F</td>\n",
       "      <td>8</td>\n",
       "    </tr>\n",
       "    <tr>\n",
       "      <th>4</th>\n",
       "      <td>48</td>\n",
       "      <td>0</td>\n",
       "      <td>0</td>\n",
       "      <td>0</td>\n",
       "      <td>0</td>\n",
       "      <td>13</td>\n",
       "      <td>39</td>\n",
       "      <td>0</td>\n",
       "      <td>0</td>\n",
       "      <td>6</td>\n",
       "      <td>11</td>\n",
       "      <td>8</td>\n",
       "      <td>F</td>\n",
       "      <td>F</td>\n",
       "      <td>F</td>\n",
       "      <td>F</td>\n",
       "      <td>0</td>\n",
       "      <td>F</td>\n",
       "      <td>F</td>\n",
       "      <td>T</td>\n",
       "      <td>F</td>\n",
       "      <td>13</td>\n",
       "      <td>F</td>\n",
       "      <td>S</td>\n",
       "      <td>0</td>\n",
       "      <td>7</td>\n",
       "      <td>27</td>\n",
       "      <td>64</td>\n",
       "      <td>37502</td>\n",
       "      <td>T</td>\n",
       "      <td>158</td>\n",
       "    </tr>\n",
       "  </tbody>\n",
       "</table>\n",
       "</div>"
      ],
      "text/plain": [
       "   Months_as_a_Customer  Number_of_Products  RFM_Score  \\\n",
       "0                    24                   3         10   \n",
       "1                    12                   2         12   \n",
       "2                    36                   0          0   \n",
       "3                     0                   0          0   \n",
       "4                    48                   0          0   \n",
       "\n",
       "   Average_Balance_Feed_Index  Number_of_Transactions  \\\n",
       "0                         229                       2   \n",
       "1                           8                       1   \n",
       "2                           0                       0   \n",
       "3                           0                       0   \n",
       "4                           0                       0   \n",
       "\n",
       "   Personal_Debt_to_Equity_Ratio  Months_Current_Account  \\\n",
       "0                             40                      13   \n",
       "1                             47                       5   \n",
       "2                             35                      31   \n",
       "3                             45                      -3   \n",
       "4                             13                      39   \n",
       "\n",
       "   Number_of_Loan_Accounts  Has_Bad_Payment_Record  Members_Within_Household  \\\n",
       "0                        0                       0                         5   \n",
       "1                        2                       0                         4   \n",
       "2                        0                       0                         4   \n",
       "3                        0                       0                         1   \n",
       "4                        0                       0                         6   \n",
       "\n",
       "   Number_of_Call_Center_Contacts  Weeks_Since_Last_Offer  \\\n",
       "0                               9                      17   \n",
       "1                               9                      22   \n",
       "2                               0                      27   \n",
       "3                              11                      51   \n",
       "4                              11                       8   \n",
       "\n",
       "  Accepted_Personal_Loan Accepted_Retention Accepted_Home_Equity_Loan  \\\n",
       "0                      F                  F                         F   \n",
       "1                      F                  F                         F   \n",
       "2                      F                  F                         T   \n",
       "3                      F                  F                         F   \n",
       "4                      F                  F                         F   \n",
       "\n",
       "  Accepted_Credit_Card  Annual_value Interested_in_Personal_Loan  \\\n",
       "0                    F            90                           F   \n",
       "1                    F           260                           F   \n",
       "2                    T             0                           F   \n",
       "3                    F             0                           F   \n",
       "4                    F             0                           F   \n",
       "\n",
       "  Interested_in_Retention Interested_in_Home_Equity_Loan  \\\n",
       "0                       F                              F   \n",
       "1                       F                              F   \n",
       "2                       F                              T   \n",
       "3                       T                              F   \n",
       "4                       F                              T   \n",
       "\n",
       "  Interested_in_Credit_Card  Age Gender Marital_Status  Age_Youngest_Child  \\\n",
       "0                         F   40      F              S                  11   \n",
       "1                         F   47      M              M                  13   \n",
       "2                         F   35      F              U                   1   \n",
       "3                         F   45      M              U                  15   \n",
       "4                         F   13      F              S                   0   \n",
       "\n",
       "   Number_of_Workers_in_Household  Percentage_White_Collar_Workers  \\\n",
       "0                               6                               37   \n",
       "1                              13                               30   \n",
       "2                               9                               33   \n",
       "3                               7                               30   \n",
       "4                               7                               27   \n",
       "\n",
       "   Household_Debt_to_Equity_Ratio  Income Homeowner  Customer_ID  \n",
       "0                              56   37073         F         5409  \n",
       "1                              56   50721         F         5477  \n",
       "2                              57   43578         T         5507  \n",
       "3                              62   69553         F            8  \n",
       "4                              64   37502         T          158  "
      ]
     },
     "execution_count": 93,
     "metadata": {},
     "output_type": "execute_result"
    }
   ],
   "source": [
    "credit_merged.head()"
   ]
  },
  {
   "cell_type": "markdown",
   "metadata": {
    "slideshow": {
     "slide_type": "slide"
    }
   },
   "source": [
    "# Gestion des duplications\n",
    "\n",
    "- On utilise `.duplicated()` ou `.drop_duplicates()` dans le cas où on désire effacer les lignes se répétant\n",
    "\n",
    "\n",
    "- On peut se concentrer sur une seule variables en entrant directement le nom de la variable. Dans ce cas, c’est la première apparition qui compte. Si on veut prendre la dernière apparition, on utilise l’option `keep=\"last\"`. On pourra avoir :\n",
    "```python\n",
    "frame1.drop_duplicates([\"col_0\",\"col_1\"],keep=\"last\")\n",
    "```"
   ]
  },
  {
   "cell_type": "markdown",
   "metadata": {
    "slideshow": {
     "slide_type": "slide"
    }
   },
   "source": [
    "# Discrétisation\n",
    "\n",
    "Pour discrétiser, on utilise la fonction `pd.cut()`, on va définir une liste de points pour discrétiser et on entre cette liste comme second paramètre de la fonction.\n",
    "\n",
    "Une fois discrétisé, on peut afficher les modalités obtenues en utilisant `.categories`\n",
    "\n",
    "On peut aussi compter les occurrence en utilisant `pd.value_counts()`\n",
    "\n",
    "Il est aussi possible d’entrer le nombre de segments comme second paramètre\n",
    "\n",
    "On utilisera aussi `qcut()`"
   ]
  },
  {
   "cell_type": "code",
   "execution_count": 94,
   "metadata": {},
   "outputs": [
    {
     "data": {
      "text/plain": [
       "(24.6, 39.2]     845\n",
       "(39.2, 53.8]     722\n",
       "(9.927, 24.6]    204\n",
       "(53.8, 68.4]     187\n",
       "(68.4, 83.0]      42\n",
       "Name: Age, dtype: int64"
      ]
     },
     "execution_count": 94,
     "metadata": {},
     "output_type": "execute_result"
    }
   ],
   "source": [
    "pd.cut(credit_merged[\"Age\"], 5).value_counts()"
   ]
  },
  {
   "cell_type": "code",
   "execution_count": 95,
   "metadata": {},
   "outputs": [
    {
     "data": {
      "text/plain": [
       "(35, 45]     716\n",
       "(25, 35]     501\n",
       "(45, 60]     436\n",
       "(18, 25]     168\n",
       "(60, 100]    113\n",
       "(0, 18]       66\n",
       "Name: Age, dtype: int64"
      ]
     },
     "execution_count": 95,
     "metadata": {},
     "output_type": "execute_result"
    }
   ],
   "source": [
    "pd.cut(credit_merged[\"Age\"], [0,18,25,35,45,60,100]).value_counts()"
   ]
  },
  {
   "cell_type": "code",
   "execution_count": 96,
   "metadata": {},
   "outputs": [
    {
     "data": {
      "text/plain": [
       "(9.999, 30.0]    451\n",
       "(41.0, 49.0]     427\n",
       "(36.0, 41.0]     390\n",
       "(30.0, 36.0]     367\n",
       "(49.0, 83.0]     365\n",
       "Name: Age, dtype: int64"
      ]
     },
     "execution_count": 96,
     "metadata": {},
     "output_type": "execute_result"
    }
   ],
   "source": [
    "pd.qcut(credit_merged[\"Age\"], 5).value_counts()"
   ]
  },
  {
   "cell_type": "markdown",
   "metadata": {
    "slideshow": {
     "slide_type": "subslide"
    }
   },
   "source": [
    "**Exercice :**\n",
    "    \n",
    "Créez une variable dans le dataframe AirBnB pour obtenir 5 niveaux de prix."
   ]
  },
  {
   "cell_type": "code",
   "execution_count": 97,
   "metadata": {},
   "outputs": [],
   "source": [
    "airbnb[\"price_disc\"] = pd.qcut(airbnb['price_num'],5)"
   ]
  },
  {
   "cell_type": "code",
   "execution_count": 98,
   "metadata": {},
   "outputs": [
    {
     "name": "stdout",
     "output_type": "stream",
     "text": [
      "Bravo !\n"
     ]
    }
   ],
   "source": [
    "assert airbnb[\"price_disc\"].dtype == \"category\"\n",
    "print(\"Bravo !\")"
   ]
  },
  {
   "cell_type": "code",
   "execution_count": 99,
   "metadata": {},
   "outputs": [
    {
     "data": {
      "text/plain": [
       "<AxesSubplot:>"
      ]
     },
     "execution_count": 99,
     "metadata": {},
     "output_type": "execute_result"
    },
    {
     "data": {
      "image/png": "[encoded data removed]",
      "text/plain": [
       "<Figure size 432x288 with 1 Axes>"
      ]
     },
     "metadata": {
      "needs_background": "light"
     },
     "output_type": "display_data"
    }
   ],
   "source": [
    "airbnb[\"price_disc\"].value_counts(normalize=True).sort_index().plot.bar()"
   ]
  },
  {
   "cell_type": "markdown",
   "metadata": {
    "slideshow": {
     "slide_type": "slide"
    }
   },
   "source": [
    "# Les tableaux croisés avec Pandas\n",
    "\n",
    "Les DataFrame possèdent des méthodes pour générer des tableaux croisés, notamment :\n",
    "```python\n",
    "frame1.pivot_table()\n",
    "```\n",
    "Cette méthode permet de gérer de nombreux cas avec des fonctions standards et sur mesure."
   ]
  },
  {
   "cell_type": "markdown",
   "metadata": {
    "slideshow": {
     "slide_type": "subslide"
    }
   },
   "source": [
    "**Exercice :**\n",
    "    \n",
    "Afficher un tableau Pivot pour les données AirBnB. On croise `cancellation_policy` et `room_type` et on compte les occurences et stockez le"
   ]
  },
  {
   "cell_type": "code",
   "execution_count": 100,
   "metadata": {},
   "outputs": [
    {
     "data": {
      "text/html": [
       "<div>\n",
       "<style scoped>\n",
       "    .dataframe tbody tr th:only-of-type {\n",
       "        vertical-align: middle;\n",
       "    }\n",
       "\n",
       "    .dataframe tbody tr th {\n",
       "        vertical-align: top;\n",
       "    }\n",
       "\n",
       "    .dataframe thead tr th {\n",
       "        text-align: left;\n",
       "    }\n",
       "\n",
       "    .dataframe thead tr:last-of-type th {\n",
       "        text-align: right;\n",
       "    }\n",
       "</style>\n",
       "<table border=\"1\" class=\"dataframe\">\n",
       "  <thead>\n",
       "    <tr>\n",
       "      <th></th>\n",
       "      <th colspan=\"3\" halign=\"left\">count</th>\n",
       "      <th colspan=\"3\" halign=\"left\">mean</th>\n",
       "    </tr>\n",
       "    <tr>\n",
       "      <th>room_type</th>\n",
       "      <th>Entire home/apt</th>\n",
       "      <th>Private room</th>\n",
       "      <th>Shared room</th>\n",
       "      <th>Entire home/apt</th>\n",
       "      <th>Private room</th>\n",
       "      <th>Shared room</th>\n",
       "    </tr>\n",
       "    <tr>\n",
       "      <th>cancellation_policy</th>\n",
       "      <th></th>\n",
       "      <th></th>\n",
       "      <th></th>\n",
       "      <th></th>\n",
       "      <th></th>\n",
       "      <th></th>\n",
       "    </tr>\n",
       "  </thead>\n",
       "  <tbody>\n",
       "    <tr>\n",
       "      <th>flexible</th>\n",
       "      <td>16789.0</td>\n",
       "      <td>3734.0</td>\n",
       "      <td>218.0</td>\n",
       "      <td>95.350408</td>\n",
       "      <td>109.948313</td>\n",
       "      <td>73.564220</td>\n",
       "    </tr>\n",
       "    <tr>\n",
       "      <th>moderate</th>\n",
       "      <td>16120.0</td>\n",
       "      <td>2020.0</td>\n",
       "      <td>71.0</td>\n",
       "      <td>104.016005</td>\n",
       "      <td>125.259901</td>\n",
       "      <td>40.887324</td>\n",
       "    </tr>\n",
       "    <tr>\n",
       "      <th>strict</th>\n",
       "      <td>2.0</td>\n",
       "      <td>NaN</td>\n",
       "      <td>NaN</td>\n",
       "      <td>63.000000</td>\n",
       "      <td>NaN</td>\n",
       "      <td>NaN</td>\n",
       "    </tr>\n",
       "    <tr>\n",
       "      <th>strict_14_with_grace_period</th>\n",
       "      <td>17813.0</td>\n",
       "      <td>1717.0</td>\n",
       "      <td>178.0</td>\n",
       "      <td>141.510807</td>\n",
       "      <td>92.999418</td>\n",
       "      <td>64.224719</td>\n",
       "    </tr>\n",
       "    <tr>\n",
       "      <th>super_strict_30</th>\n",
       "      <td>128.0</td>\n",
       "      <td>33.0</td>\n",
       "      <td>NaN</td>\n",
       "      <td>253.656250</td>\n",
       "      <td>541.363636</td>\n",
       "      <td>NaN</td>\n",
       "    </tr>\n",
       "    <tr>\n",
       "      <th>super_strict_60</th>\n",
       "      <td>280.0</td>\n",
       "      <td>23.0</td>\n",
       "      <td>NaN</td>\n",
       "      <td>590.639286</td>\n",
       "      <td>440.000000</td>\n",
       "      <td>NaN</td>\n",
       "    </tr>\n",
       "  </tbody>\n",
       "</table>\n",
       "</div>"
      ],
      "text/plain": [
       "                                      count                           \\\n",
       "room_type                   Entire home/apt Private room Shared room   \n",
       "cancellation_policy                                                    \n",
       "flexible                            16789.0       3734.0       218.0   \n",
       "moderate                            16120.0       2020.0        71.0   \n",
       "strict                                  2.0          NaN         NaN   \n",
       "strict_14_with_grace_period         17813.0       1717.0       178.0   \n",
       "super_strict_30                       128.0         33.0         NaN   \n",
       "super_strict_60                       280.0         23.0         NaN   \n",
       "\n",
       "                                       mean                           \n",
       "room_type                   Entire home/apt Private room Shared room  \n",
       "cancellation_policy                                                   \n",
       "flexible                          95.350408   109.948313   73.564220  \n",
       "moderate                         104.016005   125.259901   40.887324  \n",
       "strict                            63.000000          NaN         NaN  \n",
       "strict_14_with_grace_period      141.510807    92.999418   64.224719  \n",
       "super_strict_30                  253.656250   541.363636         NaN  \n",
       "super_strict_60                  590.639286   440.000000         NaN  "
      ]
     },
     "execution_count": 100,
     "metadata": {},
     "output_type": "execute_result"
    }
   ],
   "source": [
    "airbnb.pivot_table(index=\"cancellation_policy\", columns = \"room_type\", aggfunc=[\"count\",\"mean\"], values=\"price_num\")"
   ]
  },
  {
   "cell_type": "markdown",
   "metadata": {
    "slideshow": {
     "slide_type": "slide"
    }
   },
   "source": [
    "# L'utilisation de GroupBy sur des DataFrame\n",
    "\n",
    "- `.groupby` permet de rassembler des observations en fonction d’une variable dite de groupe\n",
    "\n",
    "\n",
    "- Par exemple, `frame.groupby('X').mean()` donnera les moyennes par groupes de `X`\n",
    "\n",
    "\n",
    "- On peut aussi utiliser `.size()` pour connaître la taille des groupes et utiliser d’autres fonctions (`.sum()`)\n",
    "\n",
    "\n",
    "- On peut effectuer de nombreuses opérations de traitement avec le groupby\n"
   ]
  },
  {
   "cell_type": "code",
   "execution_count": 101,
   "metadata": {},
   "outputs": [],
   "source": [
    "airbnb_gp_room = airbnb.groupby( \"room_type\")"
   ]
  },
  {
   "cell_type": "code",
   "execution_count": 102,
   "metadata": {},
   "outputs": [
    {
     "data": {
      "text/html": [
       "<div>\n",
       "<style scoped>\n",
       "    .dataframe tbody tr th:only-of-type {\n",
       "        vertical-align: middle;\n",
       "    }\n",
       "\n",
       "    .dataframe tbody tr th {\n",
       "        vertical-align: top;\n",
       "    }\n",
       "\n",
       "    .dataframe thead th {\n",
       "        text-align: right;\n",
       "    }\n",
       "</style>\n",
       "<table border=\"1\" class=\"dataframe\">\n",
       "  <thead>\n",
       "    <tr style=\"text-align: right;\">\n",
       "      <th>room_type</th>\n",
       "      <th>Entire home/apt</th>\n",
       "      <th>Private room</th>\n",
       "      <th>Shared room</th>\n",
       "    </tr>\n",
       "  </thead>\n",
       "  <tbody>\n",
       "    <tr>\n",
       "      <th>count</th>\n",
       "      <td>51132.000000</td>\n",
       "      <td>7527.000000</td>\n",
       "      <td>467.000000</td>\n",
       "    </tr>\n",
       "    <tr>\n",
       "      <th>mean</th>\n",
       "      <td>117.270613</td>\n",
       "      <td>113.091139</td>\n",
       "      <td>65.036403</td>\n",
       "    </tr>\n",
       "    <tr>\n",
       "      <th>std</th>\n",
       "      <td>155.259620</td>\n",
       "      <td>229.457124</td>\n",
       "      <td>262.244490</td>\n",
       "    </tr>\n",
       "    <tr>\n",
       "      <th>min</th>\n",
       "      <td>0.000000</td>\n",
       "      <td>8.000000</td>\n",
       "      <td>9.000000</td>\n",
       "    </tr>\n",
       "    <tr>\n",
       "      <th>25%</th>\n",
       "      <td>60.000000</td>\n",
       "      <td>40.000000</td>\n",
       "      <td>25.000000</td>\n",
       "    </tr>\n",
       "    <tr>\n",
       "      <th>50%</th>\n",
       "      <td>85.000000</td>\n",
       "      <td>55.000000</td>\n",
       "      <td>34.000000</td>\n",
       "    </tr>\n",
       "    <tr>\n",
       "      <th>75%</th>\n",
       "      <td>125.000000</td>\n",
       "      <td>85.000000</td>\n",
       "      <td>50.000000</td>\n",
       "    </tr>\n",
       "    <tr>\n",
       "      <th>max</th>\n",
       "      <td>9379.000000</td>\n",
       "      <td>8932.000000</td>\n",
       "      <td>5000.000000</td>\n",
       "    </tr>\n",
       "  </tbody>\n",
       "</table>\n",
       "</div>"
      ],
      "text/plain": [
       "room_type  Entire home/apt  Private room  Shared room\n",
       "count         51132.000000   7527.000000   467.000000\n",
       "mean            117.270613    113.091139    65.036403\n",
       "std             155.259620    229.457124   262.244490\n",
       "min               0.000000      8.000000     9.000000\n",
       "25%              60.000000     40.000000    25.000000\n",
       "50%              85.000000     55.000000    34.000000\n",
       "75%             125.000000     85.000000    50.000000\n",
       "max            9379.000000   8932.000000  5000.000000"
      ]
     },
     "execution_count": 102,
     "metadata": {},
     "output_type": "execute_result"
    }
   ],
   "source": [
    "airbnb_gp_room[\"price_num\"].describe().T"
   ]
  },
  {
   "cell_type": "markdown",
   "metadata": {
    "slideshow": {
     "slide_type": "subslide"
    }
   },
   "source": [
    "**Exercice :**\n",
    "    \n",
    "- Données sur les salaires\n",
    "\n",
    "\n",
    "- On utilise le `groupby()` pour rassembler les types d’emploi\n",
    "\n",
    "\n",
    "- Et on calcule des statistiques pour chaque type\n",
    "\n",
    "\n",
    "On peut utiliser la méthode `.agg()` avec par exemple `'mean'` comme paramètre\n",
    "\n",
    "On utilise aussi fréquemment la méthode `.apply()` combinée à une fonction lambda"
   ]
  },
  {
   "cell_type": "code",
   "execution_count": 103,
   "metadata": {},
   "outputs": [
    {
     "data": {
      "text/html": [
       "<div>\n",
       "<style scoped>\n",
       "    .dataframe tbody tr th:only-of-type {\n",
       "        vertical-align: middle;\n",
       "    }\n",
       "\n",
       "    .dataframe tbody tr th {\n",
       "        vertical-align: top;\n",
       "    }\n",
       "\n",
       "    .dataframe thead th {\n",
       "        text-align: right;\n",
       "    }\n",
       "</style>\n",
       "<table border=\"1\" class=\"dataframe\">\n",
       "  <thead>\n",
       "    <tr style=\"text-align: right;\">\n",
       "      <th></th>\n",
       "      <th>mean</th>\n",
       "      <th>count</th>\n",
       "    </tr>\n",
       "    <tr>\n",
       "      <th>JobTitle</th>\n",
       "      <th></th>\n",
       "      <th></th>\n",
       "    </tr>\n",
       "  </thead>\n",
       "  <tbody>\n",
       "    <tr>\n",
       "      <th>zoo curator</th>\n",
       "      <td>66686.560000</td>\n",
       "      <td>1</td>\n",
       "    </tr>\n",
       "    <tr>\n",
       "      <th>principal investigator, tax collector</th>\n",
       "      <td>84196.820000</td>\n",
       "      <td>1</td>\n",
       "    </tr>\n",
       "    <tr>\n",
       "      <th>heavy equipment operations assistant supervisor</th>\n",
       "      <td>92872.000000</td>\n",
       "      <td>1</td>\n",
       "    </tr>\n",
       "    <tr>\n",
       "      <th>captain, bureau of fire prevention and public safe</th>\n",
       "      <td>206704.630000</td>\n",
       "      <td>1</td>\n",
       "    </tr>\n",
       "    <tr>\n",
       "      <th>captain, (fire department)</th>\n",
       "      <td>35332.780000</td>\n",
       "      <td>1</td>\n",
       "    </tr>\n",
       "    <tr>\n",
       "      <th>...</th>\n",
       "      <td>...</td>\n",
       "      <td>...</td>\n",
       "    </tr>\n",
       "    <tr>\n",
       "      <th>firefighter</th>\n",
       "      <td>144222.334675</td>\n",
       "      <td>3153</td>\n",
       "    </tr>\n",
       "    <tr>\n",
       "      <th>custodian</th>\n",
       "      <td>45448.577343</td>\n",
       "      <td>3214</td>\n",
       "    </tr>\n",
       "    <tr>\n",
       "      <th>registered nurse</th>\n",
       "      <td>113466.920872</td>\n",
       "      <td>4955</td>\n",
       "    </tr>\n",
       "    <tr>\n",
       "      <th>special nurse</th>\n",
       "      <td>32717.231561</td>\n",
       "      <td>5791</td>\n",
       "    </tr>\n",
       "    <tr>\n",
       "      <th>transit operator</th>\n",
       "      <td>63958.939444</td>\n",
       "      <td>9424</td>\n",
       "    </tr>\n",
       "  </tbody>\n",
       "</table>\n",
       "<p>1637 rows × 2 columns</p>\n",
       "</div>"
      ],
      "text/plain": [
       "                                                             mean  count\n",
       "JobTitle                                                                \n",
       "zoo curator                                          66686.560000      1\n",
       "principal investigator, tax collector                84196.820000      1\n",
       "heavy equipment operations assistant supervisor      92872.000000      1\n",
       "captain, bureau of fire prevention and public safe  206704.630000      1\n",
       "captain, (fire department)                           35332.780000      1\n",
       "...                                                           ...    ...\n",
       "firefighter                                         144222.334675   3153\n",
       "custodian                                            45448.577343   3214\n",
       "registered nurse                                    113466.920872   4955\n",
       "special nurse                                        32717.231561   5791\n",
       "transit operator                                     63958.939444   9424\n",
       "\n",
       "[1637 rows x 2 columns]"
      ]
     },
     "execution_count": 103,
     "metadata": {},
     "output_type": "execute_result"
    }
   ],
   "source": [
    "salaries[\"JobTitle\"] = salaries[\"JobTitle\"].str.lower()\n",
    "salaries.groupby(\"JobTitle\")[\"TotalPay\"].agg([\"mean\", \"count\"]).sort_values(\"count\")"
   ]
  },
  {
   "cell_type": "markdown",
   "metadata": {},
   "source": [
    "# Exercice récapitulatif\n",
    "\n",
    "Dans une fonction, on pourra utiliser directement le code d'exploration avec peu de changements.\n",
    "\n",
    "**Exercice :**\n",
    "Construire une fonction capable de charger des données, de les transformer et de sauvegarder le résultat dans un fichier\n",
    "\n",
    "*Quelques indications*\n",
    "\n",
    "On utilisera python et pandas, on complètera la fonction ci-dessous :"
   ]
  },
  {
   "cell_type": "code",
   "execution_count": 104,
   "metadata": {},
   "outputs": [
    {
     "data": {
      "text/plain": [
       "'./data/airbnb.csv'"
      ]
     },
     "execution_count": 104,
     "metadata": {},
     "output_type": "execute_result"
    }
   ],
   "source": [
    "import os\n",
    "os.path.join(\"./\",\"data\", \"airbnb.csv\")\n"
   ]
  },
  {
   "cell_type": "code",
   "execution_count": 105,
   "metadata": {},
   "outputs": [],
   "source": [
    "import os\n",
    "\n",
    "def transfo(file_name, \n",
    "            folder_name,\n",
    "            output_file_name,\n",
    "            output_folder_name,\n",
    "            sep_csv = \",\"\n",
    "           ):\n",
    "    \"\"\"\n",
    "    This function should load a file (csv), clean it and export it to Excel\n",
    "    Here are the steps:\n",
    "     - Remove missing values \n",
    "     - Transform dates to Python date format\n",
    "     - Drop duplicated rows\n",
    "    This function should return 0 if all OK / 1 if error\n",
    "    \"\"\"\n",
    "    try:\n",
    "        # on commence par importer la donnée en vérifiant qu'elle se trouve dans le répertoire voulu\n",
    "        # pd.read_csv()\n",
    "        file_input = os.path.join(folder_name,file_name)\n",
    "        df = pd.read_csv(file_input, sep=sep_csv)\n",
    "\n",
    "        # on applique les transformations en utlisant les outils de pandas\n",
    "        # on supprime les données manquantes\n",
    "        # .dropna()\n",
    "        df = df.dropna()\n",
    "        \n",
    "        # on essaye de transformer les colonnes de date en format date python\n",
    "        # pd.to_datetime()\n",
    "        # si le terme \"date\" est compris dans le nom de la colonne\n",
    "        for col_name in df.columns:\n",
    "            if \"date\" in col_name.lower():\n",
    "                df[col_name] = pd.to_datetime(df[col_name],\n",
    "                                              errors = \"ignore\")\n",
    "        \n",
    "        # on supprime les doublons\n",
    "        # .drop_duplicates()\n",
    "        df = df.drop_duplicates()\n",
    "        \n",
    "        # on exporte les données en vérifiant l'existence du répertoire\n",
    "        # .to_excel()\n",
    "        file_output = os.path.join(output_folder_name,output_file_name)\n",
    "        df.to_excel(file_output)\n",
    "        return 0\n",
    "    except FileNotFoundError:\n",
    "        print(\"Attention problème de répertoire introuvable\")\n",
    "        return 1\n",
    "    "
   ]
  },
  {
   "cell_type": "code",
   "execution_count": 106,
   "metadata": {},
   "outputs": [
    {
     "data": {
      "text/plain": [
       "0"
      ]
     },
     "execution_count": 106,
     "metadata": {},
     "output_type": "execute_result"
    }
   ],
   "source": [
    "transfo(\"housing.csv\", \n",
    "            \"./data\",\n",
    "            \"housing.xlsx\",\n",
    "            \"./data\",\n",
    "            sep_csv = \",\")"
   ]
  },
  {
   "cell_type": "code",
   "execution_count": 107,
   "metadata": {},
   "outputs": [
    {
     "name": "stderr",
     "output_type": "stream",
     "text": [
      "/opt/tljh/user/lib/python3.7/site-packages/ipykernel_launcher.py:7: FutureWarning: Your version of xlrd is 1.2.0. In xlrd >= 2.0, only the xls format is supported. As a result, the openpyxl engine will be used if it is installed and the engine argument is not specified. Install openpyxl instead.\n",
      "  import sys\n"
     ]
    },
    {
     "name": "stdout",
     "output_type": "stream",
     "text": [
      "Bravo!\n"
     ]
    }
   ],
   "source": [
    "# test du fonctionnement\n",
    "assert transfo(file_name=\"base-dpt.csv\", \n",
    "               folder_name=\"./data/\",\n",
    "               output_file_name=\"base-dpt.xlsx\",\n",
    "               output_folder_name=\"./data/\", \n",
    "               sep_csv = \";\") == 0\n",
    "data_temp = pd.read_excel(\"./data/base-dpt.xlsx\")\n",
    "assert data_temp.isna().sum().all() == 0\n",
    "print('Bravo!')"
   ]
  }
 ],
 "metadata": {
  "celltoolbar": "Slideshow",
  "kernelspec": {
   "display_name": "Python 3",
   "language": "python",
   "name": "python3"
  },
  "language_info": {
   "codemirror_mode": {
    "name": "ipython",
    "version": 3
   },
   "file_extension": ".py",
   "mimetype": "text/x-python",
   "name": "python",
   "nbconvert_exporter": "python",
   "pygments_lexer": "ipython3",
   "version": "3.7.7"
  }
 },
 "nbformat": 4,
 "nbformat_minor": 4
}
