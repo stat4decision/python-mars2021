{
 "cells": [
  {
   "cell_type": "markdown",
   "metadata": {
    "slideshow": {
     "slide_type": "slide"
    }
   },
   "source": [
    "# Les bases du langage Python\n",
    "\n",
    "\n",
    "- Langage de haut niveau\n",
    "- Langage interprété\n",
    "- Langage orienté objet\n",
    "- Langage le plus proche possible du langage naturel\n",
    "\n",
    "*Attention Python est sensible à la casse*"
   ]
  },
  {
   "cell_type": "markdown",
   "metadata": {
    "slideshow": {
     "slide_type": "slide"
    }
   },
   "source": [
    "# Quelques rappels en Python\n",
    "\n",
    "- Tout est objet même les \"variables\"\n",
    "- Un objet possède toujours des propriétés et des méthodes\n",
    "\n",
    "Avec iPython, on utilise pour connaître les méthodes et les propriétés :\n",
    "```\n",
    "mon_objet.[tabulation]\n",
    "```\n",
    "\n",
    "En python, pour construire un objet (opérateur d'allocation), on utilise toujours `=`"
   ]
  },
  {
   "cell_type": "markdown",
   "metadata": {
    "slideshow": {
     "slide_type": "slide"
    }
   },
   "source": [
    "# Les types en Python\n",
    "\n",
    "Les types de base :\n",
    "- int\n",
    "- float\n",
    "- boolean\n",
    "- string\n",
    "\n",
    "En Python pas besoin de déclarer le type de données, le langage s’en charge tout seul\n",
    "\n",
    "Python est basé sur un typage fort - une fois un objet d'un type donné, Python ne l'adapte pas\n",
    "\n",
    "Pour connaître le type d’une variable, on utilise : type(nom_de_variable)\n"
   ]
  },
  {
   "cell_type": "code",
   "execution_count": 1,
   "metadata": {
    "slideshow": {
     "slide_type": "fragment"
    }
   },
   "outputs": [
    {
     "name": "stdout",
     "output_type": "stream",
     "text": [
      "<class 'float'>\n"
     ]
    }
   ],
   "source": [
    "nom_de_variable = 44.5\n",
    "print(type(nom_de_variable))"
   ]
  },
  {
   "cell_type": "markdown",
   "metadata": {
    "slideshow": {
     "slide_type": "subslide"
    }
   },
   "source": [
    "**Exercice**\n",
    "\n",
    "Définir quatre variables distinctes, un entier `entier1`, un float `float1`, un booléen `bool1` et une chaîne de caractère `chaine1` et affichez-les dans la console.\n",
    "\n",
    "*Indice :* Les booléen s'écrivent `True` et `False`\n"
   ]
  },
  {
   "cell_type": "code",
   "execution_count": 2,
   "metadata": {},
   "outputs": [],
   "source": [
    "entier1 = 33\n",
    "float1 = 33.33\n",
    "bool1 = True\n",
    "chaine1 = \"Python\""
   ]
  },
  {
   "cell_type": "code",
   "execution_count": 3,
   "metadata": {},
   "outputs": [
    {
     "name": "stdout",
     "output_type": "stream",
     "text": [
      "Bravo !\n"
     ]
    }
   ],
   "source": [
    "# pour vérifier que vous avez bien répondu à l'exercice, soumettre cette cellule\n",
    "# on utilise maj + Entrée\n",
    "assert type(entier1)==int, \"entier1 n'est pas un entier\"\n",
    "assert type(float1)==float, \"float1 n'est pas un float\"\n",
    "assert type(bool1)==bool, \"bool1 n'est pas un booléen\"\n",
    "assert type(chaine1)==str, \"chaine1 n'est pas une chaîne de caractère\"\n",
    "print(\"Bravo !\")"
   ]
  },
  {
   "cell_type": "markdown",
   "metadata": {
    "slideshow": {
     "slide_type": "slide"
    }
   },
   "source": [
    "# Les opérations arithmétiques\n",
    "\n",
    "- +\n",
    "- -\n",
    "- *\n",
    "- /\n",
    "- ** (puissance)\n",
    "- % (modulo)"
   ]
  },
  {
   "cell_type": "markdown",
   "metadata": {
    "slideshow": {
     "slide_type": "slide"
    }
   },
   "source": [
    "# Les chaînes de caractères\n",
    "\n",
    "### 3 codages équivalents :"
   ]
  },
  {
   "cell_type": "code",
   "execution_count": 4,
   "metadata": {
    "slideshow": {
     "slide_type": "fragment"
    }
   },
   "outputs": [
    {
     "name": "stdout",
     "output_type": "stream",
     "text": [
      "Python Python Python\n"
     ]
    }
   ],
   "source": [
    "print(\"Python\",'Python',\"\"\"Python\"\"\")"
   ]
  },
  {
   "cell_type": "code",
   "execution_count": 5,
   "metadata": {},
   "outputs": [
    {
     "name": "stdout",
     "output_type": "stream",
     "text": [
      "select * \n",
      "from table1 \n",
      "where col1 = 22\n"
     ]
    }
   ],
   "source": [
    "print(\"\"\"select * \n",
    "from table1 \n",
    "where col1 = 22\"\"\")"
   ]
  },
  {
   "cell_type": "markdown",
   "metadata": {
    "slideshow": {
     "slide_type": "fragment"
    }
   },
   "source": [
    "De nombreuses opérations sur les chaînes : "
   ]
  },
  {
   "cell_type": "code",
   "execution_count": 6,
   "metadata": {
    "slideshow": {
     "slide_type": "fragment"
    }
   },
   "outputs": [
    {
     "name": "stdout",
     "output_type": "stream",
     "text": [
      "6 python PYTHON Python\n"
     ]
    }
   ],
   "source": [
    "chaine1=\"Python\"\n",
    "print(len(chaine1), chaine1.lower(), chaine1.upper(), str(chaine1))"
   ]
  },
  {
   "cell_type": "code",
   "execution_count": 7,
   "metadata": {},
   "outputs": [
    {
     "data": {
      "text/plain": [
       "3"
      ]
     },
     "execution_count": 7,
     "metadata": {},
     "output_type": "execute_result"
    }
   ],
   "source": [
    "chaine1.find(\"h\")"
   ]
  },
  {
   "cell_type": "code",
   "execution_count": 8,
   "metadata": {},
   "outputs": [
    {
     "data": {
      "text/plain": [
       "0"
      ]
     },
     "execution_count": 8,
     "metadata": {},
     "output_type": "execute_result"
    }
   ],
   "source": [
    "chaine1.lower().find(\"p\")"
   ]
  },
  {
   "cell_type": "markdown",
   "metadata": {},
   "source": [
    "Que fait chacune de ces commandes ? (essayez d'expliquer en quelques mots)"
   ]
  },
  {
   "cell_type": "markdown",
   "metadata": {},
   "source": [
    "cha"
   ]
  },
  {
   "cell_type": "markdown",
   "metadata": {},
   "source": [
    "**Remarque :** On a deux différences importantes\n",
    "    \n",
    "- `len(chaine1)` est un appel à la fonction `len()` qui prend comme paramètre un objet\n",
    "- `chaine1.lower()` est un appel à la méthode `lower()` de l'objet `chaine1`\n",
    "\n",
    "La méthode `.lower()` est une fonction qui ne peut s'appliquer que sur un objet chaîne de caractère.\n",
    "\n",
    "*Attention :* ne pas oublier les `()` après `lower` qui indique que c'est une méthode."
   ]
  },
  {
   "cell_type": "markdown",
   "metadata": {
    "slideshow": {
     "slide_type": "subslide"
    }
   },
   "source": [
    "**Exercice**\n",
    "\n",
    "Définir une variable comprenant la chaîne 'Python pour la Science', utilisez des opérations sur les chaînes pour construire la chaine 'PYTHON POUR LA DATA SCIENCE'\n"
   ]
  },
  {
   "cell_type": "code",
   "execution_count": 9,
   "metadata": {},
   "outputs": [],
   "source": [
    "chaine_python = 'Python pour la Science'"
   ]
  },
  {
   "cell_type": "markdown",
   "metadata": {},
   "source": [
    "*Indice :* il faut d'abord ajouter le terme data puis mettre en majuscule"
   ]
  },
  {
   "cell_type": "code",
   "execution_count": 10,
   "metadata": {},
   "outputs": [],
   "source": [
    "chaine_python2 = chaine_python.replace(\"la\", \"la data\").upper()"
   ]
  },
  {
   "cell_type": "code",
   "execution_count": 11,
   "metadata": {},
   "outputs": [
    {
     "data": {
      "text/plain": [
       "'PYTHON POUR LA DATA SCIENCE'"
      ]
     },
     "execution_count": 11,
     "metadata": {},
     "output_type": "execute_result"
    }
   ],
   "source": [
    "pos_science = chaine_python.find(\"Science\")\n",
    "chaine_python2 = (chaine_python[:pos_science]+\"data\"+chaine_python[pos_science-1:]).upper()\n",
    "chaine_python2"
   ]
  },
  {
   "cell_type": "code",
   "execution_count": 12,
   "metadata": {},
   "outputs": [
    {
     "name": "stdout",
     "output_type": "stream",
     "text": [
      "Bravo !\n"
     ]
    }
   ],
   "source": [
    "# pour vérifier que vous avez bien répondu à l'exercice, soumettre cette cellule\n",
    "# on utilise maj + Entrée\n",
    "assert chaine_python2 == 'PYTHON POUR LA DATA SCIENCE', \"la réponse est fausse\"\n",
    "print(\"Bravo !\")"
   ]
  },
  {
   "cell_type": "code",
   "execution_count": 13,
   "metadata": {},
   "outputs": [
    {
     "data": {
      "text/plain": [
       "'Science'"
      ]
     },
     "execution_count": 13,
     "metadata": {},
     "output_type": "execute_result"
    }
   ],
   "source": [
    "chaine_python[-7:]"
   ]
  },
  {
   "cell_type": "markdown",
   "metadata": {
    "slideshow": {
     "slide_type": "slide"
    }
   },
   "source": [
    "# Les opérateurs booléens\n",
    "\n",
    "- `not`, `and` et `or`\n",
    "- Ordres de priorité\n",
    "    - `not`\n",
    "    - `and`\n",
    "    - `or`"
   ]
  },
  {
   "cell_type": "code",
   "execution_count": 14,
   "metadata": {
    "slideshow": {
     "slide_type": "fragment"
    }
   },
   "outputs": [
    {
     "name": "stdout",
     "output_type": "stream",
     "text": [
      "False\n",
      "True\n",
      "False\n",
      "False\n",
      "False\n"
     ]
    }
   ],
   "source": [
    "print(not True)\n",
    "print(True or False)\n",
    "print(True and False)\n",
    "print(not True and False)\n",
    "print(not True or False)"
   ]
  },
  {
   "cell_type": "markdown",
   "metadata": {
    "slideshow": {
     "slide_type": "slide"
    }
   },
   "source": [
    "# Les opérateurs pour les conditions\n",
    "\n",
    "Permet de mettre en place des conditions"
   ]
  },
  {
   "cell_type": "code",
   "execution_count": 15,
   "metadata": {
    "slideshow": {
     "slide_type": "fragment"
    }
   },
   "outputs": [
    {
     "name": "stdout",
     "output_type": "stream",
     "text": [
      "bool1 n'est pas un booléen\n"
     ]
    }
   ],
   "source": [
    "bool1 = 1\n",
    "if bool1 is True:\n",
    "    print(\"C'est vrai\")\n",
    "elif bool1 is False:\n",
    "    print(\"C'est faux\")\n",
    "else:\n",
    "    print(\"bool1 n'est pas un booléen\")\n"
   ]
  },
  {
   "cell_type": "code",
   "execution_count": 16,
   "metadata": {},
   "outputs": [
    {
     "name": "stdout",
     "output_type": "stream",
     "text": [
      "C'est faux\n"
     ]
    }
   ],
   "source": [
    "bool1 = 0\n",
    "if bool1:\n",
    "    print(\"C'est vrai\")\n",
    "elif bool1 == False:\n",
    "    print(\"C'est faux\")\n",
    "else:\n",
    "    print(\"bool1 n'est pas un booléen\")\n"
   ]
  },
  {
   "cell_type": "code",
   "execution_count": 17,
   "metadata": {},
   "outputs": [
    {
     "name": "stdout",
     "output_type": "stream",
     "text": [
      "super\n"
     ]
    }
   ],
   "source": [
    "x = 5.0\n",
    "if x == 5:\n",
    "    print(\"super\")"
   ]
  },
  {
   "cell_type": "markdown",
   "metadata": {
    "slideshow": {
     "slide_type": "fragment"
    }
   },
   "source": [
    "- Attention dans une condition, si on teste l'égalité des valeurs, il faut utiliser == (les autres opérateurs sont <, <=, >, >=, !=)\n",
    "- Il existe aussi l'opérateur is qui est très important en Python (lisibilité)\n",
    "    - Il permet de tester non pas uniquement les valeurs mais les objets similaires ( True == 1 est vrai mais True is 1 est faux) \n",
    "- Veillez à bien respecter l’indentation\n"
   ]
  },
  {
   "cell_type": "markdown",
   "metadata": {
    "slideshow": {
     "slide_type": "slide"
    }
   },
   "source": [
    "# La boucle for\n",
    "\n",
    "- Les boucles for de Python ont une structure spécifique\n",
    "- L'itérateur prend comme valeur les éléments d'une liste\n",
    "- Structure :\n",
    "```\n",
    "for indice in sequence:\n",
    "    instructions\n",
    "```\n",
    "- On peut utiliser `break` pour casser une boucle \n",
    "\n",
    "- `while` peut aussi être utilisé\n"
   ]
  },
  {
   "cell_type": "code",
   "execution_count": 18,
   "metadata": {},
   "outputs": [
    {
     "name": "stdout",
     "output_type": "stream",
     "text": [
      "1\n",
      "2\n",
      "3\n",
      "4\n",
      "5\n"
     ]
    }
   ],
   "source": [
    "for i in range(1,6):\n",
    "    print(i)"
   ]
  },
  {
   "cell_type": "code",
   "execution_count": 19,
   "metadata": {},
   "outputs": [
    {
     "name": "stdout",
     "output_type": "stream",
     "text": [
      "a\n",
      "b\n",
      "c\n"
     ]
    }
   ],
   "source": [
    "for col in [\"a\",\"b\",\"c\"]:\n",
    "    print(col)"
   ]
  },
  {
   "cell_type": "markdown",
   "metadata": {
    "slideshow": {
     "slide_type": "fragment"
    }
   },
   "source": [
    "**La boucle de Python est un outil à manier avec parcimonie (elle est très lente)**"
   ]
  },
  {
   "cell_type": "markdown",
   "metadata": {
    "slideshow": {
     "slide_type": "subslide"
    }
   },
   "source": [
    "L'utilisation de `range(n)` permet de créer une liste de valeur de 0 à **n-1** :"
   ]
  },
  {
   "cell_type": "markdown",
   "metadata": {
    "slideshow": {
     "slide_type": "subslide"
    }
   },
   "source": [
    "**Exercice :**\n",
    "    \n",
    "Créez une boucle for qui parcourt un range de 0 à 5 et qui affiche l'entier `entier` à chaque itérationde la boucle"
   ]
  },
  {
   "cell_type": "code",
   "execution_count": 20,
   "metadata": {},
   "outputs": [],
   "source": [
    "entier = 0\n",
    "for i in range(5):\n",
    "    entier += 1"
   ]
  },
  {
   "cell_type": "code",
   "execution_count": 21,
   "metadata": {},
   "outputs": [
    {
     "name": "stdout",
     "output_type": "stream",
     "text": [
      "Bravo !\n"
     ]
    }
   ],
   "source": [
    "# pour vérifier que vous avez bien répondu à l'exercice, soumettre cette cellule\n",
    "# on utilise maj + Entrée\n",
    "assert entier == 5\n",
    "print(\"Bravo !\")"
   ]
  },
  {
   "cell_type": "markdown",
   "metadata": {
    "slideshow": {
     "slide_type": "fragment"
    }
   },
   "source": [
    "**Exercice :**\n",
    "    \n",
    "    \n",
    "Créer une boucle permettant d’afficher des phrases avec une valeur différente à chaque boucle \"Nous sommes ...\", \"lundi\", \"mardi\"..."
   ]
  },
  {
   "cell_type": "code",
   "execution_count": 22,
   "metadata": {},
   "outputs": [],
   "source": [
    "liste_jours = [\"lundi\", \"mardi\", \"mercredi\"]"
   ]
  },
  {
   "cell_type": "code",
   "execution_count": 23,
   "metadata": {},
   "outputs": [
    {
     "name": "stdout",
     "output_type": "stream",
     "text": [
      "Nous sommes lundi\n",
      "Nous sommes lundi\n",
      "Nous sommes lundi\n",
      "Nous sommes mardi\n",
      "Nous sommes mardi\n",
      "Nous sommes mardi\n",
      "Nous sommes mercredi\n",
      "Nous sommes mercredi\n",
      "Nous sommes mercredi\n"
     ]
    }
   ],
   "source": [
    "# remplacez les ___ par du code\n",
    "for jour in liste_jours:\n",
    "    print(\"Nous sommes\", jour)\n",
    "    print(\"Nous sommes {}\".format(jour))\n",
    "    print(f\"Nous sommes {jour}\")"
   ]
  },
  {
   "cell_type": "markdown",
   "metadata": {},
   "source": [
    "Si c'est trop facile : Essayez d'afficher \"Nous sommes lundi et il fait 15 degrés\" et répétez pour chaque jour"
   ]
  },
  {
   "cell_type": "code",
   "execution_count": 24,
   "metadata": {},
   "outputs": [],
   "source": [
    "liste_temperatures = [15,20,10]"
   ]
  },
  {
   "cell_type": "code",
   "execution_count": 25,
   "metadata": {},
   "outputs": [
    {
     "name": "stdout",
     "output_type": "stream",
     "text": [
      "Nous sommes lundi et il fait 15 degrés\n",
      "Nous sommes mardi et il fait 20 degrés\n",
      "Nous sommes mercredi et il fait 10 degrés\n"
     ]
    }
   ],
   "source": [
    "# indice, il y a beaucoup de façon d'y arriver, on peut aussi utiliser la fonction zip()\n",
    "for jour, temp in zip(liste_jours,liste_temperatures):\n",
    "    print(f\"Nous sommes {jour} et il fait {temp} degrés\")"
   ]
  },
  {
   "cell_type": "code",
   "execution_count": 26,
   "metadata": {},
   "outputs": [
    {
     "name": "stdout",
     "output_type": "stream",
     "text": [
      "Nous sommes lundi et il fait 15 degrés\n",
      "Nous sommes mardi et il fait 20 degrés\n",
      "Nous sommes mercredi et il fait 10 degrés\n"
     ]
    }
   ],
   "source": [
    "for i in range(min(len(liste_jours), len(liste_temperatures))):\n",
    "    print(f\"Nous sommes {liste_jours[i]} et il fait {liste_temperatures[i]} degrés\")"
   ]
  },
  {
   "cell_type": "code",
   "execution_count": 27,
   "metadata": {},
   "outputs": [
    {
     "name": "stdout",
     "output_type": "stream",
     "text": [
      "0 lundi\n",
      "1 mardi\n",
      "2 mercredi\n"
     ]
    }
   ],
   "source": [
    "for i, jour in enumerate(liste_jours):\n",
    "    print(i, jour)"
   ]
  },
  {
   "cell_type": "markdown",
   "metadata": {
    "slideshow": {
     "slide_type": "slide"
    }
   },
   "source": [
    "# Les collections d’objet sous Python\n",
    "\n",
    "Il existe 3 structures principales de données sous Python :\n",
    "- Les tuples : suite de valeurs immuable définie par `( )`\n",
    "- Les listes : suite de valeurs modulable définie par `[ ]`\n",
    "- Les dictionnaires : valeurs indexées clé – valeur défini par `{ }` \n",
    "\n",
    "**Toutes ces structures permettent de stocker n'importe quel type d'objet.**\n",
    "    \n",
    "En Python, quelle que soit la structure, on utilise `[ ]` pour accéder à un élément d’une structure\n",
    "\n",
    "\n",
    "- Dans un tuple : `tup1[0]` permet d’accéder au premier élément\n"
   ]
  },
  {
   "cell_type": "markdown",
   "metadata": {
    "slideshow": {
     "slide_type": "slide"
    }
   },
   "source": [
    "# Les tuples\n",
    "\n",
    "- On ne peut pas modifier un tuple une fois créé\n",
    "\n",
    "**Attention sous Python, le premier indice est toujours le 0**"
   ]
  },
  {
   "cell_type": "code",
   "execution_count": 28,
   "metadata": {
    "slideshow": {
     "slide_type": "fragment"
    }
   },
   "outputs": [
    {
     "name": "stdout",
     "output_type": "stream",
     "text": [
      "6\n",
      "(3, 5)\n"
     ]
    }
   ],
   "source": [
    "#on définit un tuple\n",
    "tu = (1,3,5,7,'python',True)\n",
    "#on peut rechercher sa taille\n",
    "print(len(tu))\n",
    "#on accès aux indices en utilisant []\n",
    "tu2=tu[1:3]\n",
    "print(tu2)"
   ]
  },
  {
   "cell_type": "markdown",
   "metadata": {
    "slideshow": {
     "slide_type": "slide"
    }
   },
   "source": [
    "# Les listes\n",
    "\n",
    "Une liste est un tuple de taille dynamique et modifiable\n",
    "\n",
    "Les listes sont définies avec des `[ ]`\n",
    "\n",
    "Les méthodes sur les listes comprennent :\n",
    "- `.append()`\t\t\tajoute une valeur en fin de liste\n",
    "- `.insert(i,val)`\t\tinsert une valeur à l’indice i\n",
    "- `.pop(i)`\t\t\textrait la valeur de l’indice i\n",
    "- `.reverse()`\t\t\tinverse la liste\n",
    "- `.extend()` \t\t\tétend la liste\n",
    "\n",
    "**Attention la plupart des méthodes des listes modifient la liste.**"
   ]
  },
  {
   "cell_type": "markdown",
   "metadata": {
    "slideshow": {
     "slide_type": "subslide"
    }
   },
   "source": [
    "**Exercice:**\n",
    "    \n",
    "Créez une liste `liste1` composée de 5 éléments, affichez la longueur de la liste."
   ]
  },
  {
   "cell_type": "code",
   "execution_count": 29,
   "metadata": {},
   "outputs": [],
   "source": [
    "liste1 = [3, True, [4,\"a\"], 3.4, 7]"
   ]
  },
  {
   "cell_type": "code",
   "execution_count": 30,
   "metadata": {},
   "outputs": [],
   "source": [
    "# liste1[2][1].upper()"
   ]
  },
  {
   "cell_type": "code",
   "execution_count": 31,
   "metadata": {},
   "outputs": [
    {
     "name": "stdout",
     "output_type": "stream",
     "text": [
      "Bravo !\n"
     ]
    }
   ],
   "source": [
    "# pour vérifier que vous avez bien répondu à l'exercice, soumettre cette cellule\n",
    "# on utilise maj + Entrée\n",
    "assert len(liste1) == 5\n",
    "print(\"Bravo !\")"
   ]
  },
  {
   "cell_type": "markdown",
   "metadata": {
    "slideshow": {
     "slide_type": "fragment"
    }
   },
   "source": [
    "Modifiez la dernière valeur de la liste et construisez une seconde liste `liste2`à partir des 3 dernières valeurs de la liste initiale."
   ]
  },
  {
   "cell_type": "code",
   "execution_count": 32,
   "metadata": {},
   "outputs": [],
   "source": [
    "liste1[-1] = 55"
   ]
  },
  {
   "cell_type": "code",
   "execution_count": 33,
   "metadata": {},
   "outputs": [],
   "source": [
    "liste2 = liste1[-3:]"
   ]
  },
  {
   "cell_type": "code",
   "execution_count": 34,
   "metadata": {},
   "outputs": [
    {
     "name": "stdout",
     "output_type": "stream",
     "text": [
      "Bravo !\n"
     ]
    }
   ],
   "source": [
    "# pour vérifier que vous avez bien répondu à l'exercice, soumettre cette cellule\n",
    "# on utilise maj + Entrée\n",
    "assert liste2 == liste1[-3:]\n",
    "print(\"Bravo !\")"
   ]
  },
  {
   "cell_type": "markdown",
   "metadata": {
    "slideshow": {
     "slide_type": "slide"
    }
   },
   "source": [
    "# Les listes (suite)\n",
    "\n",
    "On peut faire des recherché plus avancées dans les listes :\n",
    "- `val in list` renvoie `True` si la valeur `val` est dans la liste `list`\n",
    "- `.index(val)` renvoie l'indice de la valeur `val`\n",
    "- `.count(val)` renvoie le nombre d'occurrence de `val`\n",
    "- `.remove(val)` retire la valeur `val` de la liste (que la 1ère)\n",
    "\n",
    "Pour supprimer une liste ou un élément d’une liste, on utilise la commande `del`\n"
   ]
  },
  {
   "cell_type": "code",
   "execution_count": 35,
   "metadata": {},
   "outputs": [
    {
     "name": "stdout",
     "output_type": "stream",
     "text": [
      "Variable             Type     Data/Info\n",
      "---------------------------------------\n",
      "bool1                int      0\n",
      "chaine1              str      Python\n",
      "chaine_python        str      Python pour la Science\n",
      "chaine_python2       str      PYTHON POUR LA DATA SCIENCE\n",
      "col                  str      c\n",
      "entier               int      5\n",
      "entier1              int      33\n",
      "float1               float    33.33\n",
      "i                    int      2\n",
      "jour                 str      mercredi\n",
      "liste1               list     n=5\n",
      "liste2               list     n=3\n",
      "liste_jours          list     n=3\n",
      "liste_temperatures   list     n=3\n",
      "nom_de_variable      float    44.5\n",
      "pos_science          int      15\n",
      "temp                 int      10\n",
      "tu                   tuple    n=6\n",
      "tu2                  tuple    n=2\n",
      "x                    float    5.0\n"
     ]
    }
   ],
   "source": [
    "%whos"
   ]
  },
  {
   "cell_type": "code",
   "execution_count": 36,
   "metadata": {},
   "outputs": [
    {
     "data": {
      "text/plain": [
       "'/home/jupyter-stat4decision1/python-mars2021'"
      ]
     },
     "execution_count": 36,
     "metadata": {},
     "output_type": "execute_result"
    }
   ],
   "source": [
    "%pwd"
   ]
  },
  {
   "cell_type": "code",
   "execution_count": 37,
   "metadata": {},
   "outputs": [
    {
     "data": {
      "application/json": {
       "cell": {
        "!": "OSMagics",
        "HTML": "Other",
        "SVG": "Other",
        "bash": "Other",
        "capture": "ExecutionMagics",
        "debug": "ExecutionMagics",
        "file": "Other",
        "html": "DisplayMagics",
        "javascript": "DisplayMagics",
        "js": "DisplayMagics",
        "latex": "DisplayMagics",
        "markdown": "DisplayMagics",
        "perl": "Other",
        "prun": "ExecutionMagics",
        "pypy": "Other",
        "python": "Other",
        "python2": "Other",
        "python3": "Other",
        "ruby": "Other",
        "script": "ScriptMagics",
        "sh": "Other",
        "svg": "DisplayMagics",
        "sx": "OSMagics",
        "system": "OSMagics",
        "time": "ExecutionMagics",
        "timeit": "ExecutionMagics",
        "writefile": "OSMagics"
       },
       "line": {
        "alias": "OSMagics",
        "alias_magic": "BasicMagics",
        "autoawait": "AsyncMagics",
        "autocall": "AutoMagics",
        "automagic": "AutoMagics",
        "autosave": "KernelMagics",
        "bookmark": "OSMagics",
        "cat": "Other",
        "cd": "OSMagics",
        "clear": "KernelMagics",
        "colors": "BasicMagics",
        "conda": "PackagingMagics",
        "config": "ConfigMagics",
        "connect_info": "KernelMagics",
        "cp": "Other",
        "debug": "ExecutionMagics",
        "dhist": "OSMagics",
        "dirs": "OSMagics",
        "doctest_mode": "BasicMagics",
        "ed": "Other",
        "edit": "KernelMagics",
        "env": "OSMagics",
        "gui": "BasicMagics",
        "hist": "Other",
        "history": "HistoryMagics",
        "killbgscripts": "ScriptMagics",
        "ldir": "Other",
        "less": "KernelMagics",
        "lf": "Other",
        "lk": "Other",
        "ll": "Other",
        "load": "CodeMagics",
        "load_ext": "ExtensionMagics",
        "loadpy": "CodeMagics",
        "logoff": "LoggingMagics",
        "logon": "LoggingMagics",
        "logstart": "LoggingMagics",
        "logstate": "LoggingMagics",
        "logstop": "LoggingMagics",
        "ls": "Other",
        "lsmagic": "BasicMagics",
        "lx": "Other",
        "macro": "ExecutionMagics",
        "magic": "BasicMagics",
        "man": "KernelMagics",
        "matplotlib": "PylabMagics",
        "mkdir": "Other",
        "more": "KernelMagics",
        "mv": "Other",
        "notebook": "BasicMagics",
        "page": "BasicMagics",
        "pastebin": "CodeMagics",
        "pdb": "ExecutionMagics",
        "pdef": "NamespaceMagics",
        "pdoc": "NamespaceMagics",
        "pfile": "NamespaceMagics",
        "pinfo": "NamespaceMagics",
        "pinfo2": "NamespaceMagics",
        "pip": "PackagingMagics",
        "popd": "OSMagics",
        "pprint": "BasicMagics",
        "precision": "BasicMagics",
        "prun": "ExecutionMagics",
        "psearch": "NamespaceMagics",
        "psource": "NamespaceMagics",
        "pushd": "OSMagics",
        "pwd": "OSMagics",
        "pycat": "OSMagics",
        "pylab": "PylabMagics",
        "qtconsole": "KernelMagics",
        "quickref": "BasicMagics",
        "recall": "HistoryMagics",
        "rehashx": "OSMagics",
        "reload_ext": "ExtensionMagics",
        "rep": "Other",
        "rerun": "HistoryMagics",
        "reset": "NamespaceMagics",
        "reset_selective": "NamespaceMagics",
        "rm": "Other",
        "rmdir": "Other",
        "run": "ExecutionMagics",
        "save": "CodeMagics",
        "sc": "OSMagics",
        "set_env": "OSMagics",
        "store": "StoreMagics",
        "sx": "OSMagics",
        "system": "OSMagics",
        "tb": "ExecutionMagics",
        "time": "ExecutionMagics",
        "timeit": "ExecutionMagics",
        "unalias": "OSMagics",
        "unload_ext": "ExtensionMagics",
        "who": "NamespaceMagics",
        "who_ls": "NamespaceMagics",
        "whos": "NamespaceMagics",
        "xdel": "NamespaceMagics",
        "xmode": "BasicMagics"
       }
      },
      "text/plain": [
       "Available line magics:\n",
       "%alias  %alias_magic  %autoawait  %autocall  %automagic  %autosave  %bookmark  %cat  %cd  %clear  %colors  %conda  %config  %connect_info  %cp  %debug  %dhist  %dirs  %doctest_mode  %ed  %edit  %env  %gui  %hist  %history  %killbgscripts  %ldir  %less  %lf  %lk  %ll  %load  %load_ext  %loadpy  %logoff  %logon  %logstart  %logstate  %logstop  %ls  %lsmagic  %lx  %macro  %magic  %man  %matplotlib  %mkdir  %more  %mv  %notebook  %page  %pastebin  %pdb  %pdef  %pdoc  %pfile  %pinfo  %pinfo2  %pip  %popd  %pprint  %precision  %prun  %psearch  %psource  %pushd  %pwd  %pycat  %pylab  %qtconsole  %quickref  %recall  %rehashx  %reload_ext  %rep  %rerun  %reset  %reset_selective  %rm  %rmdir  %run  %save  %sc  %set_env  %store  %sx  %system  %tb  %time  %timeit  %unalias  %unload_ext  %who  %who_ls  %whos  %xdel  %xmode\n",
       "\n",
       "Available cell magics:\n",
       "%%!  %%HTML  %%SVG  %%bash  %%capture  %%debug  %%file  %%html  %%javascript  %%js  %%latex  %%markdown  %%perl  %%prun  %%pypy  %%python  %%python2  %%python3  %%ruby  %%script  %%sh  %%svg  %%sx  %%system  %%time  %%timeit  %%writefile\n",
       "\n",
       "Automagic is ON, % prefix IS NOT needed for line magics."
      ]
     },
     "execution_count": 37,
     "metadata": {},
     "output_type": "execute_result"
    }
   ],
   "source": [
    "%lsmagic"
   ]
  },
  {
   "cell_type": "markdown",
   "metadata": {
    "slideshow": {
     "slide_type": "subslide"
    }
   },
   "source": [
    "# Un générateur de liste : la List Comprehension\n",
    "\n",
    "On peut définir des listes de manière plus complexe :"
   ]
  },
  {
   "cell_type": "code",
   "execution_count": 38,
   "metadata": {
    "slideshow": {
     "slide_type": "fragment"
    }
   },
   "outputs": [],
   "source": [
    "listinit = range(100)\n",
    "res = [x**2 for x in listinit if (x % 2 == 0)] "
   ]
  },
  {
   "cell_type": "code",
   "execution_count": 39,
   "metadata": {},
   "outputs": [
    {
     "name": "stdout",
     "output_type": "stream",
     "text": [
      "20.5 µs ± 439 ns per loop (mean ± std. dev. of 7 runs, 10000 loops each)\n"
     ]
    }
   ],
   "source": [
    "%%timeit \n",
    "res = [x**2 for x in listinit if (x % 2 == 0)] "
   ]
  },
  {
   "cell_type": "code",
   "execution_count": 40,
   "metadata": {},
   "outputs": [
    {
     "name": "stdout",
     "output_type": "stream",
     "text": [
      "22 µs ± 183 ns per loop (mean ± std. dev. of 7 runs, 10000 loops each)\n"
     ]
    }
   ],
   "source": [
    "%%timeit \n",
    "res2 = []\n",
    "for x in listinit:\n",
    "    if x % 2 == 0:\n",
    "        res2.append(x**2)"
   ]
  },
  {
   "cell_type": "code",
   "execution_count": 41,
   "metadata": {},
   "outputs": [],
   "source": [
    "liste_col = [\"a\", \"a_bis\", \"b\", \"c_bis\"]"
   ]
  },
  {
   "cell_type": "code",
   "execution_count": 42,
   "metadata": {},
   "outputs": [
    {
     "data": {
      "text/plain": [
       "['a_bis', 'c_bis']"
      ]
     },
     "execution_count": 42,
     "metadata": {},
     "output_type": "execute_result"
    }
   ],
   "source": [
    "liste_filtered = [col for col in liste_col if \"_bis\" in col]\n",
    "liste_filtered"
   ]
  },
  {
   "cell_type": "markdown",
   "metadata": {},
   "source": [
    "Ce code permet de construire une liste en une seule ligne.\n",
    "\n",
    "La liste construire `res` rassemble les valeurs paires au carré."
   ]
  },
  {
   "cell_type": "markdown",
   "metadata": {
    "slideshow": {
     "slide_type": "subslide"
    }
   },
   "source": [
    "**Exercice :**\n",
    "    \n",
    "A partir d’une liste de valeurs en degrés celsius `[0, 10, 20, 35]`, créez une liste en degrés fahrenheits sachant que la formule de transfert est `(9/5*temp+32)`"
   ]
  },
  {
   "cell_type": "code",
   "execution_count": 43,
   "metadata": {},
   "outputs": [],
   "source": [
    "liste_celsius = [0, 10, 20, 35]"
   ]
  },
  {
   "cell_type": "code",
   "execution_count": 44,
   "metadata": {},
   "outputs": [],
   "source": [
    "liste_fahr = [(9/5*temp+32) for temp in liste_celsius]"
   ]
  },
  {
   "cell_type": "code",
   "execution_count": 45,
   "metadata": {},
   "outputs": [
    {
     "name": "stdout",
     "output_type": "stream",
     "text": [
      "Bravo !\n"
     ]
    }
   ],
   "source": [
    "# pour vérifier que vous avez bien répondu à l'exercice, soumettre cette cellule\n",
    "# on utilise maj + Entrée\n",
    "assert liste_fahr == [32, 50, 68, 95]\n",
    "print(\"Bravo !\")"
   ]
  },
  {
   "cell_type": "markdown",
   "metadata": {
    "slideshow": {
     "slide_type": "slide"
    }
   },
   "source": [
    "# Les chaînes de caractères, des listes spécifiques\n",
    "\n",
    "Une chaîne de caractère est une liste avec des méthodes spécifiques (`.upper()`, `.find()`, `.count()`, `.replace()`...)\n",
    "\n",
    "Pour aller plus loin, on peut transformer une chaîne en liste :\n",
    "- Caractère par caractère : `list(str)`\n",
    "- En fonction de séparateurs : `.split(sep)`\n",
    "- Et effectuer l’opération inverse :\n",
    "```\n",
    "sep.join(list)\n",
    "```"
   ]
  },
  {
   "cell_type": "markdown",
   "metadata": {
    "slideshow": {
     "slide_type": "subslide"
    }
   },
   "source": [
    "**Exercice :**\n",
    "\n",
    "Créez la chaîne 'Vive la data science', transformez-la en une liste de quatre éléments."
   ]
  },
  {
   "cell_type": "code",
   "execution_count": 46,
   "metadata": {},
   "outputs": [],
   "source": [
    "chaine_vive =  'Vive la data science'"
   ]
  },
  {
   "cell_type": "code",
   "execution_count": 47,
   "metadata": {},
   "outputs": [],
   "source": [
    "liste_vive = chaine_vive.split()"
   ]
  },
  {
   "cell_type": "code",
   "execution_count": 48,
   "metadata": {},
   "outputs": [
    {
     "name": "stdout",
     "output_type": "stream",
     "text": [
      "Bravo !\n"
     ]
    }
   ],
   "source": [
    "# pour vérifier que vous avez bien répondu à l'exercice, soumettre cette cellule\n",
    "# on utilise maj + Entrée\n",
    "assert liste_vive == ['Vive', 'la', 'data', 'science']\n",
    "print(\"Bravo !\")"
   ]
  },
  {
   "cell_type": "markdown",
   "metadata": {
    "slideshow": {
     "slide_type": "fragment"
    }
   },
   "source": [
    "Ajoutez les valeurs 'Python' et 'et' à cette liste de manière à créer 'Vive Python et la data science'.\n",
    "\n",
    "*Indice :* on pourra utiliser `.insert()`"
   ]
  },
  {
   "cell_type": "code",
   "execution_count": 49,
   "metadata": {},
   "outputs": [],
   "source": [
    "liste_vive.insert(1,\"Python et\")"
   ]
  },
  {
   "cell_type": "markdown",
   "metadata": {
    "slideshow": {
     "slide_type": "fragment"
    }
   },
   "source": [
    "Affichez la chaîne de caractère obtenue."
   ]
  },
  {
   "cell_type": "code",
   "execution_count": 50,
   "metadata": {},
   "outputs": [],
   "source": [
    "chaine_vive2 = \" \".join(liste_vive)"
   ]
  },
  {
   "cell_type": "code",
   "execution_count": 51,
   "metadata": {},
   "outputs": [
    {
     "name": "stdout",
     "output_type": "stream",
     "text": [
      "Bravo !\n"
     ]
    }
   ],
   "source": [
    "# pour vérifier que vous avez bien répondu à l'exercice, soumettre cette cellule\n",
    "# on utilise maj + Entrée\n",
    "assert chaine_vive2 == 'Vive Python et la data science'\n",
    "print(\"Bravo !\")"
   ]
  },
  {
   "cell_type": "markdown",
   "metadata": {
    "slideshow": {
     "slide_type": "subslide"
    }
   },
   "source": [
    "# Chaîne de caractères\n",
    "\n",
    "Pour intégrer des valeurs spécifiques dans une phrase, on utilisera :\n",
    "- `%f`, `%s`, `%i` à l’intérieur de la chaîne (`float`, `str` ou `entier`)\n",
    "- `%( , )` après la chaîne de caractères"
   ]
  },
  {
   "cell_type": "code",
   "execution_count": 52,
   "metadata": {
    "slideshow": {
     "slide_type": "fragment"
    }
   },
   "outputs": [
    {
     "name": "stdout",
     "output_type": "stream",
     "text": [
      "Aujourd'hui nous sommes mercredi\n"
     ]
    }
   ],
   "source": [
    "print(\"Aujourd'hui nous sommes %s\" %(\"mercredi\"))"
   ]
  },
  {
   "cell_type": "markdown",
   "metadata": {
    "slideshow": {
     "slide_type": "fragment"
    }
   },
   "source": [
    "Si on veut intégrer d'autres types, on utilisera la méthode `.format()` et le codage `{}` dans la chaîne"
   ]
  },
  {
   "cell_type": "code",
   "execution_count": 53,
   "metadata": {
    "slideshow": {
     "slide_type": "fragment"
    }
   },
   "outputs": [
    {
     "name": "stdout",
     "output_type": "stream",
     "text": [
      "La liste [4.5, 3.6, 6] est utilisée\n"
     ]
    }
   ],
   "source": [
    "print(\"La liste {} est utilisée\".format([4.5,3.6,6]))"
   ]
  },
  {
   "cell_type": "markdown",
   "metadata": {
    "slideshow": {
     "slide_type": "-"
    }
   },
   "source": [
    "A partir de python 3.7, on peut utiliser les f-string"
   ]
  },
  {
   "cell_type": "code",
   "execution_count": 54,
   "metadata": {},
   "outputs": [
    {
     "name": "stdout",
     "output_type": "stream",
     "text": [
      "Hello! My name is Emmanuel\n"
     ]
    }
   ],
   "source": [
    "name = \"Emmanuel\"\n",
    "hello = f\"Hello! My name is {name}\"\n",
    "print(hello)"
   ]
  },
  {
   "cell_type": "markdown",
   "metadata": {
    "slideshow": {
     "slide_type": "slide"
    }
   },
   "source": [
    "# Les dictionnaires\n",
    "\n",
    "Il s'agit d’une collection d’objets non ordonnés associant les notions \"clé – valeur\"."
   ]
  },
  {
   "cell_type": "code",
   "execution_count": 55,
   "metadata": {
    "slideshow": {
     "slide_type": "fragment"
    }
   },
   "outputs": [],
   "source": [
    "dico = {'data_clients':[5,10,15], 'data_produits':[2,3,6,9], 'data_resp':[4,7,8]}"
   ]
  },
  {
   "cell_type": "code",
   "execution_count": 56,
   "metadata": {
    "slideshow": {
     "slide_type": "fragment"
    }
   },
   "outputs": [
    {
     "name": "stdout",
     "output_type": "stream",
     "text": [
      "dict_keys(['data_clients', 'data_produits', 'data_resp'])\n",
      "dict_values([[5, 10, 15], [2, 3, 6, 9], [4, 7, 8]])\n"
     ]
    }
   ],
   "source": [
    "# On utilise pour afficher la liste des clés et des valeurs\n",
    "print(dico.keys())\n",
    "print(dico.values())"
   ]
  },
  {
   "cell_type": "code",
   "execution_count": 57,
   "metadata": {
    "slideshow": {
     "slide_type": "fragment"
    }
   },
   "outputs": [
    {
     "name": "stdout",
     "output_type": "stream",
     "text": [
      "[5, 10, 15]\n"
     ]
    }
   ],
   "source": [
    "# On accède aux valeurs par clé\n",
    "print(dico[\"data_clients\"])"
   ]
  },
  {
   "cell_type": "code",
   "execution_count": 58,
   "metadata": {},
   "outputs": [
    {
     "name": "stdout",
     "output_type": "stream",
     "text": [
      "data_clients [5, 10, 15]\n",
      "data_produits [2, 3, 6, 9]\n",
      "data_resp [4, 7, 8]\n"
     ]
    }
   ],
   "source": [
    "for cle in dico.keys():\n",
    "    print(cle, dico[cle])"
   ]
  },
  {
   "cell_type": "markdown",
   "metadata": {
    "slideshow": {
     "slide_type": "slide"
    }
   },
   "source": [
    "# Les fonctions \n",
    "\n",
    "- Les niveaux d’une fonction dépendent de l’indentation\n",
    "- On définit une fonction avec `def fonction():`\n",
    "- Le contenu de la fonction suit\n",
    "- La valeur que retourne la fonction est définie par `return` \n",
    "- Les commentaires liés à une fonction sont inclus dans un docstring (commentaire utilisant `\"\"\"`) \n"
   ]
  },
  {
   "cell_type": "code",
   "execution_count": 59,
   "metadata": {
    "slideshow": {
     "slide_type": "fragment"
    }
   },
   "outputs": [],
   "source": [
    "def affichage_produit(val1,val2):\n",
    "    \"\"\"Cette fonction affiche le produit de 2 valeurs\"\"\"\n",
    "    return val1*val2"
   ]
  },
  {
   "cell_type": "markdown",
   "metadata": {
    "slideshow": {
     "slide_type": "subslide"
    }
   },
   "source": [
    "Une fonction peut avoir de multiples arguments dont des argument facultatifs (avec des valeurs par défaut) :"
   ]
  },
  {
   "cell_type": "code",
   "execution_count": 60,
   "metadata": {
    "slideshow": {
     "slide_type": "fragment"
    }
   },
   "outputs": [],
   "source": [
    "def test(a,b,c=3):\n",
    "    return a+b+c"
   ]
  },
  {
   "cell_type": "markdown",
   "metadata": {},
   "source": [
    "**Exercice :** Remplacez `___` par la valeur attendue"
   ]
  },
  {
   "cell_type": "code",
   "execution_count": 61,
   "metadata": {},
   "outputs": [
    {
     "name": "stdout",
     "output_type": "stream",
     "text": [
      "Bravo !\n"
     ]
    }
   ],
   "source": [
    "assert test(2,3) == 8\n",
    "print(\"Bravo !\")"
   ]
  },
  {
   "cell_type": "code",
   "execution_count": 62,
   "metadata": {},
   "outputs": [
    {
     "name": "stdout",
     "output_type": "stream",
     "text": [
      "Bravo !\n"
     ]
    }
   ],
   "source": [
    "assert test(2,3,4) == 9\n",
    "print(\"Bravo !\")"
   ]
  },
  {
   "cell_type": "markdown",
   "metadata": {
    "slideshow": {
     "slide_type": "subslide"
    }
   },
   "source": [
    "On peut avoir un nombre indéfini d’arguments en utilisant `*args` (ils sont rassemblés dans un tuple)"
   ]
  },
  {
   "cell_type": "code",
   "execution_count": 63,
   "metadata": {
    "slideshow": {
     "slide_type": "fragment"
    }
   },
   "outputs": [],
   "source": [
    "def test2(a, b, *args):\n",
    "    val=0\n",
    "    for i in args:\n",
    "        val += i\n",
    "        # val = val + i \n",
    "    return a+b+val"
   ]
  },
  {
   "cell_type": "markdown",
   "metadata": {},
   "source": [
    "**Exercice :** Remplacez `___` par la valeur attendue"
   ]
  },
  {
   "cell_type": "code",
   "execution_count": 64,
   "metadata": {},
   "outputs": [
    {
     "name": "stdout",
     "output_type": "stream",
     "text": [
      "Bravo !\n"
     ]
    }
   ],
   "source": [
    "assert test2(2,4,6,8) == 20\n",
    "print(\"Bravo !\")"
   ]
  },
  {
   "cell_type": "code",
   "execution_count": 65,
   "metadata": {},
   "outputs": [
    {
     "name": "stdout",
     "output_type": "stream",
     "text": [
      "Bravo !\n"
     ]
    }
   ],
   "source": [
    "assert test2(2,4) == 6\n",
    "print(\"Bravo !\")"
   ]
  },
  {
   "cell_type": "code",
   "execution_count": 66,
   "metadata": {},
   "outputs": [
    {
     "data": {
      "text/plain": [
       "45"
      ]
     },
     "execution_count": 66,
     "metadata": {},
     "output_type": "execute_result"
    }
   ],
   "source": [
    "test2(4,7,9,4,1,5,7,8)"
   ]
  },
  {
   "cell_type": "markdown",
   "metadata": {
    "slideshow": {
     "slide_type": "subslide"
    }
   },
   "source": [
    "On peut aussi stocker les options d'une fonction dans un dictionnaire avec `**kwargs`"
   ]
  },
  {
   "cell_type": "code",
   "execution_count": 67,
   "metadata": {
    "slideshow": {
     "slide_type": "fragment"
    }
   },
   "outputs": [],
   "source": [
    "def test3(a,b,*args,w=1,**kwargs):\n",
    "    x=0\n",
    "    for val in args:\n",
    "        x+=val\n",
    "    x+=a\n",
    "    x-=b\n",
    "    x*=w\n",
    "    option1=kwargs.get('option1',False)\n",
    "    option2=kwargs.get('option2',False)\n",
    "    if option1 is True and option2 is True:\n",
    "        print(\"Tout est vrai\")\n",
    "        return x\n",
    "    else:\n",
    "        return x/2"
   ]
  },
  {
   "cell_type": "code",
   "execution_count": 68,
   "metadata": {},
   "outputs": [
    {
     "data": {
      "text/plain": [
       "False"
      ]
     },
     "execution_count": 68,
     "metadata": {},
     "output_type": "execute_result"
    }
   ],
   "source": [
    "dico.get('data_produit', False)"
   ]
  },
  {
   "cell_type": "code",
   "execution_count": 69,
   "metadata": {},
   "outputs": [
    {
     "data": {
      "text/plain": [
       "0.5"
      ]
     },
     "execution_count": 69,
     "metadata": {},
     "output_type": "execute_result"
    }
   ],
   "source": [
    "0.5"
   ]
  },
  {
   "cell_type": "markdown",
   "metadata": {},
   "source": [
    "**Exercice facultatif :** Remplacez `___` par la valeur attendue"
   ]
  },
  {
   "cell_type": "code",
   "execution_count": 70,
   "metadata": {
    "slideshow": {
     "slide_type": "fragment"
    }
   },
   "outputs": [
    {
     "name": "stdout",
     "output_type": "stream",
     "text": [
      "Bravo !\n",
      "Bravo !\n",
      "Tout est vrai\n",
      "Bravo !\n"
     ]
    }
   ],
   "source": [
    "assert test3(1,2) == -0.5\n",
    "print(\"Bravo !\")\n",
    "assert test3(1,2,option1=True) == -0.5\n",
    "print(\"Bravo !\")\n",
    "assert test3(1,2,3,4,w=2,option1=True,option2=True) == 12\n",
    "print(\"Bravo !\")"
   ]
  },
  {
   "cell_type": "code",
   "execution_count": 71,
   "metadata": {},
   "outputs": [],
   "source": [
    "liste_data = [\"a\", \"b\", \"c\"]\n"
   ]
  },
  {
   "cell_type": "code",
   "execution_count": 72,
   "metadata": {},
   "outputs": [
    {
     "name": "stdout",
     "output_type": "stream",
     "text": [
      "a b c\n"
     ]
    }
   ],
   "source": [
    "print(*liste_data)"
   ]
  },
  {
   "cell_type": "markdown",
   "metadata": {},
   "source": [
    "## Exercices récapitulatifs :"
   ]
  },
  {
   "cell_type": "markdown",
   "metadata": {},
   "source": [
    "**Exercice :** Créez la condition suivante :<br>\n",
    "Si \"python\" est compris dans la chaîne `chaine_python`,<br>\n",
    "retourner la chaîne \"bravo !\"<br>\n",
    "Sinon, retourner la chaîne \"autre\"\n",
    "    \n",
    "*Indice :* on va utiliser la commande `in`, on utilise `\"mot\" in chaine`"
   ]
  },
  {
   "cell_type": "code",
   "execution_count": 73,
   "metadata": {},
   "outputs": [],
   "source": [
    "def python_in_str(chaine_python):\n",
    "    \"\"\" Cette fonction renvoie bravo! si le mot \n",
    "    python est compris dans la chaine de caractère\"\"\"\n",
    "    if \"python\" in chaine_python:\n",
    "        return \"bravo !\"\n",
    "    else:\n",
    "        return \"autre\""
   ]
  },
  {
   "cell_type": "code",
   "execution_count": 74,
   "metadata": {},
   "outputs": [
    {
     "name": "stdout",
     "output_type": "stream",
     "text": [
      "Bravo !\n"
     ]
    }
   ],
   "source": [
    "assert python_in_str(\"la data avec python\") == \"bravo !\"\n",
    "print(\"Bravo !\")"
   ]
  },
  {
   "cell_type": "markdown",
   "metadata": {
    "slideshow": {
     "slide_type": "subslide"
    }
   },
   "source": [
    "**Exercice :**\n",
    "\n",
    "Construire une fonction prenant en entrée deux listes et qui retourne la moyenne de tous les éléments des deux listes (une seule valeur)\n"
   ]
  },
  {
   "cell_type": "code",
   "execution_count": 75,
   "metadata": {},
   "outputs": [],
   "source": [
    "def ma_moyenne(liste1, liste2):\n",
    "    return sum(liste1+liste2)/len(liste1+liste2)"
   ]
  },
  {
   "cell_type": "code",
   "execution_count": 76,
   "metadata": {},
   "outputs": [],
   "source": [
    "def ma_moyenne(liste1, liste2):\n",
    "    liste3 = liste1+liste2\n",
    "    somme = 0\n",
    "    for i in range(len(liste3)):\n",
    "        somme += liste3[i]\n",
    "    return somme/len(liste3)"
   ]
  },
  {
   "cell_type": "code",
   "execution_count": 77,
   "metadata": {},
   "outputs": [
    {
     "name": "stdout",
     "output_type": "stream",
     "text": [
      "Bravo !\n"
     ]
    }
   ],
   "source": [
    "# pour vérifier que vous avez bien répondu à l'exercice, soumettre cette cellule\n",
    "# on utilise maj + Entrée\n",
    "assert ma_moyenne([1,2,3],[4,5,6]) == 3.5\n",
    "print(\"Bravo !\")"
   ]
  },
  {
   "cell_type": "markdown",
   "metadata": {},
   "source": [
    "**Exercice facultatif :**\n",
    "    \n",
    "Essayez de construire une fonction calculant la moyenne de plus de 2 listes"
   ]
  },
  {
   "cell_type": "code",
   "execution_count": 78,
   "metadata": {},
   "outputs": [],
   "source": [
    "def ma_moyenne_listes(*listes):\n",
    "    somme = 0\n",
    "    longueur = 0\n",
    "    for liste in listes:\n",
    "        somme += sum(liste)\n",
    "        longeur += len(liste)\n",
    "    return somme / longueur"
   ]
  },
  {
   "cell_type": "code",
   "execution_count": null,
   "metadata": {},
   "outputs": [],
   "source": []
  },
  {
   "cell_type": "markdown",
   "metadata": {},
   "source": [
    "**Exercice :** Automatisation de récupératoin de fichiers\n",
    "\n",
    "On veut créer une fonction en python pour récupérer la liste de tous les fichiers d'un type spécifique dans un répertoie\n"
   ]
  },
  {
   "cell_type": "code",
   "execution_count": 79,
   "metadata": {},
   "outputs": [
    {
     "data": {
      "text/plain": [
       "'/home/jupyter-stat4decision1/python-mars2021'"
      ]
     },
     "execution_count": 79,
     "metadata": {},
     "output_type": "execute_result"
    }
   ],
   "source": [
    "%pwd"
   ]
  },
  {
   "cell_type": "code",
   "execution_count": 80,
   "metadata": {},
   "outputs": [
    {
     "name": "stdout",
     "output_type": "stream",
     "text": [
      "['titanic_test.csv', 'output', 'bce_uai.sas7bdat', 'excel-data.xlsx', 'california.png', 'housing.csv', 'housing.xlsx', 'telecom.csv', 'base-dpt.xlsx', 'titanic', '.ipynb_checkpoints', 'nba_2013.csv', 'credit2.xlsx', 'donnees-hospitalieres-covid19-2020-11-08-19h00.csv', 'us-states.json', 'mes_graphiques2.jpg', 'winequality-white.csv', 'sfpd_districts.json', 'wind-global.nc', 'effectifs-premier-degre.csv', 'sfpd_incidents.csv', 'US_Unemployment_Oct2012.csv', 'vlib.csv', 'ville.xls', 'tour-eiffel.png', 'Advertising.csv', 'salaries.sqlite', 'titanic_train.csv', 'winequality-red.csv', 'SMSSpamCollection', 'all_instructors_by_airport.geojson', 'base-dpt.csv', 'iris.xlsx', 'credit1.txt']\n"
     ]
    }
   ],
   "source": [
    "# indice, on peut utliser ce code qui renvoie tous les fichier d'un répertoire :\n",
    "import os\n",
    "fichiers = os.listdir(\"./data\")\n",
    "print(fichiers)"
   ]
  },
  {
   "cell_type": "code",
   "execution_count": 81,
   "metadata": {},
   "outputs": [],
   "source": [
    "def recup_fichiers(rep, extension):\n",
    "    # 1. on récupère la liste des fichiers\n",
    "    fichiers = os.listdir(rep)\n",
    "    # 2. on sélectionne uniquement les fichiers avec l'extension (on peut faire une boucle et une condition)\n",
    "    liste_fichiers = [fichier for fichier in fichiers if extension in fichier]\n",
    "    return liste_fichiers"
   ]
  },
  {
   "cell_type": "code",
   "execution_count": 82,
   "metadata": {},
   "outputs": [
    {
     "name": "stdout",
     "output_type": "stream",
     "text": [
      "Bravo !\n"
     ]
    }
   ],
   "source": [
    "# pour vérifier que vous avez bien répondu à l'exercice, soumettre cette cellule\n",
    "# on utilise maj + Entrée\n",
    "assert \"telecom.csv\" in recup_fichiers(\"./data\", \".csv\")\n",
    "print(\"Bravo !\")"
   ]
  },
  {
   "cell_type": "markdown",
   "metadata": {
    "slideshow": {
     "slide_type": "slide"
    }
   },
   "source": [
    "# Les packages et les modules en Python\n",
    "\n",
    "- Il s’agit d’un ensemble de fonctions qui pourront être appelées d’un autre programme\n",
    "\n",
    "- On utilise :\n",
    "```\n",
    "import nom_pkg\n",
    "```\n",
    "- Si on utilise `as nm` par exemple, ceci permet de raccourcir l'appel aux fonctions du package\n",
    "- On peut utiliser `from mon_pkg import *`, dans ce cas plus de préfixes mais attention aux conflits\n",
    "- On peut aussi utiliser des fonctions ou des classes spécifiques (plus besoin de préfixe)\n",
    "```\n",
    "from pandas import Series\n",
    "```\n",
    "\n",
    "*Si on cherche des informations sur un module, on peut utiliser `dir()` et `help()`*"
   ]
  },
  {
   "cell_type": "code",
   "execution_count": 83,
   "metadata": {},
   "outputs": [],
   "source": [
    "import numpy"
   ]
  },
  {
   "cell_type": "code",
   "execution_count": 84,
   "metadata": {},
   "outputs": [],
   "source": [
    "import numpy as np"
   ]
  },
  {
   "cell_type": "code",
   "execution_count": 85,
   "metadata": {},
   "outputs": [],
   "source": [
    "from pandas import DataFrame"
   ]
  },
  {
   "cell_type": "code",
   "execution_count": 86,
   "metadata": {},
   "outputs": [
    {
     "data": {
      "text/html": [
       "<div>\n",
       "<style scoped>\n",
       "    .dataframe tbody tr th:only-of-type {\n",
       "        vertical-align: middle;\n",
       "    }\n",
       "\n",
       "    .dataframe tbody tr th {\n",
       "        vertical-align: top;\n",
       "    }\n",
       "\n",
       "    .dataframe thead th {\n",
       "        text-align: right;\n",
       "    }\n",
       "</style>\n",
       "<table border=\"1\" class=\"dataframe\">\n",
       "  <thead>\n",
       "    <tr style=\"text-align: right;\">\n",
       "      <th></th>\n",
       "      <th>0</th>\n",
       "    </tr>\n",
       "  </thead>\n",
       "  <tbody>\n",
       "    <tr>\n",
       "      <th>0</th>\n",
       "      <td>3</td>\n",
       "    </tr>\n",
       "    <tr>\n",
       "      <th>1</th>\n",
       "      <td>6</td>\n",
       "    </tr>\n",
       "  </tbody>\n",
       "</table>\n",
       "</div>"
      ],
      "text/plain": [
       "   0\n",
       "0  3\n",
       "1  6"
      ]
     },
     "execution_count": 86,
     "metadata": {},
     "output_type": "execute_result"
    }
   ],
   "source": [
    "DataFrame([3,6])"
   ]
  },
  {
   "cell_type": "markdown",
   "metadata": {
    "slideshow": {
     "slide_type": "subslide"
    }
   },
   "source": [
    "# Créer votre module et votre package\n",
    "\n",
    "- Il est très simple de faire appel à des fonctions ou à des classes depuis un autre fichier\n",
    "- Il suffit de stocker vos classes et fonctions dans un fichier `.py`\n",
    "- Celui-ci pourra être stocké dans un répertoire appartenant aux chemins de Python ou dans votre répertoire de travail\n",
    "- Vous avez alors la possibilité de faire :\n",
    "```\n",
    "import mon_fichier\n",
    "```\n",
    "et d’utiliser les fonctions et classes de ce fichiers\n",
    "\n",
    "- Vous venez de créer un module. \n",
    "- **Attention ceci n’est pas un package !**"
   ]
  },
  {
   "cell_type": "markdown",
   "metadata": {
    "slideshow": {
     "slide_type": "subslide"
    }
   },
   "source": [
    "# Créer votre module et votre package (suite)\n",
    "\n",
    "\n",
    "- Un package est constitué de plus d’informations qu’un simple fichier `.py`\n",
    "\n",
    "\n",
    "- Voici les étapes pour créer votre premier package :\n",
    "    - Choisissez un nom simple et traduisant bien ce que va faire votre package (si possible un nom qui n’est pas déjà utilisé)\n",
    "    - Créez un répertoire du nom de votre package\n",
    "    - Créez un fichier `__init__.py` dans ce répertoire, ce fichier peut être vide dans un premier temps\n",
    "    - Dans le même répertoire ajoutez des fichiers avec vos fonctions et vos classes\n",
    "\n",
    "Si votre objectif est de publier le package sur PyPi, il faudra ajouter un fichier setup et les dépendances associées\n",
    "\n",
    "Pour importer votre package dans votre Notebook, il vous suffit de faire:\n",
    "```\n",
    "import nom_dossier.nom_fichier\n",
    "```"
   ]
  },
  {
   "cell_type": "markdown",
   "metadata": {
    "slideshow": {
     "slide_type": "subslide"
    }
   },
   "source": [
    "**Exercice :**\n",
    "\n",
    "Rassemblez deux fonctions dans un fichier .py et créez un package\n",
    "\n",
    "*Indice :* Utilisez Spyder ou un éditeur de texte puis sauvegardez le fichier `mon_fichier` dans le sous-répertoire `mon_package` des Notebooks"
   ]
  },
  {
   "cell_type": "code",
   "execution_count": 87,
   "metadata": {},
   "outputs": [
    {
     "name": "stdout",
     "output_type": "stream",
     "text": [
      "Bravo !\n"
     ]
    }
   ],
   "source": [
    "# pour vérifier que vous avez bien répondu à l'exercice, soumettre cette cellule\n",
    "# on utilise maj + Entrée\n",
    "import mon_package.mon_fichier\n",
    "print(\"Bravo !\")"
   ]
  },
  {
   "cell_type": "code",
   "execution_count": 88,
   "metadata": {},
   "outputs": [],
   "source": [
    "import mon_package.mon_fichier as mp"
   ]
  },
  {
   "cell_type": "code",
   "execution_count": 89,
   "metadata": {},
   "outputs": [
    {
     "data": {
      "text/plain": [
       "5.0"
      ]
     },
     "execution_count": 89,
     "metadata": {},
     "output_type": "execute_result"
    }
   ],
   "source": [
    "mp.ma_moyenne_listes([3,5,7])"
   ]
  },
  {
   "cell_type": "markdown",
   "metadata": {
    "slideshow": {
     "slide_type": "subslide"
    }
   },
   "source": [
    "# Quelques détails sur la création de package\n",
    "\n",
    "- Le fichier `__init__.py` peut être vide mais il peut aussi contenir des informations\n",
    "- Ce fichier est lancé à chaque chargement du package, il peut inclure des dépendances, des vérifications de versions, des import vers les fonctions et classes des fichiers de votre package...\n",
    "\n",
    "\n",
    "- Où peut-on mettre nos packages ?\n",
    "    - Par défaut, si le package se trouve dans le même répertoire que le script exécuté, ça fonctionne\n",
    "    - Le package doit se trouver dans un répertoire lié au PythonPath\n",
    "    - Pour rechercher les répertoire, on utilise le module `sys` et la fonction `path`\n",
    "    - Pour créer un répertoire \"temporaire\", on utilise la fonction `path.insert()` du module `sys`"
   ]
  },
  {
   "cell_type": "code",
   "execution_count": 90,
   "metadata": {},
   "outputs": [
    {
     "data": {
      "text/plain": [
       "['/home/jupyter-stat4decision1/python-mars2021',\n",
       " '/opt/tljh/user/lib/python37.zip',\n",
       " '/opt/tljh/user/lib/python3.7',\n",
       " '/opt/tljh/user/lib/python3.7/lib-dynload',\n",
       " '',\n",
       " '/opt/tljh/user/lib/python3.7/site-packages',\n",
       " '/opt/tljh/user/lib/python3.7/site-packages/IPython/extensions',\n",
       " '/home/jupyter-stat4decision1/.ipython']"
      ]
     },
     "execution_count": 90,
     "metadata": {},
     "output_type": "execute_result"
    }
   ],
   "source": [
    "import sys\n",
    "sys.path"
   ]
  },
  {
   "cell_type": "markdown",
   "metadata": {
    "slideshow": {
     "slide_type": "slide"
    }
   },
   "source": [
    "# Les classes\n",
    "\n",
    "Nous avons manipulé de nombreux objets de classes variées. Si nous voulons aller plus loin, il va falloir manipuler des classes et savoir les créer.\n",
    "\n",
    "Une classe est un type permettant de regrouper dans la même structure :\n",
    "- les informations (champs, propriétés, attributs) relatives à une entité ; \n",
    "- les procédures et fonctions permettant de les manipuler (méthodes)."
   ]
  },
  {
   "cell_type": "markdown",
   "metadata": {},
   "source": [
    "Tous les objets en Python sont obtenus à partir de classes. Ainsi, on voit que lorsqu'on définit un float, le type associé est :"
   ]
  },
  {
   "cell_type": "code",
   "execution_count": 91,
   "metadata": {},
   "outputs": [
    {
     "name": "stdout",
     "output_type": "stream",
     "text": [
      "<class 'float'>\n"
     ]
    }
   ],
   "source": [
    "float_test = 33.33\n",
    "print(type(float_test))"
   ]
  },
  {
   "cell_type": "markdown",
   "metadata": {},
   "source": [
    "`float` est donc une classe. Celle-ci possède des propriétés, par exemple :"
   ]
  },
  {
   "cell_type": "code",
   "execution_count": 92,
   "metadata": {},
   "outputs": [
    {
     "data": {
      "text/plain": [
       "33.33"
      ]
     },
     "execution_count": 92,
     "metadata": {},
     "output_type": "execute_result"
    }
   ],
   "source": [
    "# la partie réelle du chiffre\n",
    "float_test.real"
   ]
  },
  {
   "cell_type": "markdown",
   "metadata": {},
   "source": [
    "Elle possède aussi des méthodes :"
   ]
  },
  {
   "cell_type": "code",
   "execution_count": 93,
   "metadata": {},
   "outputs": [
    {
     "data": {
      "text/plain": [
       "False"
      ]
     },
     "execution_count": 93,
     "metadata": {},
     "output_type": "execute_result"
    }
   ],
   "source": [
    "# cette fonction teste si l'objet est un entier\n",
    "float_test.is_integer()"
   ]
  },
  {
   "cell_type": "markdown",
   "metadata": {
    "slideshow": {
     "slide_type": "subslide"
    }
   },
   "source": [
    "### Construire une classes\n",
    "\n",
    "- La programmation orientée objet, c’est un style de programmation qui permet de regrouper au même endroit le comportement (les fonctions) et les données (les structures) qui sont faites pour aller ensemble\n",
    "- La notion d’objet en Python concerne toutes les structures Python\n",
    "- L’idée est de créer vos propres objets\n",
    "- La création d’un objet se fait en deux étapes :\n",
    "    - Description de l’objet\n",
    "    - Fabrication de l’objet\n",
    "- La notion de classe en python représente la description de l’objet\n",
    "- La deuxième étape se fait uniquement en allouant des informations à l’objet. L’objet obtenu est une instance de la classe\n"
   ]
  },
  {
   "cell_type": "code",
   "execution_count": 94,
   "metadata": {
    "slideshow": {
     "slide_type": "subslide"
    }
   },
   "outputs": [],
   "source": [
    "# Une classe va ressembler à :\n",
    "class MaClasse:\n",
    "    \n",
    "    def __init__(self,val1=0,val2=0):\n",
    "        \"\"\" il s'agit ici du constructeur de la classe qui permet \n",
    "        d'initaliser les propriétés de la classe\"\"\"\n",
    "        self.val1 = val1\n",
    "        self.val2 = val2\n",
    "    \n",
    "    def methode1(self,param1):\n",
    "        self.val1 += param1\n",
    "        print(self.val1)"
   ]
  },
  {
   "cell_type": "markdown",
   "metadata": {},
   "source": [
    "Cette classe permet de créer un objet qui a deux propriétés :\n",
    "    - `val1` initialisée à `0`\n",
    "    - `val2` initialisée à `0`\n",
    "    \n",
    "Elle a en plus une méthode permettant d'ajouter une valeur `param1` à `val1`"
   ]
  },
  {
   "cell_type": "code",
   "execution_count": 95,
   "metadata": {},
   "outputs": [],
   "source": [
    "# on peut créer un objet de cette classe en utilisant :\n",
    "objet_maclasse = MaClasse(val1=10, val2=20)"
   ]
  },
  {
   "cell_type": "code",
   "execution_count": 96,
   "metadata": {},
   "outputs": [
    {
     "name": "stdout",
     "output_type": "stream",
     "text": [
      "10\n"
     ]
    }
   ],
   "source": [
    "# on peut afficher val1 en utilisant :\n",
    "print(objet_maclasse.val1)"
   ]
  },
  {
   "cell_type": "code",
   "execution_count": 97,
   "metadata": {},
   "outputs": [
    {
     "name": "stdout",
     "output_type": "stream",
     "text": [
      "20\n"
     ]
    }
   ],
   "source": [
    "# la méthode methode1 va permettre d'ajouter 10 à val1 et d'afficher le résultat\n",
    "objet_maclasse.methode1(10)"
   ]
  },
  {
   "cell_type": "code",
   "execution_count": 98,
   "metadata": {},
   "outputs": [
    {
     "name": "stdout",
     "output_type": "stream",
     "text": [
      "20\n"
     ]
    }
   ],
   "source": [
    "print(objet_maclasse.val1)"
   ]
  },
  {
   "cell_type": "markdown",
   "metadata": {
    "slideshow": {
     "slide_type": "subslide"
    }
   },
   "source": [
    "**Exercice :**\n",
    "    \n",
    "Définissez une classe `CompteBancaire()`, qui permette d'instancier des objets tels que `compte1`, `compte2`, etc.\n",
    "\n",
    "Le constructeur de cette classe initialisera deux attributs d'instance `nom` et `solde`, avec les valeurs par défaut `'A'` et `0`.\n",
    "\n",
    "Trois autres méthodes sont définies :\n",
    "- `depot(somme)` permettra d'ajouter une certaine somme au solde\n",
    "- `retrait(somme)` permettra de retirer une certaine somme du solde\n",
    "- `affiche()` permettra d'afficher le solde du compte et un message d’alerte en cas de solde négatif. "
   ]
  },
  {
   "cell_type": "code",
   "execution_count": 99,
   "metadata": {},
   "outputs": [],
   "source": [
    "# complétez ce code\n",
    "class CompteBancaire:\n",
    "    def __init__(self, nom='A', solde=0):\n",
    "        self.nom = nom\n",
    "        self.solde = solde\n",
    "        \n",
    "    def retrait(self, somme):\n",
    "        self.solde -= somme\n",
    "        \n",
    "    def depot(self, somme):\n",
    "        self.solde += somme\n",
    "        \n",
    "    def affiche(self):\n",
    "        print(self.solde)"
   ]
  },
  {
   "cell_type": "code",
   "execution_count": 100,
   "metadata": {},
   "outputs": [],
   "source": [
    "#essayez de créer un objet de la classe CompteBanquaire\n",
    "compte_a = CompteBancaire(\"Emmanuel\", 100)"
   ]
  },
  {
   "cell_type": "code",
   "execution_count": 101,
   "metadata": {},
   "outputs": [
    {
     "name": "stdout",
     "output_type": "stream",
     "text": [
      "100\n"
     ]
    }
   ],
   "source": [
    "compte_a.affiche()"
   ]
  },
  {
   "cell_type": "code",
   "execution_count": 102,
   "metadata": {},
   "outputs": [
    {
     "name": "stdout",
     "output_type": "stream",
     "text": [
      "200\n"
     ]
    }
   ],
   "source": [
    "compte_a.depot(100)\n",
    "compte_a.affiche()"
   ]
  },
  {
   "cell_type": "code",
   "execution_count": 103,
   "metadata": {},
   "outputs": [
    {
     "name": "stdout",
     "output_type": "stream",
     "text": [
      "Bravo !\n"
     ]
    }
   ],
   "source": [
    "# pour vérifier que vous avez bien répondu à l'exercice, soumettre cette cellule\n",
    "# on utilise maj + Entrée\n",
    "mon_compte = CompteBancaire()\n",
    "assert type(mon_compte)== CompteBancaire\n",
    "print(\"Bravo !\")"
   ]
  },
  {
   "cell_type": "code",
   "execution_count": 104,
   "metadata": {},
   "outputs": [
    {
     "name": "stdout",
     "output_type": "stream",
     "text": [
      "Bravo !\n"
     ]
    }
   ],
   "source": [
    "# pour vérifier que vous avez bien répondu à l'exercice, soumettre cette cellule\n",
    "# on utilise maj + Entrée\n",
    "mon_compte.retrait(10)\n",
    "assert mon_compte.solde == -10\n",
    "print(\"Bravo !\")"
   ]
  },
  {
   "cell_type": "markdown",
   "metadata": {},
   "source": [
    "Si vous voulez plus de détails sur les classes, veuillez consulter le notebook sur le sujet."
   ]
  },
  {
   "cell_type": "markdown",
   "metadata": {
    "slideshow": {
     "slide_type": "slide"
    }
   },
   "source": [
    "# La gestion des exceptions\n",
    "\n",
    "- Python possède un système pour gérer les exceptions\n",
    "- On utilise `try:` et `except:`\n",
    "- On peut intercepter différents types d’erreurs\n",
    "    - `NameError`, `TypeError`, `ZeroDivisionError`\n",
    "- Si on ne veut rien faire dans l’exception on peut utiliser le mot clé `pass`\n",
    "\n"
   ]
  },
  {
   "cell_type": "code",
   "execution_count": 105,
   "metadata": {
    "slideshow": {
     "slide_type": "fragment"
    }
   },
   "outputs": [],
   "source": [
    "def ma_fonction(val):\n",
    "    try:\n",
    "        print(val**2)\n",
    "    except TypeError:\n",
    "        print(\"Erreur\")\n",
    "    \n",
    "    print(\"x\")"
   ]
  },
  {
   "cell_type": "code",
   "execution_count": 106,
   "metadata": {
    "slideshow": {
     "slide_type": "fragment"
    }
   },
   "outputs": [
    {
     "name": "stdout",
     "output_type": "stream",
     "text": [
      "Erreur\n",
      "x\n"
     ]
    }
   ],
   "source": [
    "ma_fonction(\"r\")"
   ]
  },
  {
   "cell_type": "markdown",
   "metadata": {
    "slideshow": {
     "slide_type": "subslide"
    }
   },
   "source": [
    "**Exercices :**\n",
    "    \n",
    "Créer une gestion d’exception pour une fonction prenant en entrée deux valeurs puis divisez-les, utiliser les différentes erreurs d’exceptions\n"
   ]
  },
  {
   "cell_type": "code",
   "execution_count": 107,
   "metadata": {},
   "outputs": [],
   "source": [
    "def division(nombre1, nombre2):\n",
    "    try:\n",
    "        return nombre1 / nombre2\n",
    "    except Exception as e:\n",
    "        print(e)\n",
    "    except ZeroDivisionError :\n",
    "        print(\"Division par zéro\")\n",
    "    except:\n",
    "        print(\"f\")\n",
    "    finally:\n",
    "        return 0\n",
    "    "
   ]
  },
  {
   "cell_type": "code",
   "execution_count": 108,
   "metadata": {},
   "outputs": [
    {
     "name": "stdout",
     "output_type": "stream",
     "text": [
      "unsupported operand type(s) for /: 'str' and 'int'\n"
     ]
    },
    {
     "data": {
      "text/plain": [
       "0"
      ]
     },
     "execution_count": 108,
     "metadata": {},
     "output_type": "execute_result"
    }
   ],
   "source": [
    "division(\"4\",0)"
   ]
  }
 ],
 "metadata": {
  "celltoolbar": "Slideshow",
  "kernelspec": {
   "display_name": "Python 3",
   "language": "python",
   "name": "python3"
  },
  "language_info": {
   "codemirror_mode": {
    "name": "ipython",
    "version": 3
   },
   "file_extension": ".py",
   "mimetype": "text/x-python",
   "name": "python",
   "nbconvert_exporter": "python",
   "pygments_lexer": "ipython3",
   "version": "3.7.7"
  }
 },
 "nbformat": 4,
 "nbformat_minor": 4
}
