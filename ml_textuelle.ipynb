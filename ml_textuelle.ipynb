{
 "cells": [
  {
   "cell_type": "code",
   "execution_count": 1,
   "metadata": {},
   "outputs": [],
   "source": [
    "import pandas as pd\n",
    "import numpy as np"
   ]
  },
  {
   "cell_type": "code",
   "execution_count": 6,
   "metadata": {},
   "outputs": [],
   "source": [
    "# charger le fichier \n",
    "data = pd.read_table(\"./data/SMSSpamCollection\", header=None, names= [\"type\", \"message\"])"
   ]
  },
  {
   "cell_type": "code",
   "execution_count": 7,
   "metadata": {},
   "outputs": [
    {
     "data": {
      "text/html": [
       "<div>\n",
       "<style scoped>\n",
       "    .dataframe tbody tr th:only-of-type {\n",
       "        vertical-align: middle;\n",
       "    }\n",
       "\n",
       "    .dataframe tbody tr th {\n",
       "        vertical-align: top;\n",
       "    }\n",
       "\n",
       "    .dataframe thead th {\n",
       "        text-align: right;\n",
       "    }\n",
       "</style>\n",
       "<table border=\"1\" class=\"dataframe\">\n",
       "  <thead>\n",
       "    <tr style=\"text-align: right;\">\n",
       "      <th></th>\n",
       "      <th>type</th>\n",
       "      <th>message</th>\n",
       "    </tr>\n",
       "  </thead>\n",
       "  <tbody>\n",
       "    <tr>\n",
       "      <th>0</th>\n",
       "      <td>ham</td>\n",
       "      <td>Go until jurong point, crazy.. Available only ...</td>\n",
       "    </tr>\n",
       "    <tr>\n",
       "      <th>1</th>\n",
       "      <td>ham</td>\n",
       "      <td>Ok lar... Joking wif u oni...</td>\n",
       "    </tr>\n",
       "    <tr>\n",
       "      <th>2</th>\n",
       "      <td>spam</td>\n",
       "      <td>Free entry in 2 a wkly comp to win FA Cup fina...</td>\n",
       "    </tr>\n",
       "    <tr>\n",
       "      <th>3</th>\n",
       "      <td>ham</td>\n",
       "      <td>U dun say so early hor... U c already then say...</td>\n",
       "    </tr>\n",
       "    <tr>\n",
       "      <th>4</th>\n",
       "      <td>ham</td>\n",
       "      <td>Nah I don't think he goes to usf, he lives aro...</td>\n",
       "    </tr>\n",
       "    <tr>\n",
       "      <th>...</th>\n",
       "      <td>...</td>\n",
       "      <td>...</td>\n",
       "    </tr>\n",
       "    <tr>\n",
       "      <th>5567</th>\n",
       "      <td>spam</td>\n",
       "      <td>This is the 2nd time we have tried 2 contact u...</td>\n",
       "    </tr>\n",
       "    <tr>\n",
       "      <th>5568</th>\n",
       "      <td>ham</td>\n",
       "      <td>Will ü b going to esplanade fr home?</td>\n",
       "    </tr>\n",
       "    <tr>\n",
       "      <th>5569</th>\n",
       "      <td>ham</td>\n",
       "      <td>Pity, * was in mood for that. So...any other s...</td>\n",
       "    </tr>\n",
       "    <tr>\n",
       "      <th>5570</th>\n",
       "      <td>ham</td>\n",
       "      <td>The guy did some bitching but I acted like i'd...</td>\n",
       "    </tr>\n",
       "    <tr>\n",
       "      <th>5571</th>\n",
       "      <td>ham</td>\n",
       "      <td>Rofl. Its true to its name</td>\n",
       "    </tr>\n",
       "  </tbody>\n",
       "</table>\n",
       "<p>5572 rows × 2 columns</p>\n",
       "</div>"
      ],
      "text/plain": [
       "      type                                            message\n",
       "0      ham  Go until jurong point, crazy.. Available only ...\n",
       "1      ham                      Ok lar... Joking wif u oni...\n",
       "2     spam  Free entry in 2 a wkly comp to win FA Cup fina...\n",
       "3      ham  U dun say so early hor... U c already then say...\n",
       "4      ham  Nah I don't think he goes to usf, he lives aro...\n",
       "...    ...                                                ...\n",
       "5567  spam  This is the 2nd time we have tried 2 contact u...\n",
       "5568   ham               Will ü b going to esplanade fr home?\n",
       "5569   ham  Pity, * was in mood for that. So...any other s...\n",
       "5570   ham  The guy did some bitching but I acted like i'd...\n",
       "5571   ham                         Rofl. Its true to its name\n",
       "\n",
       "[5572 rows x 2 columns]"
      ]
     },
     "execution_count": 7,
     "metadata": {},
     "output_type": "execute_result"
    }
   ],
   "source": [
    "data"
   ]
  },
  {
   "cell_type": "code",
   "execution_count": 10,
   "metadata": {},
   "outputs": [],
   "source": [
    "x = data[\"message\"]\n",
    "y = data[\"type\"]"
   ]
  },
  {
   "cell_type": "code",
   "execution_count": 11,
   "metadata": {},
   "outputs": [],
   "source": [
    "from sklearn.model_selection import train_test_split\n",
    "x_train, x_test, y_train, y_test = train_test_split(x, y, test_size=0.2, random_state=42)"
   ]
  },
  {
   "cell_type": "code",
   "execution_count": 9,
   "metadata": {},
   "outputs": [],
   "source": [
    "from sklearn.svm import LinearSVC\n",
    "from sklearn.feature_extraction.text import TfidfVectorizer"
   ]
  },
  {
   "cell_type": "code",
   "execution_count": 12,
   "metadata": {},
   "outputs": [],
   "source": [
    "modele_transfo = TfidfVectorizer()\n",
    "x_train_trans = modele_transfo.fit_transform(x_train)"
   ]
  },
  {
   "cell_type": "code",
   "execution_count": 13,
   "metadata": {},
   "outputs": [
    {
     "data": {
      "text/plain": [
       "<4457x7702 sparse matrix of type '<class 'numpy.float64'>'\n",
       "\twith 59296 stored elements in Compressed Sparse Row format>"
      ]
     },
     "execution_count": 13,
     "metadata": {},
     "output_type": "execute_result"
    }
   ],
   "source": [
    "x_train_trans"
   ]
  },
  {
   "cell_type": "code",
   "execution_count": 14,
   "metadata": {},
   "outputs": [],
   "source": [
    "modele_svm = LinearSVC()"
   ]
  },
  {
   "cell_type": "code",
   "execution_count": 16,
   "metadata": {},
   "outputs": [
    {
     "data": {
      "text/plain": [
       "LinearSVC()"
      ]
     },
     "execution_count": 16,
     "metadata": {},
     "output_type": "execute_result"
    }
   ],
   "source": [
    "modele_svm.fit(x_train_trans, y_train)"
   ]
  },
  {
   "cell_type": "code",
   "execution_count": 18,
   "metadata": {},
   "outputs": [
    {
     "data": {
      "text/plain": [
       "array(['ham', 'ham', 'ham', ..., 'ham', 'ham', 'ham'], dtype=object)"
      ]
     },
     "execution_count": 18,
     "metadata": {},
     "output_type": "execute_result"
    }
   ],
   "source": [
    "modele_svm.predict(modele_transfo.transform(x_test))"
   ]
  },
  {
   "cell_type": "code",
   "execution_count": 19,
   "metadata": {},
   "outputs": [],
   "source": [
    "# utilisation d'un pipeline\n",
    "from sklearn.pipeline import make_pipeline"
   ]
  },
  {
   "cell_type": "code",
   "execution_count": 31,
   "metadata": {},
   "outputs": [],
   "source": [
    "mon_pipeline = make_pipeline(TfidfVectorizer(ngram_range=(1,2)),LinearSVC())"
   ]
  },
  {
   "cell_type": "code",
   "execution_count": 32,
   "metadata": {},
   "outputs": [
    {
     "data": {
      "text/plain": [
       "Pipeline(steps=[('tfidfvectorizer', TfidfVectorizer(ngram_range=(1, 3))),\n",
       "                ('linearsvc', LinearSVC())])"
      ]
     },
     "execution_count": 32,
     "metadata": {},
     "output_type": "execute_result"
    }
   ],
   "source": [
    "mon_pipeline.fit(x_train, y_train)"
   ]
  },
  {
   "cell_type": "code",
   "execution_count": 33,
   "metadata": {},
   "outputs": [
    {
     "data": {
      "text/plain": [
       "array(['ham', 'ham', 'ham', ..., 'ham', 'ham', 'ham'], dtype=object)"
      ]
     },
     "execution_count": 33,
     "metadata": {},
     "output_type": "execute_result"
    }
   ],
   "source": [
    "mon_pipeline.predict(x_test)"
   ]
  },
  {
   "cell_type": "code",
   "execution_count": 34,
   "metadata": {},
   "outputs": [],
   "source": [
    "from sklearn.metrics import accuracy_score, confusion_matrix"
   ]
  },
  {
   "cell_type": "code",
   "execution_count": 35,
   "metadata": {},
   "outputs": [
    {
     "data": {
      "text/plain": [
       "0.9919282511210762"
      ]
     },
     "execution_count": 35,
     "metadata": {},
     "output_type": "execute_result"
    }
   ],
   "source": [
    "accuracy_score(y_test, mon_pipeline.predict(x_test))"
   ]
  },
  {
   "cell_type": "code",
   "execution_count": 36,
   "metadata": {},
   "outputs": [],
   "source": [
    "from sklearn.model_selection import GridSearchCV"
   ]
  },
  {
   "cell_type": "code",
   "execution_count": 37,
   "metadata": {},
   "outputs": [],
   "source": [
    "dico_grid = {\"tfidfvectorizer__ngram_range\": [(1,1), (1,2)],\n",
    "            \"linearsvc__C\": [0.1,1,5]}"
   ]
  },
  {
   "cell_type": "code",
   "execution_count": 38,
   "metadata": {},
   "outputs": [],
   "source": [
    "modele_grid_spam = GridSearchCV(mon_pipeline, dico_grid, scoring=\"accuracy\", cv=4)"
   ]
  },
  {
   "cell_type": "code",
   "execution_count": 39,
   "metadata": {},
   "outputs": [
    {
     "data": {
      "text/plain": [
       "GridSearchCV(cv=4,\n",
       "             estimator=Pipeline(steps=[('tfidfvectorizer',\n",
       "                                        TfidfVectorizer(ngram_range=(1, 3))),\n",
       "                                       ('linearsvc', LinearSVC())]),\n",
       "             param_grid={'linearsvc__C': [0.1, 1, 5],\n",
       "                         'tfidfvectorizer__ngram_range': [(1, 1), (1, 2)]},\n",
       "             scoring='accuracy')"
      ]
     },
     "execution_count": 39,
     "metadata": {},
     "output_type": "execute_result"
    }
   ],
   "source": [
    "modele_grid_spam.fit(x_train, y_train)"
   ]
  },
  {
   "cell_type": "code",
   "execution_count": 40,
   "metadata": {},
   "outputs": [
    {
     "data": {
      "text/html": [
       "<div>\n",
       "<style scoped>\n",
       "    .dataframe tbody tr th:only-of-type {\n",
       "        vertical-align: middle;\n",
       "    }\n",
       "\n",
       "    .dataframe tbody tr th {\n",
       "        vertical-align: top;\n",
       "    }\n",
       "\n",
       "    .dataframe thead th {\n",
       "        text-align: right;\n",
       "    }\n",
       "</style>\n",
       "<table border=\"1\" class=\"dataframe\">\n",
       "  <thead>\n",
       "    <tr style=\"text-align: right;\">\n",
       "      <th></th>\n",
       "      <th>mean_fit_time</th>\n",
       "      <th>std_fit_time</th>\n",
       "      <th>mean_score_time</th>\n",
       "      <th>std_score_time</th>\n",
       "      <th>param_linearsvc__C</th>\n",
       "      <th>param_tfidfvectorizer__ngram_range</th>\n",
       "      <th>params</th>\n",
       "      <th>split0_test_score</th>\n",
       "      <th>split1_test_score</th>\n",
       "      <th>split2_test_score</th>\n",
       "      <th>split3_test_score</th>\n",
       "      <th>mean_test_score</th>\n",
       "      <th>std_test_score</th>\n",
       "      <th>rank_test_score</th>\n",
       "    </tr>\n",
       "  </thead>\n",
       "  <tbody>\n",
       "    <tr>\n",
       "      <th>0</th>\n",
       "      <td>0.087682</td>\n",
       "      <td>0.003471</td>\n",
       "      <td>0.024386</td>\n",
       "      <td>0.000494</td>\n",
       "      <td>0.1</td>\n",
       "      <td>(1, 1)</td>\n",
       "      <td>{'linearsvc__C': 0.1, 'tfidfvectorizer__ngram_...</td>\n",
       "      <td>0.977578</td>\n",
       "      <td>0.973070</td>\n",
       "      <td>0.964093</td>\n",
       "      <td>0.965889</td>\n",
       "      <td>0.970158</td>\n",
       "      <td>0.005444</td>\n",
       "      <td>5</td>\n",
       "    </tr>\n",
       "    <tr>\n",
       "      <th>1</th>\n",
       "      <td>0.223066</td>\n",
       "      <td>0.013049</td>\n",
       "      <td>0.042317</td>\n",
       "      <td>0.000784</td>\n",
       "      <td>0.1</td>\n",
       "      <td>(1, 2)</td>\n",
       "      <td>{'linearsvc__C': 0.1, 'tfidfvectorizer__ngram_...</td>\n",
       "      <td>0.967713</td>\n",
       "      <td>0.965889</td>\n",
       "      <td>0.950628</td>\n",
       "      <td>0.951526</td>\n",
       "      <td>0.958939</td>\n",
       "      <td>0.007895</td>\n",
       "      <td>6</td>\n",
       "    </tr>\n",
       "    <tr>\n",
       "      <th>2</th>\n",
       "      <td>0.088594</td>\n",
       "      <td>0.002828</td>\n",
       "      <td>0.023445</td>\n",
       "      <td>0.000333</td>\n",
       "      <td>1</td>\n",
       "      <td>(1, 1)</td>\n",
       "      <td>{'linearsvc__C': 1, 'tfidfvectorizer__ngram_ra...</td>\n",
       "      <td>0.990135</td>\n",
       "      <td>0.985637</td>\n",
       "      <td>0.983842</td>\n",
       "      <td>0.984740</td>\n",
       "      <td>0.986088</td>\n",
       "      <td>0.002421</td>\n",
       "      <td>2</td>\n",
       "    </tr>\n",
       "    <tr>\n",
       "      <th>3</th>\n",
       "      <td>0.231051</td>\n",
       "      <td>0.007624</td>\n",
       "      <td>0.042894</td>\n",
       "      <td>0.001697</td>\n",
       "      <td>1</td>\n",
       "      <td>(1, 2)</td>\n",
       "      <td>{'linearsvc__C': 1, 'tfidfvectorizer__ngram_ra...</td>\n",
       "      <td>0.990135</td>\n",
       "      <td>0.986535</td>\n",
       "      <td>0.982944</td>\n",
       "      <td>0.983842</td>\n",
       "      <td>0.985864</td>\n",
       "      <td>0.002797</td>\n",
       "      <td>3</td>\n",
       "    </tr>\n",
       "    <tr>\n",
       "      <th>4</th>\n",
       "      <td>0.097659</td>\n",
       "      <td>0.002268</td>\n",
       "      <td>0.024624</td>\n",
       "      <td>0.000776</td>\n",
       "      <td>5</td>\n",
       "      <td>(1, 1)</td>\n",
       "      <td>{'linearsvc__C': 5, 'tfidfvectorizer__ngram_ra...</td>\n",
       "      <td>0.990135</td>\n",
       "      <td>0.985637</td>\n",
       "      <td>0.980251</td>\n",
       "      <td>0.986535</td>\n",
       "      <td>0.985640</td>\n",
       "      <td>0.003537</td>\n",
       "      <td>4</td>\n",
       "    </tr>\n",
       "    <tr>\n",
       "      <th>5</th>\n",
       "      <td>0.242164</td>\n",
       "      <td>0.002240</td>\n",
       "      <td>0.043699</td>\n",
       "      <td>0.003058</td>\n",
       "      <td>5</td>\n",
       "      <td>(1, 2)</td>\n",
       "      <td>{'linearsvc__C': 5, 'tfidfvectorizer__ngram_ra...</td>\n",
       "      <td>0.988341</td>\n",
       "      <td>0.987433</td>\n",
       "      <td>0.985637</td>\n",
       "      <td>0.984740</td>\n",
       "      <td>0.986538</td>\n",
       "      <td>0.001423</td>\n",
       "      <td>1</td>\n",
       "    </tr>\n",
       "  </tbody>\n",
       "</table>\n",
       "</div>"
      ],
      "text/plain": [
       "   mean_fit_time  std_fit_time  mean_score_time  std_score_time  \\\n",
       "0       0.087682      0.003471         0.024386        0.000494   \n",
       "1       0.223066      0.013049         0.042317        0.000784   \n",
       "2       0.088594      0.002828         0.023445        0.000333   \n",
       "3       0.231051      0.007624         0.042894        0.001697   \n",
       "4       0.097659      0.002268         0.024624        0.000776   \n",
       "5       0.242164      0.002240         0.043699        0.003058   \n",
       "\n",
       "  param_linearsvc__C param_tfidfvectorizer__ngram_range  \\\n",
       "0                0.1                             (1, 1)   \n",
       "1                0.1                             (1, 2)   \n",
       "2                  1                             (1, 1)   \n",
       "3                  1                             (1, 2)   \n",
       "4                  5                             (1, 1)   \n",
       "5                  5                             (1, 2)   \n",
       "\n",
       "                                              params  split0_test_score  \\\n",
       "0  {'linearsvc__C': 0.1, 'tfidfvectorizer__ngram_...           0.977578   \n",
       "1  {'linearsvc__C': 0.1, 'tfidfvectorizer__ngram_...           0.967713   \n",
       "2  {'linearsvc__C': 1, 'tfidfvectorizer__ngram_ra...           0.990135   \n",
       "3  {'linearsvc__C': 1, 'tfidfvectorizer__ngram_ra...           0.990135   \n",
       "4  {'linearsvc__C': 5, 'tfidfvectorizer__ngram_ra...           0.990135   \n",
       "5  {'linearsvc__C': 5, 'tfidfvectorizer__ngram_ra...           0.988341   \n",
       "\n",
       "   split1_test_score  split2_test_score  split3_test_score  mean_test_score  \\\n",
       "0           0.973070           0.964093           0.965889         0.970158   \n",
       "1           0.965889           0.950628           0.951526         0.958939   \n",
       "2           0.985637           0.983842           0.984740         0.986088   \n",
       "3           0.986535           0.982944           0.983842         0.985864   \n",
       "4           0.985637           0.980251           0.986535         0.985640   \n",
       "5           0.987433           0.985637           0.984740         0.986538   \n",
       "\n",
       "   std_test_score  rank_test_score  \n",
       "0        0.005444                5  \n",
       "1        0.007895                6  \n",
       "2        0.002421                2  \n",
       "3        0.002797                3  \n",
       "4        0.003537                4  \n",
       "5        0.001423                1  "
      ]
     },
     "execution_count": 40,
     "metadata": {},
     "output_type": "execute_result"
    }
   ],
   "source": [
    "pd.DataFrame(modele_grid_spam.cv_results_)"
   ]
  },
  {
   "cell_type": "code",
   "execution_count": 48,
   "metadata": {},
   "outputs": [],
   "source": [
    "def filtre_anti_spam(message):\n",
    "    return mon_pipeline.predict(np.array([message]))"
   ]
  },
  {
   "cell_type": "code",
   "execution_count": 54,
   "metadata": {},
   "outputs": [
    {
     "data": {
      "text/plain": [
       "array(['spam'], dtype=object)"
      ]
     },
     "execution_count": 54,
     "metadata": {},
     "output_type": "execute_result"
    }
   ],
   "source": [
    "filtre_anti_spam(\"Free Free Free Free Free Will ü b going to esplanade fr home?\")"
   ]
  },
  {
   "cell_type": "code",
   "execution_count": null,
   "metadata": {},
   "outputs": [],
   "source": []
  }
 ],
 "metadata": {
  "kernelspec": {
   "display_name": "Python 3",
   "language": "python",
   "name": "python3"
  },
  "language_info": {
   "codemirror_mode": {
    "name": "ipython",
    "version": 3
   },
   "file_extension": ".py",
   "mimetype": "text/x-python",
   "name": "python",
   "nbconvert_exporter": "python",
   "pygments_lexer": "ipython3",
   "version": "3.7.7"
  }
 },
 "nbformat": 4,
 "nbformat_minor": 4
}
