{
 "cells": [
  {
   "cell_type": "markdown",
   "metadata": {
    "slideshow": {
     "slide_type": "subslide"
    }
   },
   "source": [
    "# Le machine learning\n",
    "\n",
    "- Machine Learning : Techniques de calcul permettant aux ordinateurs d’apprendre à exécuter des tâches en s’inspirant de patterns perçus sur des données, avec peu d’intervention humaine. Les tâches se résument souvent à de la prédiction.\n",
    "\n",
    "![image](./images/ml1.png)\n",
    "    "
   ]
  },
  {
   "cell_type": "markdown",
   "metadata": {
    "slideshow": {
     "slide_type": "subslide"
    }
   },
   "source": [
    "# Quelques exemples\n",
    "\n",
    "- Prestation de service : identification des paramètres de prédisposition à la résiliation (churn)\n",
    "- Marketing: identification de segments distincts de consommateurs \n",
    "- Production : identification de paramètres induisant des défaillances\n",
    "- Pharmaceutique: classification de médicaments selon le profil chimique\n"
   ]
  },
  {
   "cell_type": "markdown",
   "metadata": {
    "slideshow": {
     "slide_type": "slide"
    }
   },
   "source": [
    "# Le data mining vs le machine learning\n",
    "\n",
    "- Data Mining : recherche d’information et de patterns cachés dans une base de données isolée ou en croisant plusieurs bases. C’est l’être humain qui explore et prend des décisions.\n",
    "- Le data mining s’appuie sur des techniques et algorithmes issus de la statistique et de la gestion de bases de données.\n",
    "- Les données exploitées ont souvent une taille considérable.\n"
   ]
  },
  {
   "cell_type": "markdown",
   "metadata": {
    "slideshow": {
     "slide_type": "subslide"
    }
   },
   "source": [
    "![image](./images/trend-ml.png)"
   ]
  },
  {
   "cell_type": "markdown",
   "metadata": {
    "slideshow": {
     "slide_type": "subslide"
    }
   },
   "source": [
    "# Les outils\n",
    "\n",
    "![image](./images/poll-ml.png)"
   ]
  },
  {
   "cell_type": "markdown",
   "metadata": {
    "slideshow": {
     "slide_type": "subslide"
    }
   },
   "source": [
    "# Les types de machine learning\n",
    "\n",
    "- Les algorithmes de machine learning peuvent être rassemblés dans 3 groupes principaux :\n",
    "   - L'apprentissage supervisé\n",
    "     - Cible (variable dépendante qualitative ou quantitative)\n",
    "     - Prédicteurs (variables indépendantes)\n",
    "     - Régression, arbre de decision, foret aléatoire, kNN, regression logistique, SVM…\n",
    "\n",
    "   - L'apprentissage non supervisé\n",
    "     - Pas de variable dépendante, pas de modélisation\n",
    "     - Classer des individus dans différents groups ou trouver des associations\n",
    "     - Apriori algorithm, K-means.\n",
    "\n",
    "   - L'apprentissage par renforcement\n",
    "     - Apprentissage pour prendre des décisions spécifique afin d’aboutir à un but précis\n",
    "     - Markov Decision Process"
   ]
  },
  {
   "cell_type": "markdown",
   "metadata": {
    "slideshow": {
     "slide_type": "slide"
    }
   },
   "source": [
    "# L’analyse de données et le machine learning avec Python\n",
    "\n",
    "Le package la plus adaptée pour faire du data mining et du machine learning est la package **scikit-learn**\n",
    "\n",
    "\n",
    "Ce package propose des fonctions prédéfinies pour un grand nombre de méthodes\n",
    "\n",
    "- La classification : SVM, plus proches voisins, random forest…\n",
    "- Les régressions : linéaire, ridge, Lasso…\n",
    "- Le clustering : k-means…\n",
    "- L’analyse de données :  ACP, DA…\n",
    "\n",
    "Dans le cadre de cette formation, l'objectf n'est pas de décrire la théorie des méthodes mais plutôt de comprendre l'utilisation de Python pour les appliquer."
   ]
  },
  {
   "cell_type": "markdown",
   "metadata": {
    "slideshow": {
     "slide_type": "slide"
    }
   },
   "source": [
    "# L’apprentissage supervisé avec Scikit-Learn\n",
    "Les méthodes d’apprentissage supervisé sont les méthodes actuellement les plus\n",
    "utilisées en data science. Il s’agit d’essayer de prédire une variable cible et d’utiliser\n",
    "différentes méthodes pour arriver à cette fin.\n",
    "Nous allons illustrer ces méthodes de traitement de données avec du code et des\n",
    "cas pratiques."
   ]
  },
  {
   "cell_type": "markdown",
   "metadata": {
    "slideshow": {
     "slide_type": "subslide"
    }
   },
   "source": [
    "### Les données et leur transformation\n",
    "Ce jeu de données est composé de 3333 individus et de 18 variables. Il est stocké dans un fichier csv, nommé telecom.csv, accessible dans le répertoire Data. On le récupère en utilisant Pandas :"
   ]
  },
  {
   "cell_type": "code",
   "execution_count": 1,
   "metadata": {
    "slideshow": {
     "slide_type": "fragment"
    }
   },
   "outputs": [],
   "source": [
    "import pandas as pd\n",
    "import numpy as np"
   ]
  },
  {
   "cell_type": "code",
   "execution_count": 2,
   "metadata": {
    "slideshow": {
     "slide_type": "fragment"
    }
   },
   "outputs": [],
   "source": [
    "churn=pd.read_csv(\"./data/telecom.csv\")"
   ]
  },
  {
   "cell_type": "code",
   "execution_count": 3,
   "metadata": {},
   "outputs": [
    {
     "data": {
      "text/html": [
       "<div>\n",
       "<style scoped>\n",
       "    .dataframe tbody tr th:only-of-type {\n",
       "        vertical-align: middle;\n",
       "    }\n",
       "\n",
       "    .dataframe tbody tr th {\n",
       "        vertical-align: top;\n",
       "    }\n",
       "\n",
       "    .dataframe thead th {\n",
       "        text-align: right;\n",
       "    }\n",
       "</style>\n",
       "<table border=\"1\" class=\"dataframe\">\n",
       "  <thead>\n",
       "    <tr style=\"text-align: right;\">\n",
       "      <th></th>\n",
       "      <th>State</th>\n",
       "      <th>Account Length</th>\n",
       "      <th>Area Code</th>\n",
       "      <th>Phone</th>\n",
       "      <th>Int'l Plan</th>\n",
       "      <th>VMail Plan</th>\n",
       "      <th>VMail Message</th>\n",
       "      <th>Day Mins</th>\n",
       "      <th>Day Calls</th>\n",
       "      <th>Day Charge</th>\n",
       "      <th>...</th>\n",
       "      <th>Eve Calls</th>\n",
       "      <th>Eve Charge</th>\n",
       "      <th>Night Mins</th>\n",
       "      <th>Night Calls</th>\n",
       "      <th>Night Charge</th>\n",
       "      <th>Intl Mins</th>\n",
       "      <th>Intl Calls</th>\n",
       "      <th>Intl Charge</th>\n",
       "      <th>CustServ Calls</th>\n",
       "      <th>Churn?</th>\n",
       "    </tr>\n",
       "  </thead>\n",
       "  <tbody>\n",
       "    <tr>\n",
       "      <th>0</th>\n",
       "      <td>KS</td>\n",
       "      <td>128</td>\n",
       "      <td>415</td>\n",
       "      <td>382-4657</td>\n",
       "      <td>no</td>\n",
       "      <td>yes</td>\n",
       "      <td>25</td>\n",
       "      <td>265.1</td>\n",
       "      <td>110</td>\n",
       "      <td>45.07</td>\n",
       "      <td>...</td>\n",
       "      <td>99</td>\n",
       "      <td>16.78</td>\n",
       "      <td>244.7</td>\n",
       "      <td>91</td>\n",
       "      <td>11.01</td>\n",
       "      <td>10.0</td>\n",
       "      <td>3</td>\n",
       "      <td>2.70</td>\n",
       "      <td>1</td>\n",
       "      <td>False.</td>\n",
       "    </tr>\n",
       "    <tr>\n",
       "      <th>1</th>\n",
       "      <td>OH</td>\n",
       "      <td>107</td>\n",
       "      <td>415</td>\n",
       "      <td>371-7191</td>\n",
       "      <td>no</td>\n",
       "      <td>yes</td>\n",
       "      <td>26</td>\n",
       "      <td>161.6</td>\n",
       "      <td>123</td>\n",
       "      <td>27.47</td>\n",
       "      <td>...</td>\n",
       "      <td>103</td>\n",
       "      <td>16.62</td>\n",
       "      <td>254.4</td>\n",
       "      <td>103</td>\n",
       "      <td>11.45</td>\n",
       "      <td>13.7</td>\n",
       "      <td>3</td>\n",
       "      <td>3.70</td>\n",
       "      <td>1</td>\n",
       "      <td>False.</td>\n",
       "    </tr>\n",
       "    <tr>\n",
       "      <th>2</th>\n",
       "      <td>NJ</td>\n",
       "      <td>137</td>\n",
       "      <td>415</td>\n",
       "      <td>358-1921</td>\n",
       "      <td>no</td>\n",
       "      <td>no</td>\n",
       "      <td>0</td>\n",
       "      <td>243.4</td>\n",
       "      <td>114</td>\n",
       "      <td>41.38</td>\n",
       "      <td>...</td>\n",
       "      <td>110</td>\n",
       "      <td>10.30</td>\n",
       "      <td>162.6</td>\n",
       "      <td>104</td>\n",
       "      <td>7.32</td>\n",
       "      <td>12.2</td>\n",
       "      <td>5</td>\n",
       "      <td>3.29</td>\n",
       "      <td>0</td>\n",
       "      <td>False.</td>\n",
       "    </tr>\n",
       "    <tr>\n",
       "      <th>3</th>\n",
       "      <td>OH</td>\n",
       "      <td>84</td>\n",
       "      <td>408</td>\n",
       "      <td>375-9999</td>\n",
       "      <td>yes</td>\n",
       "      <td>no</td>\n",
       "      <td>0</td>\n",
       "      <td>299.4</td>\n",
       "      <td>71</td>\n",
       "      <td>50.90</td>\n",
       "      <td>...</td>\n",
       "      <td>88</td>\n",
       "      <td>5.26</td>\n",
       "      <td>196.9</td>\n",
       "      <td>89</td>\n",
       "      <td>8.86</td>\n",
       "      <td>6.6</td>\n",
       "      <td>7</td>\n",
       "      <td>1.78</td>\n",
       "      <td>2</td>\n",
       "      <td>False.</td>\n",
       "    </tr>\n",
       "    <tr>\n",
       "      <th>4</th>\n",
       "      <td>OK</td>\n",
       "      <td>75</td>\n",
       "      <td>415</td>\n",
       "      <td>330-6626</td>\n",
       "      <td>yes</td>\n",
       "      <td>no</td>\n",
       "      <td>0</td>\n",
       "      <td>166.7</td>\n",
       "      <td>113</td>\n",
       "      <td>28.34</td>\n",
       "      <td>...</td>\n",
       "      <td>122</td>\n",
       "      <td>12.61</td>\n",
       "      <td>186.9</td>\n",
       "      <td>121</td>\n",
       "      <td>8.41</td>\n",
       "      <td>10.1</td>\n",
       "      <td>3</td>\n",
       "      <td>2.73</td>\n",
       "      <td>3</td>\n",
       "      <td>False.</td>\n",
       "    </tr>\n",
       "  </tbody>\n",
       "</table>\n",
       "<p>5 rows × 21 columns</p>\n",
       "</div>"
      ],
      "text/plain": [
       "  State  Account Length  Area Code     Phone Int'l Plan VMail Plan  \\\n",
       "0    KS             128        415  382-4657         no        yes   \n",
       "1    OH             107        415  371-7191         no        yes   \n",
       "2    NJ             137        415  358-1921         no         no   \n",
       "3    OH              84        408  375-9999        yes         no   \n",
       "4    OK              75        415  330-6626        yes         no   \n",
       "\n",
       "   VMail Message  Day Mins  Day Calls  Day Charge  ...  Eve Calls  Eve Charge  \\\n",
       "0             25     265.1        110       45.07  ...         99       16.78   \n",
       "1             26     161.6        123       27.47  ...        103       16.62   \n",
       "2              0     243.4        114       41.38  ...        110       10.30   \n",
       "3              0     299.4         71       50.90  ...         88        5.26   \n",
       "4              0     166.7        113       28.34  ...        122       12.61   \n",
       "\n",
       "   Night Mins  Night Calls  Night Charge  Intl Mins  Intl Calls  Intl Charge  \\\n",
       "0       244.7           91         11.01       10.0           3         2.70   \n",
       "1       254.4          103         11.45       13.7           3         3.70   \n",
       "2       162.6          104          7.32       12.2           5         3.29   \n",
       "3       196.9           89          8.86        6.6           7         1.78   \n",
       "4       186.9          121          8.41       10.1           3         2.73   \n",
       "\n",
       "   CustServ Calls  Churn?  \n",
       "0               1  False.  \n",
       "1               1  False.  \n",
       "2               0  False.  \n",
       "3               2  False.  \n",
       "4               3  False.  \n",
       "\n",
       "[5 rows x 21 columns]"
      ]
     },
     "execution_count": 3,
     "metadata": {},
     "output_type": "execute_result"
    }
   ],
   "source": [
    "churn.head()"
   ]
  },
  {
   "cell_type": "markdown",
   "metadata": {
    "slideshow": {
     "slide_type": "subslide"
    }
   },
   "source": [
    "## Les données\n",
    "\n",
    "Ce jeu de données n’a pas de données manquantes et nous allons devoir effectuer\n",
    "quelques transformations pour l’adapter à nos traitements. Nous voyons par exemple qu’il est composé de trois colonnes object.\n",
    "\n",
    "Nous pouvons afficher les statistiques descriptives pour les colonnes object :"
   ]
  },
  {
   "cell_type": "code",
   "execution_count": 4,
   "metadata": {
    "slideshow": {
     "slide_type": "subslide"
    }
   },
   "outputs": [
    {
     "data": {
      "text/html": [
       "<div>\n",
       "<style scoped>\n",
       "    .dataframe tbody tr th:only-of-type {\n",
       "        vertical-align: middle;\n",
       "    }\n",
       "\n",
       "    .dataframe tbody tr th {\n",
       "        vertical-align: top;\n",
       "    }\n",
       "\n",
       "    .dataframe thead th {\n",
       "        text-align: right;\n",
       "    }\n",
       "</style>\n",
       "<table border=\"1\" class=\"dataframe\">\n",
       "  <thead>\n",
       "    <tr style=\"text-align: right;\">\n",
       "      <th></th>\n",
       "      <th>count</th>\n",
       "      <th>unique</th>\n",
       "      <th>top</th>\n",
       "      <th>freq</th>\n",
       "    </tr>\n",
       "  </thead>\n",
       "  <tbody>\n",
       "    <tr>\n",
       "      <th>State</th>\n",
       "      <td>3333</td>\n",
       "      <td>51</td>\n",
       "      <td>WV</td>\n",
       "      <td>106</td>\n",
       "    </tr>\n",
       "    <tr>\n",
       "      <th>Phone</th>\n",
       "      <td>3333</td>\n",
       "      <td>3333</td>\n",
       "      <td>401-5915</td>\n",
       "      <td>1</td>\n",
       "    </tr>\n",
       "    <tr>\n",
       "      <th>Int'l Plan</th>\n",
       "      <td>3333</td>\n",
       "      <td>2</td>\n",
       "      <td>no</td>\n",
       "      <td>3010</td>\n",
       "    </tr>\n",
       "    <tr>\n",
       "      <th>VMail Plan</th>\n",
       "      <td>3333</td>\n",
       "      <td>2</td>\n",
       "      <td>no</td>\n",
       "      <td>2411</td>\n",
       "    </tr>\n",
       "    <tr>\n",
       "      <th>Churn?</th>\n",
       "      <td>3333</td>\n",
       "      <td>2</td>\n",
       "      <td>False.</td>\n",
       "      <td>2850</td>\n",
       "    </tr>\n",
       "  </tbody>\n",
       "</table>\n",
       "</div>"
      ],
      "text/plain": [
       "           count unique       top  freq\n",
       "State       3333     51        WV   106\n",
       "Phone       3333   3333  401-5915     1\n",
       "Int'l Plan  3333      2        no  3010\n",
       "VMail Plan  3333      2        no  2411\n",
       "Churn?      3333      2    False.  2850"
      ]
     },
     "execution_count": 4,
     "metadata": {},
     "output_type": "execute_result"
    }
   ],
   "source": [
    "churn.describe(include=\"object\").transpose()"
   ]
  },
  {
   "cell_type": "markdown",
   "metadata": {
    "slideshow": {
     "slide_type": "slide"
    }
   },
   "source": [
    "## Transformation des données\n",
    "\n",
    "On voit que les données sont toutes binaires. \n",
    "\n",
    "Pour les variables binaires, il nous suffit de les recoder avec Scikit-Learn pour obtenir des données exploitables. Par\n",
    "ailleurs, il existe une autre variable qualitative dans notre jeu de données, Area Code,\n",
    "qui est numérique mais avec trois modalités :"
   ]
  },
  {
   "cell_type": "code",
   "execution_count": 5,
   "metadata": {
    "slideshow": {
     "slide_type": "fragment"
    }
   },
   "outputs": [
    {
     "data": {
      "text/plain": [
       "415    1655\n",
       "510     840\n",
       "408     838\n",
       "Name: Area Code, dtype: int64"
      ]
     },
     "execution_count": 5,
     "metadata": {},
     "output_type": "execute_result"
    }
   ],
   "source": [
    "churn[\"Area Code\"].value_counts()"
   ]
  },
  {
   "cell_type": "code",
   "execution_count": 6,
   "metadata": {},
   "outputs": [],
   "source": [
    "churn = pd.concat([churn,pd.get_dummies(churn[\"Area Code\"])], axis=1)"
   ]
  },
  {
   "cell_type": "code",
   "execution_count": 7,
   "metadata": {},
   "outputs": [
    {
     "data": {
      "text/plain": [
       "Index([         'State', 'Account Length',      'Area Code',          'Phone',\n",
       "           'Int'l Plan',     'VMail Plan',  'VMail Message',       'Day Mins',\n",
       "            'Day Calls',     'Day Charge',       'Eve Mins',      'Eve Calls',\n",
       "           'Eve Charge',     'Night Mins',    'Night Calls',   'Night Charge',\n",
       "            'Intl Mins',     'Intl Calls',    'Intl Charge', 'CustServ Calls',\n",
       "               'Churn?',              408,              415,              510],\n",
       "      dtype='object')"
      ]
     },
     "execution_count": 7,
     "metadata": {},
     "output_type": "execute_result"
    }
   ],
   "source": [
    "churn.columns"
   ]
  },
  {
   "cell_type": "code",
   "execution_count": 8,
   "metadata": {},
   "outputs": [
    {
     "data": {
      "text/plain": [
       "Int64Index([408, 415, 510], dtype='int64')"
      ]
     },
     "execution_count": 8,
     "metadata": {},
     "output_type": "execute_result"
    }
   ],
   "source": [
    "pd.get_dummies(churn[\"Area Code\"]).columns"
   ]
  },
  {
   "cell_type": "markdown",
   "metadata": {
    "slideshow": {
     "slide_type": "slide"
    }
   },
   "source": [
    "## La préparation des données\n",
    "\n",
    "Nous allons utiliser le processus de traitement classique pour transformer nos\n",
    "données avec Scikit-Learn. Dans ce cas, nous n’avons pas de données manquantes,\n",
    "nous travaillons donc sur la transformation des variables qualitatives."
   ]
  },
  {
   "cell_type": "code",
   "execution_count": 9,
   "metadata": {},
   "outputs": [],
   "source": [
    "# on définit les colonnes\n",
    "# les colonnes quantitatives\n",
    "col_quanti = ['Day Mins', 'Day Calls', 'Day Charge',\n",
    "       'Eve Mins', 'Eve Calls', 'Eve Charge', 'Night Mins', 'Night Calls',\n",
    "       'Night Charge', 'Intl Mins', 'Intl Calls', 'Intl Charge',\n",
    "       'CustServ Calls',408, 415, 510]"
   ]
  },
  {
   "cell_type": "markdown",
   "metadata": {
    "slideshow": {
     "slide_type": "slide"
    }
   },
   "source": [
    "## Prédire l’attrition des clients\n",
    "Lorsqu’on veut prédire une variable binaire, on devra avoir une colonne du type\n",
    "binaire. On préfère généralement un codage 0/1 afin de garder un type entier simple à gérer. \n",
    "\n",
    "Les variables explicatives x auront été préparées de manière intelligente afin de bien appliquer nos modèles.\n",
    "\n",
    "On crée donc x et y :"
   ]
  },
  {
   "cell_type": "code",
   "execution_count": 10,
   "metadata": {
    "slideshow": {
     "slide_type": "fragment"
    }
   },
   "outputs": [],
   "source": [
    "x = churn[col_quanti]\n",
    "y = churn[\"Churn?\"]"
   ]
  },
  {
   "cell_type": "markdown",
   "metadata": {
    "slideshow": {
     "slide_type": "slide"
    }
   },
   "source": [
    "## Séparation des données\n",
    "\n",
    "Pour la séparation, on utilise la fonction train_test_split() de Scikit-Learn.\n",
    "\n",
    "Cette fonction permet de créer automatiquement autant de structures que nécessaire\n",
    "à partir de nos données. \n",
    "\n",
    "Elle utilise une randomisation des individus et ensuite une séparation en fonction d’un paramètre du type test_size :"
   ]
  },
  {
   "cell_type": "code",
   "execution_count": 11,
   "metadata": {
    "slideshow": {
     "slide_type": "fragment"
    }
   },
   "outputs": [],
   "source": [
    "# on importe la fonction\n",
    "from sklearn.model_selection import train_test_split\n",
    "x_train, x_test, y_train, y_test = train_test_split(x, y, test_size=0.2, random_state=42)"
   ]
  },
  {
   "cell_type": "markdown",
   "metadata": {
    "slideshow": {
     "slide_type": "subslide"
    }
   },
   "source": [
    "Dans certains cas, il peut arriver qu’il y ait une forte disparité de distribution des\n",
    "modalités entre les proportions d’acceptation et de refus. On peut vouloir faire en\n",
    "sorte que les répartitions des modalités de y soient égales dans les différents échantillons,\n",
    "on pourra alors utiliser une stratification. On va utiliser une stratification en\n",
    "prenant y comme base pour effectuer la stratification :"
   ]
  },
  {
   "cell_type": "code",
   "execution_count": 12,
   "metadata": {},
   "outputs": [
    {
     "name": "stdout",
     "output_type": "stream",
     "text": [
      "Bien séparé !\n"
     ]
    }
   ],
   "source": [
    "assert x_train.shape[0] == y_train.shape[0]\n",
    "print(\"Bien séparé !\")"
   ]
  },
  {
   "cell_type": "code",
   "execution_count": 13,
   "metadata": {},
   "outputs": [
    {
     "data": {
      "text/plain": [
       "(2666, 16)"
      ]
     },
     "execution_count": 13,
     "metadata": {},
     "output_type": "execute_result"
    }
   ],
   "source": [
    "x_train.shape"
   ]
  },
  {
   "cell_type": "code",
   "execution_count": 14,
   "metadata": {},
   "outputs": [
    {
     "data": {
      "text/plain": [
       "(2666,)"
      ]
     },
     "execution_count": 14,
     "metadata": {},
     "output_type": "execute_result"
    }
   ],
   "source": [
    "y_train.shape"
   ]
  },
  {
   "cell_type": "markdown",
   "metadata": {
    "slideshow": {
     "slide_type": "subslide"
    }
   },
   "source": [
    "Ainsi les deux échantillons _train et _test ont la même distribution"
   ]
  },
  {
   "cell_type": "markdown",
   "metadata": {
    "slideshow": {
     "slide_type": "slide"
    }
   },
   "source": [
    "## Le choix et l’ajustement de l’algorithme"
   ]
  },
  {
   "cell_type": "markdown",
   "metadata": {},
   "source": [
    "Tout au long de ce Notebook, nous allons essayer d'ajouter un nouveau modèle, il s'agit du modèle GBM\n",
    "```python\n",
    "from sklearn.ensemble import GradientBoostingClassifier\n",
    "from sklearn.linear_models import LogisticRegression\n",
    "```"
   ]
  },
  {
   "cell_type": "code",
   "execution_count": 15,
   "metadata": {},
   "outputs": [],
   "source": [
    "from sklearn.ensemble import GradientBoostingClassifier\n",
    "from sklearn.linear_model import LogisticRegression"
   ]
  },
  {
   "cell_type": "code",
   "execution_count": 16,
   "metadata": {
    "slideshow": {
     "slide_type": "fragment"
    }
   },
   "outputs": [],
   "source": [
    "from sklearn.neighbors import KNeighborsClassifier\n",
    "from sklearn.ensemble import RandomForestClassifier\n",
    "# ajouter le 3ème modèle"
   ]
  },
  {
   "cell_type": "markdown",
   "metadata": {
    "slideshow": {
     "slide_type": "fragment"
    }
   },
   "source": [
    "Ensuite, on crée un objet à partir de la classe du modèle en lui fournissant les\n",
    "hyperparamètres dont il a besoin :"
   ]
  },
  {
   "cell_type": "code",
   "execution_count": 17,
   "metadata": {
    "slideshow": {
     "slide_type": "fragment"
    }
   },
   "outputs": [],
   "source": [
    "modele_rf = RandomForestClassifier(n_estimators=100)\n",
    "modele_knn = KNeighborsClassifier(n_neighbors=5)\n",
    "modele_logit = LogisticRegression(solver = 'newton-cg')\n",
    "modele_gbm = GradientBoostingClassifier()"
   ]
  },
  {
   "cell_type": "markdown",
   "metadata": {
    "slideshow": {
     "slide_type": "subslide"
    }
   },
   "source": [
    "Dans ce cas, on prend les hyperparamètres par défaut.\n",
    "\n",
    "On peut ensuite ajuster notre modèle en utilisant les données :"
   ]
  },
  {
   "cell_type": "code",
   "execution_count": 18,
   "metadata": {
    "slideshow": {
     "slide_type": "fragment"
    }
   },
   "outputs": [],
   "source": [
    "modele_rf.fit(x_train,y_train)\n",
    "modele_knn.fit(x_train,y_train)\n",
    "modele_gbm.fit(x_train,y_train)\n",
    "modele_logit.fit(x_train,y_train)\n",
    "# ajouter le 3ème modèle\n",
    "pass"
   ]
  },
  {
   "cell_type": "markdown",
   "metadata": {
    "slideshow": {
     "slide_type": "subslide"
    }
   },
   "source": [
    "Une fois qu’on a estimé les paramètres du modèle, on va pouvoir extraire des\n",
    "informations. De nouveaux attributs de chaque classe apparaissent, ils se terminent par le symbole underscore _ :"
   ]
  },
  {
   "cell_type": "code",
   "execution_count": 19,
   "metadata": {},
   "outputs": [
    {
     "data": {
      "text/plain": [
       "16"
      ]
     },
     "execution_count": 19,
     "metadata": {},
     "output_type": "execute_result"
    }
   ],
   "source": [
    "modele_rf.n_features_in_"
   ]
  },
  {
   "cell_type": "code",
   "execution_count": 20,
   "metadata": {
    "slideshow": {
     "slide_type": "fragment"
    }
   },
   "outputs": [
    {
     "data": {
      "text/html": [
       "<div>\n",
       "<style scoped>\n",
       "    .dataframe tbody tr th:only-of-type {\n",
       "        vertical-align: middle;\n",
       "    }\n",
       "\n",
       "    .dataframe tbody tr th {\n",
       "        vertical-align: top;\n",
       "    }\n",
       "\n",
       "    .dataframe thead th {\n",
       "        text-align: right;\n",
       "    }\n",
       "</style>\n",
       "<table border=\"1\" class=\"dataframe\">\n",
       "  <thead>\n",
       "    <tr style=\"text-align: right;\">\n",
       "      <th></th>\n",
       "      <th>0</th>\n",
       "    </tr>\n",
       "  </thead>\n",
       "  <tbody>\n",
       "    <tr>\n",
       "      <th>Day Mins</th>\n",
       "      <td>0.151697</td>\n",
       "    </tr>\n",
       "    <tr>\n",
       "      <th>Day Calls</th>\n",
       "      <td>0.047841</td>\n",
       "    </tr>\n",
       "    <tr>\n",
       "      <th>Day Charge</th>\n",
       "      <td>0.154002</td>\n",
       "    </tr>\n",
       "    <tr>\n",
       "      <th>Eve Mins</th>\n",
       "      <td>0.080780</td>\n",
       "    </tr>\n",
       "    <tr>\n",
       "      <th>Eve Calls</th>\n",
       "      <td>0.044598</td>\n",
       "    </tr>\n",
       "    <tr>\n",
       "      <th>Eve Charge</th>\n",
       "      <td>0.084244</td>\n",
       "    </tr>\n",
       "    <tr>\n",
       "      <th>Night Mins</th>\n",
       "      <td>0.052132</td>\n",
       "    </tr>\n",
       "    <tr>\n",
       "      <th>Night Calls</th>\n",
       "      <td>0.051989</td>\n",
       "    </tr>\n",
       "    <tr>\n",
       "      <th>Night Charge</th>\n",
       "      <td>0.051986</td>\n",
       "    </tr>\n",
       "    <tr>\n",
       "      <th>Intl Mins</th>\n",
       "      <td>0.049556</td>\n",
       "    </tr>\n",
       "    <tr>\n",
       "      <th>Intl Calls</th>\n",
       "      <td>0.031127</td>\n",
       "    </tr>\n",
       "    <tr>\n",
       "      <th>Intl Charge</th>\n",
       "      <td>0.049489</td>\n",
       "    </tr>\n",
       "    <tr>\n",
       "      <th>CustServ Calls</th>\n",
       "      <td>0.130193</td>\n",
       "    </tr>\n",
       "    <tr>\n",
       "      <th>408</th>\n",
       "      <td>0.005669</td>\n",
       "    </tr>\n",
       "    <tr>\n",
       "      <th>415</th>\n",
       "      <td>0.007589</td>\n",
       "    </tr>\n",
       "    <tr>\n",
       "      <th>510</th>\n",
       "      <td>0.007107</td>\n",
       "    </tr>\n",
       "  </tbody>\n",
       "</table>\n",
       "</div>"
      ],
      "text/plain": [
       "                       0\n",
       "Day Mins        0.151697\n",
       "Day Calls       0.047841\n",
       "Day Charge      0.154002\n",
       "Eve Mins        0.080780\n",
       "Eve Calls       0.044598\n",
       "Eve Charge      0.084244\n",
       "Night Mins      0.052132\n",
       "Night Calls     0.051989\n",
       "Night Charge    0.051986\n",
       "Intl Mins       0.049556\n",
       "Intl Calls      0.031127\n",
       "Intl Charge     0.049489\n",
       "CustServ Calls  0.130193\n",
       "408             0.005669\n",
       "415             0.007589\n",
       "510             0.007107"
      ]
     },
     "execution_count": 20,
     "metadata": {},
     "output_type": "execute_result"
    }
   ],
   "source": [
    "pd.DataFrame(modele_rf.feature_importances_,index=x_train.columns)"
   ]
  },
  {
   "cell_type": "markdown",
   "metadata": {
    "slideshow": {
     "slide_type": "subslide"
    }
   },
   "source": [
    "Ce qui va nous intéresse avant tout, c’est de prédire avec notre modèle. Pour cela nous allons utiliser la méthode .predict() :"
   ]
  },
  {
   "cell_type": "code",
   "execution_count": 21,
   "metadata": {
    "slideshow": {
     "slide_type": "fragment"
    }
   },
   "outputs": [],
   "source": [
    "y_predict_rf = modele_rf.predict(x_test)\n",
    "y_predict_knn = modele_knn.predict(x_test)\n",
    "y_predict_gbm = modele_gbm.predict(x_test)\n",
    "y_predict_logit = modele_logit.predict(x_test)"
   ]
  },
  {
   "cell_type": "code",
   "execution_count": 22,
   "metadata": {},
   "outputs": [
    {
     "data": {
      "text/plain": [
       "0.8995502248875562"
      ]
     },
     "execution_count": 22,
     "metadata": {},
     "output_type": "execute_result"
    }
   ],
   "source": [
    "(y_predict_rf == y_test).sum()/y_test.shape[0]"
   ]
  },
  {
   "cell_type": "code",
   "execution_count": 23,
   "metadata": {},
   "outputs": [
    {
     "name": "stdout",
     "output_type": "stream",
     "text": [
      "Pourcentage de bien classés pour le modèle rf : 0.9070464767616192\n",
      "Matrice de confusion pour le modèle rf :\n",
      "[[553  13]\n",
      " [ 49  52]]\n",
      "Pourcentage de bien classés pour le modèle gbm : 0.8935532233883059\n",
      "Matrice de confusion pour le modèle gbm :\n",
      "[[549  17]\n",
      " [ 54  47]]\n",
      "Pourcentage de bien classés pour le modèle logit : 0.848575712143928\n",
      "Matrice de confusion pour le modèle logit :\n",
      "[[561   5]\n",
      " [ 96   5]]\n",
      "Pourcentage de bien classés pour le modèle knn : 0.8650674662668666\n",
      "Matrice de confusion pour le modèle knn :\n",
      "[[548  18]\n",
      " [ 72  29]]\n"
     ]
    }
   ],
   "source": [
    "from sklearn.metrics import accuracy_score, recall_score, confusion_matrix, roc_curve\n",
    "\n",
    "dico_model = { \"rf\" : RandomForestClassifier(),\n",
    "             \"gbm\" : GradientBoostingClassifier(),\n",
    "             \"logit\" : LogisticRegression(solver = 'newton-cg'),\n",
    "             \"knn\" : KNeighborsClassifier()}\n",
    "\n",
    "for model in dico_model.keys():\n",
    "    model_temp = dico_model[model]\n",
    "    model_temp.fit(x_train, y_train)\n",
    "    y_predict = model_temp.predict(x_test)\n",
    "    accuracy_modele = accuracy_score(y_test,y_predict)\n",
    "    print(f\"Pourcentage de bien classés pour le modèle {model} : {accuracy_modele}\")\n",
    "    confusion_matrix_model=confusion_matrix(y_test,y_predict)\n",
    "    print(f\"Matrice de confusion pour le modèle {model} :\",\n",
    "          confusion_matrix_model, sep=\"\\n\")\n"
   ]
  },
  {
   "cell_type": "markdown",
   "metadata": {
    "slideshow": {
     "slide_type": "fragment"
    }
   },
   "source": [
    "On obtient ainsi une valeur prédite pour les éléments de notre échantillon de\n",
    "validation."
   ]
  },
  {
   "cell_type": "markdown",
   "metadata": {
    "slideshow": {
     "slide_type": "slide"
    }
   },
   "source": [
    "## Les indicateurs pour valider un modèle\n",
    "La partie validation d’un modèle d’apprentissage supervisé est extrêmement\n",
    "importante. L’objectif d’un modèle d’apprentissage supervisé est de prédire une\n",
    "valeur la plus proche possible de la réalité. Nous différencions trois types d’indices\n",
    "en fonction du type de variable cible. Tous les indicateurs de qualité du modèle sont\n",
    "stockés dans le module *metrics* de Scikit-Learn."
   ]
  },
  {
   "cell_type": "markdown",
   "metadata": {
    "slideshow": {
     "slide_type": "subslide"
    }
   },
   "source": [
    "## Le pourcentage de bien classés\n",
    "Il s’agit de l’indicateur le plus connu. On le nomme accuracy. Il est calculé à partir du rapport entre le nombre d’individus bien classés et le nombre total d’individus dans l’échantillon."
   ]
  },
  {
   "cell_type": "code",
   "execution_count": 24,
   "metadata": {
    "slideshow": {
     "slide_type": "fragment"
    }
   },
   "outputs": [
    {
     "name": "stdout",
     "output_type": "stream",
     "text": [
      "Pourcentage de bien classés pour le modèle RF : 0.900\n",
      "Pourcentage de bien classés pour le modèle kNN :0.865\n"
     ]
    }
   ],
   "source": [
    "from sklearn.metrics import accuracy_score, recall_score\n",
    "\n",
    "accuracy_modele_rf = accuracy_score(y_test,y_predict_rf)\n",
    "accuracy_modele_knn = accuracy_score(y_test,y_predict_knn)\n",
    "print(\"Pourcentage de bien classés pour le modèle RF : %.3f\" %(accuracy_modele_rf))\n",
    "print(\"Pourcentage de bien classés pour le modèle kNN :%.3f\" %(accuracy_modele_knn))\n"
   ]
  },
  {
   "cell_type": "markdown",
   "metadata": {
    "slideshow": {
     "slide_type": "subslide"
    }
   },
   "source": [
    "## La matrice de confusion\n",
    "Il s’agit d’un autre indicateur important pour juger de la qualité d’un modèle, il n’est pas défini par une seule valeur mais par une matrice dans laquelle on peut lire le croisement entre les valeurs observées et les valeurs prédites à partir du modèle. \n",
    "\n",
    "Pour calculer cette matrice, on pourra utiliser :"
   ]
  },
  {
   "cell_type": "code",
   "execution_count": 25,
   "metadata": {
    "slideshow": {
     "slide_type": "fragment"
    }
   },
   "outputs": [
    {
     "name": "stdout",
     "output_type": "stream",
     "text": [
      "Matrice de confusion pour le modèle RF :\n",
      "[[554  12]\n",
      " [ 55  46]]\n",
      "Matrice de confusion pour le modèle kNN :\n",
      "[[548  18]\n",
      " [ 72  29]]\n"
     ]
    }
   ],
   "source": [
    "from sklearn.metrics import confusion_matrix\n",
    "confusion_matrix_rf=confusion_matrix(y_test,y_predict_rf)\n",
    "confusion_matrix_knn=confusion_matrix(y_test,y_predict_knn)\n",
    "print(\"Matrice de confusion pour le modèle RF :\",\n",
    "confusion_matrix_rf, sep=\"\\n\")\n",
    "print(\"Matrice de confusion pour le modèle kNN :\",\n",
    "confusion_matrix_knn, sep=\"\\n\")\n",
    "# ajouter le 3ème modèle"
   ]
  },
  {
   "cell_type": "code",
   "execution_count": null,
   "metadata": {},
   "outputs": [],
   "source": []
  },
  {
   "cell_type": "markdown",
   "metadata": {
    "slideshow": {
     "slide_type": "subslide"
    }
   },
   "source": [
    "## L’aire sous la courbe ROC\n",
    "La courbe ROC est un indicateur important mais on préfère souvent une valeur plutôt\n",
    "qu’une courbe afin de comparer nos modèles. Pour cela, on utilise l’aire sous la courbe\n",
    "ROC (AUC). Cette aire est calculée directement à partir de la courbe ROC. Ainsi, un\n",
    "modèle aléatoire aura une AUC de 0.5 et un modèle parfait aura une AUC de 1."
   ]
  },
  {
   "cell_type": "code",
   "execution_count": 26,
   "metadata": {
    "slideshow": {
     "slide_type": "fragment"
    }
   },
   "outputs": [
    {
     "name": "stdout",
     "output_type": "stream",
     "text": [
      "Aire sous la courbe ROC pour le modèle RF : 0.872380435923451\n",
      "Aire sous la courbe ROC pour le modèle kNN : 0.7092852394780114\n"
     ]
    }
   ],
   "source": [
    "from sklearn.metrics import roc_auc_score\n",
    "auc_modele_rf=roc_auc_score(y_test, modele_rf.predict_proba(x_test)[:,1])\n",
    "auc_modele_knn=roc_auc_score(y_test,modele_knn.predict_proba(x_test)[:,1])\n",
    "\n",
    "print(\"Aire sous la courbe ROC pour le modèle RF :\" ,auc_modele_rf)\n",
    "print(\"Aire sous la courbe ROC pour le modèle kNN :\" ,auc_modele_knn)\n",
    "# ajouter le 3ème modèle"
   ]
  },
  {
   "cell_type": "markdown",
   "metadata": {
    "slideshow": {
     "slide_type": "subslide"
    }
   },
   "source": [
    "## La validation croisée\n",
    "Jusqu’ici nous avons utilisé des indicateurs basés sur une seule occurrence de test. Ceci veut dire qu’on ne teste notre modèle que sur un seul échantillon.\n",
    "\n",
    "Une approche alternative souvent utilisée est la validation croisée. Celle-ci est en fait basée sur la répétition de l’estimation et de la validation sur des données différentes.\n",
    "\n",
    "Pour obtenir ce cv-score, on utilise :"
   ]
  },
  {
   "cell_type": "code",
   "execution_count": 27,
   "metadata": {
    "slideshow": {
     "slide_type": "fragment"
    }
   },
   "outputs": [
    {
     "name": "stdout",
     "output_type": "stream",
     "text": [
      "AUC pour RF : 0.854 (+/- 0.058)\n",
      "AUC pour kNN : 0.637 (+/- 0.084)\n"
     ]
    }
   ],
   "source": [
    "from sklearn.model_selection import cross_val_score\n",
    "\n",
    "scores_rf = cross_val_score(modele_rf, x_train, y_train, cv=5, scoring='roc_auc')\n",
    "scores_knn = cross_val_score(modele_knn, x_train, y_train, cv=5, scoring='roc_auc')\n",
    "\n",
    "print(\"AUC pour RF : %.3f (+/- %.3f)\"% (scores_rf.mean(), scores_rf.std() * 2))\n",
    "print(\"AUC pour kNN : %.3f (+/- %.3f)\"% (scores_knn.mean(),scores_knn.std() * 2))\n",
    "# ajouter le 3ème modèle"
   ]
  },
  {
   "cell_type": "markdown",
   "metadata": {
    "slideshow": {
     "slide_type": "subslide"
    }
   },
   "source": [
    "## L’ajustement des hyperparamètres d’un modèle\n",
    "\n",
    "L’une des tâches du data scientist est de trouver le meilleur modèle possible. La\n",
    "plupart des modèles de machine learning ont des hyperparamètres. Il s’agit de paramètres\n",
    "du modèle qui sont définis en amont de l’ajustement.\n",
    "\n",
    "Scikit-Learn propose une classe GridSearchCV permettant d’implémenter cette\n",
    "recherche d’hyperparamètres :"
   ]
  },
  {
   "cell_type": "code",
   "execution_count": 28,
   "metadata": {
    "slideshow": {
     "slide_type": "fragment"
    }
   },
   "outputs": [],
   "source": [
    "from sklearn.model_selection import GridSearchCV"
   ]
  },
  {
   "cell_type": "markdown",
   "metadata": {
    "slideshow": {
     "slide_type": "subslide"
    }
   },
   "source": [
    "On va donc devoir définir les hyperparamètres que l’on souhaite tester. Pour cela,\n",
    "on utilisera un dictionnaire d’hyperparamètres, par exemple :"
   ]
  },
  {
   "cell_type": "code",
   "execution_count": 29,
   "metadata": {
    "slideshow": {
     "slide_type": "fragment"
    }
   },
   "outputs": [],
   "source": [
    "dico_param= {\"max_depth\":[3,5,7,10], \"n_estimators\":[10,20,50,100,500]}"
   ]
  },
  {
   "cell_type": "markdown",
   "metadata": {
    "slideshow": {
     "slide_type": "fragment"
    }
   },
   "source": [
    "On va encore utiliser l’accuracy pour valider notre modèle. Finalement, nous allons\n",
    "utiliser une validation croisée à cinq groupes pour valider les résultats.\n",
    "Le nouvel objet est le suivant :"
   ]
  },
  {
   "cell_type": "code",
   "execution_count": 30,
   "metadata": {
    "slideshow": {
     "slide_type": "fragment"
    }
   },
   "outputs": [],
   "source": [
    "recherche_hyper = GridSearchCV(RandomForestClassifier(), \n",
    "                               dico_param, \n",
    "                               scoring=\"accuracy\",\n",
    "                               cv=5)"
   ]
  },
  {
   "cell_type": "markdown",
   "metadata": {
    "slideshow": {
     "slide_type": "fragment"
    }
   },
   "source": [
    "Une fois qu’on a créé cet objet, on peut lui joindre les données afin d’estimer les\n",
    "meilleurs paramètres du modèle.\n",
    "\n",
    "Cette étape peut être très longue."
   ]
  },
  {
   "cell_type": "code",
   "execution_count": 32,
   "metadata": {
    "slideshow": {
     "slide_type": "subslide"
    }
   },
   "outputs": [],
   "source": [
    "recherche_hyper.fit(x_train, y_train)\n",
    "pass"
   ]
  },
  {
   "cell_type": "code",
   "execution_count": 33,
   "metadata": {},
   "outputs": [
    {
     "name": "stdout",
     "output_type": "stream",
     "text": [
      "{'max_depth': 10, 'n_estimators': 500}\n"
     ]
    }
   ],
   "source": [
    "print(recherche_hyper.best_params_)"
   ]
  },
  {
   "cell_type": "code",
   "execution_count": 34,
   "metadata": {},
   "outputs": [
    {
     "name": "stdout",
     "output_type": "stream",
     "text": [
      "0.9096057226777973\n"
     ]
    }
   ],
   "source": [
    "print(recherche_hyper.best_score_)"
   ]
  },
  {
   "cell_type": "code",
   "execution_count": 35,
   "metadata": {},
   "outputs": [
    {
     "data": {
      "text/html": [
       "<div>\n",
       "<style scoped>\n",
       "    .dataframe tbody tr th:only-of-type {\n",
       "        vertical-align: middle;\n",
       "    }\n",
       "\n",
       "    .dataframe tbody tr th {\n",
       "        vertical-align: top;\n",
       "    }\n",
       "\n",
       "    .dataframe thead th {\n",
       "        text-align: right;\n",
       "    }\n",
       "</style>\n",
       "<table border=\"1\" class=\"dataframe\">\n",
       "  <thead>\n",
       "    <tr style=\"text-align: right;\">\n",
       "      <th></th>\n",
       "      <th>mean_fit_time</th>\n",
       "      <th>std_fit_time</th>\n",
       "      <th>mean_score_time</th>\n",
       "      <th>std_score_time</th>\n",
       "      <th>param_max_depth</th>\n",
       "      <th>param_n_estimators</th>\n",
       "      <th>params</th>\n",
       "      <th>split0_test_score</th>\n",
       "      <th>split1_test_score</th>\n",
       "      <th>split2_test_score</th>\n",
       "      <th>split3_test_score</th>\n",
       "      <th>split4_test_score</th>\n",
       "      <th>mean_test_score</th>\n",
       "      <th>std_test_score</th>\n",
       "      <th>rank_test_score</th>\n",
       "    </tr>\n",
       "  </thead>\n",
       "  <tbody>\n",
       "    <tr>\n",
       "      <th>0</th>\n",
       "      <td>0.035281</td>\n",
       "      <td>0.002627</td>\n",
       "      <td>0.004731</td>\n",
       "      <td>0.000094</td>\n",
       "      <td>3</td>\n",
       "      <td>10</td>\n",
       "      <td>{'max_depth': 3, 'n_estimators': 10}</td>\n",
       "      <td>0.870787</td>\n",
       "      <td>0.878049</td>\n",
       "      <td>0.861163</td>\n",
       "      <td>0.861163</td>\n",
       "      <td>0.872420</td>\n",
       "      <td>0.868716</td>\n",
       "      <td>0.006621</td>\n",
       "      <td>19</td>\n",
       "    </tr>\n",
       "    <tr>\n",
       "      <th>1</th>\n",
       "      <td>0.060792</td>\n",
       "      <td>0.000631</td>\n",
       "      <td>0.005795</td>\n",
       "      <td>0.000072</td>\n",
       "      <td>3</td>\n",
       "      <td>20</td>\n",
       "      <td>{'max_depth': 3, 'n_estimators': 20}</td>\n",
       "      <td>0.867041</td>\n",
       "      <td>0.878049</td>\n",
       "      <td>0.864916</td>\n",
       "      <td>0.863039</td>\n",
       "      <td>0.868668</td>\n",
       "      <td>0.868343</td>\n",
       "      <td>0.005213</td>\n",
       "      <td>20</td>\n",
       "    </tr>\n",
       "    <tr>\n",
       "      <th>2</th>\n",
       "      <td>0.145068</td>\n",
       "      <td>0.002299</td>\n",
       "      <td>0.009113</td>\n",
       "      <td>0.000108</td>\n",
       "      <td>3</td>\n",
       "      <td>50</td>\n",
       "      <td>{'max_depth': 3, 'n_estimators': 50}</td>\n",
       "      <td>0.863296</td>\n",
       "      <td>0.874296</td>\n",
       "      <td>0.868668</td>\n",
       "      <td>0.866792</td>\n",
       "      <td>0.872420</td>\n",
       "      <td>0.869094</td>\n",
       "      <td>0.003930</td>\n",
       "      <td>16</td>\n",
       "    </tr>\n",
       "    <tr>\n",
       "      <th>3</th>\n",
       "      <td>0.289925</td>\n",
       "      <td>0.005813</td>\n",
       "      <td>0.014935</td>\n",
       "      <td>0.000446</td>\n",
       "      <td>3</td>\n",
       "      <td>100</td>\n",
       "      <td>{'max_depth': 3, 'n_estimators': 100}</td>\n",
       "      <td>0.865169</td>\n",
       "      <td>0.872420</td>\n",
       "      <td>0.872420</td>\n",
       "      <td>0.861163</td>\n",
       "      <td>0.872420</td>\n",
       "      <td>0.868719</td>\n",
       "      <td>0.004707</td>\n",
       "      <td>17</td>\n",
       "    </tr>\n",
       "    <tr>\n",
       "      <th>4</th>\n",
       "      <td>1.426708</td>\n",
       "      <td>0.049041</td>\n",
       "      <td>0.057284</td>\n",
       "      <td>0.002189</td>\n",
       "      <td>3</td>\n",
       "      <td>500</td>\n",
       "      <td>{'max_depth': 3, 'n_estimators': 500}</td>\n",
       "      <td>0.867041</td>\n",
       "      <td>0.872420</td>\n",
       "      <td>0.868668</td>\n",
       "      <td>0.866792</td>\n",
       "      <td>0.868668</td>\n",
       "      <td>0.868718</td>\n",
       "      <td>0.002012</td>\n",
       "      <td>18</td>\n",
       "    </tr>\n",
       "    <tr>\n",
       "      <th>5</th>\n",
       "      <td>0.040788</td>\n",
       "      <td>0.000546</td>\n",
       "      <td>0.004447</td>\n",
       "      <td>0.000078</td>\n",
       "      <td>5</td>\n",
       "      <td>10</td>\n",
       "      <td>{'max_depth': 5, 'n_estimators': 10}</td>\n",
       "      <td>0.895131</td>\n",
       "      <td>0.891182</td>\n",
       "      <td>0.898687</td>\n",
       "      <td>0.893058</td>\n",
       "      <td>0.894934</td>\n",
       "      <td>0.894598</td>\n",
       "      <td>0.002496</td>\n",
       "      <td>15</td>\n",
       "    </tr>\n",
       "    <tr>\n",
       "      <th>6</th>\n",
       "      <td>0.076506</td>\n",
       "      <td>0.000990</td>\n",
       "      <td>0.005660</td>\n",
       "      <td>0.000073</td>\n",
       "      <td>5</td>\n",
       "      <td>20</td>\n",
       "      <td>{'max_depth': 5, 'n_estimators': 20}</td>\n",
       "      <td>0.880150</td>\n",
       "      <td>0.908068</td>\n",
       "      <td>0.900563</td>\n",
       "      <td>0.898687</td>\n",
       "      <td>0.900563</td>\n",
       "      <td>0.897606</td>\n",
       "      <td>0.009304</td>\n",
       "      <td>14</td>\n",
       "    </tr>\n",
       "    <tr>\n",
       "      <th>7</th>\n",
       "      <td>0.182992</td>\n",
       "      <td>0.002177</td>\n",
       "      <td>0.009465</td>\n",
       "      <td>0.000112</td>\n",
       "      <td>5</td>\n",
       "      <td>50</td>\n",
       "      <td>{'max_depth': 5, 'n_estimators': 50}</td>\n",
       "      <td>0.891386</td>\n",
       "      <td>0.904315</td>\n",
       "      <td>0.908068</td>\n",
       "      <td>0.889306</td>\n",
       "      <td>0.900563</td>\n",
       "      <td>0.898727</td>\n",
       "      <td>0.007273</td>\n",
       "      <td>12</td>\n",
       "    </tr>\n",
       "    <tr>\n",
       "      <th>8</th>\n",
       "      <td>0.360383</td>\n",
       "      <td>0.006048</td>\n",
       "      <td>0.015290</td>\n",
       "      <td>0.000373</td>\n",
       "      <td>5</td>\n",
       "      <td>100</td>\n",
       "      <td>{'max_depth': 5, 'n_estimators': 100}</td>\n",
       "      <td>0.889513</td>\n",
       "      <td>0.906191</td>\n",
       "      <td>0.902439</td>\n",
       "      <td>0.896811</td>\n",
       "      <td>0.896811</td>\n",
       "      <td>0.898353</td>\n",
       "      <td>0.005675</td>\n",
       "      <td>13</td>\n",
       "    </tr>\n",
       "    <tr>\n",
       "      <th>9</th>\n",
       "      <td>1.760322</td>\n",
       "      <td>0.007634</td>\n",
       "      <td>0.060055</td>\n",
       "      <td>0.000572</td>\n",
       "      <td>5</td>\n",
       "      <td>500</td>\n",
       "      <td>{'max_depth': 5, 'n_estimators': 500}</td>\n",
       "      <td>0.889513</td>\n",
       "      <td>0.908068</td>\n",
       "      <td>0.908068</td>\n",
       "      <td>0.893058</td>\n",
       "      <td>0.906191</td>\n",
       "      <td>0.900980</td>\n",
       "      <td>0.008023</td>\n",
       "      <td>9</td>\n",
       "    </tr>\n",
       "    <tr>\n",
       "      <th>10</th>\n",
       "      <td>0.048022</td>\n",
       "      <td>0.000928</td>\n",
       "      <td>0.004794</td>\n",
       "      <td>0.000239</td>\n",
       "      <td>7</td>\n",
       "      <td>10</td>\n",
       "      <td>{'max_depth': 7, 'n_estimators': 10}</td>\n",
       "      <td>0.898876</td>\n",
       "      <td>0.921201</td>\n",
       "      <td>0.902439</td>\n",
       "      <td>0.904315</td>\n",
       "      <td>0.902439</td>\n",
       "      <td>0.905854</td>\n",
       "      <td>0.007873</td>\n",
       "      <td>6</td>\n",
       "    </tr>\n",
       "    <tr>\n",
       "      <th>11</th>\n",
       "      <td>0.091184</td>\n",
       "      <td>0.000761</td>\n",
       "      <td>0.006265</td>\n",
       "      <td>0.000049</td>\n",
       "      <td>7</td>\n",
       "      <td>20</td>\n",
       "      <td>{'max_depth': 7, 'n_estimators': 20}</td>\n",
       "      <td>0.893258</td>\n",
       "      <td>0.900563</td>\n",
       "      <td>0.904315</td>\n",
       "      <td>0.908068</td>\n",
       "      <td>0.909944</td>\n",
       "      <td>0.903230</td>\n",
       "      <td>0.005936</td>\n",
       "      <td>8</td>\n",
       "    </tr>\n",
       "    <tr>\n",
       "      <th>12</th>\n",
       "      <td>0.218826</td>\n",
       "      <td>0.001887</td>\n",
       "      <td>0.010040</td>\n",
       "      <td>0.000050</td>\n",
       "      <td>7</td>\n",
       "      <td>50</td>\n",
       "      <td>{'max_depth': 7, 'n_estimators': 50}</td>\n",
       "      <td>0.898876</td>\n",
       "      <td>0.909944</td>\n",
       "      <td>0.908068</td>\n",
       "      <td>0.904315</td>\n",
       "      <td>0.909944</td>\n",
       "      <td>0.906229</td>\n",
       "      <td>0.004212</td>\n",
       "      <td>4</td>\n",
       "    </tr>\n",
       "    <tr>\n",
       "      <th>13</th>\n",
       "      <td>0.438823</td>\n",
       "      <td>0.017327</td>\n",
       "      <td>0.016992</td>\n",
       "      <td>0.001703</td>\n",
       "      <td>7</td>\n",
       "      <td>100</td>\n",
       "      <td>{'max_depth': 7, 'n_estimators': 100}</td>\n",
       "      <td>0.898876</td>\n",
       "      <td>0.911820</td>\n",
       "      <td>0.908068</td>\n",
       "      <td>0.909944</td>\n",
       "      <td>0.906191</td>\n",
       "      <td>0.906980</td>\n",
       "      <td>0.004465</td>\n",
       "      <td>3</td>\n",
       "    </tr>\n",
       "    <tr>\n",
       "      <th>14</th>\n",
       "      <td>2.140921</td>\n",
       "      <td>0.017058</td>\n",
       "      <td>0.066035</td>\n",
       "      <td>0.000724</td>\n",
       "      <td>7</td>\n",
       "      <td>500</td>\n",
       "      <td>{'max_depth': 7, 'n_estimators': 500}</td>\n",
       "      <td>0.897004</td>\n",
       "      <td>0.909944</td>\n",
       "      <td>0.909944</td>\n",
       "      <td>0.904315</td>\n",
       "      <td>0.906191</td>\n",
       "      <td>0.905480</td>\n",
       "      <td>0.004766</td>\n",
       "      <td>7</td>\n",
       "    </tr>\n",
       "    <tr>\n",
       "      <th>15</th>\n",
       "      <td>0.056058</td>\n",
       "      <td>0.000475</td>\n",
       "      <td>0.004887</td>\n",
       "      <td>0.000216</td>\n",
       "      <td>10</td>\n",
       "      <td>10</td>\n",
       "      <td>{'max_depth': 10, 'n_estimators': 10}</td>\n",
       "      <td>0.895131</td>\n",
       "      <td>0.896811</td>\n",
       "      <td>0.904315</td>\n",
       "      <td>0.902439</td>\n",
       "      <td>0.902439</td>\n",
       "      <td>0.900227</td>\n",
       "      <td>0.003582</td>\n",
       "      <td>11</td>\n",
       "    </tr>\n",
       "    <tr>\n",
       "      <th>16</th>\n",
       "      <td>0.106991</td>\n",
       "      <td>0.001426</td>\n",
       "      <td>0.006496</td>\n",
       "      <td>0.000061</td>\n",
       "      <td>10</td>\n",
       "      <td>20</td>\n",
       "      <td>{'max_depth': 10, 'n_estimators': 20}</td>\n",
       "      <td>0.891386</td>\n",
       "      <td>0.896811</td>\n",
       "      <td>0.902439</td>\n",
       "      <td>0.902439</td>\n",
       "      <td>0.908068</td>\n",
       "      <td>0.900228</td>\n",
       "      <td>0.005676</td>\n",
       "      <td>10</td>\n",
       "    </tr>\n",
       "    <tr>\n",
       "      <th>17</th>\n",
       "      <td>0.261204</td>\n",
       "      <td>0.002216</td>\n",
       "      <td>0.010705</td>\n",
       "      <td>0.000076</td>\n",
       "      <td>10</td>\n",
       "      <td>50</td>\n",
       "      <td>{'max_depth': 10, 'n_estimators': 50}</td>\n",
       "      <td>0.898876</td>\n",
       "      <td>0.911820</td>\n",
       "      <td>0.911820</td>\n",
       "      <td>0.900563</td>\n",
       "      <td>0.913696</td>\n",
       "      <td>0.907355</td>\n",
       "      <td>0.006294</td>\n",
       "      <td>2</td>\n",
       "    </tr>\n",
       "    <tr>\n",
       "      <th>18</th>\n",
       "      <td>0.525933</td>\n",
       "      <td>0.010645</td>\n",
       "      <td>0.018341</td>\n",
       "      <td>0.000499</td>\n",
       "      <td>10</td>\n",
       "      <td>100</td>\n",
       "      <td>{'max_depth': 10, 'n_estimators': 100}</td>\n",
       "      <td>0.897004</td>\n",
       "      <td>0.913696</td>\n",
       "      <td>0.906191</td>\n",
       "      <td>0.902439</td>\n",
       "      <td>0.909944</td>\n",
       "      <td>0.905855</td>\n",
       "      <td>0.005802</td>\n",
       "      <td>5</td>\n",
       "    </tr>\n",
       "    <tr>\n",
       "      <th>19</th>\n",
       "      <td>2.598942</td>\n",
       "      <td>0.024970</td>\n",
       "      <td>0.074511</td>\n",
       "      <td>0.001472</td>\n",
       "      <td>10</td>\n",
       "      <td>500</td>\n",
       "      <td>{'max_depth': 10, 'n_estimators': 500}</td>\n",
       "      <td>0.900749</td>\n",
       "      <td>0.913696</td>\n",
       "      <td>0.911820</td>\n",
       "      <td>0.909944</td>\n",
       "      <td>0.911820</td>\n",
       "      <td>0.909606</td>\n",
       "      <td>0.004585</td>\n",
       "      <td>1</td>\n",
       "    </tr>\n",
       "  </tbody>\n",
       "</table>\n",
       "</div>"
      ],
      "text/plain": [
       "    mean_fit_time  std_fit_time  mean_score_time  std_score_time  \\\n",
       "0        0.035281      0.002627         0.004731        0.000094   \n",
       "1        0.060792      0.000631         0.005795        0.000072   \n",
       "2        0.145068      0.002299         0.009113        0.000108   \n",
       "3        0.289925      0.005813         0.014935        0.000446   \n",
       "4        1.426708      0.049041         0.057284        0.002189   \n",
       "5        0.040788      0.000546         0.004447        0.000078   \n",
       "6        0.076506      0.000990         0.005660        0.000073   \n",
       "7        0.182992      0.002177         0.009465        0.000112   \n",
       "8        0.360383      0.006048         0.015290        0.000373   \n",
       "9        1.760322      0.007634         0.060055        0.000572   \n",
       "10       0.048022      0.000928         0.004794        0.000239   \n",
       "11       0.091184      0.000761         0.006265        0.000049   \n",
       "12       0.218826      0.001887         0.010040        0.000050   \n",
       "13       0.438823      0.017327         0.016992        0.001703   \n",
       "14       2.140921      0.017058         0.066035        0.000724   \n",
       "15       0.056058      0.000475         0.004887        0.000216   \n",
       "16       0.106991      0.001426         0.006496        0.000061   \n",
       "17       0.261204      0.002216         0.010705        0.000076   \n",
       "18       0.525933      0.010645         0.018341        0.000499   \n",
       "19       2.598942      0.024970         0.074511        0.001472   \n",
       "\n",
       "   param_max_depth param_n_estimators                                  params  \\\n",
       "0                3                 10    {'max_depth': 3, 'n_estimators': 10}   \n",
       "1                3                 20    {'max_depth': 3, 'n_estimators': 20}   \n",
       "2                3                 50    {'max_depth': 3, 'n_estimators': 50}   \n",
       "3                3                100   {'max_depth': 3, 'n_estimators': 100}   \n",
       "4                3                500   {'max_depth': 3, 'n_estimators': 500}   \n",
       "5                5                 10    {'max_depth': 5, 'n_estimators': 10}   \n",
       "6                5                 20    {'max_depth': 5, 'n_estimators': 20}   \n",
       "7                5                 50    {'max_depth': 5, 'n_estimators': 50}   \n",
       "8                5                100   {'max_depth': 5, 'n_estimators': 100}   \n",
       "9                5                500   {'max_depth': 5, 'n_estimators': 500}   \n",
       "10               7                 10    {'max_depth': 7, 'n_estimators': 10}   \n",
       "11               7                 20    {'max_depth': 7, 'n_estimators': 20}   \n",
       "12               7                 50    {'max_depth': 7, 'n_estimators': 50}   \n",
       "13               7                100   {'max_depth': 7, 'n_estimators': 100}   \n",
       "14               7                500   {'max_depth': 7, 'n_estimators': 500}   \n",
       "15              10                 10   {'max_depth': 10, 'n_estimators': 10}   \n",
       "16              10                 20   {'max_depth': 10, 'n_estimators': 20}   \n",
       "17              10                 50   {'max_depth': 10, 'n_estimators': 50}   \n",
       "18              10                100  {'max_depth': 10, 'n_estimators': 100}   \n",
       "19              10                500  {'max_depth': 10, 'n_estimators': 500}   \n",
       "\n",
       "    split0_test_score  split1_test_score  split2_test_score  \\\n",
       "0            0.870787           0.878049           0.861163   \n",
       "1            0.867041           0.878049           0.864916   \n",
       "2            0.863296           0.874296           0.868668   \n",
       "3            0.865169           0.872420           0.872420   \n",
       "4            0.867041           0.872420           0.868668   \n",
       "5            0.895131           0.891182           0.898687   \n",
       "6            0.880150           0.908068           0.900563   \n",
       "7            0.891386           0.904315           0.908068   \n",
       "8            0.889513           0.906191           0.902439   \n",
       "9            0.889513           0.908068           0.908068   \n",
       "10           0.898876           0.921201           0.902439   \n",
       "11           0.893258           0.900563           0.904315   \n",
       "12           0.898876           0.909944           0.908068   \n",
       "13           0.898876           0.911820           0.908068   \n",
       "14           0.897004           0.909944           0.909944   \n",
       "15           0.895131           0.896811           0.904315   \n",
       "16           0.891386           0.896811           0.902439   \n",
       "17           0.898876           0.911820           0.911820   \n",
       "18           0.897004           0.913696           0.906191   \n",
       "19           0.900749           0.913696           0.911820   \n",
       "\n",
       "    split3_test_score  split4_test_score  mean_test_score  std_test_score  \\\n",
       "0            0.861163           0.872420         0.868716        0.006621   \n",
       "1            0.863039           0.868668         0.868343        0.005213   \n",
       "2            0.866792           0.872420         0.869094        0.003930   \n",
       "3            0.861163           0.872420         0.868719        0.004707   \n",
       "4            0.866792           0.868668         0.868718        0.002012   \n",
       "5            0.893058           0.894934         0.894598        0.002496   \n",
       "6            0.898687           0.900563         0.897606        0.009304   \n",
       "7            0.889306           0.900563         0.898727        0.007273   \n",
       "8            0.896811           0.896811         0.898353        0.005675   \n",
       "9            0.893058           0.906191         0.900980        0.008023   \n",
       "10           0.904315           0.902439         0.905854        0.007873   \n",
       "11           0.908068           0.909944         0.903230        0.005936   \n",
       "12           0.904315           0.909944         0.906229        0.004212   \n",
       "13           0.909944           0.906191         0.906980        0.004465   \n",
       "14           0.904315           0.906191         0.905480        0.004766   \n",
       "15           0.902439           0.902439         0.900227        0.003582   \n",
       "16           0.902439           0.908068         0.900228        0.005676   \n",
       "17           0.900563           0.913696         0.907355        0.006294   \n",
       "18           0.902439           0.909944         0.905855        0.005802   \n",
       "19           0.909944           0.911820         0.909606        0.004585   \n",
       "\n",
       "    rank_test_score  \n",
       "0                19  \n",
       "1                20  \n",
       "2                16  \n",
       "3                17  \n",
       "4                18  \n",
       "5                15  \n",
       "6                14  \n",
       "7                12  \n",
       "8                13  \n",
       "9                 9  \n",
       "10                6  \n",
       "11                8  \n",
       "12                4  \n",
       "13                3  \n",
       "14                7  \n",
       "15               11  \n",
       "16               10  \n",
       "17                2  \n",
       "18                5  \n",
       "19                1  "
      ]
     },
     "execution_count": 35,
     "metadata": {},
     "output_type": "execute_result"
    }
   ],
   "source": [
    "pd.DataFrame(recherche_hyper.cv_results_)"
   ]
  },
  {
   "cell_type": "markdown",
   "metadata": {
    "slideshow": {
     "slide_type": "subslide"
    }
   },
   "source": [
    "**Exercice :**\n",
    "\n",
    "Effectuez le même travail avec GBM"
   ]
  },
  {
   "cell_type": "code",
   "execution_count": 36,
   "metadata": {},
   "outputs": [],
   "source": [
    "recherche_hyper_gbm = ___\n"
   ]
  },
  {
   "cell_type": "code",
   "execution_count": 37,
   "metadata": {
    "slideshow": {
     "slide_type": "fragment"
    }
   },
   "outputs": [],
   "source": [
    "dico_param= {\"max_depth\":[3,5,7,10], \"n_estimators\":[10,20,50,100],\"learning_rate\":[0.01,0.1,0.4 ]}"
   ]
  },
  {
   "cell_type": "markdown",
   "metadata": {
    "slideshow": {
     "slide_type": "fragment"
    }
   },
   "source": [
    "On va encore utiliser l’accuracy pour valider notre modèle. Finalement, nous allons\n",
    "utiliser une validation croisée à cinq groupes pour valider les résultats.\n",
    "Le nouvel objet est le suivant :"
   ]
  },
  {
   "cell_type": "code",
   "execution_count": 38,
   "metadata": {
    "slideshow": {
     "slide_type": "fragment"
    }
   },
   "outputs": [],
   "source": [
    "recherche_hyper_gbm = GridSearchCV(GradientBoostingClassifier(), \n",
    "                               dico_param, \n",
    "                               scoring=\"accuracy\",\n",
    "                               cv=5)"
   ]
  },
  {
   "cell_type": "markdown",
   "metadata": {
    "slideshow": {
     "slide_type": "fragment"
    }
   },
   "source": [
    "Une fois qu’on a créé cet objet, on peut lui joindre les données afin d’estimer les\n",
    "meilleurs paramètres du modèle.\n",
    "\n",
    "Cette étape peut être très longue."
   ]
  },
  {
   "cell_type": "code",
   "execution_count": 39,
   "metadata": {
    "slideshow": {
     "slide_type": "subslide"
    }
   },
   "outputs": [],
   "source": [
    "recherche_hyper_gbm.fit(x_train, y_train)\n",
    "pass"
   ]
  },
  {
   "cell_type": "code",
   "execution_count": 40,
   "metadata": {},
   "outputs": [
    {
     "name": "stdout",
     "output_type": "stream",
     "text": [
      "{'learning_rate': 0.1, 'max_depth': 5, 'n_estimators': 50}\n"
     ]
    }
   ],
   "source": [
    "print(recherche_hyper_gbm.best_params_)"
   ]
  },
  {
   "cell_type": "code",
   "execution_count": 41,
   "metadata": {},
   "outputs": [
    {
     "name": "stdout",
     "output_type": "stream",
     "text": [
      "0.9036026730189514\n"
     ]
    }
   ],
   "source": [
    "print(recherche_hyper_gbm.best_score_)"
   ]
  },
  {
   "cell_type": "code",
   "execution_count": 42,
   "metadata": {},
   "outputs": [
    {
     "data": {
      "text/html": [
       "<div>\n",
       "<style scoped>\n",
       "    .dataframe tbody tr th:only-of-type {\n",
       "        vertical-align: middle;\n",
       "    }\n",
       "\n",
       "    .dataframe tbody tr th {\n",
       "        vertical-align: top;\n",
       "    }\n",
       "\n",
       "    .dataframe thead th {\n",
       "        text-align: right;\n",
       "    }\n",
       "</style>\n",
       "<table border=\"1\" class=\"dataframe\">\n",
       "  <thead>\n",
       "    <tr style=\"text-align: right;\">\n",
       "      <th></th>\n",
       "      <th>mean_fit_time</th>\n",
       "      <th>std_fit_time</th>\n",
       "      <th>mean_score_time</th>\n",
       "      <th>std_score_time</th>\n",
       "      <th>param_learning_rate</th>\n",
       "      <th>param_max_depth</th>\n",
       "      <th>param_n_estimators</th>\n",
       "      <th>params</th>\n",
       "      <th>split0_test_score</th>\n",
       "      <th>split1_test_score</th>\n",
       "      <th>split2_test_score</th>\n",
       "      <th>split3_test_score</th>\n",
       "      <th>split4_test_score</th>\n",
       "      <th>mean_test_score</th>\n",
       "      <th>std_test_score</th>\n",
       "      <th>rank_test_score</th>\n",
       "    </tr>\n",
       "  </thead>\n",
       "  <tbody>\n",
       "    <tr>\n",
       "      <th>0</th>\n",
       "      <td>0.081331</td>\n",
       "      <td>0.000300</td>\n",
       "      <td>0.003536</td>\n",
       "      <td>0.000117</td>\n",
       "      <td>0.01</td>\n",
       "      <td>3</td>\n",
       "      <td>10</td>\n",
       "      <td>{'learning_rate': 0.01, 'max_depth': 3, 'n_est...</td>\n",
       "      <td>0.855805</td>\n",
       "      <td>0.857411</td>\n",
       "      <td>0.857411</td>\n",
       "      <td>0.857411</td>\n",
       "      <td>0.855535</td>\n",
       "      <td>0.856715</td>\n",
       "      <td>0.000857</td>\n",
       "      <td>39</td>\n",
       "    </tr>\n",
       "    <tr>\n",
       "      <th>1</th>\n",
       "      <td>0.164177</td>\n",
       "      <td>0.002325</td>\n",
       "      <td>0.003934</td>\n",
       "      <td>0.000212</td>\n",
       "      <td>0.01</td>\n",
       "      <td>3</td>\n",
       "      <td>20</td>\n",
       "      <td>{'learning_rate': 0.01, 'max_depth': 3, 'n_est...</td>\n",
       "      <td>0.855805</td>\n",
       "      <td>0.857411</td>\n",
       "      <td>0.857411</td>\n",
       "      <td>0.857411</td>\n",
       "      <td>0.855535</td>\n",
       "      <td>0.856715</td>\n",
       "      <td>0.000857</td>\n",
       "      <td>39</td>\n",
       "    </tr>\n",
       "    <tr>\n",
       "      <th>2</th>\n",
       "      <td>0.392180</td>\n",
       "      <td>0.009098</td>\n",
       "      <td>0.003932</td>\n",
       "      <td>0.000035</td>\n",
       "      <td>0.01</td>\n",
       "      <td>3</td>\n",
       "      <td>50</td>\n",
       "      <td>{'learning_rate': 0.01, 'max_depth': 3, 'n_est...</td>\n",
       "      <td>0.855805</td>\n",
       "      <td>0.857411</td>\n",
       "      <td>0.857411</td>\n",
       "      <td>0.857411</td>\n",
       "      <td>0.855535</td>\n",
       "      <td>0.856715</td>\n",
       "      <td>0.000857</td>\n",
       "      <td>39</td>\n",
       "    </tr>\n",
       "    <tr>\n",
       "      <th>3</th>\n",
       "      <td>0.769917</td>\n",
       "      <td>0.004501</td>\n",
       "      <td>0.004347</td>\n",
       "      <td>0.000092</td>\n",
       "      <td>0.01</td>\n",
       "      <td>3</td>\n",
       "      <td>100</td>\n",
       "      <td>{'learning_rate': 0.01, 'max_depth': 3, 'n_est...</td>\n",
       "      <td>0.878277</td>\n",
       "      <td>0.894934</td>\n",
       "      <td>0.900563</td>\n",
       "      <td>0.893058</td>\n",
       "      <td>0.893058</td>\n",
       "      <td>0.891978</td>\n",
       "      <td>0.007382</td>\n",
       "      <td>22</td>\n",
       "    </tr>\n",
       "    <tr>\n",
       "      <th>4</th>\n",
       "      <td>0.131942</td>\n",
       "      <td>0.000469</td>\n",
       "      <td>0.003712</td>\n",
       "      <td>0.000066</td>\n",
       "      <td>0.01</td>\n",
       "      <td>5</td>\n",
       "      <td>10</td>\n",
       "      <td>{'learning_rate': 0.01, 'max_depth': 5, 'n_est...</td>\n",
       "      <td>0.855805</td>\n",
       "      <td>0.857411</td>\n",
       "      <td>0.857411</td>\n",
       "      <td>0.857411</td>\n",
       "      <td>0.855535</td>\n",
       "      <td>0.856715</td>\n",
       "      <td>0.000857</td>\n",
       "      <td>39</td>\n",
       "    </tr>\n",
       "    <tr>\n",
       "      <th>5</th>\n",
       "      <td>0.270073</td>\n",
       "      <td>0.006672</td>\n",
       "      <td>0.004610</td>\n",
       "      <td>0.001055</td>\n",
       "      <td>0.01</td>\n",
       "      <td>5</td>\n",
       "      <td>20</td>\n",
       "      <td>{'learning_rate': 0.01, 'max_depth': 5, 'n_est...</td>\n",
       "      <td>0.855805</td>\n",
       "      <td>0.857411</td>\n",
       "      <td>0.857411</td>\n",
       "      <td>0.857411</td>\n",
       "      <td>0.855535</td>\n",
       "      <td>0.856715</td>\n",
       "      <td>0.000857</td>\n",
       "      <td>39</td>\n",
       "    </tr>\n",
       "    <tr>\n",
       "      <th>6</th>\n",
       "      <td>0.654643</td>\n",
       "      <td>0.010039</td>\n",
       "      <td>0.005035</td>\n",
       "      <td>0.001219</td>\n",
       "      <td>0.01</td>\n",
       "      <td>5</td>\n",
       "      <td>50</td>\n",
       "      <td>{'learning_rate': 0.01, 'max_depth': 5, 'n_est...</td>\n",
       "      <td>0.855805</td>\n",
       "      <td>0.857411</td>\n",
       "      <td>0.857411</td>\n",
       "      <td>0.857411</td>\n",
       "      <td>0.859287</td>\n",
       "      <td>0.857465</td>\n",
       "      <td>0.001103</td>\n",
       "      <td>37</td>\n",
       "    </tr>\n",
       "    <tr>\n",
       "      <th>7</th>\n",
       "      <td>1.284532</td>\n",
       "      <td>0.003653</td>\n",
       "      <td>0.005025</td>\n",
       "      <td>0.000101</td>\n",
       "      <td>0.01</td>\n",
       "      <td>5</td>\n",
       "      <td>100</td>\n",
       "      <td>{'learning_rate': 0.01, 'max_depth': 5, 'n_est...</td>\n",
       "      <td>0.889513</td>\n",
       "      <td>0.900563</td>\n",
       "      <td>0.896811</td>\n",
       "      <td>0.906191</td>\n",
       "      <td>0.893058</td>\n",
       "      <td>0.897227</td>\n",
       "      <td>0.005806</td>\n",
       "      <td>12</td>\n",
       "    </tr>\n",
       "    <tr>\n",
       "      <th>8</th>\n",
       "      <td>0.190668</td>\n",
       "      <td>0.005250</td>\n",
       "      <td>0.004111</td>\n",
       "      <td>0.000164</td>\n",
       "      <td>0.01</td>\n",
       "      <td>7</td>\n",
       "      <td>10</td>\n",
       "      <td>{'learning_rate': 0.01, 'max_depth': 7, 'n_est...</td>\n",
       "      <td>0.855805</td>\n",
       "      <td>0.857411</td>\n",
       "      <td>0.857411</td>\n",
       "      <td>0.857411</td>\n",
       "      <td>0.855535</td>\n",
       "      <td>0.856715</td>\n",
       "      <td>0.000857</td>\n",
       "      <td>39</td>\n",
       "    </tr>\n",
       "    <tr>\n",
       "      <th>9</th>\n",
       "      <td>0.384367</td>\n",
       "      <td>0.003525</td>\n",
       "      <td>0.004343</td>\n",
       "      <td>0.000097</td>\n",
       "      <td>0.01</td>\n",
       "      <td>7</td>\n",
       "      <td>20</td>\n",
       "      <td>{'learning_rate': 0.01, 'max_depth': 7, 'n_est...</td>\n",
       "      <td>0.855805</td>\n",
       "      <td>0.857411</td>\n",
       "      <td>0.857411</td>\n",
       "      <td>0.857411</td>\n",
       "      <td>0.855535</td>\n",
       "      <td>0.856715</td>\n",
       "      <td>0.000857</td>\n",
       "      <td>39</td>\n",
       "    </tr>\n",
       "    <tr>\n",
       "      <th>10</th>\n",
       "      <td>0.940697</td>\n",
       "      <td>0.018616</td>\n",
       "      <td>0.004851</td>\n",
       "      <td>0.000160</td>\n",
       "      <td>0.01</td>\n",
       "      <td>7</td>\n",
       "      <td>50</td>\n",
       "      <td>{'learning_rate': 0.01, 'max_depth': 7, 'n_est...</td>\n",
       "      <td>0.855805</td>\n",
       "      <td>0.857411</td>\n",
       "      <td>0.857411</td>\n",
       "      <td>0.859287</td>\n",
       "      <td>0.855535</td>\n",
       "      <td>0.857090</td>\n",
       "      <td>0.001349</td>\n",
       "      <td>38</td>\n",
       "    </tr>\n",
       "    <tr>\n",
       "      <th>11</th>\n",
       "      <td>1.922566</td>\n",
       "      <td>0.030305</td>\n",
       "      <td>0.005909</td>\n",
       "      <td>0.000120</td>\n",
       "      <td>0.01</td>\n",
       "      <td>7</td>\n",
       "      <td>100</td>\n",
       "      <td>{'learning_rate': 0.01, 'max_depth': 7, 'n_est...</td>\n",
       "      <td>0.891386</td>\n",
       "      <td>0.879925</td>\n",
       "      <td>0.894934</td>\n",
       "      <td>0.898687</td>\n",
       "      <td>0.896811</td>\n",
       "      <td>0.892348</td>\n",
       "      <td>0.006664</td>\n",
       "      <td>21</td>\n",
       "    </tr>\n",
       "    <tr>\n",
       "      <th>12</th>\n",
       "      <td>0.276147</td>\n",
       "      <td>0.001165</td>\n",
       "      <td>0.004203</td>\n",
       "      <td>0.000155</td>\n",
       "      <td>0.01</td>\n",
       "      <td>10</td>\n",
       "      <td>10</td>\n",
       "      <td>{'learning_rate': 0.01, 'max_depth': 10, 'n_es...</td>\n",
       "      <td>0.855805</td>\n",
       "      <td>0.857411</td>\n",
       "      <td>0.857411</td>\n",
       "      <td>0.857411</td>\n",
       "      <td>0.855535</td>\n",
       "      <td>0.856715</td>\n",
       "      <td>0.000857</td>\n",
       "      <td>39</td>\n",
       "    </tr>\n",
       "    <tr>\n",
       "      <th>13</th>\n",
       "      <td>0.553868</td>\n",
       "      <td>0.004342</td>\n",
       "      <td>0.004455</td>\n",
       "      <td>0.000038</td>\n",
       "      <td>0.01</td>\n",
       "      <td>10</td>\n",
       "      <td>20</td>\n",
       "      <td>{'learning_rate': 0.01, 'max_depth': 10, 'n_es...</td>\n",
       "      <td>0.855805</td>\n",
       "      <td>0.857411</td>\n",
       "      <td>0.857411</td>\n",
       "      <td>0.857411</td>\n",
       "      <td>0.855535</td>\n",
       "      <td>0.856715</td>\n",
       "      <td>0.000857</td>\n",
       "      <td>39</td>\n",
       "    </tr>\n",
       "    <tr>\n",
       "      <th>14</th>\n",
       "      <td>1.397326</td>\n",
       "      <td>0.015191</td>\n",
       "      <td>0.005602</td>\n",
       "      <td>0.000064</td>\n",
       "      <td>0.01</td>\n",
       "      <td>10</td>\n",
       "      <td>50</td>\n",
       "      <td>{'learning_rate': 0.01, 'max_depth': 10, 'n_es...</td>\n",
       "      <td>0.853933</td>\n",
       "      <td>0.857411</td>\n",
       "      <td>0.857411</td>\n",
       "      <td>0.855535</td>\n",
       "      <td>0.855535</td>\n",
       "      <td>0.855965</td>\n",
       "      <td>0.001318</td>\n",
       "      <td>48</td>\n",
       "    </tr>\n",
       "    <tr>\n",
       "      <th>15</th>\n",
       "      <td>2.749442</td>\n",
       "      <td>0.070986</td>\n",
       "      <td>0.007614</td>\n",
       "      <td>0.000255</td>\n",
       "      <td>0.01</td>\n",
       "      <td>10</td>\n",
       "      <td>100</td>\n",
       "      <td>{'learning_rate': 0.01, 'max_depth': 10, 'n_es...</td>\n",
       "      <td>0.882022</td>\n",
       "      <td>0.866792</td>\n",
       "      <td>0.889306</td>\n",
       "      <td>0.891182</td>\n",
       "      <td>0.896811</td>\n",
       "      <td>0.885223</td>\n",
       "      <td>0.010358</td>\n",
       "      <td>30</td>\n",
       "    </tr>\n",
       "    <tr>\n",
       "      <th>16</th>\n",
       "      <td>0.081963</td>\n",
       "      <td>0.000315</td>\n",
       "      <td>0.003661</td>\n",
       "      <td>0.000077</td>\n",
       "      <td>0.1</td>\n",
       "      <td>3</td>\n",
       "      <td>10</td>\n",
       "      <td>{'learning_rate': 0.1, 'max_depth': 3, 'n_esti...</td>\n",
       "      <td>0.883895</td>\n",
       "      <td>0.887430</td>\n",
       "      <td>0.896811</td>\n",
       "      <td>0.893058</td>\n",
       "      <td>0.894934</td>\n",
       "      <td>0.891226</td>\n",
       "      <td>0.004826</td>\n",
       "      <td>23</td>\n",
       "    </tr>\n",
       "    <tr>\n",
       "      <th>17</th>\n",
       "      <td>0.158495</td>\n",
       "      <td>0.000349</td>\n",
       "      <td>0.003847</td>\n",
       "      <td>0.000017</td>\n",
       "      <td>0.1</td>\n",
       "      <td>3</td>\n",
       "      <td>20</td>\n",
       "      <td>{'learning_rate': 0.1, 'max_depth': 3, 'n_esti...</td>\n",
       "      <td>0.895131</td>\n",
       "      <td>0.896811</td>\n",
       "      <td>0.900563</td>\n",
       "      <td>0.900563</td>\n",
       "      <td>0.904315</td>\n",
       "      <td>0.899476</td>\n",
       "      <td>0.003218</td>\n",
       "      <td>8</td>\n",
       "    </tr>\n",
       "    <tr>\n",
       "      <th>18</th>\n",
       "      <td>0.391991</td>\n",
       "      <td>0.009538</td>\n",
       "      <td>0.004181</td>\n",
       "      <td>0.000194</td>\n",
       "      <td>0.1</td>\n",
       "      <td>3</td>\n",
       "      <td>50</td>\n",
       "      <td>{'learning_rate': 0.1, 'max_depth': 3, 'n_esti...</td>\n",
       "      <td>0.898876</td>\n",
       "      <td>0.904315</td>\n",
       "      <td>0.908068</td>\n",
       "      <td>0.894934</td>\n",
       "      <td>0.908068</td>\n",
       "      <td>0.902852</td>\n",
       "      <td>0.005197</td>\n",
       "      <td>2</td>\n",
       "    </tr>\n",
       "    <tr>\n",
       "      <th>19</th>\n",
       "      <td>0.771145</td>\n",
       "      <td>0.002729</td>\n",
       "      <td>0.004525</td>\n",
       "      <td>0.000024</td>\n",
       "      <td>0.1</td>\n",
       "      <td>3</td>\n",
       "      <td>100</td>\n",
       "      <td>{'learning_rate': 0.1, 'max_depth': 3, 'n_esti...</td>\n",
       "      <td>0.893258</td>\n",
       "      <td>0.906191</td>\n",
       "      <td>0.906191</td>\n",
       "      <td>0.894934</td>\n",
       "      <td>0.906191</td>\n",
       "      <td>0.901353</td>\n",
       "      <td>0.005949</td>\n",
       "      <td>5</td>\n",
       "    </tr>\n",
       "    <tr>\n",
       "      <th>20</th>\n",
       "      <td>0.132690</td>\n",
       "      <td>0.000694</td>\n",
       "      <td>0.003827</td>\n",
       "      <td>0.000029</td>\n",
       "      <td>0.1</td>\n",
       "      <td>5</td>\n",
       "      <td>10</td>\n",
       "      <td>{'learning_rate': 0.1, 'max_depth': 5, 'n_esti...</td>\n",
       "      <td>0.891386</td>\n",
       "      <td>0.900563</td>\n",
       "      <td>0.896811</td>\n",
       "      <td>0.902439</td>\n",
       "      <td>0.896811</td>\n",
       "      <td>0.897602</td>\n",
       "      <td>0.003796</td>\n",
       "      <td>11</td>\n",
       "    </tr>\n",
       "    <tr>\n",
       "      <th>21</th>\n",
       "      <td>0.261727</td>\n",
       "      <td>0.001167</td>\n",
       "      <td>0.003998</td>\n",
       "      <td>0.000044</td>\n",
       "      <td>0.1</td>\n",
       "      <td>5</td>\n",
       "      <td>20</td>\n",
       "      <td>{'learning_rate': 0.1, 'max_depth': 5, 'n_esti...</td>\n",
       "      <td>0.902622</td>\n",
       "      <td>0.900563</td>\n",
       "      <td>0.900563</td>\n",
       "      <td>0.904315</td>\n",
       "      <td>0.906191</td>\n",
       "      <td>0.902851</td>\n",
       "      <td>0.002183</td>\n",
       "      <td>3</td>\n",
       "    </tr>\n",
       "    <tr>\n",
       "      <th>22</th>\n",
       "      <td>0.648009</td>\n",
       "      <td>0.007940</td>\n",
       "      <td>0.004489</td>\n",
       "      <td>0.000093</td>\n",
       "      <td>0.1</td>\n",
       "      <td>5</td>\n",
       "      <td>50</td>\n",
       "      <td>{'learning_rate': 0.1, 'max_depth': 5, 'n_esti...</td>\n",
       "      <td>0.898876</td>\n",
       "      <td>0.906191</td>\n",
       "      <td>0.902439</td>\n",
       "      <td>0.906191</td>\n",
       "      <td>0.904315</td>\n",
       "      <td>0.903603</td>\n",
       "      <td>0.002742</td>\n",
       "      <td>1</td>\n",
       "    </tr>\n",
       "    <tr>\n",
       "      <th>23</th>\n",
       "      <td>1.290775</td>\n",
       "      <td>0.023430</td>\n",
       "      <td>0.005392</td>\n",
       "      <td>0.000381</td>\n",
       "      <td>0.1</td>\n",
       "      <td>5</td>\n",
       "      <td>100</td>\n",
       "      <td>{'learning_rate': 0.1, 'max_depth': 5, 'n_esti...</td>\n",
       "      <td>0.898876</td>\n",
       "      <td>0.900563</td>\n",
       "      <td>0.906191</td>\n",
       "      <td>0.900563</td>\n",
       "      <td>0.906191</td>\n",
       "      <td>0.902477</td>\n",
       "      <td>0.003095</td>\n",
       "      <td>4</td>\n",
       "    </tr>\n",
       "    <tr>\n",
       "      <th>24</th>\n",
       "      <td>0.199336</td>\n",
       "      <td>0.007694</td>\n",
       "      <td>0.004941</td>\n",
       "      <td>0.001171</td>\n",
       "      <td>0.1</td>\n",
       "      <td>7</td>\n",
       "      <td>10</td>\n",
       "      <td>{'learning_rate': 0.1, 'max_depth': 7, 'n_esti...</td>\n",
       "      <td>0.897004</td>\n",
       "      <td>0.881801</td>\n",
       "      <td>0.891182</td>\n",
       "      <td>0.898687</td>\n",
       "      <td>0.900563</td>\n",
       "      <td>0.893847</td>\n",
       "      <td>0.006793</td>\n",
       "      <td>16</td>\n",
       "    </tr>\n",
       "    <tr>\n",
       "      <th>25</th>\n",
       "      <td>0.381214</td>\n",
       "      <td>0.009131</td>\n",
       "      <td>0.004409</td>\n",
       "      <td>0.000403</td>\n",
       "      <td>0.1</td>\n",
       "      <td>7</td>\n",
       "      <td>20</td>\n",
       "      <td>{'learning_rate': 0.1, 'max_depth': 7, 'n_esti...</td>\n",
       "      <td>0.900749</td>\n",
       "      <td>0.883677</td>\n",
       "      <td>0.889306</td>\n",
       "      <td>0.896811</td>\n",
       "      <td>0.893058</td>\n",
       "      <td>0.892720</td>\n",
       "      <td>0.005912</td>\n",
       "      <td>20</td>\n",
       "    </tr>\n",
       "    <tr>\n",
       "      <th>26</th>\n",
       "      <td>0.925708</td>\n",
       "      <td>0.002657</td>\n",
       "      <td>0.004903</td>\n",
       "      <td>0.000083</td>\n",
       "      <td>0.1</td>\n",
       "      <td>7</td>\n",
       "      <td>50</td>\n",
       "      <td>{'learning_rate': 0.1, 'max_depth': 7, 'n_esti...</td>\n",
       "      <td>0.898876</td>\n",
       "      <td>0.894934</td>\n",
       "      <td>0.896811</td>\n",
       "      <td>0.904315</td>\n",
       "      <td>0.898687</td>\n",
       "      <td>0.898725</td>\n",
       "      <td>0.003140</td>\n",
       "      <td>10</td>\n",
       "    </tr>\n",
       "    <tr>\n",
       "      <th>27</th>\n",
       "      <td>1.898334</td>\n",
       "      <td>0.041796</td>\n",
       "      <td>0.006306</td>\n",
       "      <td>0.000111</td>\n",
       "      <td>0.1</td>\n",
       "      <td>7</td>\n",
       "      <td>100</td>\n",
       "      <td>{'learning_rate': 0.1, 'max_depth': 7, 'n_esti...</td>\n",
       "      <td>0.900749</td>\n",
       "      <td>0.889306</td>\n",
       "      <td>0.891182</td>\n",
       "      <td>0.893058</td>\n",
       "      <td>0.902439</td>\n",
       "      <td>0.895347</td>\n",
       "      <td>0.005264</td>\n",
       "      <td>15</td>\n",
       "    </tr>\n",
       "    <tr>\n",
       "      <th>28</th>\n",
       "      <td>0.286339</td>\n",
       "      <td>0.004743</td>\n",
       "      <td>0.004263</td>\n",
       "      <td>0.000113</td>\n",
       "      <td>0.1</td>\n",
       "      <td>10</td>\n",
       "      <td>10</td>\n",
       "      <td>{'learning_rate': 0.1, 'max_depth': 10, 'n_est...</td>\n",
       "      <td>0.882022</td>\n",
       "      <td>0.866792</td>\n",
       "      <td>0.891182</td>\n",
       "      <td>0.889306</td>\n",
       "      <td>0.894934</td>\n",
       "      <td>0.884847</td>\n",
       "      <td>0.009957</td>\n",
       "      <td>31</td>\n",
       "    </tr>\n",
       "    <tr>\n",
       "      <th>29</th>\n",
       "      <td>0.575278</td>\n",
       "      <td>0.003995</td>\n",
       "      <td>0.004688</td>\n",
       "      <td>0.000038</td>\n",
       "      <td>0.1</td>\n",
       "      <td>10</td>\n",
       "      <td>20</td>\n",
       "      <td>{'learning_rate': 0.1, 'max_depth': 10, 'n_est...</td>\n",
       "      <td>0.883895</td>\n",
       "      <td>0.878049</td>\n",
       "      <td>0.889306</td>\n",
       "      <td>0.881801</td>\n",
       "      <td>0.898687</td>\n",
       "      <td>0.886348</td>\n",
       "      <td>0.007163</td>\n",
       "      <td>29</td>\n",
       "    </tr>\n",
       "    <tr>\n",
       "      <th>30</th>\n",
       "      <td>1.493074</td>\n",
       "      <td>0.010235</td>\n",
       "      <td>0.006043</td>\n",
       "      <td>0.000183</td>\n",
       "      <td>0.1</td>\n",
       "      <td>10</td>\n",
       "      <td>50</td>\n",
       "      <td>{'learning_rate': 0.1, 'max_depth': 10, 'n_est...</td>\n",
       "      <td>0.885768</td>\n",
       "      <td>0.874296</td>\n",
       "      <td>0.896811</td>\n",
       "      <td>0.891182</td>\n",
       "      <td>0.900563</td>\n",
       "      <td>0.889724</td>\n",
       "      <td>0.009203</td>\n",
       "      <td>25</td>\n",
       "    </tr>\n",
       "    <tr>\n",
       "      <th>31</th>\n",
       "      <td>3.073520</td>\n",
       "      <td>0.007590</td>\n",
       "      <td>0.008547</td>\n",
       "      <td>0.000366</td>\n",
       "      <td>0.1</td>\n",
       "      <td>10</td>\n",
       "      <td>100</td>\n",
       "      <td>{'learning_rate': 0.1, 'max_depth': 10, 'n_est...</td>\n",
       "      <td>0.885768</td>\n",
       "      <td>0.887430</td>\n",
       "      <td>0.904315</td>\n",
       "      <td>0.885553</td>\n",
       "      <td>0.900563</td>\n",
       "      <td>0.892726</td>\n",
       "      <td>0.008045</td>\n",
       "      <td>19</td>\n",
       "    </tr>\n",
       "    <tr>\n",
       "      <th>32</th>\n",
       "      <td>0.082931</td>\n",
       "      <td>0.000579</td>\n",
       "      <td>0.003866</td>\n",
       "      <td>0.000048</td>\n",
       "      <td>0.4</td>\n",
       "      <td>3</td>\n",
       "      <td>10</td>\n",
       "      <td>{'learning_rate': 0.4, 'max_depth': 3, 'n_esti...</td>\n",
       "      <td>0.882022</td>\n",
       "      <td>0.900563</td>\n",
       "      <td>0.904315</td>\n",
       "      <td>0.891182</td>\n",
       "      <td>0.902439</td>\n",
       "      <td>0.896104</td>\n",
       "      <td>0.008366</td>\n",
       "      <td>13</td>\n",
       "    </tr>\n",
       "    <tr>\n",
       "      <th>33</th>\n",
       "      <td>0.163100</td>\n",
       "      <td>0.003422</td>\n",
       "      <td>0.003995</td>\n",
       "      <td>0.000050</td>\n",
       "      <td>0.4</td>\n",
       "      <td>3</td>\n",
       "      <td>20</td>\n",
       "      <td>{'learning_rate': 0.4, 'max_depth': 3, 'n_esti...</td>\n",
       "      <td>0.880150</td>\n",
       "      <td>0.887430</td>\n",
       "      <td>0.894934</td>\n",
       "      <td>0.893058</td>\n",
       "      <td>0.893058</td>\n",
       "      <td>0.889726</td>\n",
       "      <td>0.005409</td>\n",
       "      <td>24</td>\n",
       "    </tr>\n",
       "    <tr>\n",
       "      <th>34</th>\n",
       "      <td>0.395150</td>\n",
       "      <td>0.004053</td>\n",
       "      <td>0.004206</td>\n",
       "      <td>0.000074</td>\n",
       "      <td>0.4</td>\n",
       "      <td>3</td>\n",
       "      <td>50</td>\n",
       "      <td>{'learning_rate': 0.4, 'max_depth': 3, 'n_esti...</td>\n",
       "      <td>0.872659</td>\n",
       "      <td>0.885553</td>\n",
       "      <td>0.893058</td>\n",
       "      <td>0.887430</td>\n",
       "      <td>0.883677</td>\n",
       "      <td>0.884476</td>\n",
       "      <td>0.006690</td>\n",
       "      <td>32</td>\n",
       "    </tr>\n",
       "    <tr>\n",
       "      <th>35</th>\n",
       "      <td>0.784723</td>\n",
       "      <td>0.006094</td>\n",
       "      <td>0.004662</td>\n",
       "      <td>0.000192</td>\n",
       "      <td>0.4</td>\n",
       "      <td>3</td>\n",
       "      <td>100</td>\n",
       "      <td>{'learning_rate': 0.4, 'max_depth': 3, 'n_esti...</td>\n",
       "      <td>0.882022</td>\n",
       "      <td>0.887430</td>\n",
       "      <td>0.896811</td>\n",
       "      <td>0.887430</td>\n",
       "      <td>0.883677</td>\n",
       "      <td>0.887474</td>\n",
       "      <td>0.005125</td>\n",
       "      <td>28</td>\n",
       "    </tr>\n",
       "    <tr>\n",
       "      <th>36</th>\n",
       "      <td>0.137565</td>\n",
       "      <td>0.002107</td>\n",
       "      <td>0.003964</td>\n",
       "      <td>0.000088</td>\n",
       "      <td>0.4</td>\n",
       "      <td>5</td>\n",
       "      <td>10</td>\n",
       "      <td>{'learning_rate': 0.4, 'max_depth': 5, 'n_esti...</td>\n",
       "      <td>0.885768</td>\n",
       "      <td>0.891182</td>\n",
       "      <td>0.885553</td>\n",
       "      <td>0.878049</td>\n",
       "      <td>0.900563</td>\n",
       "      <td>0.888223</td>\n",
       "      <td>0.007452</td>\n",
       "      <td>26</td>\n",
       "    </tr>\n",
       "    <tr>\n",
       "      <th>37</th>\n",
       "      <td>0.269874</td>\n",
       "      <td>0.004179</td>\n",
       "      <td>0.004385</td>\n",
       "      <td>0.000222</td>\n",
       "      <td>0.4</td>\n",
       "      <td>5</td>\n",
       "      <td>20</td>\n",
       "      <td>{'learning_rate': 0.4, 'max_depth': 5, 'n_esti...</td>\n",
       "      <td>0.878277</td>\n",
       "      <td>0.889306</td>\n",
       "      <td>0.887430</td>\n",
       "      <td>0.881801</td>\n",
       "      <td>0.883677</td>\n",
       "      <td>0.884098</td>\n",
       "      <td>0.003938</td>\n",
       "      <td>33</td>\n",
       "    </tr>\n",
       "    <tr>\n",
       "      <th>38</th>\n",
       "      <td>0.655983</td>\n",
       "      <td>0.007627</td>\n",
       "      <td>0.004652</td>\n",
       "      <td>0.000096</td>\n",
       "      <td>0.4</td>\n",
       "      <td>5</td>\n",
       "      <td>50</td>\n",
       "      <td>{'learning_rate': 0.4, 'max_depth': 5, 'n_esti...</td>\n",
       "      <td>0.868914</td>\n",
       "      <td>0.896811</td>\n",
       "      <td>0.887430</td>\n",
       "      <td>0.885553</td>\n",
       "      <td>0.898687</td>\n",
       "      <td>0.887479</td>\n",
       "      <td>0.010593</td>\n",
       "      <td>27</td>\n",
       "    </tr>\n",
       "    <tr>\n",
       "      <th>39</th>\n",
       "      <td>1.296335</td>\n",
       "      <td>0.023015</td>\n",
       "      <td>0.005339</td>\n",
       "      <td>0.000080</td>\n",
       "      <td>0.4</td>\n",
       "      <td>5</td>\n",
       "      <td>100</td>\n",
       "      <td>{'learning_rate': 0.4, 'max_depth': 5, 'n_esti...</td>\n",
       "      <td>0.891386</td>\n",
       "      <td>0.893058</td>\n",
       "      <td>0.896811</td>\n",
       "      <td>0.889306</td>\n",
       "      <td>0.894934</td>\n",
       "      <td>0.893099</td>\n",
       "      <td>0.002626</td>\n",
       "      <td>18</td>\n",
       "    </tr>\n",
       "    <tr>\n",
       "      <th>40</th>\n",
       "      <td>0.191248</td>\n",
       "      <td>0.001977</td>\n",
       "      <td>0.004091</td>\n",
       "      <td>0.000139</td>\n",
       "      <td>0.4</td>\n",
       "      <td>7</td>\n",
       "      <td>10</td>\n",
       "      <td>{'learning_rate': 0.4, 'max_depth': 7, 'n_esti...</td>\n",
       "      <td>0.882022</td>\n",
       "      <td>0.885553</td>\n",
       "      <td>0.881801</td>\n",
       "      <td>0.879925</td>\n",
       "      <td>0.887430</td>\n",
       "      <td>0.883346</td>\n",
       "      <td>0.002735</td>\n",
       "      <td>34</td>\n",
       "    </tr>\n",
       "    <tr>\n",
       "      <th>41</th>\n",
       "      <td>0.383241</td>\n",
       "      <td>0.007241</td>\n",
       "      <td>0.004371</td>\n",
       "      <td>0.000119</td>\n",
       "      <td>0.4</td>\n",
       "      <td>7</td>\n",
       "      <td>20</td>\n",
       "      <td>{'learning_rate': 0.4, 'max_depth': 7, 'n_esti...</td>\n",
       "      <td>0.863296</td>\n",
       "      <td>0.879925</td>\n",
       "      <td>0.893058</td>\n",
       "      <td>0.883677</td>\n",
       "      <td>0.883677</td>\n",
       "      <td>0.880727</td>\n",
       "      <td>0.009736</td>\n",
       "      <td>36</td>\n",
       "    </tr>\n",
       "    <tr>\n",
       "      <th>42</th>\n",
       "      <td>0.959637</td>\n",
       "      <td>0.020594</td>\n",
       "      <td>0.005127</td>\n",
       "      <td>0.000148</td>\n",
       "      <td>0.4</td>\n",
       "      <td>7</td>\n",
       "      <td>50</td>\n",
       "      <td>{'learning_rate': 0.4, 'max_depth': 7, 'n_esti...</td>\n",
       "      <td>0.885768</td>\n",
       "      <td>0.894934</td>\n",
       "      <td>0.906191</td>\n",
       "      <td>0.891182</td>\n",
       "      <td>0.900563</td>\n",
       "      <td>0.895728</td>\n",
       "      <td>0.007118</td>\n",
       "      <td>14</td>\n",
       "    </tr>\n",
       "    <tr>\n",
       "      <th>43</th>\n",
       "      <td>1.900831</td>\n",
       "      <td>0.010756</td>\n",
       "      <td>0.006253</td>\n",
       "      <td>0.000062</td>\n",
       "      <td>0.4</td>\n",
       "      <td>7</td>\n",
       "      <td>100</td>\n",
       "      <td>{'learning_rate': 0.4, 'max_depth': 7, 'n_esti...</td>\n",
       "      <td>0.889513</td>\n",
       "      <td>0.902439</td>\n",
       "      <td>0.904315</td>\n",
       "      <td>0.894934</td>\n",
       "      <td>0.902439</td>\n",
       "      <td>0.898728</td>\n",
       "      <td>0.005623</td>\n",
       "      <td>9</td>\n",
       "    </tr>\n",
       "    <tr>\n",
       "      <th>44</th>\n",
       "      <td>0.300761</td>\n",
       "      <td>0.001949</td>\n",
       "      <td>0.004399</td>\n",
       "      <td>0.000147</td>\n",
       "      <td>0.4</td>\n",
       "      <td>10</td>\n",
       "      <td>10</td>\n",
       "      <td>{'learning_rate': 0.4, 'max_depth': 10, 'n_est...</td>\n",
       "      <td>0.895131</td>\n",
       "      <td>0.864916</td>\n",
       "      <td>0.878049</td>\n",
       "      <td>0.887430</td>\n",
       "      <td>0.887430</td>\n",
       "      <td>0.882591</td>\n",
       "      <td>0.010365</td>\n",
       "      <td>35</td>\n",
       "    </tr>\n",
       "    <tr>\n",
       "      <th>45</th>\n",
       "      <td>0.606242</td>\n",
       "      <td>0.004599</td>\n",
       "      <td>0.004663</td>\n",
       "      <td>0.000056</td>\n",
       "      <td>0.4</td>\n",
       "      <td>10</td>\n",
       "      <td>20</td>\n",
       "      <td>{'learning_rate': 0.4, 'max_depth': 10, 'n_est...</td>\n",
       "      <td>0.906367</td>\n",
       "      <td>0.885553</td>\n",
       "      <td>0.893058</td>\n",
       "      <td>0.885553</td>\n",
       "      <td>0.898687</td>\n",
       "      <td>0.893844</td>\n",
       "      <td>0.007979</td>\n",
       "      <td>17</td>\n",
       "    </tr>\n",
       "    <tr>\n",
       "      <th>46</th>\n",
       "      <td>1.519784</td>\n",
       "      <td>0.027203</td>\n",
       "      <td>0.006148</td>\n",
       "      <td>0.000118</td>\n",
       "      <td>0.4</td>\n",
       "      <td>10</td>\n",
       "      <td>50</td>\n",
       "      <td>{'learning_rate': 0.4, 'max_depth': 10, 'n_est...</td>\n",
       "      <td>0.900749</td>\n",
       "      <td>0.904315</td>\n",
       "      <td>0.896811</td>\n",
       "      <td>0.893058</td>\n",
       "      <td>0.911820</td>\n",
       "      <td>0.901351</td>\n",
       "      <td>0.006452</td>\n",
       "      <td>7</td>\n",
       "    </tr>\n",
       "    <tr>\n",
       "      <th>47</th>\n",
       "      <td>2.909043</td>\n",
       "      <td>0.000906</td>\n",
       "      <td>0.008331</td>\n",
       "      <td>0.000299</td>\n",
       "      <td>0.4</td>\n",
       "      <td>10</td>\n",
       "      <td>100</td>\n",
       "      <td>{'learning_rate': 0.4, 'max_depth': 10, 'n_est...</td>\n",
       "      <td>0.895131</td>\n",
       "      <td>0.908068</td>\n",
       "      <td>0.909944</td>\n",
       "      <td>0.891182</td>\n",
       "      <td>0.902439</td>\n",
       "      <td>0.901353</td>\n",
       "      <td>0.007242</td>\n",
       "      <td>6</td>\n",
       "    </tr>\n",
       "  </tbody>\n",
       "</table>\n",
       "</div>"
      ],
      "text/plain": [
       "    mean_fit_time  std_fit_time  mean_score_time  std_score_time  \\\n",
       "0        0.081331      0.000300         0.003536        0.000117   \n",
       "1        0.164177      0.002325         0.003934        0.000212   \n",
       "2        0.392180      0.009098         0.003932        0.000035   \n",
       "3        0.769917      0.004501         0.004347        0.000092   \n",
       "4        0.131942      0.000469         0.003712        0.000066   \n",
       "5        0.270073      0.006672         0.004610        0.001055   \n",
       "6        0.654643      0.010039         0.005035        0.001219   \n",
       "7        1.284532      0.003653         0.005025        0.000101   \n",
       "8        0.190668      0.005250         0.004111        0.000164   \n",
       "9        0.384367      0.003525         0.004343        0.000097   \n",
       "10       0.940697      0.018616         0.004851        0.000160   \n",
       "11       1.922566      0.030305         0.005909        0.000120   \n",
       "12       0.276147      0.001165         0.004203        0.000155   \n",
       "13       0.553868      0.004342         0.004455        0.000038   \n",
       "14       1.397326      0.015191         0.005602        0.000064   \n",
       "15       2.749442      0.070986         0.007614        0.000255   \n",
       "16       0.081963      0.000315         0.003661        0.000077   \n",
       "17       0.158495      0.000349         0.003847        0.000017   \n",
       "18       0.391991      0.009538         0.004181        0.000194   \n",
       "19       0.771145      0.002729         0.004525        0.000024   \n",
       "20       0.132690      0.000694         0.003827        0.000029   \n",
       "21       0.261727      0.001167         0.003998        0.000044   \n",
       "22       0.648009      0.007940         0.004489        0.000093   \n",
       "23       1.290775      0.023430         0.005392        0.000381   \n",
       "24       0.199336      0.007694         0.004941        0.001171   \n",
       "25       0.381214      0.009131         0.004409        0.000403   \n",
       "26       0.925708      0.002657         0.004903        0.000083   \n",
       "27       1.898334      0.041796         0.006306        0.000111   \n",
       "28       0.286339      0.004743         0.004263        0.000113   \n",
       "29       0.575278      0.003995         0.004688        0.000038   \n",
       "30       1.493074      0.010235         0.006043        0.000183   \n",
       "31       3.073520      0.007590         0.008547        0.000366   \n",
       "32       0.082931      0.000579         0.003866        0.000048   \n",
       "33       0.163100      0.003422         0.003995        0.000050   \n",
       "34       0.395150      0.004053         0.004206        0.000074   \n",
       "35       0.784723      0.006094         0.004662        0.000192   \n",
       "36       0.137565      0.002107         0.003964        0.000088   \n",
       "37       0.269874      0.004179         0.004385        0.000222   \n",
       "38       0.655983      0.007627         0.004652        0.000096   \n",
       "39       1.296335      0.023015         0.005339        0.000080   \n",
       "40       0.191248      0.001977         0.004091        0.000139   \n",
       "41       0.383241      0.007241         0.004371        0.000119   \n",
       "42       0.959637      0.020594         0.005127        0.000148   \n",
       "43       1.900831      0.010756         0.006253        0.000062   \n",
       "44       0.300761      0.001949         0.004399        0.000147   \n",
       "45       0.606242      0.004599         0.004663        0.000056   \n",
       "46       1.519784      0.027203         0.006148        0.000118   \n",
       "47       2.909043      0.000906         0.008331        0.000299   \n",
       "\n",
       "   param_learning_rate param_max_depth param_n_estimators  \\\n",
       "0                 0.01               3                 10   \n",
       "1                 0.01               3                 20   \n",
       "2                 0.01               3                 50   \n",
       "3                 0.01               3                100   \n",
       "4                 0.01               5                 10   \n",
       "5                 0.01               5                 20   \n",
       "6                 0.01               5                 50   \n",
       "7                 0.01               5                100   \n",
       "8                 0.01               7                 10   \n",
       "9                 0.01               7                 20   \n",
       "10                0.01               7                 50   \n",
       "11                0.01               7                100   \n",
       "12                0.01              10                 10   \n",
       "13                0.01              10                 20   \n",
       "14                0.01              10                 50   \n",
       "15                0.01              10                100   \n",
       "16                 0.1               3                 10   \n",
       "17                 0.1               3                 20   \n",
       "18                 0.1               3                 50   \n",
       "19                 0.1               3                100   \n",
       "20                 0.1               5                 10   \n",
       "21                 0.1               5                 20   \n",
       "22                 0.1               5                 50   \n",
       "23                 0.1               5                100   \n",
       "24                 0.1               7                 10   \n",
       "25                 0.1               7                 20   \n",
       "26                 0.1               7                 50   \n",
       "27                 0.1               7                100   \n",
       "28                 0.1              10                 10   \n",
       "29                 0.1              10                 20   \n",
       "30                 0.1              10                 50   \n",
       "31                 0.1              10                100   \n",
       "32                 0.4               3                 10   \n",
       "33                 0.4               3                 20   \n",
       "34                 0.4               3                 50   \n",
       "35                 0.4               3                100   \n",
       "36                 0.4               5                 10   \n",
       "37                 0.4               5                 20   \n",
       "38                 0.4               5                 50   \n",
       "39                 0.4               5                100   \n",
       "40                 0.4               7                 10   \n",
       "41                 0.4               7                 20   \n",
       "42                 0.4               7                 50   \n",
       "43                 0.4               7                100   \n",
       "44                 0.4              10                 10   \n",
       "45                 0.4              10                 20   \n",
       "46                 0.4              10                 50   \n",
       "47                 0.4              10                100   \n",
       "\n",
       "                                               params  split0_test_score  \\\n",
       "0   {'learning_rate': 0.01, 'max_depth': 3, 'n_est...           0.855805   \n",
       "1   {'learning_rate': 0.01, 'max_depth': 3, 'n_est...           0.855805   \n",
       "2   {'learning_rate': 0.01, 'max_depth': 3, 'n_est...           0.855805   \n",
       "3   {'learning_rate': 0.01, 'max_depth': 3, 'n_est...           0.878277   \n",
       "4   {'learning_rate': 0.01, 'max_depth': 5, 'n_est...           0.855805   \n",
       "5   {'learning_rate': 0.01, 'max_depth': 5, 'n_est...           0.855805   \n",
       "6   {'learning_rate': 0.01, 'max_depth': 5, 'n_est...           0.855805   \n",
       "7   {'learning_rate': 0.01, 'max_depth': 5, 'n_est...           0.889513   \n",
       "8   {'learning_rate': 0.01, 'max_depth': 7, 'n_est...           0.855805   \n",
       "9   {'learning_rate': 0.01, 'max_depth': 7, 'n_est...           0.855805   \n",
       "10  {'learning_rate': 0.01, 'max_depth': 7, 'n_est...           0.855805   \n",
       "11  {'learning_rate': 0.01, 'max_depth': 7, 'n_est...           0.891386   \n",
       "12  {'learning_rate': 0.01, 'max_depth': 10, 'n_es...           0.855805   \n",
       "13  {'learning_rate': 0.01, 'max_depth': 10, 'n_es...           0.855805   \n",
       "14  {'learning_rate': 0.01, 'max_depth': 10, 'n_es...           0.853933   \n",
       "15  {'learning_rate': 0.01, 'max_depth': 10, 'n_es...           0.882022   \n",
       "16  {'learning_rate': 0.1, 'max_depth': 3, 'n_esti...           0.883895   \n",
       "17  {'learning_rate': 0.1, 'max_depth': 3, 'n_esti...           0.895131   \n",
       "18  {'learning_rate': 0.1, 'max_depth': 3, 'n_esti...           0.898876   \n",
       "19  {'learning_rate': 0.1, 'max_depth': 3, 'n_esti...           0.893258   \n",
       "20  {'learning_rate': 0.1, 'max_depth': 5, 'n_esti...           0.891386   \n",
       "21  {'learning_rate': 0.1, 'max_depth': 5, 'n_esti...           0.902622   \n",
       "22  {'learning_rate': 0.1, 'max_depth': 5, 'n_esti...           0.898876   \n",
       "23  {'learning_rate': 0.1, 'max_depth': 5, 'n_esti...           0.898876   \n",
       "24  {'learning_rate': 0.1, 'max_depth': 7, 'n_esti...           0.897004   \n",
       "25  {'learning_rate': 0.1, 'max_depth': 7, 'n_esti...           0.900749   \n",
       "26  {'learning_rate': 0.1, 'max_depth': 7, 'n_esti...           0.898876   \n",
       "27  {'learning_rate': 0.1, 'max_depth': 7, 'n_esti...           0.900749   \n",
       "28  {'learning_rate': 0.1, 'max_depth': 10, 'n_est...           0.882022   \n",
       "29  {'learning_rate': 0.1, 'max_depth': 10, 'n_est...           0.883895   \n",
       "30  {'learning_rate': 0.1, 'max_depth': 10, 'n_est...           0.885768   \n",
       "31  {'learning_rate': 0.1, 'max_depth': 10, 'n_est...           0.885768   \n",
       "32  {'learning_rate': 0.4, 'max_depth': 3, 'n_esti...           0.882022   \n",
       "33  {'learning_rate': 0.4, 'max_depth': 3, 'n_esti...           0.880150   \n",
       "34  {'learning_rate': 0.4, 'max_depth': 3, 'n_esti...           0.872659   \n",
       "35  {'learning_rate': 0.4, 'max_depth': 3, 'n_esti...           0.882022   \n",
       "36  {'learning_rate': 0.4, 'max_depth': 5, 'n_esti...           0.885768   \n",
       "37  {'learning_rate': 0.4, 'max_depth': 5, 'n_esti...           0.878277   \n",
       "38  {'learning_rate': 0.4, 'max_depth': 5, 'n_esti...           0.868914   \n",
       "39  {'learning_rate': 0.4, 'max_depth': 5, 'n_esti...           0.891386   \n",
       "40  {'learning_rate': 0.4, 'max_depth': 7, 'n_esti...           0.882022   \n",
       "41  {'learning_rate': 0.4, 'max_depth': 7, 'n_esti...           0.863296   \n",
       "42  {'learning_rate': 0.4, 'max_depth': 7, 'n_esti...           0.885768   \n",
       "43  {'learning_rate': 0.4, 'max_depth': 7, 'n_esti...           0.889513   \n",
       "44  {'learning_rate': 0.4, 'max_depth': 10, 'n_est...           0.895131   \n",
       "45  {'learning_rate': 0.4, 'max_depth': 10, 'n_est...           0.906367   \n",
       "46  {'learning_rate': 0.4, 'max_depth': 10, 'n_est...           0.900749   \n",
       "47  {'learning_rate': 0.4, 'max_depth': 10, 'n_est...           0.895131   \n",
       "\n",
       "    split1_test_score  split2_test_score  split3_test_score  \\\n",
       "0            0.857411           0.857411           0.857411   \n",
       "1            0.857411           0.857411           0.857411   \n",
       "2            0.857411           0.857411           0.857411   \n",
       "3            0.894934           0.900563           0.893058   \n",
       "4            0.857411           0.857411           0.857411   \n",
       "5            0.857411           0.857411           0.857411   \n",
       "6            0.857411           0.857411           0.857411   \n",
       "7            0.900563           0.896811           0.906191   \n",
       "8            0.857411           0.857411           0.857411   \n",
       "9            0.857411           0.857411           0.857411   \n",
       "10           0.857411           0.857411           0.859287   \n",
       "11           0.879925           0.894934           0.898687   \n",
       "12           0.857411           0.857411           0.857411   \n",
       "13           0.857411           0.857411           0.857411   \n",
       "14           0.857411           0.857411           0.855535   \n",
       "15           0.866792           0.889306           0.891182   \n",
       "16           0.887430           0.896811           0.893058   \n",
       "17           0.896811           0.900563           0.900563   \n",
       "18           0.904315           0.908068           0.894934   \n",
       "19           0.906191           0.906191           0.894934   \n",
       "20           0.900563           0.896811           0.902439   \n",
       "21           0.900563           0.900563           0.904315   \n",
       "22           0.906191           0.902439           0.906191   \n",
       "23           0.900563           0.906191           0.900563   \n",
       "24           0.881801           0.891182           0.898687   \n",
       "25           0.883677           0.889306           0.896811   \n",
       "26           0.894934           0.896811           0.904315   \n",
       "27           0.889306           0.891182           0.893058   \n",
       "28           0.866792           0.891182           0.889306   \n",
       "29           0.878049           0.889306           0.881801   \n",
       "30           0.874296           0.896811           0.891182   \n",
       "31           0.887430           0.904315           0.885553   \n",
       "32           0.900563           0.904315           0.891182   \n",
       "33           0.887430           0.894934           0.893058   \n",
       "34           0.885553           0.893058           0.887430   \n",
       "35           0.887430           0.896811           0.887430   \n",
       "36           0.891182           0.885553           0.878049   \n",
       "37           0.889306           0.887430           0.881801   \n",
       "38           0.896811           0.887430           0.885553   \n",
       "39           0.893058           0.896811           0.889306   \n",
       "40           0.885553           0.881801           0.879925   \n",
       "41           0.879925           0.893058           0.883677   \n",
       "42           0.894934           0.906191           0.891182   \n",
       "43           0.902439           0.904315           0.894934   \n",
       "44           0.864916           0.878049           0.887430   \n",
       "45           0.885553           0.893058           0.885553   \n",
       "46           0.904315           0.896811           0.893058   \n",
       "47           0.908068           0.909944           0.891182   \n",
       "\n",
       "    split4_test_score  mean_test_score  std_test_score  rank_test_score  \n",
       "0            0.855535         0.856715        0.000857               39  \n",
       "1            0.855535         0.856715        0.000857               39  \n",
       "2            0.855535         0.856715        0.000857               39  \n",
       "3            0.893058         0.891978        0.007382               22  \n",
       "4            0.855535         0.856715        0.000857               39  \n",
       "5            0.855535         0.856715        0.000857               39  \n",
       "6            0.859287         0.857465        0.001103               37  \n",
       "7            0.893058         0.897227        0.005806               12  \n",
       "8            0.855535         0.856715        0.000857               39  \n",
       "9            0.855535         0.856715        0.000857               39  \n",
       "10           0.855535         0.857090        0.001349               38  \n",
       "11           0.896811         0.892348        0.006664               21  \n",
       "12           0.855535         0.856715        0.000857               39  \n",
       "13           0.855535         0.856715        0.000857               39  \n",
       "14           0.855535         0.855965        0.001318               48  \n",
       "15           0.896811         0.885223        0.010358               30  \n",
       "16           0.894934         0.891226        0.004826               23  \n",
       "17           0.904315         0.899476        0.003218                8  \n",
       "18           0.908068         0.902852        0.005197                2  \n",
       "19           0.906191         0.901353        0.005949                5  \n",
       "20           0.896811         0.897602        0.003796               11  \n",
       "21           0.906191         0.902851        0.002183                3  \n",
       "22           0.904315         0.903603        0.002742                1  \n",
       "23           0.906191         0.902477        0.003095                4  \n",
       "24           0.900563         0.893847        0.006793               16  \n",
       "25           0.893058         0.892720        0.005912               20  \n",
       "26           0.898687         0.898725        0.003140               10  \n",
       "27           0.902439         0.895347        0.005264               15  \n",
       "28           0.894934         0.884847        0.009957               31  \n",
       "29           0.898687         0.886348        0.007163               29  \n",
       "30           0.900563         0.889724        0.009203               25  \n",
       "31           0.900563         0.892726        0.008045               19  \n",
       "32           0.902439         0.896104        0.008366               13  \n",
       "33           0.893058         0.889726        0.005409               24  \n",
       "34           0.883677         0.884476        0.006690               32  \n",
       "35           0.883677         0.887474        0.005125               28  \n",
       "36           0.900563         0.888223        0.007452               26  \n",
       "37           0.883677         0.884098        0.003938               33  \n",
       "38           0.898687         0.887479        0.010593               27  \n",
       "39           0.894934         0.893099        0.002626               18  \n",
       "40           0.887430         0.883346        0.002735               34  \n",
       "41           0.883677         0.880727        0.009736               36  \n",
       "42           0.900563         0.895728        0.007118               14  \n",
       "43           0.902439         0.898728        0.005623                9  \n",
       "44           0.887430         0.882591        0.010365               35  \n",
       "45           0.898687         0.893844        0.007979               17  \n",
       "46           0.911820         0.901351        0.006452                7  \n",
       "47           0.902439         0.901353        0.007242                6  "
      ]
     },
     "execution_count": 42,
     "metadata": {},
     "output_type": "execute_result"
    }
   ],
   "source": [
    "pd.DataFrame(recherche_hyper_gbm.cv_results_)"
   ]
  },
  {
   "cell_type": "code",
   "execution_count": null,
   "metadata": {},
   "outputs": [],
   "source": []
  },
  {
   "cell_type": "markdown",
   "metadata": {
    "slideshow": {
     "slide_type": "slide"
    }
   },
   "source": [
    "## Passer en production votre modèle d’apprentissage supervisé\n",
    "\n",
    "### Persistance de modèle avec Scikit-Learn\n",
    "\n",
    "Python possède plusieurs outils pour la persistance d’objets, c’est-à-dire pour stocker\n",
    "des objets dans des fichiers. Les objets de Scikit-Learn sont aussi dans cette\n",
    "situation. On utilise un format pickle qui aura l’extension .pkl.\n",
    "\n",
    "Par exemple, si nous voulons sauvegarder le dernier pipeline de traitement, nous\n",
    "allons utiliser :"
   ]
  },
  {
   "cell_type": "code",
   "execution_count": 43,
   "metadata": {
    "slideshow": {
     "slide_type": "fragment"
    }
   },
   "outputs": [
    {
     "data": {
      "text/plain": [
       "['./modele_grid_gbm.pkl']"
      ]
     },
     "execution_count": 43,
     "metadata": {},
     "output_type": "execute_result"
    }
   ],
   "source": [
    "import joblib\n",
    "joblib.dump(recherche_hyper_gbm, './modele_grid_gbm.pkl')"
   ]
  },
  {
   "cell_type": "markdown",
   "metadata": {
    "slideshow": {
     "slide_type": "subslide"
    }
   },
   "source": [
    "Une fois ce modèle stocké, on peut très bien le réutiliser dans un autre cadre. Si\n",
    "nous créons un nouveau notebook, nous allons utiliser :\n",
    "\n"
   ]
  },
  {
   "cell_type": "code",
   "execution_count": 44,
   "metadata": {
    "slideshow": {
     "slide_type": "fragment"
    }
   },
   "outputs": [],
   "source": [
    "import joblib\n",
    "#grid_search_mon_pipe = joblib.load('./data/modele_grid_pipe.pkl')"
   ]
  },
  {
   "cell_type": "markdown",
   "metadata": {
    "slideshow": {
     "slide_type": "fragment"
    }
   },
   "source": [
    "On peut ensuite appliquer le modèle avec tous les paramètres qui ont été appris :\n"
   ]
  },
  {
   "cell_type": "markdown",
   "metadata": {
    "slideshow": {
     "slide_type": "fragment"
    }
   },
   "source": [
    "```python\n",
    "grid_search_mon_pipe.predict(x_test)\n",
    "```"
   ]
  },
  {
   "cell_type": "markdown",
   "metadata": {
    "slideshow": {
     "slide_type": "fragment"
    }
   },
   "source": [
    "L’utilisation d’un fichier Pickle dans un notebook est une technique assez simple et courante."
   ]
  }
 ],
 "metadata": {
  "celltoolbar": "Format de la Cellule Texte Brut",
  "kernelspec": {
   "display_name": "Python 3",
   "language": "python",
   "name": "python3"
  },
  "language_info": {
   "codemirror_mode": {
    "name": "ipython",
    "version": 3
   },
   "file_extension": ".py",
   "mimetype": "text/x-python",
   "name": "python",
   "nbconvert_exporter": "python",
   "pygments_lexer": "ipython3",
   "version": "3.7.7"
  }
 },
 "nbformat": 4,
 "nbformat_minor": 4
}
